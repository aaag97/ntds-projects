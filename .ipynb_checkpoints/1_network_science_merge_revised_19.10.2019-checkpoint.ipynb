{
 "cells": [
  {
   "cell_type": "markdown",
   "metadata": {},
   "source": [
    "# [NTDS'19] assignment 1: network science\n",
    "[ntds'19]: https://github.com/mdeff/ntds_2019\n",
    "\n",
    "[Eda Bayram](https://lts4.epfl.ch/bayram), [EPFL LTS4](https://lts4.epfl.ch) and\n",
    "[Nikolaos Karalias](https://people.epfl.ch/nikolaos.karalias), [EPFL LTS2](https://lts2.epfl.ch)."
   ]
  },
  {
   "cell_type": "markdown",
   "metadata": {},
   "source": [
    "## Students\n",
    "\n",
    "* Team: 13\n",
    "* Students: \n",
    "    * Frédéric Henri Raymond Bischoff\n",
    "    * Lucas Eckes\n",
    "    * Lilia Ellouz\n",
    "    * André Adel Alphone Ghattas"
   ]
  },
  {
   "cell_type": "markdown",
   "metadata": {},
   "source": [
    "## Rules\n",
    "\n",
    "Grading:\n",
    "* The first deadline is for individual submissions. The second deadline is for the team submission.\n",
    "* All team members will receive the same grade based on the team solution submitted on the second deadline.\n",
    "* As a fallback, a team can ask for individual grading. In that case, solutions submitted on the first deadline are graded.\n",
    "* Collaboration between team members is encouraged. No collaboration between teams is allowed.\n",
    "\n",
    "Submission:\n",
    "* Textual answers shall be short. Typically one to two sentences.\n",
    "* Code has to be clean.\n",
    "* You cannot import any other library than we imported.\n",
    "  Note that Networkx is imported in the second section and cannot be used in the first.\n",
    "* When submitting, the notebook is executed and the results are stored. I.e., if you open the notebook again it should show numerical results and plots. We won't be able to execute your notebooks.\n",
    "* The notebook is re-executed from a blank state before submission. That is to be sure it is reproducible. You can click \"Kernel\" then \"Restart Kernel and Run All Cells\" in Jupyter."
   ]
  },
  {
   "cell_type": "markdown",
   "metadata": {},
   "source": [
    "## Objective\n",
    "\n",
    "The purpose of this milestone is to explore a given dataset, represent it by network by constructing different graphs. In the first section, you will analyze the network properties. In the second section, you will explore various network models and find out the network model fitting the ones you construct from the dataset."
   ]
  },
  {
   "cell_type": "markdown",
   "metadata": {},
   "source": [
    "## Cora Dataset\n",
    "\n",
    "The [Cora dataset](https://linqs.soe.ucsc.edu/node/236) consists of scientific publications classified into one of seven research fields. \n",
    "\n",
    "* **Citation graph:** the citation network can be constructed from the connections given in the `cora.cites` file.\n",
    "* **Feature graph:** each publication in the dataset is described by a 0/1-valued word vector indicating the absence/presence of the corresponding word from the dictionary and its research field, given in the `cora.content` file. The dictionary consists of 1433 unique words. A feature graph can be constructed using the Euclidean distance between the feature vector of the publications.\n",
    "\n",
    "The [`README`](data/cora/README) provides details about the content of [`cora.cites`](data/cora/cora.cites) and [`cora.content`](data/cora/cora.content)."
   ]
  },
  {
   "cell_type": "markdown",
   "metadata": {},
   "source": [
    "## Section 1: Network Properties"
   ]
  },
  {
   "cell_type": "code",
   "execution_count": 1,
   "metadata": {},
   "outputs": [],
   "source": [
    "import numpy as np\n",
    "import pandas as pd\n",
    "from matplotlib import pyplot as plt\n",
    "\n",
    "%matplotlib inline\n",
    "pd.set_option('display.max_row',10)"
   ]
  },
  {
   "cell_type": "markdown",
   "metadata": {},
   "source": [
    "### Question 1: Construct a Citation Graph and a Feature Graph"
   ]
  },
  {
   "cell_type": "markdown",
   "metadata": {},
   "source": [
    "Read the `cora.content` file into a Pandas DataFrame by setting a header for the column names. Check the `README` file."
   ]
  },
  {
   "cell_type": "code",
   "execution_count": 2,
   "metadata": {},
   "outputs": [
    {
     "data": {
      "text/html": [
       "<div>\n",
       "<style scoped>\n",
       "    .dataframe tbody tr th:only-of-type {\n",
       "        vertical-align: middle;\n",
       "    }\n",
       "\n",
       "    .dataframe tbody tr th {\n",
       "        vertical-align: top;\n",
       "    }\n",
       "\n",
       "    .dataframe thead th {\n",
       "        text-align: right;\n",
       "    }\n",
       "</style>\n",
       "<table border=\"1\" class=\"dataframe\">\n",
       "  <thead>\n",
       "    <tr style=\"text-align: right;\">\n",
       "      <th></th>\n",
       "      <th>paper_id</th>\n",
       "      <th>0</th>\n",
       "      <th>1</th>\n",
       "      <th>2</th>\n",
       "      <th>3</th>\n",
       "      <th>4</th>\n",
       "      <th>5</th>\n",
       "      <th>6</th>\n",
       "      <th>7</th>\n",
       "      <th>8</th>\n",
       "      <th>...</th>\n",
       "      <th>1424</th>\n",
       "      <th>1425</th>\n",
       "      <th>1426</th>\n",
       "      <th>1427</th>\n",
       "      <th>1428</th>\n",
       "      <th>1429</th>\n",
       "      <th>1430</th>\n",
       "      <th>1431</th>\n",
       "      <th>1432</th>\n",
       "      <th>class_label</th>\n",
       "    </tr>\n",
       "  </thead>\n",
       "  <tbody>\n",
       "    <tr>\n",
       "      <td>0</td>\n",
       "      <td>31336</td>\n",
       "      <td>0</td>\n",
       "      <td>0</td>\n",
       "      <td>0</td>\n",
       "      <td>0</td>\n",
       "      <td>0</td>\n",
       "      <td>0</td>\n",
       "      <td>0</td>\n",
       "      <td>0</td>\n",
       "      <td>0</td>\n",
       "      <td>...</td>\n",
       "      <td>0</td>\n",
       "      <td>0</td>\n",
       "      <td>1</td>\n",
       "      <td>0</td>\n",
       "      <td>0</td>\n",
       "      <td>0</td>\n",
       "      <td>0</td>\n",
       "      <td>0</td>\n",
       "      <td>0</td>\n",
       "      <td>Neural_Networks</td>\n",
       "    </tr>\n",
       "    <tr>\n",
       "      <td>1</td>\n",
       "      <td>1061127</td>\n",
       "      <td>0</td>\n",
       "      <td>0</td>\n",
       "      <td>0</td>\n",
       "      <td>0</td>\n",
       "      <td>0</td>\n",
       "      <td>0</td>\n",
       "      <td>0</td>\n",
       "      <td>0</td>\n",
       "      <td>0</td>\n",
       "      <td>...</td>\n",
       "      <td>0</td>\n",
       "      <td>1</td>\n",
       "      <td>0</td>\n",
       "      <td>0</td>\n",
       "      <td>0</td>\n",
       "      <td>0</td>\n",
       "      <td>0</td>\n",
       "      <td>0</td>\n",
       "      <td>0</td>\n",
       "      <td>Rule_Learning</td>\n",
       "    </tr>\n",
       "    <tr>\n",
       "      <td>2</td>\n",
       "      <td>1106406</td>\n",
       "      <td>0</td>\n",
       "      <td>0</td>\n",
       "      <td>0</td>\n",
       "      <td>0</td>\n",
       "      <td>0</td>\n",
       "      <td>0</td>\n",
       "      <td>0</td>\n",
       "      <td>0</td>\n",
       "      <td>0</td>\n",
       "      <td>...</td>\n",
       "      <td>0</td>\n",
       "      <td>0</td>\n",
       "      <td>0</td>\n",
       "      <td>0</td>\n",
       "      <td>0</td>\n",
       "      <td>0</td>\n",
       "      <td>0</td>\n",
       "      <td>0</td>\n",
       "      <td>0</td>\n",
       "      <td>Reinforcement_Learning</td>\n",
       "    </tr>\n",
       "    <tr>\n",
       "      <td>3</td>\n",
       "      <td>13195</td>\n",
       "      <td>0</td>\n",
       "      <td>0</td>\n",
       "      <td>0</td>\n",
       "      <td>0</td>\n",
       "      <td>0</td>\n",
       "      <td>0</td>\n",
       "      <td>0</td>\n",
       "      <td>0</td>\n",
       "      <td>0</td>\n",
       "      <td>...</td>\n",
       "      <td>0</td>\n",
       "      <td>0</td>\n",
       "      <td>0</td>\n",
       "      <td>0</td>\n",
       "      <td>0</td>\n",
       "      <td>0</td>\n",
       "      <td>0</td>\n",
       "      <td>0</td>\n",
       "      <td>0</td>\n",
       "      <td>Reinforcement_Learning</td>\n",
       "    </tr>\n",
       "    <tr>\n",
       "      <td>4</td>\n",
       "      <td>37879</td>\n",
       "      <td>0</td>\n",
       "      <td>0</td>\n",
       "      <td>0</td>\n",
       "      <td>0</td>\n",
       "      <td>0</td>\n",
       "      <td>0</td>\n",
       "      <td>0</td>\n",
       "      <td>0</td>\n",
       "      <td>0</td>\n",
       "      <td>...</td>\n",
       "      <td>0</td>\n",
       "      <td>0</td>\n",
       "      <td>0</td>\n",
       "      <td>0</td>\n",
       "      <td>0</td>\n",
       "      <td>0</td>\n",
       "      <td>0</td>\n",
       "      <td>0</td>\n",
       "      <td>0</td>\n",
       "      <td>Probabilistic_Methods</td>\n",
       "    </tr>\n",
       "    <tr>\n",
       "      <td>...</td>\n",
       "      <td>...</td>\n",
       "      <td>...</td>\n",
       "      <td>...</td>\n",
       "      <td>...</td>\n",
       "      <td>...</td>\n",
       "      <td>...</td>\n",
       "      <td>...</td>\n",
       "      <td>...</td>\n",
       "      <td>...</td>\n",
       "      <td>...</td>\n",
       "      <td>...</td>\n",
       "      <td>...</td>\n",
       "      <td>...</td>\n",
       "      <td>...</td>\n",
       "      <td>...</td>\n",
       "      <td>...</td>\n",
       "      <td>...</td>\n",
       "      <td>...</td>\n",
       "      <td>...</td>\n",
       "      <td>...</td>\n",
       "      <td>...</td>\n",
       "    </tr>\n",
       "    <tr>\n",
       "      <td>2703</td>\n",
       "      <td>1128975</td>\n",
       "      <td>0</td>\n",
       "      <td>0</td>\n",
       "      <td>0</td>\n",
       "      <td>0</td>\n",
       "      <td>0</td>\n",
       "      <td>0</td>\n",
       "      <td>0</td>\n",
       "      <td>0</td>\n",
       "      <td>0</td>\n",
       "      <td>...</td>\n",
       "      <td>0</td>\n",
       "      <td>0</td>\n",
       "      <td>0</td>\n",
       "      <td>0</td>\n",
       "      <td>0</td>\n",
       "      <td>0</td>\n",
       "      <td>0</td>\n",
       "      <td>0</td>\n",
       "      <td>0</td>\n",
       "      <td>Genetic_Algorithms</td>\n",
       "    </tr>\n",
       "    <tr>\n",
       "      <td>2704</td>\n",
       "      <td>1128977</td>\n",
       "      <td>0</td>\n",
       "      <td>0</td>\n",
       "      <td>0</td>\n",
       "      <td>0</td>\n",
       "      <td>0</td>\n",
       "      <td>0</td>\n",
       "      <td>0</td>\n",
       "      <td>0</td>\n",
       "      <td>0</td>\n",
       "      <td>...</td>\n",
       "      <td>0</td>\n",
       "      <td>0</td>\n",
       "      <td>0</td>\n",
       "      <td>0</td>\n",
       "      <td>0</td>\n",
       "      <td>0</td>\n",
       "      <td>0</td>\n",
       "      <td>0</td>\n",
       "      <td>0</td>\n",
       "      <td>Genetic_Algorithms</td>\n",
       "    </tr>\n",
       "    <tr>\n",
       "      <td>2705</td>\n",
       "      <td>1128978</td>\n",
       "      <td>0</td>\n",
       "      <td>0</td>\n",
       "      <td>0</td>\n",
       "      <td>0</td>\n",
       "      <td>0</td>\n",
       "      <td>0</td>\n",
       "      <td>0</td>\n",
       "      <td>0</td>\n",
       "      <td>0</td>\n",
       "      <td>...</td>\n",
       "      <td>0</td>\n",
       "      <td>0</td>\n",
       "      <td>0</td>\n",
       "      <td>0</td>\n",
       "      <td>0</td>\n",
       "      <td>0</td>\n",
       "      <td>0</td>\n",
       "      <td>0</td>\n",
       "      <td>0</td>\n",
       "      <td>Genetic_Algorithms</td>\n",
       "    </tr>\n",
       "    <tr>\n",
       "      <td>2706</td>\n",
       "      <td>117328</td>\n",
       "      <td>0</td>\n",
       "      <td>0</td>\n",
       "      <td>0</td>\n",
       "      <td>0</td>\n",
       "      <td>1</td>\n",
       "      <td>0</td>\n",
       "      <td>0</td>\n",
       "      <td>0</td>\n",
       "      <td>0</td>\n",
       "      <td>...</td>\n",
       "      <td>0</td>\n",
       "      <td>0</td>\n",
       "      <td>0</td>\n",
       "      <td>0</td>\n",
       "      <td>0</td>\n",
       "      <td>0</td>\n",
       "      <td>0</td>\n",
       "      <td>0</td>\n",
       "      <td>0</td>\n",
       "      <td>Case_Based</td>\n",
       "    </tr>\n",
       "    <tr>\n",
       "      <td>2707</td>\n",
       "      <td>24043</td>\n",
       "      <td>0</td>\n",
       "      <td>0</td>\n",
       "      <td>0</td>\n",
       "      <td>0</td>\n",
       "      <td>0</td>\n",
       "      <td>0</td>\n",
       "      <td>0</td>\n",
       "      <td>0</td>\n",
       "      <td>0</td>\n",
       "      <td>...</td>\n",
       "      <td>0</td>\n",
       "      <td>0</td>\n",
       "      <td>0</td>\n",
       "      <td>0</td>\n",
       "      <td>0</td>\n",
       "      <td>0</td>\n",
       "      <td>0</td>\n",
       "      <td>0</td>\n",
       "      <td>0</td>\n",
       "      <td>Neural_Networks</td>\n",
       "    </tr>\n",
       "  </tbody>\n",
       "</table>\n",
       "<p>2708 rows × 1435 columns</p>\n",
       "</div>"
      ],
      "text/plain": [
       "      paper_id  0  1  2  3  4  5  6  7  8  ...  1424  1425  1426  1427  1428  \\\n",
       "0        31336  0  0  0  0  0  0  0  0  0  ...     0     0     1     0     0   \n",
       "1      1061127  0  0  0  0  0  0  0  0  0  ...     0     1     0     0     0   \n",
       "2      1106406  0  0  0  0  0  0  0  0  0  ...     0     0     0     0     0   \n",
       "3        13195  0  0  0  0  0  0  0  0  0  ...     0     0     0     0     0   \n",
       "4        37879  0  0  0  0  0  0  0  0  0  ...     0     0     0     0     0   \n",
       "...        ... .. .. .. .. .. .. .. .. ..  ...   ...   ...   ...   ...   ...   \n",
       "2703   1128975  0  0  0  0  0  0  0  0  0  ...     0     0     0     0     0   \n",
       "2704   1128977  0  0  0  0  0  0  0  0  0  ...     0     0     0     0     0   \n",
       "2705   1128978  0  0  0  0  0  0  0  0  0  ...     0     0     0     0     0   \n",
       "2706    117328  0  0  0  0  1  0  0  0  0  ...     0     0     0     0     0   \n",
       "2707     24043  0  0  0  0  0  0  0  0  0  ...     0     0     0     0     0   \n",
       "\n",
       "      1429  1430  1431  1432             class_label  \n",
       "0        0     0     0     0         Neural_Networks  \n",
       "1        0     0     0     0           Rule_Learning  \n",
       "2        0     0     0     0  Reinforcement_Learning  \n",
       "3        0     0     0     0  Reinforcement_Learning  \n",
       "4        0     0     0     0   Probabilistic_Methods  \n",
       "...    ...   ...   ...   ...                     ...  \n",
       "2703     0     0     0     0      Genetic_Algorithms  \n",
       "2704     0     0     0     0      Genetic_Algorithms  \n",
       "2705     0     0     0     0      Genetic_Algorithms  \n",
       "2706     0     0     0     0              Case_Based  \n",
       "2707     0     0     0     0         Neural_Networks  \n",
       "\n",
       "[2708 rows x 1435 columns]"
      ]
     },
     "execution_count": 2,
     "metadata": {},
     "output_type": "execute_result"
    }
   ],
   "source": [
    "column_list = ['paper_id'] + [str(i) for i in range(0,1433)] +  ['class_label']\n",
    "pd_content = pd.read_csv('data/cora/cora.content', delimiter='\\t', names=column_list) \n",
    "pd_content"
   ]
  },
  {
   "cell_type": "markdown",
   "metadata": {},
   "source": [
    "Print out the number of papers contained in each of the reasearch fields.\n",
    "\n",
    "**Hint:** You can use the `value_counts()` function."
   ]
  },
  {
   "cell_type": "code",
   "execution_count": 3,
   "metadata": {},
   "outputs": [
    {
     "data": {
      "text/plain": [
       "Neural_Networks           818\n",
       "Probabilistic_Methods     426\n",
       "Genetic_Algorithms        418\n",
       "Theory                    351\n",
       "Case_Based                298\n",
       "Reinforcement_Learning    217\n",
       "Rule_Learning             180\n",
       "Name: class_label, dtype: int64"
      ]
     },
     "execution_count": 3,
     "metadata": {},
     "output_type": "execute_result"
    }
   ],
   "source": [
    "# Your code here.\n",
    "pd_content['class_label'].value_counts()"
   ]
  },
  {
   "cell_type": "markdown",
   "metadata": {},
   "source": [
    "Select all papers from a field of your choice and store their feature vectors into a NumPy array.\n",
    "Check its shape."
   ]
  },
  {
   "cell_type": "code",
   "execution_count": 4,
   "metadata": {},
   "outputs": [
    {
     "name": "stdout",
     "output_type": "stream",
     "text": [
      "<class 'numpy.ndarray'>\n"
     ]
    },
    {
     "data": {
      "text/plain": [
       "(818, 1433)"
      ]
     },
     "execution_count": 4,
     "metadata": {},
     "output_type": "execute_result"
    }
   ],
   "source": [
    "my_field = \"Neural_Networks\"# Your code here.\n",
    "features = pd_content[pd_content['class_label'] == my_field].drop(['paper_id','class_label'],axis=1).values# Your code here.\n",
    "print(type(features))\n",
    "features.shape"
   ]
  },
  {
   "cell_type": "markdown",
   "metadata": {},
   "source": [
    "Let $D$ be the Euclidean distance matrix whose $(i,j)$ entry corresponds to the Euclidean distance between feature vectors $i$ and $j$.\n",
    "Using the feature vectors of the papers from the field which you have selected, construct $D$ as a Numpy array. "
   ]
  },
  {
   "cell_type": "code",
   "execution_count": 5,
   "metadata": {},
   "outputs": [
    {
     "data": {
      "text/plain": [
       "array([[0.        , 5.91607978, 4.12310563, ..., 5.91607978, 5.91607978,\n",
       "        6.08276253],\n",
       "       [5.91607978, 0.        , 4.89897949, ..., 5.83095189, 5.83095189,\n",
       "        6.164414  ],\n",
       "       [4.12310563, 4.89897949, 0.        , ..., 4.69041576, 4.47213595,\n",
       "        4.89897949],\n",
       "       ...,\n",
       "       [5.91607978, 5.83095189, 4.69041576, ..., 0.        , 5.83095189,\n",
       "        6.164414  ],\n",
       "       [5.91607978, 5.83095189, 4.47213595, ..., 5.83095189, 0.        ,\n",
       "        5.65685425],\n",
       "       [6.08276253, 6.164414  , 4.89897949, ..., 6.164414  , 5.65685425,\n",
       "        0.        ]])"
      ]
     },
     "execution_count": 5,
     "metadata": {},
     "output_type": "execute_result"
    }
   ],
   "source": [
    "distance = np.array([[ np.linalg.norm( (features[i,:]-features[j,:]))\n",
    "                            for i in range(0,features.shape[0]) ]\n",
    "                                 for j in range(0,features.shape[0])]).reshape(features.shape[0],-1)\n",
    "\n",
    "distance"
   ]
  },
  {
   "cell_type": "markdown",
   "metadata": {},
   "source": [
    "Check the mean pairwise distance $\\mathbb{E}[D]$."
   ]
  },
  {
   "cell_type": "code",
   "execution_count": 6,
   "metadata": {},
   "outputs": [
    {
     "data": {
      "text/plain": [
       "5.689638434824233"
      ]
     },
     "execution_count": 6,
     "metadata": {},
     "output_type": "execute_result"
    }
   ],
   "source": [
    "mean_distance = distance.mean()\n",
    "mean_distance"
   ]
  },
  {
   "cell_type": "markdown",
   "metadata": {},
   "source": [
    "Plot an histogram of the euclidean distances."
   ]
  },
  {
   "cell_type": "code",
   "execution_count": 7,
   "metadata": {},
   "outputs": [
    {
     "data": {
      "image/png": "[encoded data removed]",
      "text/plain": [
       "<Figure size 576x288 with 1 Axes>"
      ]
     },
     "metadata": {
      "needs_background": "light"
     },
     "output_type": "display_data"
    }
   ],
   "source": [
    "plt.figure(1, figsize=(8, 4))\n",
    "plt.title(\"Histogram of Euclidean distances between papers\")\n",
    "plt.hist(distance.flatten());"
   ]
  },
  {
   "cell_type": "markdown",
   "metadata": {},
   "source": [
    "Now create an adjacency matrix for the papers by thresholding the Euclidean distance matrix.\n",
    "The resulting (unweighted) adjacency matrix should have entries\n",
    "$$ A_{ij} = \\begin{cases} 1, \\; \\text{if} \\; d(i,j)< \\mathbb{E}[D], \\; i \\neq j, \\\\ 0, \\; \\text{otherwise.} \\end{cases} $$\n",
    "\n",
    "First, let us choose the mean distance as the threshold."
   ]
  },
  {
   "cell_type": "code",
   "execution_count": 8,
   "metadata": {},
   "outputs": [],
   "source": [
    "threshold = mean_distance\n",
    "A_feature = np.array([ [ 1 if ((distance[i,j]< mean_distance) and (i!=j)) else 0 for i in range(0,features.shape[0]) ]\n",
    "     for j in range(0,features.shape[0])], np.float64).reshape(features.shape[0],-1)"
   ]
  },
  {
   "cell_type": "markdown",
   "metadata": {},
   "source": [
    "Now read the `cora.cites` file and construct the citation graph by converting the given citation connections into an adjacency matrix."
   ]
  },
  {
   "cell_type": "code",
   "execution_count": 9,
   "metadata": {},
   "outputs": [
    {
     "data": {
      "text/plain": [
       "(2708, 2708)"
      ]
     },
     "execution_count": 9,
     "metadata": {},
     "output_type": "execute_result"
    }
   ],
   "source": [
    "cora_cites = np.genfromtxt('data/cora/cora.cites', delimiter='\\t')\n",
    "\n",
    "#we isolate all unique paper ids and order them in a list\n",
    "ID = pd_content[\"paper_id\"].tolist()\n",
    "\n",
    "#we create a dataframe with the list created before and fill it\n",
    "df = pd.DataFrame(cora_cites, columns=['cited', 'citing'])\n",
    "df['indice_cited']=df['cited'].map(lambda x: ID.index(x))\n",
    "df['indice_citing']=df['citing'].map(lambda x: ID.index(x))\n",
    "\n",
    "A_citation  = np.zeros((len(ID), len(ID)),np.float64)\n",
    "\n",
    "for i, j in zip(df['indice_cited'],df['indice_citing']):\n",
    "    A_citation [i, j] = 1\n",
    "    A_citation [j, i] = 1\n",
    "\n",
    "A_citation.shape"
   ]
  },
  {
   "cell_type": "markdown",
   "metadata": {},
   "source": [
    "Get the adjacency matrix of the citation graph for the field that you chose.\n",
    "You have to appropriately reduce the adjacency matrix of the citation graph."
   ]
  },
  {
   "cell_type": "code",
   "execution_count": 10,
   "metadata": {},
   "outputs": [
    {
     "data": {
      "text/plain": [
       "(818, 818)"
      ]
     },
     "execution_count": 10,
     "metadata": {},
     "output_type": "execute_result"
    }
   ],
   "source": [
    "# Your code here.\n",
    "#indices to keep corresponding to the choosen field\n",
    "indices_to_keep  = pd_content[pd_content['class_label'] == my_field]['paper_id'].map(lambda x:ID.index(x))\n",
    "\n",
    "row_idx = np.array(indices_to_keep)\n",
    "col_idx = np.array(indices_to_keep)\n",
    "\n",
    "A_citation = A_citation[row_idx[:, None], col_idx]\n",
    "A_citation.shape"
   ]
  },
  {
   "cell_type": "markdown",
   "metadata": {},
   "source": [
    "Check if your adjacency matrix is symmetric. Symmetrize your final adjacency matrix if it's not already symmetric."
   ]
  },
  {
   "cell_type": "code",
   "execution_count": 11,
   "metadata": {},
   "outputs": [
    {
     "data": {
      "text/plain": [
       "0"
      ]
     },
     "execution_count": 11,
     "metadata": {},
     "output_type": "execute_result"
    }
   ],
   "source": [
    "# Your code here.\n",
    "np.count_nonzero(A_citation - A_citation.transpose())"
   ]
  },
  {
   "cell_type": "markdown",
   "metadata": {},
   "source": [
    "Check the shape of your adjacency matrix again."
   ]
  },
  {
   "cell_type": "code",
   "execution_count": 12,
   "metadata": {},
   "outputs": [
    {
     "data": {
      "text/plain": [
       "(818, 818)"
      ]
     },
     "execution_count": 12,
     "metadata": {},
     "output_type": "execute_result"
    }
   ],
   "source": [
    "A_citation.shape"
   ]
  },
  {
   "cell_type": "markdown",
   "metadata": {},
   "source": [
    "### Question 2: Degree Distribution and Moments"
   ]
  },
  {
   "cell_type": "markdown",
   "metadata": {},
   "source": [
    "What is the total number of edges in each graph?"
   ]
  },
  {
   "cell_type": "code",
   "execution_count": 13,
   "metadata": {},
   "outputs": [
    {
     "name": "stdout",
     "output_type": "stream",
     "text": [
      "Number of edges in the feature graph: 136771.0\n",
      "Number of edges in the citation graph: 1175.0\n"
     ]
    }
   ],
   "source": [
    "num_edges_feature = np.count_nonzero(A_feature)/2 # Your code here.\n",
    "num_edges_citation = np.count_nonzero(A_citation)/2# Your code here.\n",
    "print(f\"Number of edges in the feature graph: {num_edges_feature}\")\n",
    "print(f\"Number of edges in the citation graph: {num_edges_citation}\")"
   ]
  },
  {
   "cell_type": "markdown",
   "metadata": {},
   "source": [
    "Plot the degree distribution histogram for each of the graphs."
   ]
  },
  {
   "cell_type": "code",
   "execution_count": 14,
   "metadata": {},
   "outputs": [
    {
     "data": {
      "image/png": "[encoded data removed]",
      "text/plain": [
       "<Figure size 1152x288 with 2 Axes>"
      ]
     },
     "metadata": {
      "needs_background": "light"
     },
     "output_type": "display_data"
    }
   ],
   "source": [
    "degrees_citation = np.sum(A_citation, axis=1)# Your code here.\n",
    "degrees_feature =np.sum(A_feature, axis=1)# Your code here.\n",
    "\n",
    "deg_hist_normalization = np.ones(degrees_citation.shape[0]) / degrees_citation.shape[0]\n",
    "\n",
    "fig, axes = plt.subplots(1, 2, figsize=(16, 4))\n",
    "axes[0].set_title('Citation graph degree distribution')\n",
    "axes[0].hist(degrees_citation, weights=deg_hist_normalization);\n",
    "axes[1].set_title('Feature graph degree distribution')\n",
    "axes[1].hist(degrees_feature, weights=deg_hist_normalization);"
   ]
  },
  {
   "cell_type": "markdown",
   "metadata": {},
   "source": [
    "Calculate the first and second moments of the degree distribution of each graph."
   ]
  },
  {
   "cell_type": "code",
   "execution_count": 15,
   "metadata": {},
   "outputs": [
    {
     "name": "stdout",
     "output_type": "stream",
     "text": [
      "1st moment of citation graph: 2.8728606356968216\n",
      "2nd moment of citation graph: 23.765281173594133\n",
      "1st moment of feature graph: 334.4034229828851\n",
      "2nd moment of feature graph: 167201.19804400977\n"
     ]
    }
   ],
   "source": [
    "cit_moment_1 = sum(degrees_citation)/len(degrees_citation)# Your code here.\n",
    "cit_moment_2 = sum(degrees_citation**2)/len(degrees_citation)# Your code here.\n",
    "\n",
    "feat_moment_1 = sum(degrees_feature)/len(degrees_feature)# Your code here.\n",
    "feat_moment_2 = sum(degrees_feature**2)/len(degrees_feature)# Your code here.\n",
    "\n",
    "print(f\"1st moment of citation graph: {cit_moment_1}\")\n",
    "print(f\"2nd moment of citation graph: {cit_moment_2}\")\n",
    "print(f\"1st moment of feature graph: {feat_moment_1}\")\n",
    "print(f\"2nd moment of feature graph: {feat_moment_2}\")\n",
    "\n",
    "#print('additional values:')\n",
    "#print('variance citation graph:',np.sqrt(cit_moment_2 - cit_moment_1**2 ))\n",
    "#print('variance feature graph:', np.sqrt(feat_moment_2 - feat_moment_1**2))"
   ]
  },
  {
   "cell_type": "markdown",
   "metadata": {},
   "source": [
    "What information do the moments provide you about the graphs?\n",
    "Explain the differences in moments between graphs by comparing their degree distributions."
   ]
  },
  {
   "cell_type": "markdown",
   "metadata": {},
   "source": [
    "**Your answer here:**\n",
    "\n",
    "The first moment gives the average number of links per node, which is approximately 119 times more important for the feature graph as for the citation graph. And the second moment for the feature graph is approximately 7200 times bigger than for the citation graph.\n",
    "\n",
    "These huge differences in the moments of these two graphs are due to the difference in the degree distribution of the two graphs. Indeed, the max degree is around 30 for the citation graph and it goes up to 800 for the feature graph. For the citation graph, more than 90% of the degree are below 20 and for the feature graph 90% of the degree are above 700."
   ]
  },
  {
   "cell_type": "markdown",
   "metadata": {},
   "source": [
    "Select the 20 largest hubs for each of the graphs and remove them. Observe the sparsity pattern of the adjacency matrices of the citation and feature graphs before and after such a reduction."
   ]
  },
  {
   "cell_type": "code",
   "execution_count": 16,
   "metadata": {},
   "outputs": [
    {
     "data": {
      "image/png": "[encoded data removed]",
      "text/plain": [
       "<Figure size 1152x1152 with 4 Axes>"
      ]
     },
     "metadata": {
      "needs_background": "light"
     },
     "output_type": "display_data"
    }
   ],
   "source": [
    "#sure to get the 20 biggest in the 20 last indices\n",
    "ordered_indices_citation = np.argpartition(degrees_citation,-20)\n",
    "#we don't keep lines corresponding to the 20 biggest nodes (the 20 last indices of last list)\n",
    "reduced_A_citation = A_citation[ordered_indices_citation[:-20,None], ordered_indices_citation[:-20]]# Your code here\n",
    "\n",
    "ordered_indices_feature = np.argpartition(degrees_feature,-20)\n",
    "#we don't keep lines corresponding to the 20 biggest nodes (the 20 last indices of last list)\n",
    "reduced_A_feature = A_feature[ordered_indices_feature[:-20,None],ordered_indices_feature[:-20]]# Your code here\n",
    "\n",
    "                                        \n",
    "fig, axes = plt.subplots(2, 2, figsize=(16, 16))\n",
    "axes[0, 0].set_title('Feature graph: adjacency matrix sparsity pattern')\n",
    "axes[0, 0].spy(A_feature);\n",
    "axes[0, 1].set_title('Feature graph without top 20 hubs: adjacency matrix sparsity pattern')\n",
    "axes[0, 1].spy(reduced_A_feature);\n",
    "axes[1, 0].set_title('Citation graph: adjacency matrix sparsity pattern')\n",
    "axes[1, 0].spy(A_citation);\n",
    "axes[1, 1].set_title('Citation graph without top 20 hubs: adjacency matrix sparsity pattern')\n",
    "axes[1, 1].spy(reduced_A_citation);"
   ]
  },
  {
   "cell_type": "markdown",
   "metadata": {},
   "source": [
    "Plot the new degree distribution histograms."
   ]
  },
  {
   "cell_type": "code",
   "execution_count": 17,
   "metadata": {},
   "outputs": [
    {
     "data": {
      "image/png": "[encoded data removed]",
      "text/plain": [
       "<Figure size 1152x288 with 2 Axes>"
      ]
     },
     "metadata": {
      "needs_background": "light"
     },
     "output_type": "display_data"
    }
   ],
   "source": [
    "#reduced_degrees_cit = np.array([sum(reduced_A_citation[i,:]) for i in range(0,reduced_A_citation.shape[0])])# Your code here.\n",
    "#reduced_degrees_feat = np.array([sum(reduced_A_feature[i,:]) for i in range(0,reduced_A_feature.shape[0])])# Your code here.\n",
    "\n",
    "reduced_degrees_cit = np.sum(reduced_A_citation, axis=1)\n",
    "reduced_degrees_feat = np.sum(reduced_A_feature, axis=1)\n",
    "\n",
    "deg_hist_normalization = np.ones(reduced_degrees_feat.shape[0])/reduced_degrees_feat.shape[0]\n",
    "\n",
    "fig, axes = plt.subplots(1, 2, figsize=(16, 4))\n",
    "axes[0].set_title('Citation graph degree distribution')\n",
    "axes[0].hist(reduced_degrees_cit, weights=deg_hist_normalization);\n",
    "axes[1].set_title('Feature graph degree distribution')\n",
    "axes[1].hist(reduced_degrees_feat, weights=deg_hist_normalization);"
   ]
  },
  {
   "cell_type": "markdown",
   "metadata": {},
   "source": [
    "Compute the first and second moments for the new graphs."
   ]
  },
  {
   "cell_type": "code",
   "execution_count": 18,
   "metadata": {},
   "outputs": [
    {
     "name": "stdout",
     "output_type": "stream",
     "text": [
      "Citation graph first moment: 1.9724310776942355\n",
      "Citation graph second moment: 6.2706766917293235\n",
      "Feature graph first moment:  302.30827067669173\n",
      "Feature graph second moment:  142170.32581453634\n"
     ]
    }
   ],
   "source": [
    "reduced_cit_moment_1 = sum(reduced_degrees_cit)/len(reduced_degrees_cit) # Your code here.\n",
    "reduced_cit_moment_2 = sum(reduced_degrees_cit**2)/len(reduced_degrees_cit) # Your code here.\n",
    "\n",
    "reduced_feat_moment_1 = sum(reduced_degrees_feat)/len(reduced_degrees_feat)# Your code here.\n",
    "reduced_feat_moment_2 = sum(reduced_degrees_feat**2)/len(reduced_degrees_feat)# Your code here\n",
    "\n",
    "print(\"Citation graph first moment:\", reduced_cit_moment_1)\n",
    "print(\"Citation graph second moment:\", reduced_cit_moment_2)\n",
    "print(\"Feature graph first moment: \", reduced_feat_moment_1)\n",
    "print(\"Feature graph second moment: \", reduced_feat_moment_2)"
   ]
  },
  {
   "cell_type": "markdown",
   "metadata": {},
   "source": [
    "Print the number of edges in the reduced graphs."
   ]
  },
  {
   "cell_type": "code",
   "execution_count": 19,
   "metadata": {},
   "outputs": [
    {
     "name": "stdout",
     "output_type": "stream",
     "text": [
      "Number of edges in the reduced feature graph: 120621.0\n",
      "Number of edges in the reduced citation graph: 787.0\n"
     ]
    }
   ],
   "source": [
    "# Your code here\n",
    "num_edges_reduced_feature = np.count_nonzero(reduced_A_feature)/2 # Your code here.\n",
    "num_edges_reduced_citation = np.count_nonzero(reduced_A_citation)/2# Your code here.\n",
    "print(f\"Number of edges in the reduced feature graph: {num_edges_reduced_feature}\")\n",
    "print(f\"Number of edges in the reduced citation graph: {num_edges_reduced_citation}\")"
   ]
  },
  {
   "cell_type": "markdown",
   "metadata": {},
   "source": [
    "Is the effect of removing the hubs the same for both networks? Look at the percentage changes for each moment. Which of the moments is affected the most and in which graph? Explain why.  \n",
    "\n",
    "**Hint:** Examine the degree distributions."
   ]
  },
  {
   "cell_type": "markdown",
   "metadata": {},
   "source": [
    "**Your answer here:**\n",
    "\n",
    "The decreases of number of edges for the first and second moment for the citation graph are respectively -29 % and -73%. And for the feature graph the decreases are  -10% and -14% for the first and second moment.\n",
    "\n",
    "The effect is much bigger for the citation graph than for the feature graph. This is due to the fact that the part of big hubs in the distribution is much bigger for the feature graph as for the citation graph."
   ]
  },
  {
   "cell_type": "markdown",
   "metadata": {},
   "source": [
    "### Question 3: Pruning, sparsity, paths"
   ]
  },
  {
   "cell_type": "markdown",
   "metadata": {},
   "source": [
    "By adjusting the threshold of the euclidean distance matrix, prune the feature graph so that its number of edges is roughly close (within a hundred edges) to the number of edges in the citation graph."
   ]
  },
  {
   "cell_type": "code",
   "execution_count": 20,
   "metadata": {},
   "outputs": [
    {
     "name": "stdout",
     "output_type": "stream",
     "text": [
      "Number of edges in the feature graph: 136771.0\n",
      "Number of edges in the feature graph after pruning: 1386.0\n",
      "Number of edges in the citation graph: 1175.0\n"
     ]
    }
   ],
   "source": [
    "threshold = 0.498*mean_distance # Your code here.\n",
    "A_feature_pruned = np.array([ [ 1 if ((distance[i,j]< threshold) and (i!=j)) else 0 for i in range(0,features.shape[0]) ]\n",
    "     for j in range(0,features.shape[0])],np.float64).reshape(features.shape[0],-1)\n",
    "num_edges_feature_pruned = np.count_nonzero(A_feature_pruned)/2# Your code here.\n",
    "\n",
    "print(f\"Number of edges in the feature graph: {num_edges_feature}\")\n",
    "print(f\"Number of edges in the feature graph after pruning: {num_edges_feature_pruned}\")\n",
    "print(f\"Number of edges in the citation graph: {num_edges_citation}\")"
   ]
  },
  {
   "cell_type": "markdown",
   "metadata": {},
   "source": [
    "The threshold has been computed in an experimental fashion. In fact, decreasing the given threshold gives a graph with 762 edges which is further from the number of edges desired than the one we get with this threshold."
   ]
  },
  {
   "cell_type": "markdown",
   "metadata": {},
   "source": [
    "Check your results by comparing the sparsity patterns and total number of edges between the graphs."
   ]
  },
  {
   "cell_type": "code",
   "execution_count": 21,
   "metadata": {},
   "outputs": [
    {
     "data": {
      "image/png": "[encoded data removed]",
      "text/plain": [
       "<Figure size 864x432 with 2 Axes>"
      ]
     },
     "metadata": {
      "needs_background": "light"
     },
     "output_type": "display_data"
    }
   ],
   "source": [
    "fig, axes = plt.subplots(1, 2, figsize=(12, 6))\n",
    "axes[0].set_title('Citation graph sparsity')\n",
    "axes[0].spy(A_citation);\n",
    "axes[1].set_title('Feature graph sparsity')\n",
    "axes[1].spy(A_feature_pruned);"
   ]
  },
  {
   "cell_type": "markdown",
   "metadata": {},
   "source": [
    "We can see that the sparsity pattern is fairly similar despite one seeminly denser area towards the upper left side of the citation graph.\n",
    "The number of nodes is fairly close as well. We have explained above why it is the best result we have gotten despit e it being in the 100-edge range."
   ]
  },
  {
   "cell_type": "markdown",
   "metadata": {},
   "source": [
    "Let $C_{k}(i,j)$ denote the number of paths of length $k$ from node $i$ to node $j$. \n",
    "\n",
    "We define the path matrix $P$, with entries\n",
    "$ P_{ij} = \\displaystyle\\sum_{k=0}^{N}C_{k}(i,j). $"
   ]
  },
  {
   "cell_type": "markdown",
   "metadata": {},
   "source": [
    "Calculate the path matrices for both the citation and the unpruned feature graphs for $N =10$.  \n",
    "\n",
    "**Hint:** Use [powers of the adjacency matrix](https://en.wikipedia.org/wiki/Adjacency_matrix#Matrix_powers)."
   ]
  },
  {
   "cell_type": "code",
   "execution_count": 22,
   "metadata": {},
   "outputs": [],
   "source": [
    "#We sum all the k powers of the adjacency matrix\n",
    "#the for-loop is for element-wise addition of the matrices (np.sum computes the sum of all elements in all of the matrices)\n",
    "path_matrix_citation = np.zeros((A_citation.shape[0], A_citation.shape[0]))\n",
    "path_matrix_feature = np.zeros((A_feature.shape[0], A_feature.shape[0]))\n",
    "\n",
    "A_citation_tmp = np.identity(A_citation.shape[0])\n",
    "A_feature_tmp = np.identity(A_feature.shape[0])\n",
    "\n",
    "for i in range(10):\n",
    "    path_matrix_citation += A_citation_tmp\n",
    "    A_citation_tmp = A_citation_tmp @ A_citation\n",
    "    path_matrix_feature += A_feature_tmp\n",
    "    A_feature_tmp = A_feature_tmp @ A_feature\n",
    "    \n"
   ]
  },
  {
   "cell_type": "markdown",
   "metadata": {},
   "source": [
    "Check the sparsity pattern for both of path matrices."
   ]
  },
  {
   "cell_type": "code",
   "execution_count": 23,
   "metadata": {},
   "outputs": [
    {
     "data": {
      "image/png": "[encoded data removed]",
      "text/plain": [
       "<Figure size 1152x648 with 2 Axes>"
      ]
     },
     "metadata": {
      "needs_background": "light"
     },
     "output_type": "display_data"
    }
   ],
   "source": [
    "fig, axes = plt.subplots(1, 2, figsize=(16, 9))\n",
    "axes[0].set_title('Citation Path matrix sparsity')\n",
    "axes[0].spy(path_matrix_citation);\n",
    "axes[1].set_title('Feature Path matrix sparsity')\n",
    "axes[1].spy(path_matrix_feature);"
   ]
  },
  {
   "cell_type": "markdown",
   "metadata": {},
   "source": [
    "We can see that citation path matrix is fairly sparse which means that some nodes in the graph are 10 or more edges apart from each other. Hence, we cannot conclude whether it is fully connected or not.\n",
    "The feature path matrix on the other hand is full of ones. Hence, all nodes are reachable from all other nodes in 10 or fewer jumps."
   ]
  },
  {
   "cell_type": "markdown",
   "metadata": {},
   "source": [
    "Now calculate the path matrix of the pruned feature graph for $N=10$. Plot the corresponding sparsity pattern. Is there any difference?"
   ]
  },
  {
   "cell_type": "code",
   "execution_count": 24,
   "metadata": {},
   "outputs": [
    {
     "data": {
      "image/png": "[encoded data removed]",
      "text/plain": [
       "<Figure size 864x432 with 1 Axes>"
      ]
     },
     "metadata": {
      "needs_background": "light"
     },
     "output_type": "display_data"
    }
   ],
   "source": [
    "path_matrix_pruned = np.zeros((A_feature_pruned.shape[0], A_feature_pruned.shape[0]))\n",
    "A_feature_tmp = np.identity(A_feature_pruned.shape[0])\n",
    "for i in range(10):\n",
    "    path_matrix_pruned += A_feature_tmp\n",
    "    A_feature_tmp = A_feature_tmp @ A_feature_pruned\n",
    "    \n",
    "plt.figure(figsize=(12, 6))\n",
    "plt.title('Feature Path matrix sparsity')\n",
    "plt.spy(path_matrix_pruned);"
   ]
  },
  {
   "cell_type": "markdown",
   "metadata": {},
   "source": [
    "**Your answer here:**\n",
    "\n",
    "We can see that citation path matrix is fairly sparse which means that some nodes in the graph are 10 or more edges apart from each other. Hence, we cannot conclude whether it is fully connected or not.\n",
    "\n",
    "The full feature path matrix on the other hand is full of ones. Hence, all nodes are reachable from all other nodes in 10 or fewer jumps. Hence, it is connected.\n",
    "\n",
    "The pruned feature path matrix is quite different from the full one. It contains some zeros. We can clearly see that each edge is not reachable from itself in 10 or fewer steps. We can also see that some edges are not reachable from others in 10 or fewer steps. Hence, we cannot conclude if it is connected or not as the edges may as well be reachable from all other edges in numbers of steps which are superior to 10."
   ]
  },
  {
   "cell_type": "markdown",
   "metadata": {},
   "source": [
    "Describe how you can use the above process of counting paths to determine whether a graph is connected or not. Is the original (unpruned) feature graph connected?"
   ]
  },
  {
   "cell_type": "markdown",
   "metadata": {},
   "source": [
    "**Your answer here:** \n",
    "\n",
    "If there are no zeros in the path graph which has been computed for N, we can be sure that each edge is reachable from all other nodes in N or fewer steps. Hence, this would lead us to conclude that the graph is connected. On the other hand, if there are still zeros in the path graph calculated, we cannot conclude that the graph is connected as some nodes are not reachable from other nodes in N steps or fewer. We cannot conclude that the graph is not connected either as the nodes might be reachable in a number of steps that is superior to N.\n",
    "\n",
    "The original unpruned feature graph matrix does not contain any zeros. Hence, it is connected."
   ]
  },
  {
   "cell_type": "code",
   "execution_count": 25,
   "metadata": {},
   "outputs": [
    {
     "name": "stdout",
     "output_type": "stream",
     "text": [
      "Number of zeros in the the matrix path feature for N =10:  0\n"
     ]
    }
   ],
   "source": [
    "print('Number of zeros in the the matrix path feature for N =10: ',\n",
    "      sum(path_matrix_feature[path_matrix_feature==0]))"
   ]
  },
  {
   "cell_type": "markdown",
   "metadata": {},
   "source": [
    "If the graph is connected, how can you guess its diameter using the path matrix?"
   ]
  },
  {
   "cell_type": "markdown",
   "metadata": {},
   "source": [
    "**Your answer here:**\n",
    "\n",
    "We have to find the smallest number of steps N such that there are no more zeros in path matrix. This would mean that all nodes are reachable from all other nodes in N steps or fewer. Hence, we would iterate over all N until we find such a path matrix. This could potentially give us an infinite loop. Hence, a maximum number of steps would have to be established or a mechanism detecting the convergence of the matrix would have to be implemented."
   ]
  },
  {
   "cell_type": "markdown",
   "metadata": {},
   "source": [
    "If any of your graphs is connected, calculate the diameter using that process."
   ]
  },
  {
   "cell_type": "code",
   "execution_count": 26,
   "metadata": {},
   "outputs": [
    {
     "name": "stdout",
     "output_type": "stream",
     "text": [
      "The diameter is: 2\n"
     ]
    }
   ],
   "source": [
    "i=0\n",
    "#path_matrix_feature = A_feature.copy()\n",
    "path_matrix_feature = np.identity(A_feature.shape[0])\n",
    "A_feature_tmp = np.identity(A_feature.shape[0])\n",
    "#nb_zeros = sum(path_matrix_feature[path_matrix_feature!=0])\n",
    "\n",
    "while 0 in path_matrix_feature:\n",
    "    A_feature_tmp = A_feature_tmp @ A_feature\n",
    "    path_matrix_feature += A_feature_tmp\n",
    "    #path_matrix_feature += np.linalg.matrix_power(A_feature,i)# Your code here.\n",
    "    i = i + 1\n",
    "    \n",
    "diameter = i\n",
    "print(f\"The diameter is: {diameter}\")"
   ]
  },
  {
   "cell_type": "markdown",
   "metadata": {},
   "source": [
    "Check if your guess was correct using [NetworkX](https://networkx.github.io/documentation/stable/reference/algorithms/generated/networkx.algorithms.distance_measures.diameter.html).\n",
    "Note: usage of NetworkX is only allowed in this part of Section 1."
   ]
  },
  {
   "cell_type": "code",
   "execution_count": 27,
   "metadata": {},
   "outputs": [
    {
     "name": "stdout",
     "output_type": "stream",
     "text": [
      "Diameter according to networkx: 2\n"
     ]
    }
   ],
   "source": [
    "import networkx as nx\n",
    "feature_graph = nx.from_numpy_matrix(A_feature)\n",
    "print(f\"Diameter according to networkx: {nx.diameter(feature_graph)}\")"
   ]
  },
  {
   "cell_type": "markdown",
   "metadata": {},
   "source": [
    "## Section 2: Network Models"
   ]
  },
  {
   "cell_type": "markdown",
   "metadata": {},
   "source": [
    "In this section, you will analyze the feature and citation graphs you constructed in the previous section in terms of the network model types.\n",
    "For this purpose, you can use the NetworkX libary imported below."
   ]
  },
  {
   "cell_type": "code",
   "execution_count": 28,
   "metadata": {},
   "outputs": [],
   "source": [
    "import networkx as nx"
   ]
  },
  {
   "cell_type": "markdown",
   "metadata": {},
   "source": [
    "Let us create NetworkX graph objects from the adjacency matrices computed in the previous section."
   ]
  },
  {
   "cell_type": "code",
   "execution_count": 29,
   "metadata": {},
   "outputs": [
    {
     "name": "stdout",
     "output_type": "stream",
     "text": [
      "Number of nodes: 818, Number of edges: 1175\n",
      "Number of self-loops: 0, Number of connected components: 104\n"
     ]
    }
   ],
   "source": [
    "G_citation = nx.from_numpy_matrix(A_citation)\n",
    "print('Number of nodes: {}, Number of edges: {}'. format(G_citation.number_of_nodes(), G_citation.number_of_edges()))\n",
    "print('Number of self-loops: {}, Number of connected components: {}'. format(G_citation.number_of_selfloops(), nx.number_connected_components(G_citation)))"
   ]
  },
  {
   "cell_type": "markdown",
   "metadata": {},
   "source": [
    "In the rest of this assignment, we will consider the pruned feature graph as the feature network."
   ]
  },
  {
   "cell_type": "code",
   "execution_count": 30,
   "metadata": {},
   "outputs": [
    {
     "name": "stdout",
     "output_type": "stream",
     "text": [
      "Number of nodes: 818, Number of edges: 1386\n",
      "Number of self-loops: 0, Number of connected components: 684\n"
     ]
    }
   ],
   "source": [
    "G_feature = nx.from_numpy_matrix(A_feature_pruned)\n",
    "print('Number of nodes: {}, Number of edges: {}'. format(G_feature.number_of_nodes(), G_feature.number_of_edges()))\n",
    "print('Number of self-loops: {}, Number of connected components: {}'. format(G_feature.number_of_selfloops(), nx.number_connected_components(G_feature)))"
   ]
  },
  {
   "cell_type": "markdown",
   "metadata": {},
   "source": [
    "### Question 4: Simulation with Erdős–Rényi and Barabási–Albert models"
   ]
  },
  {
   "cell_type": "markdown",
   "metadata": {},
   "source": [
    "Create an Erdős–Rényi and a Barabási–Albert graph using NetworkX to simulate the citation graph and the feature graph you have. When choosing parameters for the networks, take into account the number of vertices and edges of the original networks."
   ]
  },
  {
   "cell_type": "markdown",
   "metadata": {},
   "source": [
    "The number of nodes should exactly match the number of nodes in the original citation and feature graphs."
   ]
  },
  {
   "cell_type": "code",
   "execution_count": 31,
   "metadata": {},
   "outputs": [
    {
     "data": {
      "text/plain": [
       "818"
      ]
     },
     "execution_count": 31,
     "metadata": {},
     "output_type": "execute_result"
    }
   ],
   "source": [
    "assert len(G_citation.nodes()) == len(G_feature.nodes())\n",
    "n = len(G_citation.nodes())\n",
    "n"
   ]
  },
  {
   "cell_type": "markdown",
   "metadata": {},
   "source": [
    "The number of match shall fit the average of the number of edges in the citation and the feature graph."
   ]
  },
  {
   "cell_type": "code",
   "execution_count": 32,
   "metadata": {},
   "outputs": [
    {
     "data": {
      "text/plain": [
       "1280.0"
      ]
     },
     "execution_count": 32,
     "metadata": {},
     "output_type": "execute_result"
    }
   ],
   "source": [
    "m = np.round((G_citation.size() + G_feature.size()) / 2)\n",
    "m"
   ]
  },
  {
   "cell_type": "markdown",
   "metadata": {},
   "source": [
    "How do you determine the probability parameter for the Erdős–Rényi graph?"
   ]
  },
  {
   "cell_type": "markdown",
   "metadata": {},
   "source": [
    "**Your answer here:**"
   ]
  },
  {
   "cell_type": "markdown",
   "metadata": {},
   "source": [
    "- We can use the formula for the expected number of links: $E[number\\_edges] =  {N \\choose 2}p  =  p \\dfrac{N(N-1)}{2}$ with $p$ the probability parameter for the Erdös-Rényi graph, and $N$ is the number of nodes. We solve this equation for $p$ and replace the expected number of links with $m$, the match number. We get $p = \\dfrac{2E[number\\_edges]} {n(n-1)} = \\dfrac{2 m} {n(n-1)} $"
   ]
  },
  {
   "cell_type": "code",
   "execution_count": 33,
   "metadata": {},
   "outputs": [],
   "source": [
    "p = (m*2)/(n*(n-1))\n",
    "G_er = nx.erdos_renyi_graph(n, p)"
   ]
  },
  {
   "cell_type": "markdown",
   "metadata": {},
   "source": [
    "Check the number of edges in the Erdős–Rényi graph."
   ]
  },
  {
   "cell_type": "code",
   "execution_count": 34,
   "metadata": {},
   "outputs": [
    {
     "name": "stdout",
     "output_type": "stream",
     "text": [
      "My Erdos-Rényi network that simulates the citation graph has 1305 edges.\n"
     ]
    }
   ],
   "source": [
    "print('My Erdos-Rényi network that simulates the citation graph has {} edges.'.format(G_er.size()))"
   ]
  },
  {
   "cell_type": "markdown",
   "metadata": {},
   "source": [
    "How do you determine the preferential attachment parameter for Barabási–Albert graphs?"
   ]
  },
  {
   "cell_type": "markdown",
   "metadata": {},
   "source": [
    "**Your answer here:**\n",
    "\n",
    "* We can use the formula $ L = q  n $ with $N$ the number of nodes, $L$ the number of links, and $q$ the preferential attachment parameter. For $L$, we will use the match number $m$. So $q = m/N $. "
   ]
  },
  {
   "cell_type": "code",
   "execution_count": 35,
   "metadata": {},
   "outputs": [],
   "source": [
    "q = int(np.round(m/n))\n",
    "G_ba = nx.barabasi_albert_graph(n, q)"
   ]
  },
  {
   "cell_type": "markdown",
   "metadata": {},
   "source": [
    "Check the number of edges in the Barabási–Albert graph."
   ]
  },
  {
   "cell_type": "code",
   "execution_count": 36,
   "metadata": {},
   "outputs": [
    {
     "name": "stdout",
     "output_type": "stream",
     "text": [
      "My Barabási-Albert network that simulates the citation graph has 1632 edges.\n"
     ]
    }
   ],
   "source": [
    "print('My Barabási-Albert network that simulates the citation graph has {} edges.'.format(G_ba.size()))"
   ]
  },
  {
   "cell_type": "markdown",
   "metadata": {},
   "source": [
    "### Question 5: Giant Component"
   ]
  },
  {
   "cell_type": "markdown",
   "metadata": {},
   "source": [
    "Check the size of the largest connected component in the citation and feature graphs."
   ]
  },
  {
   "cell_type": "code",
   "execution_count": 37,
   "metadata": {},
   "outputs": [
    {
     "name": "stdout",
     "output_type": "stream",
     "text": [
      "The giant component of the citation graph has 636 nodes and 1079 edges.\n"
     ]
    }
   ],
   "source": [
    "giant_citation = max(nx.connected_component_subgraphs(G_citation), key=len)\n",
    "print('The giant component of the citation graph has {} nodes and {} edges.'.format(giant_citation.number_of_nodes(), giant_citation.size()))"
   ]
  },
  {
   "cell_type": "code",
   "execution_count": 38,
   "metadata": {},
   "outputs": [
    {
     "name": "stdout",
     "output_type": "stream",
     "text": [
      "The giant component of the feature graph has 117 nodes and 1364 edges.\n"
     ]
    }
   ],
   "source": [
    "giant_feature = max(nx.connected_component_subgraphs(G_feature), key=len)\n",
    "print('The giant component of the feature graph has {} nodes and {} edges.'.format(giant_feature.number_of_nodes(), giant_feature.size()))"
   ]
  },
  {
   "cell_type": "markdown",
   "metadata": {},
   "source": [
    "Check the size of the giant components in the generated Erdős–Rényi graph."
   ]
  },
  {
   "cell_type": "code",
   "execution_count": 39,
   "metadata": {},
   "outputs": [
    {
     "name": "stdout",
     "output_type": "stream",
     "text": [
      "The giant component of the Erdos-Rényi network has 772 nodes and 1302 edges.\n"
     ]
    }
   ],
   "source": [
    "giant_er = max(nx.connected_component_subgraphs(G_er), key=len)\n",
    "print('The giant component of the Erdos-Rényi network has {} nodes and {} edges.'.format(giant_er.number_of_nodes(), giant_er.size()))"
   ]
  },
  {
   "cell_type": "markdown",
   "metadata": {},
   "source": [
    "Let us match the number of nodes in the giant component of the feature graph by simulating a new Erdős–Rényi network.\n",
    "How do you choose the probability parameter this time? \n",
    "\n",
    "**Hint:** Recall the expected giant component size from the lectures."
   ]
  },
  {
   "cell_type": "markdown",
   "metadata": {},
   "source": [
    "**Your answer here:**\n",
    "\n",
    "From the lectures we know that for random networks, the ratio of the number of nodes in the giant component and that of the nodes in the network $S = \\frac{N_{g}}{N}$ follws this equation: $S = 1 - e^{-<k>S}$ such that $<k>$ is the average degree of nodes. We also know that $<k>$ follows the equation: $p = \\frac{<k>}{N - 1}$ such that $p$ is the preferential attachement probability and $N$ is the number of nodes. Taking $<k> = p(N - 1)$ from the second equation and plugging it in the first equation gives us: $S = 1 - e^{-p(N -1)S}$.\n",
    "\n",
    "Solving this equation for $p$ gives us: $p = \\frac{ln(1 - S)}{S(1-N)}$. We have thus found the preferential probability for a random Erdős–Rényi network such that we get a giant component with the same number of nodes as the feature graph. We set $S = \\frac{N_{g}}{N}$ such that ${N_{g}}$ is the number of nodes in the giant component of the feature network and {N} is the total number of nodes."
   ]
  },
  {
   "cell_type": "code",
   "execution_count": 40,
   "metadata": {},
   "outputs": [],
   "source": [
    "#epsilon = 0.1\n",
    "#p_new = (1 + epsilon) / n # Your code here.\n",
    "n_g=giant_feature.number_of_nodes()\n",
    "s=n_g/n\n",
    "p_new=(np.log(1-s))/(s*(1-n))\n",
    "G_er_new = nx.erdos_renyi_graph(n, p_new)"
   ]
  },
  {
   "cell_type": "markdown",
   "metadata": {},
   "source": [
    "Check the size of the new Erdős–Rényi network and its giant component."
   ]
  },
  {
   "cell_type": "code",
   "execution_count": 41,
   "metadata": {},
   "outputs": [
    {
     "name": "stdout",
     "output_type": "stream",
     "text": [
      "My new Erdos Renyi network that simulates the citation graph has 413 edges.\n",
      "The giant component of the new Erdos-Rényi network has 166 nodes and 168 edges.\n"
     ]
    }
   ],
   "source": [
    "print('My new Erdos Renyi network that simulates the citation graph has {} edges.'.format(G_er_new.size()))\n",
    "giant_er_new = max(nx.connected_component_subgraphs(G_er_new), key=len)\n",
    "print('The giant component of the new Erdos-Rényi network has {} nodes and {} edges.'.format(giant_er_new.number_of_nodes(), giant_er_new.size()))"
   ]
  },
  {
   "cell_type": "markdown",
   "metadata": {},
   "source": [
    "### Question 6: Degree Distributions"
   ]
  },
  {
   "cell_type": "markdown",
   "metadata": {},
   "source": [
    "Recall the degree distribution of the citation and the feature graph."
   ]
  },
  {
   "cell_type": "code",
   "execution_count": 42,
   "metadata": {
    "scrolled": false
   },
   "outputs": [
    {
     "data": {
      "image/png": "[encoded data removed]",
      "text/plain": [
       "<Figure size 1080x432 with 2 Axes>"
      ]
     },
     "metadata": {
      "needs_background": "light"
     },
     "output_type": "display_data"
    }
   ],
   "source": [
    "fig, axes = plt.subplots(1, 2, figsize=(15, 6))\n",
    "axes[0].set_title('Citation graph')\n",
    "citation_degrees = np.sum(A_citation, axis=1)\n",
    "axes[0].hist(citation_degrees);\n",
    "axes[1].set_title('Feature graph')\n",
    "feature_degrees = np.sum(A_feature_pruned, axis=1)\n",
    "axes[1].hist(feature_degrees,range=(1,10));"
   ]
  },
  {
   "cell_type": "markdown",
   "metadata": {},
   "source": [
    "* Below, we plot the histogram the degree distributions with more bins (=50) for better visualization\n",
    "* We also visualize the degree distributions on a log-log-scale"
   ]
  },
  {
   "cell_type": "code",
   "execution_count": 170,
   "metadata": {
    "scrolled": false
   },
   "outputs": [
    {
     "data": {
      "image/png": "[encoded data removed]",
      "text/plain": [
       "<Figure size 1080x720 with 4 Axes>"
      ]
     },
     "metadata": {
      "needs_background": "light"
     },
     "output_type": "display_data"
    }
   ],
   "source": [
    "fig, axes = plt.subplots(2, 2, figsize=(15, 10))\n",
    "axes[0][0].set_title('Citation graph')\n",
    "citation_degrees = np.sum(A_citation, axis=1)\n",
    "axes[0][0].hist(citation_degrees,bins=50);\n",
    "axes[0][1].set_title('Feature graph')\n",
    "feature_degrees = np.sum(A_feature_pruned, axis=1)\n",
    "axes[0][1].hist(feature_degrees,bins=50);\n",
    "plt.yscale('log')\n",
    "plt.xscale('log')\n",
    "axes[1][0].set_title('log-log scale: Citation graph')\n",
    "citation_degrees = np.sum(A_citation, axis=1)\n",
    "axes[1][0].hist(citation_degrees,bins=50);\n",
    "axes[1][1].set_title('log-log scale: Feature graph')\n",
    "feature_degrees = np.sum(A_feature_pruned, axis=1)\n",
    "axes[1][1].hist(feature_degrees,bins=50);"
   ]
  },
  {
   "cell_type": "markdown",
   "metadata": {},
   "source": [
    "What does the degree distribution tell us about a network? Can you make a prediction on the network model type of the citation and the feature graph by looking at their degree distributions?"
   ]
  },
  {
   "cell_type": "markdown",
   "metadata": {},
   "source": [
    "**Your answer here:**"
   ]
  },
  {
   "cell_type": "markdown",
   "metadata": {},
   "source": [
    "* The **degree distribution** tells us the number of nodes that have n edges for n going from 0 to infinity. Hence, it gives an insights on the preferential attachement of the network, on the average degree of the nodes of the network and on how dispersed the number of edges that a given node has. It might also help us guess the network model type that most resembles the given network, and infer if the network is fully connected (in the case where each node has a lot of edges) or comprised of small connected components.\n",
    "\n",
    "\n",
    "* The **degree distribution for the citation graph** seems to follow a **Power Law**. Hence, we may predict that the citation graph is a **scale-free network**.\n",
    "\n",
    "\n",
    "* The **degree distribution for the feature graph** seems to follow an **exponential distribution**. Hence, we may predict that the feature graph is a **random network**."
   ]
  },
  {
   "cell_type": "markdown",
   "metadata": {},
   "source": [
    "Now, plot the degree distribution historgrams for the simulated networks."
   ]
  },
  {
   "cell_type": "code",
   "execution_count": 46,
   "metadata": {},
   "outputs": [
    {
     "data": {
      "image/png": "[encoded data removed]",
      "text/plain": [
       "<Figure size 1440x432 with 3 Axes>"
      ]
     },
     "metadata": {
      "needs_background": "light"
     },
     "output_type": "display_data"
    }
   ],
   "source": [
    "fig, axes = plt.subplots(1, 3, figsize=(20, 6))\n",
    "axes[0].set_title('Erdos-Rényi network')\n",
    "er_degrees = [d for (i,d) in G_er.degree()]\n",
    "axes[0].hist(er_degrees);\n",
    "axes[1].set_title('Barabási-Albert network')\n",
    "ba_degrees = [d for (i,d) in G_ba.degree()]\n",
    "axes[1].hist(ba_degrees);\n",
    "axes[2].set_title('new Erdos-Rényi network')\n",
    "er_new_degrees = [d for (i,d) in G_er_new.degree()]\n",
    "axes[2].hist(er_new_degrees);"
   ]
  },
  {
   "cell_type": "markdown",
   "metadata": {},
   "source": [
    "In terms of the degree distribution, is there a good match between the citation and feature graphs and the simulated networks?\n",
    "For the citation graph, choose one of the simulated networks above that match its degree distribution best. Indicate your preference below."
   ]
  },
  {
   "cell_type": "markdown",
   "metadata": {},
   "source": [
    "**Your answer here:** \n",
    "\n",
    "* The distribution for the **Erdos-Rényi** graph somewhat resembles that of the citation graph, for smaller values especially. However, the distribution of the citation graph is long-tailed, unlike the distribution for the Erdos-Rényi graph which just has values for degrees up to 10.\n",
    "\n",
    "\n",
    "* The citation graph seems to have a distribution which is very close to that of the **Barabási-Albert network**. They are both skewed and long-tailed. The feature graph distribution seems to have the same characteristics as it is also longtailed. Hence, the feature graph might correspond to a Barbási-Albert network as well.\n",
    "\n",
    "\n",
    "* The distribution of the feature graph somewhat resembles that of the **new Erdos-Rényi** graph, at least towards the smaller values. We can however see that there is a clear difference for bigger values as the feature graph has nodes with bigger degrees whereas in the Erdos-Rényi graph distribution we can see that there are no nodes with bigger degree values. The makes sense. In fact, the formula we used to generate the new Erdos-Rényi graph was dependent of the number of nodes and did not depend at all on the number of edges."
   ]
  },
  {
   "cell_type": "markdown",
   "metadata": {},
   "source": [
    "You can also simulate a network using the configuration model to match its degree disctribution exactly. Refer to [Configuration model](https://networkx.github.io/documentation/stable/reference/generated/networkx.generators.degree_seq.configuration_model.html#networkx.generators.degree_seq.configuration_model).\n",
    "\n",
    "Let us create another network to match the degree distribution of the feature graph. "
   ]
  },
  {
   "cell_type": "code",
   "execution_count": 47,
   "metadata": {},
   "outputs": [
    {
     "name": "stdout",
     "output_type": "stream",
     "text": [
      "Configuration model has 818 nodes and 1386 edges.\n"
     ]
    }
   ],
   "source": [
    "G_config = nx.configuration_model(np.array([int(i) for i in feature_degrees]))\n",
    "print('Configuration model has {} nodes and {} edges.'.format(G_config.number_of_nodes(), G_config.size()))"
   ]
  },
  {
   "cell_type": "markdown",
   "metadata": {},
   "source": [
    "Does it mean that we create the same graph with the feature graph by the configuration model? If not, how do you understand that they are not the same?"
   ]
  },
  {
   "cell_type": "markdown",
   "metadata": {},
   "source": [
    "**Your answer here:**\n",
    "\n",
    "Despite having a very similar degree distribution as we can see in the plot below, the graphs do not have the same adjacency matrix as we can also see below. Hence, the nodes are not connected in the same way. We can conclude that we did not create the same graph as the feature graph by the configuration model."
   ]
  },
  {
   "cell_type": "code",
   "execution_count": 48,
   "metadata": {},
   "outputs": [
    {
     "name": "stdout",
     "output_type": "stream",
     "text": [
      "Number of differences in ways nodes are connected: 2894.\n"
     ]
    }
   ],
   "source": [
    "diff = np.count_nonzero(nx.adjacency_matrix(G_config) - A_feature_pruned)\n",
    "print('Number of differences in ways nodes are connected: ' + str(diff) + '.')"
   ]
  },
  {
   "cell_type": "code",
   "execution_count": 214,
   "metadata": {},
   "outputs": [
    {
     "data": {
      "image/png": "[encoded data removed]",
      "text/plain": [
       "<Figure size 432x288 with 1 Axes>"
      ]
     },
     "metadata": {
      "needs_background": "light"
     },
     "output_type": "display_data"
    }
   ],
   "source": [
    "config_degrees = [d for (i,d) in G_config.degree()]\n",
    "plt.hist(config_degrees);\n",
    "plt.title('Configuration network degree distribution');"
   ]
  },
  {
   "cell_type": "markdown",
   "metadata": {},
   "source": [
    "### Question 7: Clustering Coefficient"
   ]
  },
  {
   "cell_type": "markdown",
   "metadata": {},
   "source": [
    "Let us check the average clustering coefficient of the original citation and feature graphs. "
   ]
  },
  {
   "cell_type": "code",
   "execution_count": 50,
   "metadata": {},
   "outputs": [
    {
     "data": {
      "text/plain": [
       "0.21693567980632222"
      ]
     },
     "execution_count": 50,
     "metadata": {},
     "output_type": "execute_result"
    }
   ],
   "source": [
    "nx.average_clustering(G_citation)"
   ]
  },
  {
   "cell_type": "code",
   "execution_count": 51,
   "metadata": {},
   "outputs": [
    {
     "data": {
      "text/plain": [
       "0.1220744470334593"
      ]
     },
     "execution_count": 51,
     "metadata": {},
     "output_type": "execute_result"
    }
   ],
   "source": [
    "nx.average_clustering(G_feature)"
   ]
  },
  {
   "cell_type": "markdown",
   "metadata": {},
   "source": [
    "What does the clustering coefficient tell us about a network? Comment on the values you obtain for the citation and feature graph."
   ]
  },
  {
   "cell_type": "markdown",
   "metadata": {},
   "source": [
    "**Your answer here:**\n",
    "\n",
    "* The **average clustering coefficient** (which we compute here) is an average over all the nodes of the local clustering coefficient. This value indicates how connected the nodes in the graph are.\n",
    "* The **local clustering** coefficient for a given node gives us an idea about how connected its neighbouring nodes are.  \n",
    "\n",
    "*We note that we did not compute the global clustering coefficient (which is transitivity in NetworkX)*"
   ]
  },
  {
   "cell_type": "markdown",
   "metadata": {},
   "source": [
    "Now, let us check the average clustering coefficient for the simulated networks."
   ]
  },
  {
   "cell_type": "code",
   "execution_count": 52,
   "metadata": {},
   "outputs": [
    {
     "data": {
      "text/plain": [
       "0.003651957930686537"
      ]
     },
     "execution_count": 52,
     "metadata": {},
     "output_type": "execute_result"
    }
   ],
   "source": [
    "nx.average_clustering(G_er)"
   ]
  },
  {
   "cell_type": "code",
   "execution_count": 53,
   "metadata": {},
   "outputs": [
    {
     "data": {
      "text/plain": [
       "0.029930772166274988"
      ]
     },
     "execution_count": 53,
     "metadata": {},
     "output_type": "execute_result"
    }
   ],
   "source": [
    "nx.average_clustering(G_ba)"
   ]
  },
  {
   "cell_type": "code",
   "execution_count": 54,
   "metadata": {},
   "outputs": [
    {
     "data": {
      "text/plain": [
       "0.05221037763805313"
      ]
     },
     "execution_count": 54,
     "metadata": {},
     "output_type": "execute_result"
    }
   ],
   "source": [
    "nx.average_clustering(nx.Graph(G_config))"
   ]
  },
  {
   "cell_type": "markdown",
   "metadata": {},
   "source": [
    "Comment on the values you obtain for the simulated networks. Is there any good match to the citation or feature graph in terms of clustering coefficient?"
   ]
  },
  {
   "cell_type": "markdown",
   "metadata": {},
   "source": [
    "**Your answer here:**\n",
    "\n",
    "There  is no good match for the simulated networks. The average clustering coefficient for the configuration model is the closest to the coefficient of the real network. But there is still a very big difference between the two numbers. "
   ]
  },
  {
   "cell_type": "markdown",
   "metadata": {},
   "source": [
    "Check the other [network model generators](https://networkx.github.io/documentation/networkx-1.10/reference/generators.html) provided by NetworkX. Which one do you predict to have a better match to the citation graph or the feature graph in terms of degree distribution and clustering coefficient at the same time? Justify your answer."
   ]
  },
  {
   "cell_type": "markdown",
   "metadata": {},
   "source": [
    "**Your answer here:**\n",
    "\n",
    "* We should probably use one from the Random Graphs generators, since we need either a power law degree distribution, or an exponential degree distribution."
   ]
  },
  {
   "cell_type": "markdown",
   "metadata": {},
   "source": [
    "If you find a better fit, create a graph object below for that network model. Print the number of edges and the average clustering coefficient. Plot the histogram of the degree distribution."
   ]
  },
  {
   "cell_type": "code",
   "execution_count": 213,
   "metadata": {},
   "outputs": [
    {
     "name": "stdout",
     "output_type": "stream",
     "text": [
      "Citation graph:\n",
      "\tModel has 818 nodes and 1632 edges.\n",
      "\tModel has an average clustering coefficient of 0.2036017093933453.\n",
      "\n",
      "Feature graph:\n",
      "\tModel has 818 nodes and 1632 edges.\n",
      "\tModel has an average clustering coefficient of 0.12760328754576936.\n",
      "\n"
     ]
    },
    {
     "data": {
      "image/png": "[encoded data removed]",
      "text/plain": [
       "<Figure size 1080x720 with 4 Axes>"
      ]
     },
     "metadata": {
      "needs_background": "light"
     },
     "output_type": "display_data"
    }
   ],
   "source": [
    "#Use powerlaw_cluster_graph to model the citation graph\n",
    "G_citation_fit = nx.powerlaw_cluster_graph(n, 2, 0.25)\n",
    "print('Citation graph:')\n",
    "print('\\tModel has {} nodes and {} edges.'.format(G_citation_fit.number_of_nodes(), G_citation_fit.size()))\n",
    "print('\\tModel has an average clustering coefficient of {}.\\n'.format(nx.average_clustering(G_citation_fit)))\n",
    "\n",
    "#Use powerlaw_cluster_graph to model the feature graph\n",
    "G_feature_fit = nx.powerlaw_cluster_graph(n, 2, 0.13)\n",
    "print('Feature graph:')\n",
    "print('\\tModel has {} nodes and {} edges.'.format(G_feature_fit.number_of_nodes(), G_feature_fit.size()))\n",
    "print('\\tModel has an average clustering coefficient of {}.\\n'.format(nx.average_clustering(G_feature_fit)))\n",
    "\n",
    "# display the degree distribution: citation graph\n",
    "fig, axes = plt.subplots(2, 2, figsize=(15, 10))\n",
    "axes[0][0].set_title('Modeling feature graph with powerlaw_cluster_graph')\n",
    "citation_fit_degrees = [G_feature_fit.degree(n) for n in G_feature_fit.nodes()]\n",
    "axes[0][0].hist(citation_fit_degrees, bins=100);\n",
    "axes[0][1].set_title('Log-log scale for modeling feature graph with powerlaw_cluster_graph')\n",
    "plt.yscale('log')\n",
    "plt.xscale('log')\n",
    "axes[0][1].hist(citation_fit_degrees);\n",
    "\n",
    "# display the degree distribution: feature graph\n",
    "axes[1][0].set_title('Modeling feature graph with powerlaw_cluster_graph')\n",
    "feature_fit_degrees = [G_feature_fit.degree(n) for n in G_feature_fit.nodes()]\n",
    "axes[1][0].hist(feature_fit_degrees, bins=100);\n",
    "axes[1][1].set_title('Log-log scale for modeling feature graph with powerlaw_cluster_graph')\n",
    "plt.yscale('log')\n",
    "plt.xscale('log')\n",
    "axes[1][1].hist(feature_fit_degrees);\n"
   ]
  },
  {
   "cell_type": "markdown",
   "metadata": {},
   "source": [
    "Comment on the similarities of your match."
   ]
  },
  {
   "cell_type": "markdown",
   "metadata": {},
   "source": [
    "**Your answer here:**\n",
    "\n",
    "The powerlaw_cluster_graph model generator was used to model both graphs. For both graphs, the first parameter (which is the number of random edges to add for each new node) was set to 2. \n",
    "    \n",
    "* This seems to model the **citation graph** well, since we found that the degree distribution follows a power law. We set the probability of adding a triangle after adding a random edge to 0.25 to match the average clustering coefficient of the original graph.\n",
    "\n",
    "* For the **feature graph**, there wasn't really a model generator that could generate a graph with an en exponential degree distribution. We set the probability of adding a triangle after adding a random edge to 0.13 to match the average clustering coefficient of the original graph."
   ]
  }
 ],
 "metadata": {
  "kernelspec": {
   "display_name": "Python 3",
   "language": "python",
   "name": "python3"
  },
  "language_info": {
   "codemirror_mode": {
    "name": "ipython",
    "version": 3
   },
   "file_extension": ".py",
   "mimetype": "text/x-python",
   "name": "python",
   "nbconvert_exporter": "python",
   "pygments_lexer": "ipython3",
   "version": "3.7.3"
  }
 },
 "nbformat": 4,
 "nbformat_minor": 4
}
