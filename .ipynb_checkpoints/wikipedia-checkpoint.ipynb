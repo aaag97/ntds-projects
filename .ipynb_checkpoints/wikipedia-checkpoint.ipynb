{
 "cells": [
  {
   "cell_type": "code",
   "execution_count": 11,
   "metadata": {},
   "outputs": [],
   "source": [
    "import wikipedia\n",
    "import wikipediaapi\n",
    "import pandas as pd\n",
    "import numpy as np\n",
    "import matplotlib.pyplot as plt\n",
    "import networkx as nx"
   ]
  },
  {
   "cell_type": "code",
   "execution_count": 12,
   "metadata": {},
   "outputs": [],
   "source": [
    "## take all article in category (first level)\n",
    "def print_categorymembers(categorymembers, level=0, max_level=0):\n",
    "    list_articles = []\n",
    "    for c in categorymembers.values():\n",
    "        if c.ns == 0:\n",
    "            list_articles.append(c) \n",
    "            print(\"%s: %s (ns: %d)\" % (\"*\" * (level + 1), c.title, c.ns))\n",
    "    return list_articles"
   ]
  },
  {
   "cell_type": "code",
   "execution_count": 13,
   "metadata": {},
   "outputs": [],
   "source": [
    "wiki_wiki = wikipediaapi.Wikipedia('fr')\n",
    "cat = wiki_wiki.page(\"Category:Judaïsme\")"
   ]
  },
  {
   "cell_type": "code",
   "execution_count": 14,
   "metadata": {},
   "outputs": [
    {
     "name": "stdout",
     "output_type": "stream",
     "text": [
      "*: Glossaire du judaïsme (ns: 0)\n",
      "*: Judaïsme (ns: 0)\n",
      "*: Judaïsme synagogal (ns: 0)\n",
      "*: Sécularisme juif (ns: 0)\n",
      "*: Tarbut (ns: 0)\n",
      "*: Ablutions dans le judaïsme (ns: 0)\n",
      "*: Académie de Yabneh (ns: 0)\n",
      "*: Agneau pascal (ns: 0)\n",
      "*: Akadem (ns: 0)\n",
      "*: Eleanor Antin (ns: 0)\n",
      "*: Astronomie hébraïque (ns: 0)\n",
      "*: Schalom Ben-Chorin (ns: 0)\n",
      "*: Beth Midrash (ns: 0)\n",
      "*: Bethléem (ns: 0)\n",
      "*: Broxa (ns: 0)\n",
      "*: Circumambulation (ns: 0)\n",
      "*: Création (Bible) (ns: 0)\n",
      "*: Décisions « Palestine occupée » du conseil exécutif de l'UNESCO (ns: 0)\n",
      "*: Dialogue entre l'Église orthodoxe et le judaïsme (ns: 0)\n",
      "*: Le Dibbouk de Mazel Tov IV (ns: 0)\n",
      "*: Bernard Dupuy (ns: 0)\n",
      "*: Enluminure juive (ns: 0)\n",
      "*: Ethnonymes des Juifs (ns: 0)\n",
      "*: Gadol hador (ns: 0)\n",
      "*: Eduard Gans (ns: 0)\n",
      "*: Havruta (ns: 0)\n",
      "*: Hypsistariens (ns: 0)\n",
      "*: Identité juive (ns: 0)\n",
      "*: Institut d'études lévinassiennes (ns: 0)\n",
      "*: Jah (ns: 0)\n",
      "*: Jérusalem (ns: 0)\n",
      "*: Pierre Joffroy (ns: 0)\n",
      "*: Juif assimilé (ns: 0)\n",
      "*: Le Juif dans le Lotus (ns: 0)\n",
      "*: Juifs du pape (ns: 0)\n",
      "*: Kaddish (ns: 0)\n",
      "*: Le Kaddich de Reb Levi-Yitzhok (ns: 0)\n",
      "*: Kivre Tsadikim (ns: 0)\n",
      "*: Marguerite Klein (ns: 0)\n",
      "*: Kollel (ns: 0)\n",
      "*: L'Chaim (ns: 0)\n",
      "*: Bais Yaakov (ns: 0)\n",
      "*: Langues des anges (ns: 0)\n",
      "*: Jacob Zallel Lauterbach (ns: 0)\n",
      "*: Annette Leo (ns: 0)\n",
      "*: Lois noahides (ns: 0)\n",
      "*: Didier Meïr Long (ns: 0)\n",
      "*: Lumières de Chabbat (ns: 0)\n",
      "*: Me voici (ns: 0)\n",
      "*: Mitzvah Tantz (ns: 0)\n",
      "*: Loi mosaïque (ns: 0)\n",
      "*: Mosaïsme (ns: 0)\n",
      "*: Musée historique juif (ns: 0)\n",
      "*: Musée judéo-alsacien (ns: 0)\n",
      "*: Nazaréens (groupe religieux) (ns: 0)\n",
      "*: Nazôréen (titre) (ns: 0)\n",
      "*: Ner Tamid (communauté) (ns: 0)\n",
      "*: Nohaisme (ns: 0)\n",
      "*: Ohel (ns: 0)\n",
      "*: Orthodox Union Advocacy Center (ns: 0)\n",
      "*: Papillotes (ns: 0)\n",
      "*: Partisans juifs (ns: 0)\n",
      "*: Pétition Bernheim (ns: 0)\n",
      "*: Prétendants juifs à la messianité (ns: 0)\n",
      "*: Principes de foi du judaïsme (ns: 0)\n",
      "*: Prophète (judaïsme) (ns: 0)\n",
      "*: Salomon Reinach (ns: 0)\n",
      "*: Mechel Reisz (ns: 0)\n",
      "*: Rekel (ns: 0)\n",
      "*: Religio licita (ns: 0)\n",
      "*: Sarah Schenirer et le Mouvement Bais Yaakov: Chronologie (ns: 0)\n",
      "*: SC Hakoah Vienne (ns: 0)\n",
      "*: Georges Schnek (ns: 0)\n",
      "*: Scripturalisme (ns: 0)\n",
      "*: Shochet (ns: 0)\n",
      "*: Shtiebel (ns: 0)\n",
      "*: Silence monastique (ns: 0)\n",
      "*: Simplicité divine (ns: 0)\n",
      "*: Société pour un judaïsme humaniste (ns: 0)\n",
      "*: Eliezer Sussmann (ns: 0)\n",
      "*: Zosa Szajkowski (ns: 0)\n",
      "*: Temple Birmingham (ns: 0)\n",
      "*: Tikkoun (ns: 0)\n",
      "*: Tohu-va-Bohu (ns: 0)\n",
      "*: Troisième ciel (ns: 0)\n",
      "*: Tzaraat (ns: 0)\n",
      "*: Union pour le judaïsme réformé (ns: 0)\n",
      "*: Verset (ns: 0)\n",
      "*: Mendy Werdyger (ns: 0)\n",
      "*: Yeedle Werdyger (ns: 0)\n",
      "*: Joseph Wertheimer (ns: 0)\n",
      "*: Siegbert Wolf (ns: 0)\n",
      "*: Yosseph ben Yaacov ibn Satya (ns: 0)\n"
     ]
    }
   ],
   "source": [
    "list_articles = print_categorymembers(cat.categorymembers)"
   ]
  },
  {
   "cell_type": "code",
   "execution_count": 15,
   "metadata": {},
   "outputs": [],
   "source": [
    "## Create the adjacency matrix\n",
    "def make_links(list_articles):\n",
    "    matrix = np.zeros((len(list_articles), len(list_articles)))\n",
    "    compt = 0\n",
    "    for article in list_articles:\n",
    "        for link in article.links:\n",
    "            for i in range(len(list_articles)):\n",
    "                if (link == list_articles[i].title):\n",
    "                    matrix[compt,i] = 1\n",
    "    return matrix"
   ]
  },
  {
   "cell_type": "code",
   "execution_count": 16,
   "metadata": {},
   "outputs": [],
   "source": [
    "adjacency_matrix = make_links(list_articles)"
   ]
  },
  {
   "cell_type": "code",
   "execution_count": 17,
   "metadata": {},
   "outputs": [
    {
     "name": "stdout",
     "output_type": "stream",
     "text": [
      "Number of edges in the feature graph: 26\n"
     ]
    }
   ],
   "source": [
    "num_edges = np.count_nonzero(adjacency_matrix)\n",
    "print(f\"Number of edges in the feature graph: {num_edges}\")"
   ]
  },
  {
   "cell_type": "code",
   "execution_count": 18,
   "metadata": {},
   "outputs": [],
   "source": [
    "graph = nx.from_numpy_matrix(adjacency_matrix)"
   ]
  },
  {
   "cell_type": "code",
   "execution_count": 19,
   "metadata": {},
   "outputs": [],
   "source": [
    "pr = nx.pagerank(graph)"
   ]
  },
  {
   "cell_type": "code",
   "execution_count": 20,
   "metadata": {},
   "outputs": [
    {
     "name": "stderr",
     "output_type": "stream",
     "text": [
      "/Users/andrealphonse/anaconda/envs/ntds_2019/lib/python3.7/site-packages/networkx/drawing/nx_pylab.py:579: MatplotlibDeprecationWarning: \n",
      "The iterable function was deprecated in Matplotlib 3.1 and will be removed in 3.3. Use np.iterable instead.\n",
      "  if not cb.iterable(width):\n"
     ]
    },
    {
     "data": {
      "image/png": "[encoded data removed]",
      "text/plain": [
       "<Figure size 432x288 with 1 Axes>"
      ]
     },
     "metadata": {},
     "output_type": "display_data"
    }
   ],
   "source": [
    "nx.draw(graph)"
   ]
  },
  {
   "cell_type": "code",
   "execution_count": 21,
   "metadata": {},
   "outputs": [
    {
     "name": "stdout",
     "output_type": "stream",
     "text": [
      "['Tarbut', ':', '(en', 'russe', ':', 'Тарбут)', '(en', 'hébreu', ':', 'תַרְבּוּת', '—', 'льтура)', 'était', 'une', 'organisation', 'culturelle', 'juive', 'sioniste', 'fondée', 'en', '1922,', 'à', 'Varsovie,', 'sous', \"l'égide\", 'de', 'laquelle,', 'durant', 'la', 'période', 'entre', 'les', 'deux', 'dernières', 'guerres', 'mondiales,', 'fut', 'créé', 'un', 'réseau', \"d'enseignement\", 'en', 'hébreu', 'en', 'Pologne,', 'en', 'Roumanie,', 'et', 'en', 'Lituanie.', 'Le', 'niveau', 'des', 'cours', 'couvrait', 'les', 'jardins', \"d'enfants\", \"jusqu'aux\", 'cours', 'pour', 'adultes.', 'Celle-ci', 'produisait', 'aussi', 'du', 'matériel', 'pédagogique', 'varié', 'pour', 'ses', 'élèves.', 'Les', 'écoles', 'Tarbuts', 'comptaient', '25', '829', 'étudiants', 'en', '1921', ';', '37', '000', 'en', '1934–1935', ';', 'et', '45', '000', 'dans', '270', 'établissements', 'en', '1939.', 'Ses', 'programmes', 'comprenaient', 'des', 'matières', 'telles', 'que', 'les', 'sciences,', 'les', 'sciences', 'humaines,', 'en', 'plus', 'de', \"l'étude\", 'de', \"l'hébreu\", 'et', 'de', \"l'histoire\", 'juive.', \"L'époque\", 'de', 'la', 'guerre', 'mondiale', 'entraîna', 'la', 'fin', 'de', 'cette', 'organisation', 'en', 'Europe,', 'malgré', 'le', 'fait', 'que', 'les', 'juifs', 'européens', 'firent', 'appel', 'et', 'furent', 'aidés', 'par', \"l'American\", 'Jewish', 'Joint', 'Distribution', 'Committee', 'le', 'poète', 'Chaim', 'Nachman', 'Bialik', 'les', 'leaders', 'sionistes', 'Nahum', 'Sokolow', 'et', 'Vladimir', 'Jabotinsky.', 'Cependant,', 'certaines', 'écoles', 'Tarbut', 'continuèrent', 'leur', 'mission', \"d'éducation\", 'pendant', 'la', 'guerre.', 'Ainsi', 'à', 'Boukhara,', 'en', 'Ouzbékistan,', 'et', 'ce', 'au', 'bénéfice', 'de', 'la', 'population', 'juive', 'réfugiée', 'en', 'provenance', 'de', 'Pologne', 'occupée.', 'Le', 'réseau', 'Tarbut', \"n'existe\", 'plus', 'de', 'nos', 'jours', 'et', 'il', \"n'y\", 'a', 'plus', \"d'écoles\", 'de', 'ce', 'type.', 'Mais', 'malgré', 'tout', 'des', 'écoles', 'juives', 'partagent', 'encore', 'les', 'valeurs', 'des', 'origines', 'du', 'mouvement', 'et', 'plusieurs', 'ont', 'intégré', 'le', 'nom', 'Tarbut', 'dans', 'leur', 'dénomination.', 'Argentine:', 'Collège', 'Tarbut', '(en)', 'à', 'Olivos,', 'Buenos', 'Aires', 'Mexique:', 'Colegio', 'Hebreo', 'Tarbut', 'à', 'Mexico', 'États-Unis:', 'Tarbut', \"V'Torah\", 'Community', 'Day', 'School', 'à', 'Irvine', '(en)', 'Cet', 'article', 'est', 'partiellement', 'ou', 'en', 'totalité', 'issu', 'de', 'l’article', 'de', 'Wikipédia', 'en', 'anglais', 'intitulé', '«', 'Tarbut', '»', '(voir', 'la', 'liste', 'des', 'auteurs).', 'Portail', 'de', 'la', 'culture', 'juive', 'et', 'du', 'judaïsme', 'Portail', 'de', 'la', 'Pologne', 'Portail', 'de', 'l’éducation']\n"
     ]
    }
   ],
   "source": [
    "wikipedia.set_lang('fr')\n",
    "page = wikipedia.page(list_articles[4].title)\n",
    "print(page.content.split())"
   ]
  },
  {
   "cell_type": "code",
   "execution_count": null,
   "metadata": {},
   "outputs": [],
   "source": []
  }
 ],
 "metadata": {
  "kernelspec": {
   "display_name": "Python 3",
   "language": "python",
   "name": "python3"
  },
  "language_info": {
   "codemirror_mode": {
    "name": "ipython",
    "version": 3
   },
   "file_extension": ".py",
   "mimetype": "text/x-python",
   "name": "python",
   "nbconvert_exporter": "python",
   "pygments_lexer": "ipython3",
   "version": "3.7.3"
  }
 },
 "nbformat": 4,
 "nbformat_minor": 4
}
