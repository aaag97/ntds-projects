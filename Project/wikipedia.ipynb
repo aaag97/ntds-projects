{
 "cells": [
  {
   "cell_type": "code",
   "execution_count": 1,
   "metadata": {},
   "outputs": [],
   "source": [
    "import wikipedia\n",
    "wikipedia.set_lang('en') # setting wikipedia language\n",
    "import wikipediaapi\n",
    "import pandas as pd\n",
    "import numpy as np\n",
    "import matplotlib.pyplot as plt\n",
    "import networkx as nx\n",
    "from IPython.display import display\n",
    "from sklearn.feature_extraction.text import TfidfVectorizer\n",
    "from sklearn.feature_extraction.text import CountVectorizer\n",
    "from sklearn.feature_extraction.text import TfidfTransformer\n",
    "from sklearn.cluster import KMeans\n",
    "from time import sleep\n",
    "import sys\n",
    "import pageviewapi.period\n",
    "from random import sample \n",
    "from numpy import dot\n",
    "from numpy.linalg import norm\n",
    "import collections\n",
    "import matplotlib.pyplot as plt\n",
    "import networkx as nx\n",
    "import zipfile\n",
    "\n",
    "import nltk # for nlp on articles\n",
    "#nltk.download(\"stopwords\")\n",
    "#nltk.download('punkt')\n",
    "from nltk.corpus import stopwords\n",
    "from nltk.tokenize import word_tokenize"
   ]
  },
  {
   "cell_type": "markdown",
   "metadata": {},
   "source": [
    "# I. Data Acquisition"
   ]
  },
  {
   "cell_type": "markdown",
   "metadata": {},
   "source": [
    "## Data Acquisition Utils"
   ]
  },
  {
   "cell_type": "code",
   "execution_count": 2,
   "metadata": {},
   "outputs": [],
   "source": [
    "class DataAquisitionUtils():\n",
    "\n",
    "    @staticmethod\n",
    "    def fetch_category_members(category_members, level=0, max_level=1):\n",
    "        \"\"\"\n",
    "        Function to take all article in category (max_level control the depth of articles taken from the subcategories)\n",
    "        Arguments:\n",
    "        category_members - a list of category members\n",
    "        level - the level at which to start getting articles\n",
    "        max_level - the maximal level for the fetched articles\n",
    "        Returns:\n",
    "        list_articles - a list of the desired articles\n",
    "        \"\"\"\n",
    "        list_articles = []\n",
    "        for c in category_members.values():\n",
    "            if c.ns == 0:\n",
    "                list_articles.append(c) \n",
    "                #print(\"%s: %s (ns: %d)\" % (\"*\" * (level + 1), c.title, c.ns))\n",
    "            elif level < max_level and c.ns == 14:\n",
    "                sub_list = []\n",
    "                sub_list = DataAquisitionUtils.fetch_category_members(c.categorymembers, level=level + 1, max_level=max_level)\n",
    "                list_articles = list_articles + sub_list\n",
    "        return list_articles\n",
    "\n",
    "    @staticmethod\n",
    "    def hyperlinks_matrix(list_articles):\n",
    "        \"\"\"\n",
    "        Computes an adjacency matrix with the hyperlinks between the different articles in the argument given\n",
    "        Arguments:\n",
    "        list_articles - a list of articles for which to compute the hyperlink matrix\n",
    "        Returns:\n",
    "        matrix - a binary matrix A where A[i,j] = 1 if article i has a hyperlinkt to article j, and A[i,j] = 0 otherwise\n",
    "        \"\"\"\n",
    "        len_time = len(list_articles)*0.05\n",
    "        matrix = np.zeros((len(list_articles), len(list_articles)))\n",
    "        compt = 0\n",
    "        for article in list_articles:\n",
    "            for link in article.links:\n",
    "                for i in range(len(list_articles)):\n",
    "                    if (link == list_articles[i].title):\n",
    "                        matrix[compt,i] = 1\n",
    "            compt = compt + 1\n",
    "            sys.stdout.write('\\r')\n",
    "            sys.stdout.write(\"[%-20s] %d%%\" % ('='*int(compt/len_time), int(5*compt/len_time)))\n",
    "            sys.stdout.flush()\n",
    "            sleep(0.25)\n",
    "        return matrix\n",
    "    \n",
    "    @staticmethod\n",
    "    def take_words(list_articles, stop_words, is_title = False):\n",
    "        \"\"\"\n",
    "        Function that tokenizes and returns all words in the list of articles given\n",
    "        Arguments:\n",
    "        list_articles - list of articles\n",
    "        is_title - whether the list contains pages or just strings of titles\n",
    "        Returns:\n",
    "        words_df - the words in the articles in a dataframe\n",
    "        \"\"\"\n",
    "        len_time = len(list_articles)*0.05\n",
    "        words_df = pd.DataFrame(columns=['article', 'words'])\n",
    "        for i in range(len(list_articles)):\n",
    "            try:\n",
    "                if (is_title == False):\n",
    "                    page = wikipedia.page(list_articles[i].title)\n",
    "                else:\n",
    "                    page = wikipedia.page(list_articles[i])\n",
    "            except wikipedia.DisambiguationError as e:\n",
    "                s = e.options\n",
    "                s = list(filter(lambda x : x != \"\", s))\n",
    "                try :\n",
    "                    page = wikipedia.page(s)\n",
    "                except wikipedia.DisambiguationError as e:\n",
    "                    pass\n",
    "            except wikipedia.PageError:\n",
    "                pass\n",
    "            words = word_tokenize(page.content)\n",
    "            words = [elem.lower() for elem in words]\n",
    "            words = [elem for elem in words if len(elem) > 1 and elem.isdigit() == False]\n",
    "            words_wostop = [x for x in words if x not in stop_words]\n",
    "            words_wostop = [elem.lower() for elem in words_wostop]\n",
    "            if (is_title == False):\n",
    "                words_df.loc[i] = [list_articles[i].title] + [words_wostop]\n",
    "            else:\n",
    "                words_df.loc[i] = [list_articles[i]] + [words_wostop]\n",
    "            sys.stdout.write('\\r')\n",
    "            sys.stdout.write(\"[%-20s] %d%%\" % ('='*int((i+1)/len_time), int(5*(i+1)/len_time)))\n",
    "            sys.stdout.flush()\n",
    "            sleep(0.25)\n",
    "        return words_df\n",
    "    \n",
    "    @staticmethod\n",
    "    def page_view(list_articles): \n",
    "        len_time = len(list_articles)*0.05\n",
    "        view_df = pd.DataFrame(columns=['article', 'views'])\n",
    "        for i in range(len(list_articles)):\n",
    "            try: \n",
    "                view_df.loc[i] = [list_articles[i].title] + [pageviewapi.period.sum_last('en.wikipedia', list_articles[i].title, last=30,\n",
    "                        access='all-access', agent='all-agents')]\n",
    "            except pageviewapi.client.ZeroOrDataNotLoadedException as e:\n",
    "                view_df.loc[i] = 0\n",
    "            except wikipedia.PageError:\n",
    "                pass\n",
    "            sys.stdout.write('\\r')\n",
    "            sys.stdout.write(\"[%-20s] %d%%\" % ('='*int((i+1)/len_time), int(5*(i+1)/len_time)))\n",
    "            sys.stdout.flush()\n",
    "            sleep(0.25)\n",
    "        return view_df"
   ]
  },
  {
   "cell_type": "markdown",
   "metadata": {},
   "source": [
    "## NLP Utilities"
   ]
  },
  {
   "cell_type": "code",
   "execution_count": 3,
   "metadata": {},
   "outputs": [],
   "source": [
    "class NLPUtilities():\n",
    "    \n",
    "    @staticmethod\n",
    "    def TF_IDF(words_df, nb_words, has_mywords = False, *args, **kwargs):\n",
    "        \"\"\"\n",
    "        Function to get the words with the top TF-IDF scores\n",
    "        Arguments:\n",
    "        words_df - the dataframe consisting of the words to be considered\n",
    "        nb_words - the number of words we would like the function to return\n",
    "        Returns:\n",
    "        df - a dataframe containing the words with the best TF-IDF scores\n",
    "        \"\"\"\n",
    "        #remove strings like \"10,000\"\n",
    "        #religion_df['words'] = religion_df['words'].apply(lambda word_list: list(filter(lambda word: (',' not in word), word_list)))\n",
    "        #only keep strings that contain alphabet chars\n",
    "        words_df['words'] = words_df['words'].apply(lambda word_list: list(filter(lambda word: word.isalpha(), word_list)))\n",
    "        # create a column with all words concatenated\n",
    "        words_df['words_string'] = words_df['words'].apply(lambda words_list: \" \".join(words_list))\n",
    "\n",
    "        cv=CountVectorizer()\n",
    "        word_count_vector=cv.fit_transform(words_df['words_string'])\n",
    "\n",
    "        tfidf_transformer=TfidfTransformer(smooth_idf=True,use_idf=True)\n",
    "        tfidf_transformer.fit(word_count_vector)\n",
    "\n",
    "        # count matrix\n",
    "        count_vector=cv.transform(words_df['words_string'])\n",
    "\n",
    "        # tf-idf scores\n",
    "        tf_idf_vector=tfidf_transformer.transform(count_vector)\n",
    "\n",
    "        feature_names = cv.get_feature_names()\n",
    "        \n",
    "        dense = tf_idf_vector.todense()\n",
    "        denselist = dense.tolist()\n",
    "                \n",
    "        #tf_idf = matrix where rows are articles and columns are words and values are tfidf score for word in article\n",
    "        tf_idf = pd.DataFrame(data=denselist, columns=feature_names, index=words_df['article'])\n",
    "        \n",
    "        if (has_mywords == False):\n",
    "            #these are the words that have the biggest tfidf score\n",
    "            important_words = pd.DataFrame(tf_idf.sum(axis=0, numeric_only=True).sort_values(ascending = False),\\\n",
    "                                      columns=['tfidf']).head(nb_words).index.values\n",
    "        else:\n",
    "            important_words = args[0]\n",
    "        \n",
    "        #only keep the most important words in matrix\n",
    "        tf_idf = tf_idf[important_words]\n",
    "\n",
    "        return tf_idf"
   ]
  },
  {
   "cell_type": "markdown",
   "metadata": {},
   "source": [
    "## Data Acquisition Pipeline"
   ]
  },
  {
   "cell_type": "markdown",
   "metadata": {},
   "source": [
    "### Fetching the articles of interest"
   ]
  },
  {
   "cell_type": "code",
   "execution_count": 4,
   "metadata": {},
   "outputs": [],
   "source": [
    "aquire = DataAquisitionUtils()"
   ]
  },
  {
   "cell_type": "code",
   "execution_count": 7,
   "metadata": {},
   "outputs": [],
   "source": [
    "wiki_wiki = wikipediaapi.Wikipedia('en') # getting articles in english\n",
    "# fetching the articles for categories of interest\n",
    "religion_page = wiki_wiki.page(\"Category:Religion\")\n",
    "science_page = wiki_wiki.page(\"Category:Science\")\n",
    "religion_articles = aquire.fetch_category_members(religion_page.categorymembers)\n",
    "science_articles = aquire.fetch_category_members(science_page.categorymembers)\n",
    "list_articles = religion_articles + science_articles"
   ]
  },
  {
   "cell_type": "markdown",
   "metadata": {},
   "source": [
    "We will balance the number of articles in each section "
   ]
  },
  {
   "cell_type": "markdown",
   "metadata": {},
   "source": [
    "### Hyperlink matrix"
   ]
  },
  {
   "cell_type": "markdown",
   "metadata": {},
   "source": [
    "This is the adjacency matrix of the hyperlinks between articles. That is if one article Ai links to another article Aj there will be an 1 in the ith row and jth column of the matrix.   "
   ]
  },
  {
   "cell_type": "code",
   "execution_count": null,
   "metadata": {},
   "outputs": [],
   "source": [
    "zf = zipfile.ZipFile('hyperlinks.csv.zip') \n",
    "hyperlinks_df = pd.read_csv(zf.open('hyperlinks.csv'), header=None, sep = \" \")"
   ]
  },
  {
   "cell_type": "code",
   "execution_count": 9,
   "metadata": {},
   "outputs": [
    {
     "name": "stdout",
     "output_type": "stream",
     "text": [
      "[====================] 100%Number of edges in the feature graph: 36004\n"
     ]
    }
   ],
   "source": [
    "# EXECUTE IF YOU DO NOT HAVE CSV\n",
    "list_articles = religion_articles + science_articles\n",
    "hyperlinks = aquire.hyperlinks_matrix(list_articles)\n",
    "np.savetxt('hyperlinks.csv', adjacency_matrix)"
   ]
  },
  {
   "cell_type": "code",
   "execution_count": 11,
   "metadata": {},
   "outputs": [
    {
     "data": {
      "text/plain": [
       "<matplotlib.image.AxesImage at 0x1517807f0>"
      ]
     },
     "execution_count": 11,
     "metadata": {},
     "output_type": "execute_result"
    },
    {
     "data": {
      "image/png": "[encoded data removed]",
      "text/plain": [
       "<Figure size 432x288 with 1 Axes>"
      ]
     },
     "metadata": {
      "needs_background": "light"
     },
     "output_type": "display_data"
    }
   ],
   "source": [
    "hyperlinks = hyperlinks_df.values\n",
    "plt.spy(hyperlinks)"
   ]
  },
  {
   "cell_type": "markdown",
   "metadata": {},
   "source": [
    "The hyperlink matrix is sparse. This illustrates why more connexion should be made between articles having a lot in common."
   ]
  },
  {
   "cell_type": "markdown",
   "metadata": {},
   "source": [
    "### Pageviews of articles"
   ]
  },
  {
   "cell_type": "markdown",
   "metadata": {},
   "source": [
    "This matrix contain the total number of views during a period of 30 days for each articles. "
   ]
  },
  {
   "cell_type": "code",
   "execution_count": null,
   "metadata": {},
   "outputs": [],
   "source": [
    "views_df = pd.read_pickle('./views')"
   ]
  },
  {
   "cell_type": "code",
   "execution_count": 12,
   "metadata": {},
   "outputs": [
    {
     "name": "stdout",
     "output_type": "stream",
     "text": [
      "[====================] 100%"
     ]
    }
   ],
   "source": [
    "#Execute only if you don't have the pickles\n",
    "views_df = aquire.page_view(list_articles)"
   ]
  },
  {
   "cell_type": "markdown",
   "metadata": {},
   "source": [
    "### Taking the words with the highest TF-IDF"
   ]
  },
  {
   "cell_type": "code",
   "execution_count": 15,
   "metadata": {},
   "outputs": [],
   "source": [
    "#Take all the words present in the articles that are not stopwords\n",
    "stop_found = ['====', '===', '==', '<<', '>>', \"''\", '``', \"'s\" , '\\displaystyle', '...', '\\phi', '\\mu', '\\mathbf', '--', 'x_',\n",
    "        '\\alpha', '\\dot', '\\hat', '\\lambda', '\\left', '\\right', 'mathcal', '\\nu', '\\partial'] #getting the stopwords found in the articles after exmination\n",
    "stop_pre = stopwords.words('english') # getting the common english stopwords\n",
    "stop_words = stop_found + stop_pre"
   ]
  },
  {
   "cell_type": "code",
   "execution_count": 46,
   "metadata": {},
   "outputs": [],
   "source": [
    "religion_df = pd.read_pickle('./religion_articles')\n",
    "science_df = pd.read_pickle('./science_articles')\n",
    "religion_df = religion_df.drop_duplicates('article')\n",
    "science_df = science_df.drop_duplicates('article')"
   ]
  },
  {
   "cell_type": "code",
   "execution_count": null,
   "metadata": {},
   "outputs": [],
   "source": [
    "#Execute only if you don't have the pickles\n",
    "religion_df= aquire.take_words(religion_articles, stop_words)\n",
    "religion_df = religion_df.drop_duplicates('article')"
   ]
  },
  {
   "cell_type": "code",
   "execution_count": null,
   "metadata": {},
   "outputs": [],
   "source": [
    "#Execute only if you don't have the pickles\n",
    "science_df = aquire.take_words(science_articles, stop_words)\n",
    "science_df = science_df.drop_duplicates('article')"
   ]
  },
  {
   "cell_type": "code",
   "execution_count": 47,
   "metadata": {},
   "outputs": [
    {
     "data": {
      "text/html": [
       "<div>\n",
       "<style scoped>\n",
       "    .dataframe tbody tr th:only-of-type {\n",
       "        vertical-align: middle;\n",
       "    }\n",
       "\n",
       "    .dataframe tbody tr th {\n",
       "        vertical-align: top;\n",
       "    }\n",
       "\n",
       "    .dataframe thead th {\n",
       "        text-align: right;\n",
       "    }\n",
       "</style>\n",
       "<table border=\"1\" class=\"dataframe\">\n",
       "  <thead>\n",
       "    <tr style=\"text-align: right;\">\n",
       "      <th></th>\n",
       "      <th>article</th>\n",
       "      <th>words</th>\n",
       "      <th>label</th>\n",
       "    </tr>\n",
       "  </thead>\n",
       "  <tbody>\n",
       "    <tr>\n",
       "      <td>0</td>\n",
       "      <td>Religion</td>\n",
       "      <td>[religion, social-cultural, system, designated...</td>\n",
       "      <td>0</td>\n",
       "    </tr>\n",
       "    <tr>\n",
       "      <td>1</td>\n",
       "      <td>African and African-American women in Christia...</td>\n",
       "      <td>[christianity, africa, began, egypt, middle, 1...</td>\n",
       "      <td>0</td>\n",
       "    </tr>\n",
       "    <tr>\n",
       "      <td>2</td>\n",
       "      <td>Religion and agriculture</td>\n",
       "      <td>[religion, agriculture, closely, associated, s...</td>\n",
       "      <td>0</td>\n",
       "    </tr>\n",
       "    <tr>\n",
       "      <td>3</td>\n",
       "      <td>American Anglican Church</td>\n",
       "      <td>[anglican, church, north, america, acna, chris...</td>\n",
       "      <td>0</td>\n",
       "    </tr>\n",
       "    <tr>\n",
       "      <td>4</td>\n",
       "      <td>American Humanist Association</td>\n",
       "      <td>[american, humanist, association, aha, non-pro...</td>\n",
       "      <td>0</td>\n",
       "    </tr>\n",
       "    <tr>\n",
       "      <td>...</td>\n",
       "      <td>...</td>\n",
       "      <td>...</td>\n",
       "      <td>...</td>\n",
       "    </tr>\n",
       "    <tr>\n",
       "      <td>2325</td>\n",
       "      <td>Wiggle matching</td>\n",
       "      <td>[wiggle, matching, also, known, carbon–14, wig...</td>\n",
       "      <td>1</td>\n",
       "    </tr>\n",
       "    <tr>\n",
       "      <td>2326</td>\n",
       "      <td>Wigner lattice</td>\n",
       "      <td>[wigner–seitz, cell, named, eugene, wigner, fr...</td>\n",
       "      <td>1</td>\n",
       "    </tr>\n",
       "    <tr>\n",
       "      <td>2327</td>\n",
       "      <td>Wiley mill</td>\n",
       "      <td>[wiley, mill, refers, specific, group, grindin...</td>\n",
       "      <td>1</td>\n",
       "    </tr>\n",
       "    <tr>\n",
       "      <td>2328</td>\n",
       "      <td>Working paper</td>\n",
       "      <td>[working, paper, work, paper, may, preliminary...</td>\n",
       "      <td>1</td>\n",
       "    </tr>\n",
       "    <tr>\n",
       "      <td>2329</td>\n",
       "      <td>Zeppelin (research station)</td>\n",
       "      <td>[zeppelin, observatory, zeppelinobservatoriet,...</td>\n",
       "      <td>1</td>\n",
       "    </tr>\n",
       "  </tbody>\n",
       "</table>\n",
       "<p>2330 rows × 3 columns</p>\n",
       "</div>"
      ],
      "text/plain": [
       "                                                article  \\\n",
       "0                                              Religion   \n",
       "1     African and African-American women in Christia...   \n",
       "2                              Religion and agriculture   \n",
       "3                              American Anglican Church   \n",
       "4                         American Humanist Association   \n",
       "...                                                 ...   \n",
       "2325                                    Wiggle matching   \n",
       "2326                                     Wigner lattice   \n",
       "2327                                         Wiley mill   \n",
       "2328                                      Working paper   \n",
       "2329                        Zeppelin (research station)   \n",
       "\n",
       "                                                  words  label  \n",
       "0     [religion, social-cultural, system, designated...      0  \n",
       "1     [christianity, africa, began, egypt, middle, 1...      0  \n",
       "2     [religion, agriculture, closely, associated, s...      0  \n",
       "3     [anglican, church, north, america, acna, chris...      0  \n",
       "4     [american, humanist, association, aha, non-pro...      0  \n",
       "...                                                 ...    ...  \n",
       "2325  [wiggle, matching, also, known, carbon–14, wig...      1  \n",
       "2326  [wigner–seitz, cell, named, eugene, wigner, fr...      1  \n",
       "2327  [wiley, mill, refers, specific, group, grindin...      1  \n",
       "2328  [working, paper, work, paper, may, preliminary...      1  \n",
       "2329  [zeppelin, observatory, zeppelinobservatoriet,...      1  \n",
       "\n",
       "[2330 rows x 3 columns]"
      ]
     },
     "execution_count": 47,
     "metadata": {},
     "output_type": "execute_result"
    }
   ],
   "source": [
    "religion_labeled_df = religion_df.copy()\n",
    "religion_labeled_df['label'] = 0\n",
    "\n",
    "science_labeled_df = science_df.copy()\n",
    "science_labeled_df['label'] = 1\n",
    "\n",
    "# we select the same number of articles from both categories\n",
    "# we need a maximal number of data points for a good training process\n",
    "number_articles = min(len(religion_labeled_df), len(science_labeled_df))\n",
    "\n",
    "# we keep the first article which is the Science or Religion article and sample randomly from the rest\n",
    "science_labeled_df_sampled = pd.concat([pd.DataFrame(science_labeled_df.iloc[0]).T,\\\n",
    "           science_labeled_df.loc[1:].sample(n=number_articles - 1, random_state=1)],\\\n",
    "          ignore_index=True)\n",
    "\n",
    "religion_labeled_df_sampled = pd.concat([pd.DataFrame(religion_labeled_df.iloc[0]).T,\\\n",
    "           religion_labeled_df.loc[1:].sample(n=number_articles - 1, random_state=1)],\\\n",
    "          ignore_index=True)\n",
    "\n",
    "words_df_reduced = pd.concat([religion_labeled_df,\\\n",
    "                              science_labeled_df],\\\n",
    "                             ignore_index=True)\n",
    "                              \n",
    "labels_df = pd.DataFrame(words_df_reduced['label'])\n",
    "words_df_reduced"
   ]
  },
  {
   "cell_type": "code",
   "execution_count": 48,
   "metadata": {},
   "outputs": [
    {
     "data": {
      "text/html": [
       "<div>\n",
       "<style scoped>\n",
       "    .dataframe tbody tr th:only-of-type {\n",
       "        vertical-align: middle;\n",
       "    }\n",
       "\n",
       "    .dataframe tbody tr th {\n",
       "        vertical-align: top;\n",
       "    }\n",
       "\n",
       "    .dataframe thead th {\n",
       "        text-align: right;\n",
       "    }\n",
       "</style>\n",
       "<table border=\"1\" class=\"dataframe\">\n",
       "  <thead>\n",
       "    <tr style=\"text-align: right;\">\n",
       "      <th></th>\n",
       "      <th>tfidf</th>\n",
       "    </tr>\n",
       "  </thead>\n",
       "  <tbody>\n",
       "    <tr>\n",
       "      <td>science</td>\n",
       "      <td>80.457955</td>\n",
       "    </tr>\n",
       "    <tr>\n",
       "      <td>religion</td>\n",
       "      <td>46.064247</td>\n",
       "    </tr>\n",
       "    <tr>\n",
       "      <td>religious</td>\n",
       "      <td>42.658098</td>\n",
       "    </tr>\n",
       "    <tr>\n",
       "      <td>also</td>\n",
       "      <td>41.590900</td>\n",
       "    </tr>\n",
       "    <tr>\n",
       "      <td>research</td>\n",
       "      <td>40.816339</td>\n",
       "    </tr>\n",
       "    <tr>\n",
       "      <td>scientific</td>\n",
       "      <td>39.759803</td>\n",
       "    </tr>\n",
       "    <tr>\n",
       "      <td>one</td>\n",
       "      <td>31.647940</td>\n",
       "    </tr>\n",
       "    <tr>\n",
       "      <td>book</td>\n",
       "      <td>31.558772</td>\n",
       "    </tr>\n",
       "    <tr>\n",
       "      <td>god</td>\n",
       "      <td>30.054378</td>\n",
       "    </tr>\n",
       "    <tr>\n",
       "      <td>new</td>\n",
       "      <td>28.714831</td>\n",
       "    </tr>\n",
       "  </tbody>\n",
       "</table>\n",
       "</div>"
      ],
      "text/plain": [
       "                tfidf\n",
       "science     80.457955\n",
       "religion    46.064247\n",
       "religious   42.658098\n",
       "also        41.590900\n",
       "research    40.816339\n",
       "scientific  39.759803\n",
       "one         31.647940\n",
       "book        31.558772\n",
       "god         30.054378\n",
       "new         28.714831"
      ]
     },
     "execution_count": 48,
     "metadata": {},
     "output_type": "execute_result"
    }
   ],
   "source": [
    "nlpu = NLPUtilities()\n",
    "# UNCOMMENT & EXECUTE IF YOU DO NOT HAVE tf_idf_50_words.pickle\n",
    "tf_idf = nlpu.TF_IDF(words_df_reduced, 50)\n",
    "#tf_idf = pd.read_pickle('tf_idf_50_words.pickle')\n",
    "#tf_idf\n",
    "important_words_df = pd.DataFrame(tf_idf.sum(axis=0, numeric_only=True).sort_values(ascending = False),\\\n",
    "                                  columns=['tfidf'])\n",
    "important_words_df.head(10)"
   ]
  },
  {
   "cell_type": "markdown",
   "metadata": {},
   "source": [
    "The weighted TF-IDF matrix $W_{w}$ is our tf_idf dataframe."
   ]
  },
  {
   "cell_type": "code",
   "execution_count": 49,
   "metadata": {},
   "outputs": [],
   "source": [
    "features_weight = tf_idf"
   ]
  },
  {
   "cell_type": "markdown",
   "metadata": {},
   "source": [
    "For the non-weighted TF-IDF $W_{nw}$ where we compute the weights such that for all $i,j$\n",
    "\n",
    "$(W_{nw})_{i,j} = 1$ if $(W_{w})_{i,j} > 0$, $(W_{nw})_{i,j} = 0$ otherwise\n",
    "\n",
    "we can do the following"
   ]
  },
  {
   "cell_type": "code",
   "execution_count": 50,
   "metadata": {},
   "outputs": [],
   "source": [
    "features_no_weight = tf_idf.where(tf_idf <= 0, 1)"
   ]
  },
  {
   "cell_type": "markdown",
   "metadata": {},
   "source": [
    "For the rest of this project we choose to work with the weighted TF-IDF matrix as it gives more insights into word importance."
   ]
  },
  {
   "cell_type": "code",
   "execution_count": 51,
   "metadata": {},
   "outputs": [],
   "source": [
    "features = features_weight"
   ]
  },
  {
   "cell_type": "markdown",
   "metadata": {},
   "source": [
    "We have hence aquired the data and put it in a dataframe called features. Its rows are the different articles and each column is an important word (according to TF-IDF scores)."
   ]
  },
  {
   "cell_type": "markdown",
   "metadata": {},
   "source": [
    "# II. Data Exploration"
   ]
  },
  {
   "cell_type": "code",
   "execution_count": 52,
   "metadata": {},
   "outputs": [],
   "source": [
    "from scipy.spatial.distance import pdist, squareform\n",
    "import operator\n",
    "from sklearn.manifold import TSNE"
   ]
  },
  {
   "cell_type": "markdown",
   "metadata": {},
   "source": [
    "## Matrix Utilities"
   ]
  },
  {
   "cell_type": "code",
   "execution_count": 162,
   "metadata": {},
   "outputs": [],
   "source": [
    "class MatrixUtils():\n",
    "    \n",
    "    @staticmethod\n",
    "    def compute_laplacian(adjacency: np.ndarray, normalize: bool):\n",
    "        \"\"\" \n",
    "        Function to compute the laplacian\n",
    "        Arguments:\n",
    "        adjacency - an adjacency matrix for which to compute the laplacian\n",
    "        normalize - if set to True, the normalized laplacian is returned, otherwise the combinatorial one is returned \n",
    "        Returns:\n",
    "        L (n x n ndarray): combinatorial or symmetric normalized Laplacian.\n",
    "        \"\"\"\n",
    "        degrees_l = np.sum(adjacency,axis=1)\n",
    "        if(not normalize):\n",
    "            degrees = np.zeros(adjacency.shape)\n",
    "            np.fill_diagonal(degrees,degrees_l)\n",
    "            return degrees - adjacency \n",
    "        else:\n",
    "            degrees = np.sqrt(np.array([degrees_l]).T @ np.array([degrees_l]))\n",
    "            L = - adjacency/degrees\n",
    "            np.fill_diagonal(L,np.ones(len(adjacency)))\n",
    "            return L\n",
    "    \n",
    "    @staticmethod\n",
    "    def spectral_decomposition(laplacian: np.ndarray):\n",
    "        \"\"\"\n",
    "        Function to carry out spectral decomposition on a given matrix\n",
    "        Arguments:\n",
    "        laplacian - matrix on which to carry out decomposition\n",
    "        Returns:\n",
    "        lamb (np.array): eigenvalues of the Laplacian\n",
    "        U (np.ndarray): corresponding eigenvectors.\n",
    "        \"\"\"\n",
    "        values, vectors = np.linalg.eig(laplacian)\n",
    "        sorted_indices = np.argsort(values)\n",
    "        return values[sorted_indices], vectors[:,sorted_indices]\n",
    "    \n",
    "    @staticmethod\n",
    "    def cosine(a,b):\n",
    "        \"\"\"\n",
    "        Function to compute the cosine similarity between two vectors\n",
    "        Arguments:\n",
    "        a - first vector\n",
    "        b - second vector\n",
    "        Returns:\n",
    "        cos_sim - the cosine similarity between a and b\n",
    "        \"\"\"\n",
    "        if(norm(a) == 0 or norm(b) == 0):\n",
    "            return dot(a,b)\n",
    "        cos_sim = dot(a, b)/(norm(a)*norm(b))\n",
    "        return cos_sim\n",
    "    \n",
    "    @staticmethod\n",
    "    def cosine_distances(self, features):\n",
    "        features_a = np.array(features)\n",
    "\n",
    "        #compute cosine similarity between all articles\n",
    "        distances = np.array([[self.cosine(features_a[i,:],features_a[j,:]) for i in range(0,features_a.shape[0])]\n",
    "            for j in range(0,features_a.shape[0])]).reshape(features.shape[0],-1)\n",
    "\n",
    "        return distances\n",
    "    \n",
    "    @staticmethod\n",
    "    def article_sim_th(threshold, distances,weight=True):\n",
    "        \"\"\"\n",
    "        apply a threshold to cosine distances in order to get an adjacency matrix that \n",
    "        allow to observe the two classes of articles\n",
    "        \"\"\"\n",
    "        feat = distances.copy()\n",
    "        if(weight):\n",
    "            feat[feat<threshold]=0\n",
    "        else:\n",
    "            feat = np.where(distances > threshold, 1, 0)\n",
    "        np.fill_diagonal(feat, 0)\n",
    "        return feat\n",
    "    \n",
    "    @staticmethod\n",
    "    def remove_noconnected (adjacency, distances, tf_idf, labels_df, no_label=False, words_df_reduced = words_df_reduced):\n",
    "        nodes_df = pd.DataFrame(range(len(adjacency)), columns = [\"X\"])\n",
    "        nodes_df[\"Y\"] = np.zeros((len(adjacency)))\n",
    "        epsilon_df = pd.DataFrame(np.argwhere(adjacency != 0), columns = [\"X\",\"Y\"] ).drop_duplicates(subset = \"X\")\n",
    "        epsilon_wo = epsilon_df.merge(nodes_df, on = [\"X\"], how= \"right\")\n",
    "        removed_df = words_df_reduced[words_df_reduced[\"article\"].isin(tf_idf.iloc[epsilon_wo[pd.isna(epsilon_wo[\"Y_x\"]) == True][\"X\"]].index)]\n",
    "        distances_wo = np.delete(distances, epsilon_wo[pd.isna(epsilon_wo[\"Y_x\"]) == True][\"X\"], 0)\n",
    "        distances_wo = np.delete(distances_wo, epsilon_wo[pd.isna(epsilon_wo[\"Y_x\"]) == True][\"X\"], 1)\n",
    "        tf_idf_wo = tf_idf.drop(tf_idf.iloc[epsilon_wo[pd.isna(epsilon_wo[\"Y_x\"]) == True][\"X\"]].index.values)\n",
    "        if no_label == False:\n",
    "            labels_df_wo = labels_df.drop(labels_df.index[epsilon_wo[pd.isna(epsilon_wo[\"Y_x\"]) == True][\"X\"]]).reset_index()\n",
    "        else:\n",
    "            labels_df_wo = labels_df\n",
    "        return removed_df, distances_wo, tf_idf_wo, labels_df_wo"
   ]
  },
  {
   "cell_type": "code",
   "execution_count": 54,
   "metadata": {},
   "outputs": [],
   "source": [
    "class VisUtils():\n",
    "    \n",
    "    @staticmethod\n",
    "    def laplacian_eigenmaps(X:np.ndarray, dim: int, sigma: float, epsilon: float, normalize: bool):\n",
    "        \"\"\"\n",
    "        Function to compute the laplacian eigenmap if a given matrix\n",
    "        Arguments:\n",
    "        X - the matrix for which to compute the eigenmaps\n",
    "        dim - the dimension of the data we would like to return\n",
    "        sigma - the sigma parameter for the epsilon similarity graph\n",
    "        epsilon - the epsilon parameter for the epsilon similarity graph\n",
    "        normalize - if set to True, the normalized laplacian is used, otherwise the combinatorial one is used \n",
    "        Returns:\n",
    "        coords (n x dim array): new coordinates for the data points\n",
    "        \"\"\"\n",
    "        adjacency = MatrixUtils().epsilon_similarity_graph(X, sigma, epsilon)\n",
    "        laplacian = MatrixUtils().compute_laplacian(adjacency, normalize)\n",
    "        eigenvalues, eigenvectors = MatrixUtils().spectral_decomposition(np.nan_to_num(laplacian)) \n",
    "        return (eigenvectors[:,1:dim+1])"
   ]
  },
  {
   "cell_type": "markdown",
   "metadata": {},
   "source": [
    "## A/ Build an adjacency matrix"
   ]
  },
  {
   "cell_type": "markdown",
   "metadata": {},
   "source": [
    "1/ Compute distances between articles"
   ]
  },
  {
   "cell_type": "code",
   "execution_count": 163,
   "metadata": {},
   "outputs": [],
   "source": [
    "matrixu = MatrixUtils()"
   ]
  },
  {
   "cell_type": "code",
   "execution_count": 56,
   "metadata": {},
   "outputs": [],
   "source": [
    "features_a = np.array(features)\n",
    "distances = matrixu.cosine_distances(matrixu, features_a)\n",
    "distances_religion = matrixu.cosine_distances(matrixu, features_a[labels_df[labels_df[\"label\"] == 0].index])\n",
    "distances_science = matrixu.cosine_distances(matrixu, features_a[labels_df[labels_df[\"label\"] == 1].index])"
   ]
  },
  {
   "cell_type": "code",
   "execution_count": 57,
   "metadata": {},
   "outputs": [
    {
     "data": {
      "image/png": "[encoded data removed]",
      "text/plain": [
       "<Figure size 576x288 with 1 Axes>"
      ]
     },
     "metadata": {
      "needs_background": "light"
     },
     "output_type": "display_data"
    },
    {
     "name": "stdout",
     "output_type": "stream",
     "text": [
      "95.0% of the distances between pages are below:  0.5186746333908997\n"
     ]
    },
    {
     "data": {
      "image/png": "[encoded data removed]",
      "text/plain": [
       "<Figure size 432x288 with 1 Axes>"
      ]
     },
     "metadata": {
      "needs_background": "light"
     },
     "output_type": "display_data"
    },
    {
     "name": "stdout",
     "output_type": "stream",
     "text": [
      "95.0% of the distances between religion pages are below:  0.6752008322039807\n",
      "95.0% of the distances between science pages are below:  0.5564567993086181\n"
     ]
    }
   ],
   "source": [
    "#histogram of cosine similarity\n",
    "\n",
    "plt.figure(1, figsize=(8, 4))\n",
    "plt.title(\"Histogram of cosine similarity between pages\")\n",
    "plt.hist(distances .flatten(),bins =50);\n",
    "plt.xlabel('cosine similarity')\n",
    "plt.ylabel('count')\n",
    "plt.show()\n",
    "\n",
    "quantile = 0.95\n",
    "print(f\"{quantile*100}% of the distances between pages are below: \", np.quantile(distances,quantile))\n",
    "\n",
    "plt.title(\"Histogram of cosine similarity inside of a category\")\n",
    "plt.hist(distances_science.flatten(), bins = 50 , alpha=0.5, label='science')\n",
    "plt.hist(distances_religion.flatten(), bins = 50, alpha=0.5, label='religion')\n",
    "plt.xlabel('cosine similarity')\n",
    "plt.ylabel('count')\n",
    "plt.legend(loc='upper right')\n",
    "plt.show()\n",
    "\n",
    "print(f\"{quantile*100}% of the distances between religion pages are below: \",  np.quantile(distances_religion,quantile))\n",
    "print(f\"{quantile*100}% of the distances between science pages are below: \", np.quantile(distances_science,quantile))\n"
   ]
  },
  {
   "cell_type": "markdown",
   "metadata": {},
   "source": [
    "We notice a heavy-tailed distribution. The similarity between papers is hence concentrated around 0 and 0.2 between most papers but there are some rare papers with very high cosine similarity scores."
   ]
  },
  {
   "cell_type": "markdown",
   "metadata": {},
   "source": [
    "Let's examine an example of distance distribution for one religon paper"
   ]
  },
  {
   "cell_type": "code",
   "execution_count": 58,
   "metadata": {},
   "outputs": [
    {
     "data": {
      "text/plain": [
       "[<matplotlib.lines.Line2D at 0x157e57e10>]"
      ]
     },
     "execution_count": 58,
     "metadata": {},
     "output_type": "execute_result"
    },
    {
     "data": {
      "image/png": "[encoded data removed]",
      "text/plain": [
       "<Figure size 432x288 with 1 Axes>"
      ]
     },
     "metadata": {
      "needs_background": "light"
     },
     "output_type": "display_data"
    }
   ],
   "source": [
    "plt.plot(distances[0],'x')"
   ]
  },
  {
   "cell_type": "markdown",
   "metadata": {},
   "source": [
    "Let's examine an example of distance distribution for one scientific paper"
   ]
  },
  {
   "cell_type": "code",
   "execution_count": 59,
   "metadata": {},
   "outputs": [
    {
     "data": {
      "text/plain": [
       "[<matplotlib.lines.Line2D at 0x1572a4668>]"
      ]
     },
     "execution_count": 59,
     "metadata": {},
     "output_type": "execute_result"
    },
    {
     "data": {
      "image/png": "[encoded data removed]",
      "text/plain": [
       "<Figure size 432x288 with 1 Axes>"
      ]
     },
     "metadata": {
      "needs_background": "light"
     },
     "output_type": "display_data"
    }
   ],
   "source": [
    "plt.plot(distances[1200],'x')"
   ]
  },
  {
   "cell_type": "markdown",
   "metadata": {},
   "source": [
    "2/ Adjacency Matrix"
   ]
  },
  {
   "cell_type": "code",
   "execution_count": 60,
   "metadata": {},
   "outputs": [
    {
     "data": {
      "image/png": "[encoded data removed]",
      "text/plain": [
       "<Figure size 432x288 with 1 Axes>"
      ]
     },
     "metadata": {
      "needs_background": "light"
     },
     "output_type": "display_data"
    }
   ],
   "source": [
    "# according to previous part approximatly 95% of the articles of given category have cosine distances above 0.6\n",
    "# we will keep this value as a threshold, distances that are below 0.6, won't be taken in account in our adjacency matrix\n",
    "adjacency = matrixu.article_sim_th(0.65,distances, weight=True)\n",
    "\n",
    "plt.spy(adjacency)\n",
    "plt.show()"
   ]
  },
  {
   "cell_type": "markdown",
   "metadata": {},
   "source": [
    "## B/ Exploring graph properties"
   ]
  },
  {
   "cell_type": "markdown",
   "metadata": {},
   "source": [
    "1/ General features"
   ]
  },
  {
   "cell_type": "code",
   "execution_count": 61,
   "metadata": {},
   "outputs": [
    {
     "name": "stdout",
     "output_type": "stream",
     "text": [
      "The giant component of the feature graph has 2298 nodes and 50117 edges.\n",
      "average clustering coefficient of our graph: 0.53445162646999\n"
     ]
    }
   ],
   "source": [
    "# building a graph using the normalized distances\n",
    "graph = nx.from_numpy_matrix(adjacency)\n",
    "\n",
    "# assessing the giant component size\n",
    "giant_feature = max(nx.connected_component_subgraphs(graph), key=len)\n",
    "print('The giant component of the feature graph has {} nodes and {} edges.'.format(giant_feature.number_of_nodes(), giant_feature.size()))\n",
    "\n",
    "print(\"average clustering coefficient of our graph:\",nx.average_clustering(graph))"
   ]
  },
  {
   "cell_type": "code",
   "execution_count": 62,
   "metadata": {},
   "outputs": [
    {
     "name": "stdout",
     "output_type": "stream",
     "text": [
      "subgraph nb  0 nb of nodes: 2298\n",
      "subgraph nb  1 nb of nodes: 1\n",
      "subgraph nb  2 nb of nodes: 1\n",
      "subgraph nb  3 nb of nodes: 1\n",
      "subgraph nb  4 nb of nodes: 1\n",
      "subgraph nb  5 nb of nodes: 2\n",
      "subgraph nb  6 nb of nodes: 1\n",
      "subgraph nb  7 nb of nodes: 1\n",
      "subgraph nb  8 nb of nodes: 1\n",
      "subgraph nb  9 nb of nodes: 1\n",
      "subgraph nb  10 nb of nodes: 1\n",
      "subgraph nb  11 nb of nodes: 1\n",
      "subgraph nb  12 nb of nodes: 1\n",
      "subgraph nb  13 nb of nodes: 1\n",
      "subgraph nb  14 nb of nodes: 1\n",
      "subgraph nb  15 nb of nodes: 1\n",
      "subgraph nb  16 nb of nodes: 1\n",
      "subgraph nb  17 nb of nodes: 1\n",
      "subgraph nb  18 nb of nodes: 1\n",
      "subgraph nb  19 nb of nodes: 1\n",
      "subgraph nb  20 nb of nodes: 1\n",
      "subgraph nb  21 nb of nodes: 1\n",
      "subgraph nb  22 nb of nodes: 1\n",
      "subgraph nb  23 nb of nodes: 1\n",
      "subgraph nb  24 nb of nodes: 1\n",
      "subgraph nb  25 nb of nodes: 1\n",
      "subgraph nb  26 nb of nodes: 1\n",
      "subgraph nb  27 nb of nodes: 1\n",
      "subgraph nb  28 nb of nodes: 1\n",
      "subgraph nb  29 nb of nodes: 1\n",
      "subgraph nb  30 nb of nodes: 1\n",
      "subgraph nb  31 nb of nodes: 1\n"
     ]
    }
   ],
   "source": [
    "#study the connected components\n",
    "graphs = list(nx.connected_component_subgraphs(graph))\n",
    "for i in range(0,len(graphs)):\n",
    "    print(\"subgraph nb \", i, \"nb of nodes:\",len(graphs[i].degree))"
   ]
  },
  {
   "cell_type": "markdown",
   "metadata": {},
   "source": [
    "The graph has one giant component and a small component composed of 2 nodes, the 16 other components are pages that are alone."
   ]
  },
  {
   "cell_type": "code",
   "execution_count": 63,
   "metadata": {},
   "outputs": [
    {
     "name": "stdout",
     "output_type": "stream",
     "text": [
      "Tadibya\n",
      "Five Billion Years of Change\n"
     ]
    }
   ],
   "source": [
    "nodes_small_comp = list(graphs[5].nodes())\n",
    "\n",
    "#for curiosity, articles linked in the small component\n",
    "for node in nodes_small_comp:\n",
    "     print(features.index[node])"
   ]
  },
  {
   "cell_type": "markdown",
   "metadata": {},
   "source": [
    "2/ Degree distribution"
   ]
  },
  {
   "cell_type": "code",
   "execution_count": 43,
   "metadata": {},
   "outputs": [
    {
     "ename": "NameError",
     "evalue": "name 'er_degrees' is not defined",
     "output_type": "error",
     "traceback": [
      "\u001b[0;31m---------------------------------------------------------------------------\u001b[0m",
      "\u001b[0;31mNameError\u001b[0m                                 Traceback (most recent call last)",
      "\u001b[0;32m<ipython-input-43-a3a17fd1f0d3>\u001b[0m in \u001b[0;36m<module>\u001b[0;34m\u001b[0m\n\u001b[1;32m      1\u001b[0m \u001b[0mplt\u001b[0m\u001b[0;34m.\u001b[0m\u001b[0mtitle\u001b[0m\u001b[0;34m(\u001b[0m\u001b[0;34m\"Degree distribution\"\u001b[0m\u001b[0;34m)\u001b[0m\u001b[0;34m\u001b[0m\u001b[0;34m\u001b[0m\u001b[0m\n\u001b[1;32m      2\u001b[0m \u001b[0mdegrees\u001b[0m \u001b[0;34m=\u001b[0m \u001b[0;34m[\u001b[0m\u001b[0md\u001b[0m \u001b[0;32mfor\u001b[0m \u001b[0;34m(\u001b[0m\u001b[0mi\u001b[0m\u001b[0;34m,\u001b[0m\u001b[0md\u001b[0m\u001b[0;34m)\u001b[0m \u001b[0;32min\u001b[0m \u001b[0mgraph\u001b[0m\u001b[0;34m.\u001b[0m\u001b[0mdegree\u001b[0m\u001b[0;34m(\u001b[0m\u001b[0;34m)\u001b[0m\u001b[0;34m]\u001b[0m\u001b[0;34m\u001b[0m\u001b[0;34m\u001b[0m\u001b[0m\n\u001b[0;32m----> 3\u001b[0;31m \u001b[0mplt\u001b[0m\u001b[0;34m.\u001b[0m\u001b[0mhist\u001b[0m\u001b[0;34m(\u001b[0m\u001b[0mer_degrees\u001b[0m\u001b[0;34m,\u001b[0m\u001b[0mbins\u001b[0m \u001b[0;34m=\u001b[0m \u001b[0;36m50\u001b[0m\u001b[0;34m)\u001b[0m\u001b[0;34m;\u001b[0m\u001b[0;34m\u001b[0m\u001b[0;34m\u001b[0m\u001b[0m\n\u001b[0m\u001b[1;32m      4\u001b[0m \u001b[0mplt\u001b[0m\u001b[0;34m.\u001b[0m\u001b[0mxlabel\u001b[0m\u001b[0;34m(\u001b[0m\u001b[0;34m'degree'\u001b[0m\u001b[0;34m)\u001b[0m\u001b[0;34m\u001b[0m\u001b[0;34m\u001b[0m\u001b[0m\n\u001b[1;32m      5\u001b[0m \u001b[0mplt\u001b[0m\u001b[0;34m.\u001b[0m\u001b[0mylabel\u001b[0m\u001b[0;34m(\u001b[0m\u001b[0;34m'count'\u001b[0m\u001b[0;34m)\u001b[0m\u001b[0;34m\u001b[0m\u001b[0;34m\u001b[0m\u001b[0m\n",
      "\u001b[0;31mNameError\u001b[0m: name 'er_degrees' is not defined"
     ]
    },
    {
     "data": {
      "image/png": "[encoded data removed]",
      "text/plain": [
       "<Figure size 432x288 with 1 Axes>"
      ]
     },
     "metadata": {
      "needs_background": "light"
     },
     "output_type": "display_data"
    }
   ],
   "source": [
    "plt.title(\"Degree distribution\")\n",
    "degrees = [d for (i,d) in graph.degree()]\n",
    "plt.hist(er_degrees,bins = 50);\n",
    "plt.xlabel('degree')\n",
    "plt.ylabel('count')\n",
    "plt.show()"
   ]
  },
  {
   "cell_type": "markdown",
   "metadata": {},
   "source": [
    "The distribution of the degree follows a power law, hence the garph corresponds to a scale free network."
   ]
  },
  {
   "cell_type": "code",
   "execution_count": 64,
   "metadata": {},
   "outputs": [
    {
     "data": {
      "image/png": "[encoded data removed]",
      "text/plain": [
       "<Figure size 432x288 with 1 Axes>"
      ]
     },
     "metadata": {
      "needs_background": "light"
     },
     "output_type": "display_data"
    }
   ],
   "source": [
    "#observe articles with highest degree\n",
    "\n",
    "list_degree = list(graph.degree)\n",
    "degree_religion = []\n",
    "degree_science = []\n",
    "data= []\n",
    "\n",
    "for node in list_degree:\n",
    "    if(node[0]<=751):\n",
    "        category = \"religion\"\n",
    "        degree_religion.append(node[1])\n",
    "    else:\n",
    "        category = \"science\"\n",
    "        degree_science.append(node[1])\n",
    "    article_name = features.index[node[0]]\n",
    "    degree = node[1]\n",
    "    \n",
    "    data.append([article_name,category,degree])\n",
    "    \n",
    "df = pd.DataFrame(data, columns = ['Article Name', 'Category','Degree'])\n",
    "\n",
    "plt.title(\"Degree distribution by category\")\n",
    "plt.hist(degree_religion, bins = 50 , alpha=0.5, label='religion')\n",
    "plt.hist(degree_science, bins = 50, alpha=0.5, label='science')\n",
    "plt.xlabel('degree')\n",
    "plt.ylabel('count')\n",
    "plt.legend(loc='upper right')\n",
    "plt.show()"
   ]
  },
  {
   "cell_type": "markdown",
   "metadata": {},
   "source": [
    "2/ Articles with highest and lowest degrees"
   ]
  },
  {
   "cell_type": "code",
   "execution_count": 65,
   "metadata": {},
   "outputs": [
    {
     "data": {
      "text/html": [
       "<div>\n",
       "<style scoped>\n",
       "    .dataframe tbody tr th:only-of-type {\n",
       "        vertical-align: middle;\n",
       "    }\n",
       "\n",
       "    .dataframe tbody tr th {\n",
       "        vertical-align: top;\n",
       "    }\n",
       "\n",
       "    .dataframe thead th {\n",
       "        text-align: right;\n",
       "    }\n",
       "</style>\n",
       "<table border=\"1\" class=\"dataframe\">\n",
       "  <thead>\n",
       "    <tr style=\"text-align: right;\">\n",
       "      <th></th>\n",
       "      <th>Article Name</th>\n",
       "      <th>Category</th>\n",
       "      <th>Degree</th>\n",
       "    </tr>\n",
       "  </thead>\n",
       "  <tbody>\n",
       "    <tr>\n",
       "      <td>939</td>\n",
       "      <td>Little Science, Big Science</td>\n",
       "      <td>science</td>\n",
       "      <td>218</td>\n",
       "    </tr>\n",
       "    <tr>\n",
       "      <td>1200</td>\n",
       "      <td>Fringe science</td>\n",
       "      <td>science</td>\n",
       "      <td>204</td>\n",
       "    </tr>\n",
       "    <tr>\n",
       "      <td>1318</td>\n",
       "      <td>Logology (science)</td>\n",
       "      <td>science</td>\n",
       "      <td>203</td>\n",
       "    </tr>\n",
       "    <tr>\n",
       "      <td>1667</td>\n",
       "      <td>Junk science</td>\n",
       "      <td>science</td>\n",
       "      <td>202</td>\n",
       "    </tr>\n",
       "    <tr>\n",
       "      <td>751</td>\n",
       "      <td>Science</td>\n",
       "      <td>religion</td>\n",
       "      <td>202</td>\n",
       "    </tr>\n",
       "    <tr>\n",
       "      <td>1332</td>\n",
       "      <td>Post-normal science</td>\n",
       "      <td>science</td>\n",
       "      <td>197</td>\n",
       "    </tr>\n",
       "    <tr>\n",
       "      <td>1333</td>\n",
       "      <td>Postnormal times</td>\n",
       "      <td>science</td>\n",
       "      <td>197</td>\n",
       "    </tr>\n",
       "    <tr>\n",
       "      <td>1505</td>\n",
       "      <td>Pseudoscience</td>\n",
       "      <td>science</td>\n",
       "      <td>195</td>\n",
       "    </tr>\n",
       "    <tr>\n",
       "      <td>1520</td>\n",
       "      <td>Antiscience</td>\n",
       "      <td>science</td>\n",
       "      <td>195</td>\n",
       "    </tr>\n",
       "    <tr>\n",
       "      <td>1282</td>\n",
       "      <td>Scientometrics</td>\n",
       "      <td>science</td>\n",
       "      <td>194</td>\n",
       "    </tr>\n",
       "    <tr>\n",
       "      <td>1450</td>\n",
       "      <td>Amsterdam Call for Action on Open Science</td>\n",
       "      <td>science</td>\n",
       "      <td>193</td>\n",
       "    </tr>\n",
       "    <tr>\n",
       "      <td>1115</td>\n",
       "      <td>Master of Science</td>\n",
       "      <td>science</td>\n",
       "      <td>192</td>\n",
       "    </tr>\n",
       "  </tbody>\n",
       "</table>\n",
       "</div>"
      ],
      "text/plain": [
       "                                   Article Name  Category  Degree\n",
       "939                 Little Science, Big Science   science     218\n",
       "1200                             Fringe science   science     204\n",
       "1318                         Logology (science)   science     203\n",
       "1667                               Junk science   science     202\n",
       "751                                     Science  religion     202\n",
       "1332                        Post-normal science   science     197\n",
       "1333                           Postnormal times   science     197\n",
       "1505                              Pseudoscience   science     195\n",
       "1520                                Antiscience   science     195\n",
       "1282                             Scientometrics   science     194\n",
       "1450  Amsterdam Call for Action on Open Science   science     193\n",
       "1115                          Master of Science   science     192"
      ]
     },
     "execution_count": 65,
     "metadata": {},
     "output_type": "execute_result"
    }
   ],
   "source": [
    "#articles with highest degree\n",
    "df.sort_values(by=['Degree'],ascending=False)[:12]"
   ]
  },
  {
   "cell_type": "markdown",
   "metadata": {},
   "source": [
    "## Exploring possible clustering in the graph"
   ]
  },
  {
   "cell_type": "markdown",
   "metadata": {},
   "source": [
    "### Removing the nodes that are not connected"
   ]
  },
  {
   "cell_type": "code",
   "execution_count": 66,
   "metadata": {},
   "outputs": [
    {
     "data": {
      "text/html": [
       "<div>\n",
       "<style scoped>\n",
       "    .dataframe tbody tr th:only-of-type {\n",
       "        vertical-align: middle;\n",
       "    }\n",
       "\n",
       "    .dataframe tbody tr th {\n",
       "        vertical-align: top;\n",
       "    }\n",
       "\n",
       "    .dataframe thead th {\n",
       "        text-align: right;\n",
       "    }\n",
       "</style>\n",
       "<table border=\"1\" class=\"dataframe\">\n",
       "  <thead>\n",
       "    <tr style=\"text-align: right;\">\n",
       "      <th></th>\n",
       "      <th>article</th>\n",
       "      <th>words</th>\n",
       "      <th>label</th>\n",
       "      <th>words_string</th>\n",
       "    </tr>\n",
       "  </thead>\n",
       "  <tbody>\n",
       "    <tr>\n",
       "      <td>130</td>\n",
       "      <td>Buber-Rosenzweig-Medal</td>\n",
       "      <td>[annual, prize, awarded, since, deutscher, koo...</td>\n",
       "      <td>0</td>\n",
       "      <td>annual prize awarded since deutscher koordinie...</td>\n",
       "    </tr>\n",
       "    <tr>\n",
       "      <td>239</td>\n",
       "      <td>Free Thought and Official Propaganda</td>\n",
       "      <td>[free, thought, official, propaganda, speech, ...</td>\n",
       "      <td>0</td>\n",
       "      <td>free thought official propaganda speech subseq...</td>\n",
       "    </tr>\n",
       "    <tr>\n",
       "      <td>252</td>\n",
       "      <td>Marketplace of ideas</td>\n",
       "      <td>[marketplace, ideas, rationale, freedom, expre...</td>\n",
       "      <td>0</td>\n",
       "      <td>marketplace ideas rationale freedom expression...</td>\n",
       "    </tr>\n",
       "    <tr>\n",
       "      <td>353</td>\n",
       "      <td>Siladhara Order</td>\n",
       "      <td>[siladhara, order, theravada, buddhist, female...</td>\n",
       "      <td>0</td>\n",
       "      <td>siladhara order theravada buddhist female mona...</td>\n",
       "    </tr>\n",
       "    <tr>\n",
       "      <td>367</td>\n",
       "      <td>Secular paganism</td>\n",
       "      <td>[secular, paganism, humanistic, paganism, upho...</td>\n",
       "      <td>0</td>\n",
       "      <td>secular paganism humanistic paganism upholds v...</td>\n",
       "    </tr>\n",
       "    <tr>\n",
       "      <td>395</td>\n",
       "      <td>Niraj Jain</td>\n",
       "      <td>[pandit, niraj, jain, october, march, scholar,...</td>\n",
       "      <td>0</td>\n",
       "      <td>pandit niraj jain october march scholar jainis...</td>\n",
       "    </tr>\n",
       "    <tr>\n",
       "      <td>457</td>\n",
       "      <td>Animatism</td>\n",
       "      <td>[animat, artificial, animals, contraction, ani...</td>\n",
       "      <td>0</td>\n",
       "      <td>animat artificial animals contraction animal m...</td>\n",
       "    </tr>\n",
       "    <tr>\n",
       "      <td>506</td>\n",
       "      <td>Chester Ronning Centre for the Study of Religi...</td>\n",
       "      <td>[chester, ronning, centre, study, religion, pu...</td>\n",
       "      <td>0</td>\n",
       "      <td>chester ronning centre study religion public l...</td>\n",
       "    </tr>\n",
       "    <tr>\n",
       "      <td>585</td>\n",
       "      <td>Chakravarti (Sanskrit term)</td>\n",
       "      <td>[indian, religions, chakravarti, sanskrit, cak...</td>\n",
       "      <td>0</td>\n",
       "      <td>indian religions chakravarti sanskrit cakravar...</td>\n",
       "    </tr>\n",
       "    <tr>\n",
       "      <td>696</td>\n",
       "      <td>Prorrhesis</td>\n",
       "      <td>[part, eleusinian, mysteries, prorrhesis, offi...</td>\n",
       "      <td>0</td>\n",
       "      <td>part eleusinian mysteries prorrhesis official ...</td>\n",
       "    </tr>\n",
       "    <tr>\n",
       "      <td>733</td>\n",
       "      <td>Spiritual literature</td>\n",
       "      <td>[spiritual, literature, genre, literature, usu...</td>\n",
       "      <td>0</td>\n",
       "      <td>spiritual literature genre literature usually ...</td>\n",
       "    </tr>\n",
       "    <tr>\n",
       "      <td>744</td>\n",
       "      <td>Transfiguration (religion)</td>\n",
       "      <td>[religious, context, transfiguration, latin, t...</td>\n",
       "      <td>0</td>\n",
       "      <td>religious context transfiguration latin transf...</td>\n",
       "    </tr>\n",
       "    <tr>\n",
       "      <td>935</td>\n",
       "      <td>A Letter to a Friend</td>\n",
       "      <td>[letter, friend, written, published, posthumou...</td>\n",
       "      <td>1</td>\n",
       "      <td>letter friend written published posthumously s...</td>\n",
       "    </tr>\n",
       "    <tr>\n",
       "      <td>1117</td>\n",
       "      <td>Minibeast</td>\n",
       "      <td>[minibeast, minibeasts, term, variety, arthrop...</td>\n",
       "      <td>1</td>\n",
       "      <td>minibeast minibeasts term variety arthropods i...</td>\n",
       "    </tr>\n",
       "    <tr>\n",
       "      <td>1191</td>\n",
       "      <td>VISQ</td>\n",
       "      <td>[visq, portuguese, acronym, variables, interac...</td>\n",
       "      <td>1</td>\n",
       "      <td>visq portuguese acronym variables interact sof...</td>\n",
       "    </tr>\n",
       "    <tr>\n",
       "      <td>1233</td>\n",
       "      <td>Liulin type instruments</td>\n",
       "      <td>[class, instruments, history, first, liulin, d...</td>\n",
       "      <td>1</td>\n",
       "      <td>class instruments history first liulin device ...</td>\n",
       "    </tr>\n",
       "    <tr>\n",
       "      <td>1246</td>\n",
       "      <td>Scale of chords</td>\n",
       "      <td>[scale, chords, may, used, set, read, angle, a...</td>\n",
       "      <td>1</td>\n",
       "      <td>scale chords may used set read angle absence p...</td>\n",
       "    </tr>\n",
       "    <tr>\n",
       "      <td>1295</td>\n",
       "      <td>Consumer demand tests (animals)</td>\n",
       "      <td>[consumer, demand, tests, animals, studies, de...</td>\n",
       "      <td>1</td>\n",
       "      <td>consumer demand tests animals studies designed...</td>\n",
       "    </tr>\n",
       "    <tr>\n",
       "      <td>1337</td>\n",
       "      <td>Priority certificate</td>\n",
       "      <td>[priority, certificate, document, attesting, e...</td>\n",
       "      <td>1</td>\n",
       "      <td>priority certificate document attesting entiti...</td>\n",
       "    </tr>\n",
       "    <tr>\n",
       "      <td>1510</td>\n",
       "      <td>AKTIP (therapeutic institute)</td>\n",
       "      <td>[aktip, konzultační, terapeutický, institut, p...</td>\n",
       "      <td>1</td>\n",
       "      <td>aktip konzultační terapeutický institut praha ...</td>\n",
       "    </tr>\n",
       "    <tr>\n",
       "      <td>1838</td>\n",
       "      <td>Zero balancing</td>\n",
       "      <td>[zero, balancing, type, manual, therapy, devis...</td>\n",
       "      <td>1</td>\n",
       "      <td>zero balancing type manual therapy devised fre...</td>\n",
       "    </tr>\n",
       "    <tr>\n",
       "      <td>2023</td>\n",
       "      <td>Beta (velocity)</td>\n",
       "      <td>[special, relativity, velocity, object, relati...</td>\n",
       "      <td>1</td>\n",
       "      <td>special relativity velocity object relative sp...</td>\n",
       "    </tr>\n",
       "    <tr>\n",
       "      <td>2042</td>\n",
       "      <td>Cello scrotum</td>\n",
       "      <td>[cello, scrotum, hoax, medical, condition, ori...</td>\n",
       "      <td>1</td>\n",
       "      <td>cello scrotum hoax medical condition originall...</td>\n",
       "    </tr>\n",
       "    <tr>\n",
       "      <td>2074</td>\n",
       "      <td>Endophysics</td>\n",
       "      <td>[endophysics, literally, means, physics, withi...</td>\n",
       "      <td>1</td>\n",
       "      <td>endophysics literally means physics within stu...</td>\n",
       "    </tr>\n",
       "    <tr>\n",
       "      <td>2218</td>\n",
       "      <td>Preferential alignment</td>\n",
       "      <td>[preferential, alignment, criterion, orientati...</td>\n",
       "      <td>1</td>\n",
       "      <td>preferential alignment criterion orientation m...</td>\n",
       "    </tr>\n",
       "    <tr>\n",
       "      <td>2231</td>\n",
       "      <td>Reflex locomotion</td>\n",
       "      <td>[reflex, locomotion, usually, referred, vojta,...</td>\n",
       "      <td>1</td>\n",
       "      <td>reflex locomotion usually referred vojta metho...</td>\n",
       "    </tr>\n",
       "    <tr>\n",
       "      <td>2242</td>\n",
       "      <td>Retinalophototroph</td>\n",
       "      <td>[retinalophototroph, phototroph, uses, either,...</td>\n",
       "      <td>1</td>\n",
       "      <td>retinalophototroph phototroph uses either bact...</td>\n",
       "    </tr>\n",
       "    <tr>\n",
       "      <td>2279</td>\n",
       "      <td>Sterculinine</td>\n",
       "      <td>[sterculinine, alkaloid, isolated, chinese, dr...</td>\n",
       "      <td>1</td>\n",
       "      <td>sterculinine alkaloid isolated chinese drug pa...</td>\n",
       "    </tr>\n",
       "    <tr>\n",
       "      <td>2288</td>\n",
       "      <td>Tableau encyclopédique et méthodique</td>\n",
       "      <td>[tableau, encyclopédique, et, méthodique, des,...</td>\n",
       "      <td>1</td>\n",
       "      <td>tableau encyclopédique et méthodique des trois...</td>\n",
       "    </tr>\n",
       "    <tr>\n",
       "      <td>2323</td>\n",
       "      <td>Weather and climate</td>\n",
       "      <td>[weather, condition, atmosphere, particular, p...</td>\n",
       "      <td>1</td>\n",
       "      <td>weather condition atmosphere particular place ...</td>\n",
       "    </tr>\n",
       "  </tbody>\n",
       "</table>\n",
       "</div>"
      ],
      "text/plain": [
       "                                                article  \\\n",
       "130                              Buber-Rosenzweig-Medal   \n",
       "239                Free Thought and Official Propaganda   \n",
       "252                                Marketplace of ideas   \n",
       "353                                     Siladhara Order   \n",
       "367                                    Secular paganism   \n",
       "395                                          Niraj Jain   \n",
       "457                                           Animatism   \n",
       "506   Chester Ronning Centre for the Study of Religi...   \n",
       "585                         Chakravarti (Sanskrit term)   \n",
       "696                                          Prorrhesis   \n",
       "733                                Spiritual literature   \n",
       "744                          Transfiguration (religion)   \n",
       "935                                A Letter to a Friend   \n",
       "1117                                          Minibeast   \n",
       "1191                                               VISQ   \n",
       "1233                            Liulin type instruments   \n",
       "1246                                    Scale of chords   \n",
       "1295                    Consumer demand tests (animals)   \n",
       "1337                               Priority certificate   \n",
       "1510                      AKTIP (therapeutic institute)   \n",
       "1838                                     Zero balancing   \n",
       "2023                                    Beta (velocity)   \n",
       "2042                                      Cello scrotum   \n",
       "2074                                        Endophysics   \n",
       "2218                             Preferential alignment   \n",
       "2231                                  Reflex locomotion   \n",
       "2242                                 Retinalophototroph   \n",
       "2279                                       Sterculinine   \n",
       "2288               Tableau encyclopédique et méthodique   \n",
       "2323                                Weather and climate   \n",
       "\n",
       "                                                  words  label  \\\n",
       "130   [annual, prize, awarded, since, deutscher, koo...      0   \n",
       "239   [free, thought, official, propaganda, speech, ...      0   \n",
       "252   [marketplace, ideas, rationale, freedom, expre...      0   \n",
       "353   [siladhara, order, theravada, buddhist, female...      0   \n",
       "367   [secular, paganism, humanistic, paganism, upho...      0   \n",
       "395   [pandit, niraj, jain, october, march, scholar,...      0   \n",
       "457   [animat, artificial, animals, contraction, ani...      0   \n",
       "506   [chester, ronning, centre, study, religion, pu...      0   \n",
       "585   [indian, religions, chakravarti, sanskrit, cak...      0   \n",
       "696   [part, eleusinian, mysteries, prorrhesis, offi...      0   \n",
       "733   [spiritual, literature, genre, literature, usu...      0   \n",
       "744   [religious, context, transfiguration, latin, t...      0   \n",
       "935   [letter, friend, written, published, posthumou...      1   \n",
       "1117  [minibeast, minibeasts, term, variety, arthrop...      1   \n",
       "1191  [visq, portuguese, acronym, variables, interac...      1   \n",
       "1233  [class, instruments, history, first, liulin, d...      1   \n",
       "1246  [scale, chords, may, used, set, read, angle, a...      1   \n",
       "1295  [consumer, demand, tests, animals, studies, de...      1   \n",
       "1337  [priority, certificate, document, attesting, e...      1   \n",
       "1510  [aktip, konzultační, terapeutický, institut, p...      1   \n",
       "1838  [zero, balancing, type, manual, therapy, devis...      1   \n",
       "2023  [special, relativity, velocity, object, relati...      1   \n",
       "2042  [cello, scrotum, hoax, medical, condition, ori...      1   \n",
       "2074  [endophysics, literally, means, physics, withi...      1   \n",
       "2218  [preferential, alignment, criterion, orientati...      1   \n",
       "2231  [reflex, locomotion, usually, referred, vojta,...      1   \n",
       "2242  [retinalophototroph, phototroph, uses, either,...      1   \n",
       "2279  [sterculinine, alkaloid, isolated, chinese, dr...      1   \n",
       "2288  [tableau, encyclopédique, et, méthodique, des,...      1   \n",
       "2323  [weather, condition, atmosphere, particular, p...      1   \n",
       "\n",
       "                                           words_string  \n",
       "130   annual prize awarded since deutscher koordinie...  \n",
       "239   free thought official propaganda speech subseq...  \n",
       "252   marketplace ideas rationale freedom expression...  \n",
       "353   siladhara order theravada buddhist female mona...  \n",
       "367   secular paganism humanistic paganism upholds v...  \n",
       "395   pandit niraj jain october march scholar jainis...  \n",
       "457   animat artificial animals contraction animal m...  \n",
       "506   chester ronning centre study religion public l...  \n",
       "585   indian religions chakravarti sanskrit cakravar...  \n",
       "696   part eleusinian mysteries prorrhesis official ...  \n",
       "733   spiritual literature genre literature usually ...  \n",
       "744   religious context transfiguration latin transf...  \n",
       "935   letter friend written published posthumously s...  \n",
       "1117  minibeast minibeasts term variety arthropods i...  \n",
       "1191  visq portuguese acronym variables interact sof...  \n",
       "1233  class instruments history first liulin device ...  \n",
       "1246  scale chords may used set read angle absence p...  \n",
       "1295  consumer demand tests animals studies designed...  \n",
       "1337  priority certificate document attesting entiti...  \n",
       "1510  aktip konzultační terapeutický institut praha ...  \n",
       "1838  zero balancing type manual therapy devised fre...  \n",
       "2023  special relativity velocity object relative sp...  \n",
       "2042  cello scrotum hoax medical condition originall...  \n",
       "2074  endophysics literally means physics within stu...  \n",
       "2218  preferential alignment criterion orientation m...  \n",
       "2231  reflex locomotion usually referred vojta metho...  \n",
       "2242  retinalophototroph phototroph uses either bact...  \n",
       "2279  sterculinine alkaloid isolated chinese drug pa...  \n",
       "2288  tableau encyclopédique et méthodique des trois...  \n",
       "2323  weather condition atmosphere particular place ...  "
      ]
     },
     "execution_count": 66,
     "metadata": {},
     "output_type": "execute_result"
    }
   ],
   "source": [
    "removed_df, distances_wo, tf_idf_wo, labels_df_wo = matrixu.remove_noconnected(adjacency, distances, tf_idf, labels_df)\n",
    "removed_df"
   ]
  },
  {
   "cell_type": "code",
   "execution_count": 67,
   "metadata": {},
   "outputs": [
    {
     "name": "stdout",
     "output_type": "stream",
     "text": [
      "The mean number of words of the removed articles are 187.53333333333333\n"
     ]
    }
   ],
   "source": [
    "mean_nb_words_removed = len(removed_df[\"words\"].explode())/len(removed_df)\n",
    "print(\"The mean number of words of the removed articles are \" + str(mean_nb_words_removed))"
   ]
  },
  {
   "cell_type": "code",
   "execution_count": 68,
   "metadata": {},
   "outputs": [
    {
     "name": "stdout",
     "output_type": "stream",
     "text": [
      "The mean number of views of these articles are 818.5666666666667 per month\n"
     ]
    }
   ],
   "source": [
    "views_df_removed = views_df.merge(removed_df, on = \"article\")\n",
    "mean_nb_views_removed = views_df_removed[\"views\"].sum()/len(views_df_removed)\n",
    "print(\"The mean number of views of these articles are \" + str(mean_nb_views_removed) + \" per month\")"
   ]
  },
  {
   "cell_type": "code",
   "execution_count": 69,
   "metadata": {},
   "outputs": [
    {
     "name": "stdout",
     "output_type": "stream",
     "text": [
      "The mean number of words of the articles are 782.8094420600859\n"
     ]
    }
   ],
   "source": [
    "mean_nb_words = len(words_df_reduced[\"words\"].explode())/len(words_df_reduced)\n",
    "print(\"The mean number of words of the articles are \" + str(mean_nb_words))"
   ]
  },
  {
   "cell_type": "code",
   "execution_count": 70,
   "metadata": {},
   "outputs": [
    {
     "name": "stdout",
     "output_type": "stream",
     "text": [
      "The mean number of views of the articles are 5970.546862265689 per month\n"
     ]
    }
   ],
   "source": [
    "mean_nb_views = views_df[\"views\"].sum()/len(views_df)\n",
    "print(\"The mean number of views of the articles are \" + str(mean_nb_views) + \" per month\")"
   ]
  },
  {
   "cell_type": "markdown",
   "metadata": {},
   "source": [
    "The removed articles belong to the religon and science articles with approximatively the same proportion, excluding a possible bias that could happen when removing articles. Furthermore, these articles are mostly short articles. We can claim that these articles are stub and need more expansion and devolepment. The mean number of views for the removed articles are way less than for the total articles, adding to the supposition that these articles are stubs. "
   ]
  },
  {
   "cell_type": "code",
   "execution_count": 72,
   "metadata": {},
   "outputs": [
    {
     "data": {
      "image/png": "[encoded data removed]",
      "text/plain": [
       "<Figure size 432x288 with 1 Axes>"
      ]
     },
     "metadata": {
      "needs_background": "light"
     },
     "output_type": "display_data"
    }
   ],
   "source": [
    "adjacency_wo = matrixu.article_sim_th(0.50,distances_wo, weight=True)\n",
    "\n",
    "plt.spy(adjacency_wo)\n",
    "plt.show()"
   ]
  },
  {
   "cell_type": "markdown",
   "metadata": {},
   "source": [
    "## Visualizing the graph obtained"
   ]
  },
  {
   "cell_type": "code",
   "execution_count": 73,
   "metadata": {},
   "outputs": [],
   "source": [
    "visu = VisUtils()"
   ]
  },
  {
   "cell_type": "markdown",
   "metadata": {},
   "source": [
    "#### Laplacian Eigenmaps"
   ]
  },
  {
   "cell_type": "code",
   "execution_count": 74,
   "metadata": {},
   "outputs": [
    {
     "data": {
      "text/plain": [
       "Text(0.5, 1.0, 'Graph of Wikipedia Science and Religion articles (done using Laplacian Eigenmaps)')"
      ]
     },
     "execution_count": 74,
     "metadata": {},
     "output_type": "execute_result"
    },
    {
     "data": {
      "image/png": "[encoded data removed]",
      "text/plain": [
       "<Figure size 432x288 with 1 Axes>"
      ]
     },
     "metadata": {
      "needs_background": "light"
     },
     "output_type": "display_data"
    }
   ],
   "source": [
    "laplacian = matrixu.compute_laplacian(adjacency_wo, normalize=True)\n",
    "eigenvalues, eigenvectors = matrixu.spectral_decomposition(np.nan_to_num(laplacian)) \n",
    "twoD_embeddings = (eigenvectors[:,1:3])\n",
    "plt.scatter(twoD_embeddings[labels_df_wo[labels_df_wo[\"label\"] == 0].index,0], twoD_embeddings[labels_df_wo[labels_df_wo[\"label\"] == 0].index,1], label=1)\n",
    "plt.scatter(twoD_embeddings[labels_df_wo[labels_df_wo[\"label\"] == 1].index,0], twoD_embeddings[labels_df_wo[labels_df_wo[\"label\"] == 1].index,1], label=2)\n",
    "plt.title('Graph of Wikipedia Science and Religion articles (done using Laplacian Eigenmaps)')"
   ]
  },
  {
   "cell_type": "markdown",
   "metadata": {},
   "source": [
    "### t-sne"
   ]
  },
  {
   "cell_type": "code",
   "execution_count": 75,
   "metadata": {},
   "outputs": [],
   "source": [
    "from sklearn.manifold import TSNE\n",
    "tsne = TSNE(n_components = 2)\n",
    "x_embed = tsne.fit_transform(distances_wo)"
   ]
  },
  {
   "cell_type": "code",
   "execution_count": 76,
   "metadata": {},
   "outputs": [
    {
     "data": {
      "text/plain": [
       "Text(0.5, 1.0, 'Graph of Wikipedia Science and Religion articles (done using tSN-E)')"
      ]
     },
     "execution_count": 76,
     "metadata": {},
     "output_type": "execute_result"
    },
    {
     "data": {
      "image/png": "[encoded data removed]",
      "text/plain": [
       "<Figure size 432x288 with 1 Axes>"
      ]
     },
     "metadata": {
      "needs_background": "light"
     },
     "output_type": "display_data"
    }
   ],
   "source": [
    "plt.scatter(x_embed[labels_df_wo[labels_df_wo[\"label\"] == 0].index,0], x_embed[labels_df_wo[labels_df_wo[\"label\"] == 0].index,1], label=1)\n",
    "plt.scatter(x_embed[labels_df_wo[labels_df_wo[\"label\"] == 1].index,0], x_embed[labels_df_wo[labels_df_wo[\"label\"] == 1].index,1], label=2)\n",
    "plt.title('Graph of Wikipedia Science and Religion articles (done using tSN-E)')"
   ]
  },
  {
   "cell_type": "markdown",
   "metadata": {},
   "source": [
    "Except some overlap, from the laplacian eigengap and T-SNE we observe a clear difference between the articles belonging to science (orange) and the articles belonging to religion (blue)."
   ]
  },
  {
   "cell_type": "markdown",
   "metadata": {},
   "source": [
    "# III. Machine Learning"
   ]
  },
  {
   "cell_type": "markdown",
   "metadata": {},
   "source": [
    "## Heuristic Eigengaps"
   ]
  },
  {
   "cell_type": "code",
   "execution_count": 77,
   "metadata": {},
   "outputs": [
    {
     "data": {
      "text/plain": [
       "Text(0.5, 1.0, 'Eigenvalues $L_{comb}$')"
      ]
     },
     "execution_count": 77,
     "metadata": {},
     "output_type": "execute_result"
    },
    {
     "data": {
      "image/png": "[encoded data removed]",
      "text/plain": [
       "<Figure size 864x360 with 1 Axes>"
      ]
     },
     "metadata": {
      "needs_background": "light"
     },
     "output_type": "display_data"
    }
   ],
   "source": [
    "laplacian = matrixu.compute_laplacian(adjacency_wo, normalize = True)\n",
    "eigenvalues, eigenvectors = matrixu.spectral_decomposition(laplacian)\n",
    "plt.figure(figsize=(12,5))\n",
    "plt.plot(eigenvalues[0:20])\n",
    "plt.xlabel('Index')\n",
    "plt.ylabel('Eigenvalue')\n",
    "plt.title('Eigenvalues $L_{comb}$')"
   ]
  },
  {
   "cell_type": "markdown",
   "metadata": {},
   "source": [
    "The heuristic eigengaps state that the number of clusters need to be equal to the index of eigenvalues with the largest difference between themselves. However, here there is no clear cut except maybe for the index 2 that have a large eigengap."
   ]
  },
  {
   "cell_type": "markdown",
   "metadata": {},
   "source": [
    "## Unsupervised learning"
   ]
  },
  {
   "cell_type": "code",
   "execution_count": 92,
   "metadata": {},
   "outputs": [],
   "source": [
    "class SpectralClustering():\n",
    "    def __init__(self, n_classes: int, normalize: bool):\n",
    "        self.n_classes = n_classes\n",
    "        self.normalize = normalize\n",
    "        self.laplacian = None\n",
    "        self.e = None\n",
    "        self.U = None\n",
    "        self.clustering_method =  None\n",
    "        \n",
    "    def fit_predict(self, adjacency):\n",
    "        \"\"\" Your code should be correct both for the combinatorial\n",
    "            and the symmetric normalized spectral clustering.\n",
    "            Return:\n",
    "            y_pred (np.ndarray): cluster assignments.\n",
    "        \"\"\"\n",
    "        laplacian = matrixu.compute_laplacian(adjacency, self.normalize)\n",
    "        lamb, U = matrixu.spectral_decomposition(laplacian)\n",
    "        Y = U[:,0:self.n_classes].real\n",
    "        kmeans = KMeans(n_clusters = self.n_classes).fit(Y)\n",
    "        y_pred =  kmeans.predict(Y)\n",
    "        centers = kmeans.cluster_centers_\n",
    "        return y_pred, centers\n",
    "    \n",
    "    def make_clusters(self, adjacency, tf_idf_wo, df) : \n",
    "        y_pred, centers = self.fit_predict(adjacency)\n",
    "        y_pred = pd.DataFrame(y_pred, columns = [\"label\"])\n",
    "        laplacian = matrixu.compute_laplacian(adjacency, True)\n",
    "        lamb, U = matrixu.spectral_decomposition(laplacian)\n",
    "        Y = U[:,0:self.n_classes].real\n",
    "        clusters_df = pd.DataFrame([tf_idf_wo.columns.values[np.argsort(-(Y @ centers.T).T@tf_idf_wo.values, 1)[i][:10]] for i in range(self.n_classes)]).T\n",
    "        clusters_df.index = [3, 4, 5, 6, 7, 8, 9, 10, 11, 12]\n",
    "        clusters_df.loc[0] = tf_idf_wo.index[np.argmax(Y @ centers.T, 0)]\n",
    "        clusters_df.loc[1] = [df.merge(tf_idf_wo.iloc[y_pred[y_pred[\"label\"] == i].index], on = \"article\").explode(\"words\").groupby([\"article\"]).count().sort_values(by = [\"words\"], ascending = False).index[0] for i in range(self.n_classes)]\n",
    "        clusters_df.loc[2] = [views_df.merge(tf_idf_wo.iloc[y_pred[y_pred[\"label\"] == i].index], on = \"article\").sort_values(by = [\"views\"], ascending = False).iloc[0][\"article\"] for i in range(self.n_classes)]\n",
    "        clusters_df.loc[13] = [len(y_pred[y_pred[\"label\"] == i]) for i in range(self.n_classes)]\n",
    "        clusters_df.loc[14] = [100 - (labels_df_wo.iloc[y_pred[y_pred[\"label\"] == i].index].sum().values[-1:]*100 / len(y_pred[y_pred[\"label\"] == i])) for i in range(self.n_classes)]\n",
    "        clusters_df.loc[15] = [labels_df_wo.iloc[y_pred[y_pred[\"label\"] == i].index].sum().values[-1:]*100 / len(y_pred[y_pred[\"label\"] == i]) for i in range(self.n_classes)]\n",
    "        clustering = [0 for  i in range(self.n_classes)]\n",
    "        for i in range(self.n_classes):\n",
    "            graph = nx.from_numpy_matrix(hyperlinks[views_df.reset_index().merge(tf_idf_wo.iloc[y_pred[y_pred[\"label\"] == i].index], on = \"article\").index,:][:,views_df.reset_index().merge(tf_idf_wo.iloc[y_pred[y_pred[\"label\"] == i].index], on = \"article\").index])\n",
    "            clustering[i] = nx.average_clustering(graph)\n",
    "        clusters_df.loc[16] = clustering\n",
    "        clusters_df.sort_index(inplace=True)\n",
    "        clusters_df.index = [\"Most relevant article\", \"Longest article\", \"Most viewed article\", \"1\", \"2\", \"3\", \"4\", \"5\", \"6\", \"7\", \"8\", \"9\", \"10\", \"Number of articles\",\"Percentage of religion article\", \"Percentage of science articles\", \"Average clustering of the hyperlinks matrix\"]\n",
    "        clusters_df.sort_values(by = [\"Number of articles\"], axis = 1, inplace = True)\n",
    "        return clusters_df, y_pred"
   ]
  },
  {
   "cell_type": "markdown",
   "metadata": {},
   "source": [
    "### The clusters"
   ]
  },
  {
   "cell_type": "code",
   "execution_count": 93,
   "metadata": {},
   "outputs": [
    {
     "data": {
      "text/html": [
       "<div>\n",
       "<style scoped>\n",
       "    .dataframe tbody tr th:only-of-type {\n",
       "        vertical-align: middle;\n",
       "    }\n",
       "\n",
       "    .dataframe tbody tr th {\n",
       "        vertical-align: top;\n",
       "    }\n",
       "\n",
       "    .dataframe thead th {\n",
       "        text-align: right;\n",
       "    }\n",
       "</style>\n",
       "<table border=\"1\" class=\"dataframe\">\n",
       "  <thead>\n",
       "    <tr style=\"text-align: right;\">\n",
       "      <th></th>\n",
       "      <th>1</th>\n",
       "      <th>0</th>\n",
       "    </tr>\n",
       "  </thead>\n",
       "  <tbody>\n",
       "    <tr>\n",
       "      <td>Most relevant article</td>\n",
       "      <td>Criticism of religion</td>\n",
       "      <td>Logology (science)</td>\n",
       "    </tr>\n",
       "    <tr>\n",
       "      <td>Longest article</td>\n",
       "      <td>Religious symbolism in the United States military</td>\n",
       "      <td>Well-being contributing factors</td>\n",
       "    </tr>\n",
       "    <tr>\n",
       "      <td>Most viewed article</td>\n",
       "      <td>List of religious populations</td>\n",
       "      <td>Myers–Briggs Type Indicator</td>\n",
       "    </tr>\n",
       "    <tr>\n",
       "      <td>1</td>\n",
       "      <td>religion</td>\n",
       "      <td>science</td>\n",
       "    </tr>\n",
       "    <tr>\n",
       "      <td>2</td>\n",
       "      <td>religious</td>\n",
       "      <td>scientific</td>\n",
       "    </tr>\n",
       "    <tr>\n",
       "      <td>3</td>\n",
       "      <td>god</td>\n",
       "      <td>research</td>\n",
       "    </tr>\n",
       "    <tr>\n",
       "      <td>4</td>\n",
       "      <td>church</td>\n",
       "      <td>also</td>\n",
       "    </tr>\n",
       "    <tr>\n",
       "      <td>5</td>\n",
       "      <td>religions</td>\n",
       "      <td>technology</td>\n",
       "    </tr>\n",
       "    <tr>\n",
       "      <td>6</td>\n",
       "      <td>christian</td>\n",
       "      <td>book</td>\n",
       "    </tr>\n",
       "    <tr>\n",
       "      <td>7</td>\n",
       "      <td>also</td>\n",
       "      <td>university</td>\n",
       "    </tr>\n",
       "    <tr>\n",
       "      <td>8</td>\n",
       "      <td>one</td>\n",
       "      <td>new</td>\n",
       "    </tr>\n",
       "    <tr>\n",
       "      <td>9</td>\n",
       "      <td>world</td>\n",
       "      <td>scientists</td>\n",
       "    </tr>\n",
       "    <tr>\n",
       "      <td>10</td>\n",
       "      <td>people</td>\n",
       "      <td>one</td>\n",
       "    </tr>\n",
       "    <tr>\n",
       "      <td>Number of articles</td>\n",
       "      <td>503</td>\n",
       "      <td>1797</td>\n",
       "    </tr>\n",
       "    <tr>\n",
       "      <td>Percentage of religion article</td>\n",
       "      <td>[98.01192842942346]</td>\n",
       "      <td>[13.68948247078464]</td>\n",
       "    </tr>\n",
       "    <tr>\n",
       "      <td>Percentage of science articles</td>\n",
       "      <td>[1.9880715705765408]</td>\n",
       "      <td>[86.31051752921536]</td>\n",
       "    </tr>\n",
       "    <tr>\n",
       "      <td>Average clustering of the hyperlinks matrix</td>\n",
       "      <td>0.387455</td>\n",
       "      <td>0.367513</td>\n",
       "    </tr>\n",
       "  </tbody>\n",
       "</table>\n",
       "</div>"
      ],
      "text/plain": [
       "                                                                                             1  \\\n",
       "Most relevant article                                                    Criticism of religion   \n",
       "Longest article                              Religious symbolism in the United States military   \n",
       "Most viewed article                                              List of religious populations   \n",
       "1                                                                                     religion   \n",
       "2                                                                                    religious   \n",
       "3                                                                                          god   \n",
       "4                                                                                       church   \n",
       "5                                                                                    religions   \n",
       "6                                                                                    christian   \n",
       "7                                                                                         also   \n",
       "8                                                                                          one   \n",
       "9                                                                                        world   \n",
       "10                                                                                      people   \n",
       "Number of articles                                                                         503   \n",
       "Percentage of religion article                                             [98.01192842942346]   \n",
       "Percentage of science articles                                            [1.9880715705765408]   \n",
       "Average clustering of the hyperlinks matrix                                           0.387455   \n",
       "\n",
       "                                                                           0  \n",
       "Most relevant article                                     Logology (science)  \n",
       "Longest article                              Well-being contributing factors  \n",
       "Most viewed article                              Myers–Briggs Type Indicator  \n",
       "1                                                                    science  \n",
       "2                                                                 scientific  \n",
       "3                                                                   research  \n",
       "4                                                                       also  \n",
       "5                                                                 technology  \n",
       "6                                                                       book  \n",
       "7                                                                 university  \n",
       "8                                                                        new  \n",
       "9                                                                 scientists  \n",
       "10                                                                       one  \n",
       "Number of articles                                                      1797  \n",
       "Percentage of religion article                           [13.68948247078464]  \n",
       "Percentage of science articles                           [86.31051752921536]  \n",
       "Average clustering of the hyperlinks matrix                         0.367513  "
      ]
     },
     "execution_count": 93,
     "metadata": {},
     "output_type": "execute_result"
    }
   ],
   "source": [
    "spectral_clustering = SpectralClustering(n_classes=2, normalize=True)\n",
    "clusters_df, y_pred = spectral_clustering.make_clusters(adjacency_wo, tf_idf_wo, words_df_reduced)\n",
    "clusters_df"
   ]
  },
  {
   "cell_type": "markdown",
   "metadata": {},
   "source": [
    "Two clusters seem to differentiate : one cluster with approximatively only religion articles, the other one with approximatively all the science articles plus a part of religion articles. What characterized these religions articles. To have a closer look we perform the entire pipeline with only this subset of articles."
   ]
  },
  {
   "cell_type": "code",
   "execution_count": 94,
   "metadata": {},
   "outputs": [
    {
     "data": {
      "text/html": [
       "<div>\n",
       "<style scoped>\n",
       "    .dataframe tbody tr th:only-of-type {\n",
       "        vertical-align: middle;\n",
       "    }\n",
       "\n",
       "    .dataframe tbody tr th {\n",
       "        vertical-align: top;\n",
       "    }\n",
       "\n",
       "    .dataframe thead th {\n",
       "        text-align: right;\n",
       "    }\n",
       "</style>\n",
       "<table border=\"1\" class=\"dataframe\">\n",
       "  <thead>\n",
       "    <tr style=\"text-align: right;\">\n",
       "      <th></th>\n",
       "      <th>article</th>\n",
       "      <th>words</th>\n",
       "      <th>label</th>\n",
       "      <th>words_string</th>\n",
       "      <th>label_x</th>\n",
       "      <th>index</th>\n",
       "      <th>label_y</th>\n",
       "    </tr>\n",
       "  </thead>\n",
       "  <tbody>\n",
       "    <tr>\n",
       "      <td>10</td>\n",
       "      <td>Center for Inquiry</td>\n",
       "      <td>[center, inquiry, cfi, nonprofit, advocacy, or...</td>\n",
       "      <td>0</td>\n",
       "      <td>center inquiry cfi nonprofit advocacy organiza...</td>\n",
       "      <td>0</td>\n",
       "      <td>10</td>\n",
       "      <td>0</td>\n",
       "    </tr>\n",
       "    <tr>\n",
       "      <td>11</td>\n",
       "      <td>Coexist (image)</td>\n",
       "      <td>[coexist, image, often, styled, coexist, coexi...</td>\n",
       "      <td>0</td>\n",
       "      <td>coexist image often styled coexist coexist ima...</td>\n",
       "      <td>0</td>\n",
       "      <td>11</td>\n",
       "      <td>0</td>\n",
       "    </tr>\n",
       "    <tr>\n",
       "      <td>13</td>\n",
       "      <td>Joseph-Aurélien Cornet</td>\n",
       "      <td>[cornet, born, may, bièvre, died, january, cin...</td>\n",
       "      <td>0</td>\n",
       "      <td>cornet born may bièvre died january ciney belg...</td>\n",
       "      <td>0</td>\n",
       "      <td>13</td>\n",
       "      <td>0</td>\n",
       "    </tr>\n",
       "    <tr>\n",
       "      <td>14</td>\n",
       "      <td>Đạo Mẫu</td>\n",
       "      <td>[đạo, mẫu, vietnamese, ɗâːwˀ, 道母, worship, mot...</td>\n",
       "      <td>0</td>\n",
       "      <td>đạo mẫu vietnamese ɗâːwˀ 道母 worship mother god...</td>\n",
       "      <td>0</td>\n",
       "      <td>14</td>\n",
       "      <td>0</td>\n",
       "    </tr>\n",
       "    <tr>\n",
       "      <td>23</td>\n",
       "      <td>England's Happiness in the Crowning of William...</td>\n",
       "      <td>[england, happiness, crowning, william, mary, ...</td>\n",
       "      <td>0</td>\n",
       "      <td>england happiness crowning william mary englis...</td>\n",
       "      <td>0</td>\n",
       "      <td>23</td>\n",
       "      <td>0</td>\n",
       "    </tr>\n",
       "    <tr>\n",
       "      <td>26</td>\n",
       "      <td>Faith literate</td>\n",
       "      <td>[faith, literate, describes, ability, individu...</td>\n",
       "      <td>0</td>\n",
       "      <td>faith literate describes ability individual be...</td>\n",
       "      <td>0</td>\n",
       "      <td>26</td>\n",
       "      <td>0</td>\n",
       "    </tr>\n",
       "    <tr>\n",
       "      <td>28</td>\n",
       "      <td>Golden Rule</td>\n",
       "      <td>[golden, rule, principle, treating, others, wa...</td>\n",
       "      <td>0</td>\n",
       "      <td>golden rule principle treating others want tre...</td>\n",
       "      <td>0</td>\n",
       "      <td>28</td>\n",
       "      <td>0</td>\n",
       "    </tr>\n",
       "    <tr>\n",
       "      <td>33</td>\n",
       "      <td>Intersex people and religion</td>\n",
       "      <td>[intersex, people, born, sex, characteristics,...</td>\n",
       "      <td>0</td>\n",
       "      <td>intersex people born sex characteristics chrom...</td>\n",
       "      <td>0</td>\n",
       "      <td>33</td>\n",
       "      <td>0</td>\n",
       "    </tr>\n",
       "    <tr>\n",
       "      <td>38</td>\n",
       "      <td>Mesopotamian divination</td>\n",
       "      <td>[mesopotamian, divination, divination, within,...</td>\n",
       "      <td>0</td>\n",
       "      <td>mesopotamian divination divination within meso...</td>\n",
       "      <td>0</td>\n",
       "      <td>38</td>\n",
       "      <td>0</td>\n",
       "    </tr>\n",
       "    <tr>\n",
       "      <td>45</td>\n",
       "      <td>Pathinettampadi</td>\n",
       "      <td>[pathinettampadi, malayalam, divine, steps, fa...</td>\n",
       "      <td>0</td>\n",
       "      <td>pathinettampadi malayalam divine steps famed s...</td>\n",
       "      <td>0</td>\n",
       "      <td>45</td>\n",
       "      <td>0</td>\n",
       "    </tr>\n",
       "  </tbody>\n",
       "</table>\n",
       "</div>"
      ],
      "text/plain": [
       "                                              article  \\\n",
       "10                                 Center for Inquiry   \n",
       "11                                    Coexist (image)   \n",
       "13                             Joseph-Aurélien Cornet   \n",
       "14                                            Đạo Mẫu   \n",
       "23  England's Happiness in the Crowning of William...   \n",
       "26                                     Faith literate   \n",
       "28                                        Golden Rule   \n",
       "33                       Intersex people and religion   \n",
       "38                            Mesopotamian divination   \n",
       "45                                    Pathinettampadi   \n",
       "\n",
       "                                                words  label  \\\n",
       "10  [center, inquiry, cfi, nonprofit, advocacy, or...      0   \n",
       "11  [coexist, image, often, styled, coexist, coexi...      0   \n",
       "13  [cornet, born, may, bièvre, died, january, cin...      0   \n",
       "14  [đạo, mẫu, vietnamese, ɗâːwˀ, 道母, worship, mot...      0   \n",
       "23  [england, happiness, crowning, william, mary, ...      0   \n",
       "26  [faith, literate, describes, ability, individu...      0   \n",
       "28  [golden, rule, principle, treating, others, wa...      0   \n",
       "33  [intersex, people, born, sex, characteristics,...      0   \n",
       "38  [mesopotamian, divination, divination, within,...      0   \n",
       "45  [pathinettampadi, malayalam, divine, steps, fa...      0   \n",
       "\n",
       "                                         words_string  label_x  index  label_y  \n",
       "10  center inquiry cfi nonprofit advocacy organiza...        0     10        0  \n",
       "11  coexist image often styled coexist coexist ima...        0     11        0  \n",
       "13  cornet born may bièvre died january ciney belg...        0     13        0  \n",
       "14  đạo mẫu vietnamese ɗâːwˀ 道母 worship mother god...        0     14        0  \n",
       "23  england happiness crowning william mary englis...        0     23        0  \n",
       "26  faith literate describes ability individual be...        0     26        0  \n",
       "28  golden rule principle treating others want tre...        0     28        0  \n",
       "33  intersex people born sex characteristics chrom...        0     33        0  \n",
       "38  mesopotamian divination divination within meso...        0     38        0  \n",
       "45  pathinettampadi malayalam divine steps famed s...        0     45        0  "
      ]
     },
     "execution_count": 94,
     "metadata": {},
     "output_type": "execute_result"
    }
   ],
   "source": [
    "new_interest_df = y_pred[y_pred[\"label\"] == 0].merge(labels_df_wo[labels_df_wo[\"label\"] == 0], left_index = True, right_index = True)\n",
    "new_df = words_df_reduced.merge(new_interest_df, left_index = True, right_on = \"index\")\n",
    "new_df.head(10)"
   ]
  },
  {
   "cell_type": "code",
   "execution_count": 111,
   "metadata": {},
   "outputs": [],
   "source": [
    "def entire_pipeline(df, nb_clusters=2):\n",
    "    tf_idf = nlpu.TF_IDF(df, 50)\n",
    "    features = tf_idf\n",
    "    important_words_df = pd.DataFrame(tf_idf.sum(axis=0, numeric_only=True).sort_values(ascending = False),\\\n",
    "                                  columns=['tfidf'])\n",
    "    features_a = np.array(features)\n",
    "    distances = matrixu.cosine_distances(matrixu, features_a)\n",
    "    adjacency = matrixu.article_sim_th(0.60,distances, weight=True)\n",
    "    removed_df, distances_wo, tf_idf_wo, new_labels_df_wo = matrixu.remove_noconnected(adjacency, distances, tf_idf, labels_df_wo)\n",
    "    adjacency_wo = matrixu.article_sim_th(0.50,distances_wo, weight=True)\n",
    "    laplacian = matrixu.compute_laplacian(adjacency_wo, normalize = True)\n",
    "    eigenvalues, eigenvectors = matrixu.spectral_decomposition(laplacian)\n",
    "    plt.figure(figsize=(12,5))\n",
    "    plt.plot(eigenvalues[0:20])\n",
    "    plt.xlabel('Index')\n",
    "    plt.ylabel('Eigenvalue')\n",
    "    plt.title('Eigenvalues $L_{comb}$')\n",
    "    spectral_clustering = SpectralClustering(n_classes=nb_clusters, normalize=True)\n",
    "    clusters_df, y_pred = spectral_clustering.make_clusters(adjacency_wo, tf_idf_wo, new_df)\n",
    "    return clusters_df, y_pred, important_words_df, removed_df, new_labels_df_wo, tf_idf_wo"
   ]
  },
  {
   "cell_type": "code",
   "execution_count": 112,
   "metadata": {},
   "outputs": [
    {
     "data": {
      "text/html": [
       "<div>\n",
       "<style scoped>\n",
       "    .dataframe tbody tr th:only-of-type {\n",
       "        vertical-align: middle;\n",
       "    }\n",
       "\n",
       "    .dataframe tbody tr th {\n",
       "        vertical-align: top;\n",
       "    }\n",
       "\n",
       "    .dataframe thead th {\n",
       "        text-align: right;\n",
       "    }\n",
       "</style>\n",
       "<table border=\"1\" class=\"dataframe\">\n",
       "  <thead>\n",
       "    <tr style=\"text-align: right;\">\n",
       "      <th></th>\n",
       "      <th>3</th>\n",
       "      <th>2</th>\n",
       "      <th>4</th>\n",
       "      <th>1</th>\n",
       "      <th>0</th>\n",
       "    </tr>\n",
       "  </thead>\n",
       "  <tbody>\n",
       "    <tr>\n",
       "      <td>Most relevant article</td>\n",
       "      <td>Long Healing Prayer</td>\n",
       "      <td>Lists of skepticism topics</td>\n",
       "      <td>Theosophy and literature</td>\n",
       "      <td>Faith and Globalisation Initiative</td>\n",
       "      <td>Monty Python</td>\n",
       "    </tr>\n",
       "    <tr>\n",
       "      <td>Longest article</td>\n",
       "      <td>Bahá'í studies</td>\n",
       "      <td>List of Armenian Catholicoi of Cilicia</td>\n",
       "      <td>Theosophy and music</td>\n",
       "      <td>Center for Inquiry</td>\n",
       "      <td>Well-being contributing factors</td>\n",
       "    </tr>\n",
       "    <tr>\n",
       "      <td>Most viewed article</td>\n",
       "      <td>Salah times</td>\n",
       "      <td>List of angels in theology</td>\n",
       "      <td>King of Kings</td>\n",
       "      <td>Center for Inquiry</td>\n",
       "      <td>George Carlin</td>\n",
       "    </tr>\n",
       "    <tr>\n",
       "      <td>1</td>\n",
       "      <td>bahá</td>\n",
       "      <td>list</td>\n",
       "      <td>theosophical</td>\n",
       "      <td>university</td>\n",
       "      <td>one</td>\n",
       "    </tr>\n",
       "    <tr>\n",
       "      <td>2</td>\n",
       "      <td>prayer</td>\n",
       "      <td>deities</td>\n",
       "      <td>retrieved</td>\n",
       "      <td>testament</td>\n",
       "      <td>also</td>\n",
       "    </tr>\n",
       "    <tr>\n",
       "      <td>3</td>\n",
       "      <td>book</td>\n",
       "      <td>angel</td>\n",
       "      <td>blavatsky</td>\n",
       "      <td>faith</td>\n",
       "      <td>time</td>\n",
       "    </tr>\n",
       "    <tr>\n",
       "      <td>4</td>\n",
       "      <td>published</td>\n",
       "      <td>testament</td>\n",
       "      <td>isbn</td>\n",
       "      <td>center</td>\n",
       "      <td>would</td>\n",
       "    </tr>\n",
       "    <tr>\n",
       "      <td>5</td>\n",
       "      <td>faith</td>\n",
       "      <td>see</td>\n",
       "      <td>buddhism</td>\n",
       "      <td>new</td>\n",
       "      <td>people</td>\n",
       "    </tr>\n",
       "    <tr>\n",
       "      <td>6</td>\n",
       "      <td>studies</td>\n",
       "      <td>also</td>\n",
       "      <td>society</td>\n",
       "      <td>list</td>\n",
       "      <td>book</td>\n",
       "    </tr>\n",
       "    <tr>\n",
       "      <td>7</td>\n",
       "      <td>study</td>\n",
       "      <td>references</td>\n",
       "      <td>university</td>\n",
       "      <td>study</td>\n",
       "      <td>world</td>\n",
       "    </tr>\n",
       "    <tr>\n",
       "      <td>8</td>\n",
       "      <td>religion</td>\n",
       "      <td>people</td>\n",
       "      <td>may</td>\n",
       "      <td>studies</td>\n",
       "      <td>new</td>\n",
       "    </tr>\n",
       "    <tr>\n",
       "      <td>9</td>\n",
       "      <td>also</td>\n",
       "      <td>new</td>\n",
       "      <td>new</td>\n",
       "      <td>angel</td>\n",
       "      <td>first</td>\n",
       "    </tr>\n",
       "    <tr>\n",
       "      <td>10</td>\n",
       "      <td>university</td>\n",
       "      <td>external</td>\n",
       "      <td>one</td>\n",
       "      <td>religion</td>\n",
       "      <td>states</td>\n",
       "    </tr>\n",
       "    <tr>\n",
       "      <td>Number of articles</td>\n",
       "      <td>7</td>\n",
       "      <td>14</td>\n",
       "      <td>14</td>\n",
       "      <td>30</td>\n",
       "      <td>171</td>\n",
       "    </tr>\n",
       "    <tr>\n",
       "      <td>Percentage of religion article</td>\n",
       "      <td>[100.0]</td>\n",
       "      <td>[100.0]</td>\n",
       "      <td>[100.0]</td>\n",
       "      <td>[100.0]</td>\n",
       "      <td>[100.0]</td>\n",
       "    </tr>\n",
       "    <tr>\n",
       "      <td>Percentage of science articles</td>\n",
       "      <td>[0.0]</td>\n",
       "      <td>[0.0]</td>\n",
       "      <td>[0.0]</td>\n",
       "      <td>[0.0]</td>\n",
       "      <td>[0.0]</td>\n",
       "    </tr>\n",
       "    <tr>\n",
       "      <td>Average clustering of the hyperlinks matrix</td>\n",
       "      <td>0</td>\n",
       "      <td>0</td>\n",
       "      <td>0.166667</td>\n",
       "      <td>0.241319</td>\n",
       "      <td>0.40305</td>\n",
       "    </tr>\n",
       "  </tbody>\n",
       "</table>\n",
       "</div>"
      ],
      "text/plain": [
       "                                                               3  \\\n",
       "Most relevant article                        Long Healing Prayer   \n",
       "Longest article                                   Bahá'í studies   \n",
       "Most viewed article                                  Salah times   \n",
       "1                                                           bahá   \n",
       "2                                                         prayer   \n",
       "3                                                           book   \n",
       "4                                                      published   \n",
       "5                                                          faith   \n",
       "6                                                        studies   \n",
       "7                                                          study   \n",
       "8                                                       religion   \n",
       "9                                                           also   \n",
       "10                                                    university   \n",
       "Number of articles                                             7   \n",
       "Percentage of religion article                           [100.0]   \n",
       "Percentage of science articles                             [0.0]   \n",
       "Average clustering of the hyperlinks matrix                    0   \n",
       "\n",
       "                                                                                  2  \\\n",
       "Most relevant article                                    Lists of skepticism topics   \n",
       "Longest article                              List of Armenian Catholicoi of Cilicia   \n",
       "Most viewed article                                      List of angels in theology   \n",
       "1                                                                              list   \n",
       "2                                                                           deities   \n",
       "3                                                                             angel   \n",
       "4                                                                         testament   \n",
       "5                                                                               see   \n",
       "6                                                                              also   \n",
       "7                                                                        references   \n",
       "8                                                                            people   \n",
       "9                                                                               new   \n",
       "10                                                                         external   \n",
       "Number of articles                                                               14   \n",
       "Percentage of religion article                                              [100.0]   \n",
       "Percentage of science articles                                                [0.0]   \n",
       "Average clustering of the hyperlinks matrix                                       0   \n",
       "\n",
       "                                                                    4  \\\n",
       "Most relevant article                        Theosophy and literature   \n",
       "Longest article                                   Theosophy and music   \n",
       "Most viewed article                                     King of Kings   \n",
       "1                                                        theosophical   \n",
       "2                                                           retrieved   \n",
       "3                                                           blavatsky   \n",
       "4                                                                isbn   \n",
       "5                                                            buddhism   \n",
       "6                                                             society   \n",
       "7                                                          university   \n",
       "8                                                                 may   \n",
       "9                                                                 new   \n",
       "10                                                                one   \n",
       "Number of articles                                                 14   \n",
       "Percentage of religion article                                [100.0]   \n",
       "Percentage of science articles                                  [0.0]   \n",
       "Average clustering of the hyperlinks matrix                  0.166667   \n",
       "\n",
       "                                                                              1  \\\n",
       "Most relevant article                        Faith and Globalisation Initiative   \n",
       "Longest article                                              Center for Inquiry   \n",
       "Most viewed article                                          Center for Inquiry   \n",
       "1                                                                    university   \n",
       "2                                                                     testament   \n",
       "3                                                                         faith   \n",
       "4                                                                        center   \n",
       "5                                                                           new   \n",
       "6                                                                          list   \n",
       "7                                                                         study   \n",
       "8                                                                       studies   \n",
       "9                                                                         angel   \n",
       "10                                                                     religion   \n",
       "Number of articles                                                           30   \n",
       "Percentage of religion article                                          [100.0]   \n",
       "Percentage of science articles                                            [0.0]   \n",
       "Average clustering of the hyperlinks matrix                            0.241319   \n",
       "\n",
       "                                                                           0  \n",
       "Most relevant article                                           Monty Python  \n",
       "Longest article                              Well-being contributing factors  \n",
       "Most viewed article                                            George Carlin  \n",
       "1                                                                        one  \n",
       "2                                                                       also  \n",
       "3                                                                       time  \n",
       "4                                                                      would  \n",
       "5                                                                     people  \n",
       "6                                                                       book  \n",
       "7                                                                      world  \n",
       "8                                                                        new  \n",
       "9                                                                      first  \n",
       "10                                                                    states  \n",
       "Number of articles                                                       171  \n",
       "Percentage of religion article                                       [100.0]  \n",
       "Percentage of science articles                                         [0.0]  \n",
       "Average clustering of the hyperlinks matrix                          0.40305  "
      ]
     },
     "execution_count": 112,
     "metadata": {},
     "output_type": "execute_result"
    },
    {
     "data": {
      "image/png": "[encoded data removed]",
      "text/plain": [
       "<Figure size 864x360 with 1 Axes>"
      ]
     },
     "metadata": {
      "needs_background": "light"
     },
     "output_type": "display_data"
    }
   ],
   "source": [
    "new_clusters_df, new_y_pred, new_important_words_df, new_removed, new_labels_df_wo, new_tf_idf_wo = entire_pipeline(new_df, 5)\n",
    "new_clusters_df"
   ]
  },
  {
   "cell_type": "markdown",
   "metadata": {},
   "source": [
    "5 major clusters : one which include the Bahaisme, a religion from Haifa, one about the list of angels and topic in religion, another one about theosophy which is a new religion movement launched by Helena Blavatsky, another one which include the fundation of research in science and religion and the final one representing the philosophy and spirituality."
   ]
  },
  {
   "cell_type": "markdown",
   "metadata": {},
   "source": [
    "We observe that the first 3 clusters have very low clustering from their hyperlink matrix, meaning that these articles are not connected between themselves via hyperlinks. This can come from two different things, either the clustering is not perfect and these articles have not a lot in common (in fact it is the three clusters with the less articles) or that the hyperlinks need to be improved to ensure links between articles from the same subject."
   ]
  },
  {
   "cell_type": "code",
   "execution_count": 109,
   "metadata": {},
   "outputs": [
    {
     "data": {
      "image/png": "[encoded data removed]",
      "text/plain": [
       "<Figure size 432x288 with 1 Axes>"
      ]
     },
     "metadata": {
      "needs_background": "light"
     },
     "output_type": "display_data"
    }
   ],
   "source": [
    "df = words_df_reduced.merge(pd.concat([removed_df, new_removed]), on = [\"article\",\"label\",\"words_string\"], how = \"left\", indicator=True)\n",
    "df = df[df[\"_merge\"]=='left_only'].drop(columns = [\"words_y\", \"_merge\"])\n",
    "df.columns = [\"article\", \"words\", \"label\", \"words_string\"]\n",
    "words = pd.concat([important_words_df, new_important_words_df]).index\n",
    "final_features = nlpu.TF_IDF(df, 100, True, words.values)\n",
    "features_a = np.array(final_features)\n",
    "distances = matrixu.cosine_distances(matrixu, features_a)\n",
    "final_adjacency = matrixu.article_sim_th(0.50,distances, weight=True)\n",
    "plt.spy(final_adjacency)\n",
    "plt.show()"
   ]
  },
  {
   "cell_type": "code",
   "execution_count": 193,
   "metadata": {},
   "outputs": [],
   "source": [
    "df0 = pd.DataFrame(df[df[\"article\"].isin(tf_idf_wo.iloc[y_pred[y_pred[\"label\"] == 1].index].index)].index.values, columns = [\"Index\"])\n",
    "df0[\"label\"] = 0\n",
    "df0[\"name\"] = \"This article is a religion related articles\"\n",
    "df1 = pd.DataFrame(df[df[\"article\"].isin(tf_idf_wo.iloc[y_pred[y_pred[\"label\"] == 0].index].index)].index.values, columns = [\"Index\"])\n",
    "df1[\"label\"] = 1\n",
    "df1[\"name\"] = \"This article is a science related articles\"\n",
    "df2 = pd.DataFrame(df[df[\"article\"].isin(new_tf_idf_wo.iloc[new_y_pred[new_y_pred[\"label\"] == 3].index].index)].index.values, columns = [\"Index\"])\n",
    "df2[\"label\"] = 2\n",
    "df2[\"name\"] = \"This article is a Bahaism related articles\"\n",
    "df3 = pd.DataFrame(df[df[\"article\"].isin(new_tf_idf_wo.iloc[new_y_pred[new_y_pred[\"label\"] == 2].index].index)].index.values, columns = [\"Index\"])\n",
    "df3[\"label\"] = 3\n",
    "df3[\"name\"] = \"This article is a list in religion related articles\"\n",
    "df4 = pd.DataFrame(df[df[\"article\"].isin(new_tf_idf_wo.iloc[new_y_pred[new_y_pred[\"label\"] == 4].index].index)].index.values, columns = [\"Index\"])\n",
    "df4[\"label\"] = 4\n",
    "df4[\"name\"] = \"This article is a theosophy related articles\"\n",
    "df5 = pd.DataFrame(df[df[\"article\"].isin(new_tf_idf_wo.iloc[new_y_pred[new_y_pred[\"label\"] == 1].index].index)].index.values, columns = [\"Index\"])\n",
    "df5[\"label\"] = 5\n",
    "df5[\"name\"] = \"This article is a research in religion related articles\" \n",
    "df6 = pd.DataFrame(df[df[\"article\"].isin(new_tf_idf_wo.iloc[new_y_pred[new_y_pred[\"label\"] == 0].index].index)].index.values, columns = [\"Index\"])\n",
    "df6[\"label\"] = 6\n",
    "df6[\"name\"] = \"This article is a spirituality, psychology and comedy about religion related articles\"\n",
    "df7 = pd.DataFrame(removed_df.index.values, columns = [\"Index\"])\n",
    "df7[\"label\"] = 7\n",
    "df7[\"name\"] = \"This article is either not connected to religion or science domains or a stub\"\n",
    "labels = pd.concat([df0, df1, df2, df3, df4, df5, df6]).drop_duplicates(subset = \"Index\", keep = \"last\").sort_values(by = ['Index'])"
   ]
  },
  {
   "cell_type": "markdown",
   "metadata": {},
   "source": [
    "We then create seven different cluster of articles"
   ]
  },
  {
   "cell_type": "markdown",
   "metadata": {},
   "source": [
    "# Supervised Learning"
   ]
  },
  {
   "cell_type": "code",
   "execution_count": 169,
   "metadata": {},
   "outputs": [
    {
     "data": {
      "text/plain": [
       "<torch._C.Generator at 0x15c4fe2d0>"
      ]
     },
     "execution_count": 169,
     "metadata": {},
     "output_type": "execute_result"
    }
   ],
   "source": [
    "import time\n",
    "\n",
    "import torch\n",
    "import torch.nn as nn\n",
    "import torch.nn.functional as F\n",
    "\n",
    "from dgl import DGLGraph\n",
    "import dgl.function as fn\n",
    "\n",
    "np.random.seed(0)\n",
    "torch.manual_seed(1)"
   ]
  },
  {
   "cell_type": "code",
   "execution_count": 170,
   "metadata": {},
   "outputs": [],
   "source": [
    "class LaplacianPolynomial(nn.Module):\n",
    "    def __init__(self,\n",
    "                 in_feats: int,\n",
    "                 out_feats: int,\n",
    "                 k: int,\n",
    "                 dropout_prob: float,\n",
    "                 norm=True):\n",
    "        super().__init__()\n",
    "        self._in_feats = in_feats\n",
    "        self._out_feats = out_feats\n",
    "        self._k = k\n",
    "        self._norm = norm\n",
    "        # Contains the weights learned by the Laplacian polynomial\n",
    "        self.pol_weights = nn.Parameter(torch.Tensor(self._k + 1))\n",
    "        # Contains the weights learned by the logistic regression (without bias)\n",
    "        self.logr_weights = nn.Parameter(torch.Tensor(in_feats, out_feats))\n",
    "        self.dropout = nn.Dropout(p=dropout_prob)\n",
    "        self.reset_parameters()\n",
    "\n",
    "    def reset_parameters(self):\n",
    "        \"\"\"Reinitialize learnable parameters.\"\"\"\n",
    "        torch.manual_seed(0)\n",
    "        torch.nn.init.xavier_uniform_(self.logr_weights, gain=0.01)\n",
    "        torch.nn.init.normal_(self.pol_weights, mean=0.0, std=1e-3)\n",
    "\n",
    "    def forward(self, graph, feat):\n",
    "        r\"\"\"Compute graph convolution.\n",
    "\n",
    "        Notes\n",
    "        -----\n",
    "        * Input shape: :math:`(N, *, \\text{in_feats})` where * means any number of additional\n",
    "          dimensions, :math:`N` is the number of nodes.\n",
    "        * Output shape: :math:`(N, *, \\text{out_feats})` where all but the last dimension are\n",
    "          the same shape as the input.\n",
    "\n",
    "        Parameters\n",
    "        ----------\n",
    "        graph (DGLGraph) : The graph.\n",
    "        feat (torch.Tensor): The input feature\n",
    "\n",
    "        Returns\n",
    "        -------\n",
    "        (torch.Tensor) The output feature\n",
    "        \"\"\"\n",
    "        feat = self.dropout(feat)\n",
    "        graph = graph.local_var()\n",
    "        \n",
    "        # D^(-1/2)\n",
    "        norm = torch.pow(graph.in_degrees().float().clamp(min=1), -0.5)\n",
    "        shp = norm.shape + (1,) * (feat.dim() - 1)\n",
    "        norm = torch.reshape(norm, shp)\n",
    "\n",
    "        # mult W first to reduce the feature size for aggregation.\n",
    "        feat = torch.matmul(feat, self.logr_weights)\n",
    "\n",
    "        result = self.pol_weights[0] * feat.clone()\n",
    "\n",
    "        for i in range(1, self._k + 1):\n",
    "            old_feat = feat.clone()\n",
    "            if self._norm:\n",
    "                feat = feat * norm\n",
    "            graph.ndata['h'] = feat\n",
    "            # Feat is not modified in place\n",
    "            graph.update_all(fn.copy_src(src='h', out='m'),\n",
    "                             fn.sum(msg='m', out='h'))\n",
    "            if self._norm:\n",
    "                graph.ndata['h'] = graph.ndata['h'] * norm\n",
    "\n",
    "            feat = old_feat - graph.ndata['h']\n",
    "            result += self.pol_weights[i] * feat\n",
    "\n",
    "        return result\n",
    "\n",
    "    def extra_repr(self):\n",
    "        \"\"\"Set the extra representation of the module,\n",
    "        which will come into effect when printing the model.\n",
    "        \"\"\"\n",
    "        summary = 'in={_in_feats}, out={_out_feats}'\n",
    "        summary += ', normalization={_norm}'\n",
    "        return summary.format(**self.__dict__)"
   ]
  },
  {
   "cell_type": "code",
   "execution_count": 223,
   "metadata": {},
   "outputs": [],
   "source": [
    "def train(model, g, features, labels, loss_fcn, train_mask, optimizer):\n",
    "    model.train()  # Activate dropout\n",
    "    \n",
    "    logits = model(g, features)\n",
    "    loss = loss_fcn(logits[train_mask], labels[train_mask])\n",
    "\n",
    "    optimizer.zero_grad()\n",
    "    loss.backward()\n",
    "    optimizer.step()\n",
    "    return loss\n",
    "\n",
    "def evaluate(model, g, features, labels, mask):\n",
    "    model.eval()  # Deactivate dropout\n",
    "    with torch.no_grad():\n",
    "        logits = model(g, features)[mask]  # only compute the evaluation set\n",
    "        labels = labels[mask]\n",
    "        _, indices = torch.max(logits, dim=1)\n",
    "        correct = torch.sum(indices == labels)\n",
    "        return correct.item() * 1.0 / len(labels)\n",
    "       \n",
    "def test_articles(model, g, features, mask):\n",
    "    model.eval()  # Deactivate dropout\n",
    "    with torch.no_grad():\n",
    "        logits = model(g, features)[mask] \n",
    "        _, indices = torch.max(logits, dim=1)\n",
    "        return indices\n",
    "    \n",
    "def make_predictions(list_articles, stop_words, df, words):\n",
    "    test_df = aquire.take_words(list_articles, stop_words, is_title = True)\n",
    "    predict_df = pd.concat([df[[\"article\", \"words\"]],test_df])\n",
    "    features_final = nlpu.TF_IDF(predict_df, 100, True, words.values)\n",
    "    features_a = np.array(features_final)\n",
    "    distances = matrixu.cosine_distances(matrixu, features_a)\n",
    "    adjacency = matrixu.article_sim_th(0.75,distances, weight=True)\n",
    "    removed_df, distances_wo, tf_idf_wo, new_labels_df_wo = matrixu.remove_noconnected(adjacency, distances, features_final, labels_df_wo, True, predict_df)\n",
    "    \n",
    "    if(len(list(set(removed_df[\"article\"].tolist()).intersection(list_articles))) != 0):\n",
    "        idx = [list_articles.index(list(set(removed_df[\"article\"].tolist()).intersection(list_articles))[j]) for j in range(len(list(set(removed_df[\"article\"].tolist()).intersection(list_articles))))]\n",
    "        \n",
    "        \n",
    "    adjacency = matrixu.article_sim_th(0.50,distances, weight=True)\n",
    "    graph = nx.from_numpy_array(adjacency)\n",
    "    graph = DGLGraph(graph)\n",
    "    features_ = torch.FloatTensor(features_a)\n",
    "    mask1 = np.zeros((len(df)))\n",
    "    mask2 = np.ones((len(list_articles)))\n",
    "    mask = np.concatenate((mask1,mask2))\n",
    "    mask = torch.BoolTensor(mask)\n",
    "    results = test_articles(model, graph, features_, mask).tolist()\n",
    "    class_df = pd.DataFrame(np.column_stack((list_articles,\\\n",
    "                                         [labels[labels[\"label\"] == results[i]][\"name\"].drop_duplicates().values[0] for i in range(len(list_articles))])),\\\n",
    "                                           columns = [\"Name of the Article\", \"Prediction\"])\n",
    "    if (len(list(set(removed_df[\"article\"].tolist()).intersection(list_articles))) != 0):\n",
    "        for k in range(len(idx)):\n",
    "            class_df.iloc[idx[k]] = [list_articles[idx[k]], \"This article is either not connected to religion or science domains or a stub\"]\n",
    "            \n",
    "    class_df = pd.DataFrame(class_df)\n",
    "    return class_df,"
   ]
  },
  {
   "cell_type": "markdown",
   "metadata": {},
   "source": [
    "## Binary classification (Science vs Religion)"
   ]
  },
  {
   "cell_type": "code",
   "execution_count": 226,
   "metadata": {},
   "outputs": [],
   "source": [
    "from sklearn.model_selection import train_test_split\n",
    "x1, x2, y1, y2, idx1, idx2 = train_test_split(\n",
    "    final_adjacency, new_labels_df_wo['label'], range(final_adjacency.shape[1]), test_size=0.4)\n",
    "x3, x4, y3, y4, idx3, idx4 = train_test_split(\n",
    "    x2, y2, idx2, test_size=0.5)"
   ]
  },
  {
   "cell_type": "code",
   "execution_count": 227,
   "metadata": {},
   "outputs": [],
   "source": [
    "train_df = pd.DataFrame(np.column_stack((idx1, np.ones(len(idx1)).T)), columns = ['idx', 'indices'])\n",
    "train_ = new_labels_df_wo.merge(train_df, left_index = True, right_on = 'idx', how = 'left').fillna(0)\n",
    "val_df = pd.DataFrame(np.column_stack((idx3, np.ones(len(idx3)).T)), columns = ['idx', 'indices'])\n",
    "val_ = new_labels_df_wo.merge(val_df, left_index = True, right_on = 'idx', how = 'left').fillna(0)\n",
    "test_df = pd.DataFrame(np.column_stack((idx4, np.ones(len(idx4)).T)), columns = ['idx', 'indices'])\n",
    "test_ = new_labels_df_wo.merge(val_df, left_index = True, right_on = 'idx', how = 'left').fillna(0)"
   ]
  },
  {
   "cell_type": "code",
   "execution_count": 228,
   "metadata": {},
   "outputs": [],
   "source": [
    "in_feats = final_features.shape[1] \n",
    "n_classes = 2\n",
    "pol_order = 3\n",
    "lr = 0.2\n",
    "weight_decay = 5e-6\n",
    "n_epochs = 100\n",
    "p_dropout = 0.8\n",
    "features_ = torch.FloatTensor(final_features.values) \n",
    "final_labels = torch.LongTensor(new_labels_df_wo['label'].values) \n",
    "train_mask = torch.BoolTensor(train_['indices'].values)\n",
    "val_mask = torch.BoolTensor(val_['indices'].values)\n",
    "test_mask = torch.BoolTensor(test_['indices'].values)"
   ]
  },
  {
   "cell_type": "code",
   "execution_count": 229,
   "metadata": {},
   "outputs": [
    {
     "name": "stderr",
     "output_type": "stream",
     "text": [
      "/Users/lucaseckes/miniconda2/envs/ntds_2019/lib/python3.7/site-packages/numpy/core/fromnumeric.py:2920: RuntimeWarning: Mean of empty slice.\n",
      "  out=out, **kwargs)\n",
      "/Users/lucaseckes/miniconda2/envs/ntds_2019/lib/python3.7/site-packages/numpy/core/_methods.py:85: RuntimeWarning: invalid value encountered in double_scalars\n",
      "  ret = ret.dtype.type(ret / rcount)\n"
     ]
    },
    {
     "name": "stdout",
     "output_type": "stream",
     "text": [
      "Epoch 00000 | Time(s) nan | Train Loss 0.6932 | Val Accuracy 0.6463\n",
      "Epoch 00001 | Time(s) nan | Train Loss 0.6851 | Val Accuracy 0.8275\n",
      "Epoch 00002 | Time(s) nan | Train Loss 0.6597 | Val Accuracy 0.8166\n",
      "Epoch 00003 | Time(s) 0.0136 | Train Loss 0.6120 | Val Accuracy 0.8231\n",
      "Epoch 00004 | Time(s) 0.0135 | Train Loss 0.5459 | Val Accuracy 0.8384\n",
      "Epoch 00005 | Time(s) 0.0134 | Train Loss 0.4783 | Val Accuracy 0.8515\n",
      "Epoch 00006 | Time(s) 0.0134 | Train Loss 0.4161 | Val Accuracy 0.8646\n",
      "Epoch 00007 | Time(s) 0.0134 | Train Loss 0.3708 | Val Accuracy 0.8777\n",
      "Epoch 00008 | Time(s) 0.0131 | Train Loss 0.3257 | Val Accuracy 0.8974\n",
      "Epoch 00009 | Time(s) 0.0130 | Train Loss 0.2868 | Val Accuracy 0.9061\n",
      "Epoch 00010 | Time(s) 0.0131 | Train Loss 0.2545 | Val Accuracy 0.9105\n",
      "Epoch 00011 | Time(s) 0.0133 | Train Loss 0.2367 | Val Accuracy 0.9127\n",
      "Epoch 00012 | Time(s) 0.0134 | Train Loss 0.2255 | Val Accuracy 0.9236\n",
      "Epoch 00013 | Time(s) 0.0136 | Train Loss 0.2116 | Val Accuracy 0.9279\n",
      "Epoch 00014 | Time(s) 0.0135 | Train Loss 0.2169 | Val Accuracy 0.9279\n",
      "Epoch 00015 | Time(s) 0.0136 | Train Loss 0.2047 | Val Accuracy 0.9279\n",
      "Epoch 00016 | Time(s) 0.0136 | Train Loss 0.1981 | Val Accuracy 0.9279\n",
      "Epoch 00017 | Time(s) 0.0135 | Train Loss 0.1983 | Val Accuracy 0.9258\n",
      "Epoch 00018 | Time(s) 0.0134 | Train Loss 0.1968 | Val Accuracy 0.9301\n",
      "Epoch 00019 | Time(s) 0.0135 | Train Loss 0.2090 | Val Accuracy 0.9323\n",
      "Epoch 00020 | Time(s) 0.0135 | Train Loss 0.1803 | Val Accuracy 0.9367\n",
      "Epoch 00021 | Time(s) 0.0137 | Train Loss 0.1918 | Val Accuracy 0.9345\n",
      "Epoch 00022 | Time(s) 0.0139 | Train Loss 0.1827 | Val Accuracy 0.9301\n",
      "Epoch 00023 | Time(s) 0.0140 | Train Loss 0.1960 | Val Accuracy 0.9301\n",
      "Epoch 00024 | Time(s) 0.0140 | Train Loss 0.1898 | Val Accuracy 0.9279\n",
      "Epoch 00025 | Time(s) 0.0140 | Train Loss 0.1961 | Val Accuracy 0.9301\n",
      "Epoch 00026 | Time(s) 0.0140 | Train Loss 0.1959 | Val Accuracy 0.9323\n",
      "Epoch 00027 | Time(s) 0.0140 | Train Loss 0.1750 | Val Accuracy 0.9323\n",
      "Epoch 00028 | Time(s) 0.0139 | Train Loss 0.1794 | Val Accuracy 0.9367\n",
      "Epoch 00029 | Time(s) 0.0138 | Train Loss 0.1805 | Val Accuracy 0.9367\n",
      "Epoch 00030 | Time(s) 0.0138 | Train Loss 0.1820 | Val Accuracy 0.9389\n",
      "Epoch 00031 | Time(s) 0.0138 | Train Loss 0.1922 | Val Accuracy 0.9389\n",
      "Epoch 00032 | Time(s) 0.0139 | Train Loss 0.1795 | Val Accuracy 0.9367\n",
      "Epoch 00033 | Time(s) 0.0138 | Train Loss 0.1734 | Val Accuracy 0.9367\n",
      "Epoch 00034 | Time(s) 0.0138 | Train Loss 0.1707 | Val Accuracy 0.9345\n",
      "Epoch 00035 | Time(s) 0.0138 | Train Loss 0.1727 | Val Accuracy 0.9345\n",
      "Epoch 00036 | Time(s) 0.0138 | Train Loss 0.1738 | Val Accuracy 0.9345\n",
      "Epoch 00037 | Time(s) 0.0138 | Train Loss 0.1729 | Val Accuracy 0.9367\n",
      "Epoch 00038 | Time(s) 0.0138 | Train Loss 0.1669 | Val Accuracy 0.9389\n",
      "Epoch 00039 | Time(s) 0.0137 | Train Loss 0.1794 | Val Accuracy 0.9367\n",
      "Epoch 00040 | Time(s) 0.0137 | Train Loss 0.1647 | Val Accuracy 0.9345\n",
      "Epoch 00041 | Time(s) 0.0137 | Train Loss 0.1681 | Val Accuracy 0.9323\n",
      "Epoch 00042 | Time(s) 0.0137 | Train Loss 0.1631 | Val Accuracy 0.9323\n",
      "Epoch 00043 | Time(s) 0.0137 | Train Loss 0.1641 | Val Accuracy 0.9279\n",
      "Epoch 00044 | Time(s) 0.0138 | Train Loss 0.1659 | Val Accuracy 0.9279\n",
      "Epoch 00045 | Time(s) 0.0138 | Train Loss 0.1636 | Val Accuracy 0.9279\n",
      "Epoch 00046 | Time(s) 0.0138 | Train Loss 0.1735 | Val Accuracy 0.9279\n",
      "Epoch 00047 | Time(s) 0.0137 | Train Loss 0.1691 | Val Accuracy 0.9279\n",
      "Epoch 00048 | Time(s) 0.0137 | Train Loss 0.1667 | Val Accuracy 0.9279\n",
      "Epoch 00049 | Time(s) 0.0137 | Train Loss 0.1605 | Val Accuracy 0.9279\n",
      "Epoch 00050 | Time(s) 0.0137 | Train Loss 0.1685 | Val Accuracy 0.9279\n",
      "Epoch 00051 | Time(s) 0.0137 | Train Loss 0.1633 | Val Accuracy 0.9301\n",
      "Epoch 00052 | Time(s) 0.0137 | Train Loss 0.1658 | Val Accuracy 0.9301\n",
      "Epoch 00053 | Time(s) 0.0138 | Train Loss 0.1649 | Val Accuracy 0.9279\n",
      "Epoch 00054 | Time(s) 0.0138 | Train Loss 0.1613 | Val Accuracy 0.9279\n",
      "Epoch 00055 | Time(s) 0.0138 | Train Loss 0.1623 | Val Accuracy 0.9279\n",
      "Epoch 00056 | Time(s) 0.0138 | Train Loss 0.1632 | Val Accuracy 0.9279\n",
      "Epoch 00057 | Time(s) 0.0139 | Train Loss 0.1656 | Val Accuracy 0.9279\n",
      "Epoch 00058 | Time(s) 0.0140 | Train Loss 0.1757 | Val Accuracy 0.9323\n",
      "Epoch 00059 | Time(s) 0.0140 | Train Loss 0.1624 | Val Accuracy 0.9367\n",
      "Epoch 00060 | Time(s) 0.0141 | Train Loss 0.1642 | Val Accuracy 0.9367\n",
      "Epoch 00061 | Time(s) 0.0142 | Train Loss 0.1745 | Val Accuracy 0.9367\n",
      "Epoch 00062 | Time(s) 0.0142 | Train Loss 0.1692 | Val Accuracy 0.9367\n",
      "Epoch 00063 | Time(s) 0.0143 | Train Loss 0.1618 | Val Accuracy 0.9345\n",
      "Epoch 00064 | Time(s) 0.0143 | Train Loss 0.1693 | Val Accuracy 0.9323\n",
      "Epoch 00065 | Time(s) 0.0143 | Train Loss 0.1606 | Val Accuracy 0.9301\n",
      "Epoch 00066 | Time(s) 0.0144 | Train Loss 0.1630 | Val Accuracy 0.9279\n",
      "Epoch 00067 | Time(s) 0.0144 | Train Loss 0.1695 | Val Accuracy 0.9279\n",
      "Epoch 00068 | Time(s) 0.0144 | Train Loss 0.1669 | Val Accuracy 0.9301\n",
      "Epoch 00069 | Time(s) 0.0145 | Train Loss 0.1623 | Val Accuracy 0.9323\n",
      "Epoch 00070 | Time(s) 0.0145 | Train Loss 0.1644 | Val Accuracy 0.9345\n",
      "Epoch 00071 | Time(s) 0.0145 | Train Loss 0.1634 | Val Accuracy 0.9345\n",
      "Epoch 00072 | Time(s) 0.0146 | Train Loss 0.1670 | Val Accuracy 0.9367\n",
      "Epoch 00073 | Time(s) 0.0146 | Train Loss 0.1639 | Val Accuracy 0.9410\n",
      "Epoch 00074 | Time(s) 0.0146 | Train Loss 0.1614 | Val Accuracy 0.9410\n",
      "Epoch 00075 | Time(s) 0.0146 | Train Loss 0.1648 | Val Accuracy 0.9389\n",
      "Epoch 00076 | Time(s) 0.0147 | Train Loss 0.1613 | Val Accuracy 0.9345\n",
      "Epoch 00077 | Time(s) 0.0147 | Train Loss 0.1648 | Val Accuracy 0.9323\n",
      "Epoch 00078 | Time(s) 0.0147 | Train Loss 0.1616 | Val Accuracy 0.9279\n",
      "Epoch 00079 | Time(s) 0.0147 | Train Loss 0.1650 | Val Accuracy 0.9258\n",
      "Epoch 00080 | Time(s) 0.0146 | Train Loss 0.1559 | Val Accuracy 0.9258\n",
      "Epoch 00081 | Time(s) 0.0146 | Train Loss 0.1605 | Val Accuracy 0.9279\n",
      "Epoch 00082 | Time(s) 0.0146 | Train Loss 0.1580 | Val Accuracy 0.9301\n",
      "Epoch 00083 | Time(s) 0.0146 | Train Loss 0.1585 | Val Accuracy 0.9323\n",
      "Epoch 00084 | Time(s) 0.0147 | Train Loss 0.1614 | Val Accuracy 0.9345\n",
      "Epoch 00085 | Time(s) 0.0147 | Train Loss 0.1510 | Val Accuracy 0.9367\n",
      "Epoch 00086 | Time(s) 0.0148 | Train Loss 0.1632 | Val Accuracy 0.9389\n",
      "Epoch 00087 | Time(s) 0.0148 | Train Loss 0.1576 | Val Accuracy 0.9389\n",
      "Epoch 00088 | Time(s) 0.0148 | Train Loss 0.1549 | Val Accuracy 0.9389\n",
      "Epoch 00089 | Time(s) 0.0148 | Train Loss 0.1635 | Val Accuracy 0.9389\n",
      "Epoch 00090 | Time(s) 0.0148 | Train Loss 0.1634 | Val Accuracy 0.9389\n",
      "Epoch 00091 | Time(s) 0.0149 | Train Loss 0.1594 | Val Accuracy 0.9389\n",
      "Epoch 00092 | Time(s) 0.0149 | Train Loss 0.1575 | Val Accuracy 0.9389\n",
      "Epoch 00093 | Time(s) 0.0149 | Train Loss 0.1610 | Val Accuracy 0.9367\n",
      "Epoch 00094 | Time(s) 0.0149 | Train Loss 0.1583 | Val Accuracy 0.9367\n",
      "Epoch 00095 | Time(s) 0.0149 | Train Loss 0.1609 | Val Accuracy 0.9345\n",
      "Epoch 00096 | Time(s) 0.0148 | Train Loss 0.1570 | Val Accuracy 0.9367\n",
      "Epoch 00097 | Time(s) 0.0148 | Train Loss 0.1526 | Val Accuracy 0.9367\n",
      "Epoch 00098 | Time(s) 0.0148 | Train Loss 0.1575 | Val Accuracy 0.9367\n",
      "Epoch 00099 | Time(s) 0.0148 | Train Loss 0.1604 | Val Accuracy 0.9367\n",
      "\n",
      "Test Accuracy 0.9367\n"
     ]
    }
   ],
   "source": [
    "model = LaplacianPolynomial(in_feats, n_classes, pol_order, p_dropout)\n",
    "\n",
    "graph_nx = nx.from_numpy_matrix(final_adjacency)\n",
    "graph = DGLGraph(graph_nx)\n",
    "\n",
    "loss_fcn = torch.nn.CrossEntropyLoss()\n",
    "optimizer = torch.optim.Adam(model.parameters(),\n",
    "                             lr=lr,\n",
    "                             weight_decay=weight_decay)\n",
    "\n",
    "dur = []\n",
    "for epoch in range(n_epochs):\n",
    "    if epoch >= 3:\n",
    "        t0 = time.time()\n",
    "    loss = train(model, graph, features_, final_labels, loss_fcn, train_mask, optimizer)\n",
    "\n",
    "    if epoch >= 3:\n",
    "        dur.append(time.time() - t0)\n",
    "\n",
    "    acc = evaluate(model, graph, features_, final_labels, val_mask)\n",
    "    print(\"Epoch {:05d} | Time(s) {:.4f} | Train Loss {:.4f} | Val Accuracy {:.4f}\". format(\n",
    "            epoch, np.mean(dur), loss.item(), acc))\n",
    "\n",
    "print()\n",
    "acc = evaluate(model, graph, features_, final_labels, test_mask)\n",
    "print(\"Test Accuracy {:.4f}\".format(acc))"
   ]
  },
  {
   "cell_type": "markdown",
   "metadata": {},
   "source": [
    "## 7 class classification"
   ]
  },
  {
   "cell_type": "code",
   "execution_count": 230,
   "metadata": {},
   "outputs": [],
   "source": [
    "from sklearn.model_selection import train_test_split\n",
    "x1, x2, y1, y2, idx1, idx2 = train_test_split(\n",
    "    final_adjacency, labels['label'], range(final_adjacency.shape[1]), test_size=0.4)\n",
    "x3, x4, y3, y4, idx3, idx4 = train_test_split(\n",
    "    x2, y2, idx2, test_size=0.5)"
   ]
  },
  {
   "cell_type": "code",
   "execution_count": 231,
   "metadata": {},
   "outputs": [],
   "source": [
    "train_df = pd.DataFrame(np.column_stack((idx1, np.ones(len(idx1)).T)), columns = ['idx', 'indices'])\n",
    "train_ = labels.merge(train_df, left_index = True, right_on = 'idx', how = 'left').fillna(0)\n",
    "val_df = pd.DataFrame(np.column_stack((idx3, np.ones(len(idx3)).T)), columns = ['idx', 'indices'])\n",
    "val_ = labels.merge(val_df, left_index = True, right_on = 'idx', how = 'left').fillna(0)\n",
    "test_df = pd.DataFrame(np.column_stack((idx4, np.ones(len(idx4)).T)), columns = ['idx', 'indices'])\n",
    "test_ = labels.merge(val_df, left_index = True, right_on = 'idx', how = 'left').fillna(0)"
   ]
  },
  {
   "cell_type": "code",
   "execution_count": 232,
   "metadata": {},
   "outputs": [],
   "source": [
    "in_feats = final_features.shape[1] \n",
    "n_classes = 8\n",
    "pol_order = 3\n",
    "lr = 0.2\n",
    "weight_decay = 5e-6\n",
    "n_epochs = 100\n",
    "p_dropout = 0.8\n",
    "features_ = torch.FloatTensor(final_features.values) \n",
    "final_labels = torch.LongTensor(labels['label'].values) \n",
    "train_mask = torch.BoolTensor(train_['indices'].values)\n",
    "val_mask = torch.BoolTensor(val_['indices'].values)\n",
    "test_mask = torch.BoolTensor(test_['indices'].values)"
   ]
  },
  {
   "cell_type": "code",
   "execution_count": 233,
   "metadata": {},
   "outputs": [
    {
     "name": "stdout",
     "output_type": "stream",
     "text": [
      "Epoch 00000 | Time(s) nan | Train Loss 2.0794 | Val Accuracy 0.3553\n",
      "Epoch 00001 | Time(s) nan | Train Loss 2.0626 | Val Accuracy 0.4872\n",
      "Epoch 00002 | Time(s) nan | Train Loss 2.0009 | Val Accuracy 0.6915\n",
      "Epoch 00003 | Time(s) 0.0162 | Train Loss 1.8757 | Val Accuracy 0.8298\n",
      "Epoch 00004 | Time(s) 0.0160 | Train Loss 1.6752 | Val Accuracy 0.8383\n",
      "Epoch 00005 | Time(s) 0.0152 | Train Loss 1.4307 | Val Accuracy 0.8404\n",
      "Epoch 00006 | Time(s) 0.0144 | Train Loss 1.1750 | Val Accuracy 0.8404\n",
      "Epoch 00007 | Time(s) 0.0147 | Train Loss 0.9583 | Val Accuracy 0.8468\n",
      "Epoch 00008 | Time(s) 0.0149 | Train Loss 0.7825 | Val Accuracy 0.8468\n",
      "Epoch 00009 | Time(s) 0.0150 | Train Loss 0.6758 | Val Accuracy 0.8468\n",
      "Epoch 00010 | Time(s) 0.0154 | Train Loss 0.6332 | Val Accuracy 0.8426\n",
      "Epoch 00011 | Time(s) 0.0156 | Train Loss 0.5687 | Val Accuracy 0.8404\n",
      "Epoch 00012 | Time(s) 0.0157 | Train Loss 0.5767 | Val Accuracy 0.8404\n",
      "Epoch 00013 | Time(s) 0.0158 | Train Loss 0.5588 | Val Accuracy 0.8426\n",
      "Epoch 00014 | Time(s) 0.0158 | Train Loss 0.5377 | Val Accuracy 0.8468\n",
      "Epoch 00015 | Time(s) 0.0157 | Train Loss 0.5385 | Val Accuracy 0.8468\n",
      "Epoch 00016 | Time(s) 0.0157 | Train Loss 0.5116 | Val Accuracy 0.8489\n",
      "Epoch 00017 | Time(s) 0.0157 | Train Loss 0.4757 | Val Accuracy 0.8489\n",
      "Epoch 00018 | Time(s) 0.0159 | Train Loss 0.4431 | Val Accuracy 0.8574\n",
      "Epoch 00019 | Time(s) 0.0160 | Train Loss 0.4371 | Val Accuracy 0.8574\n",
      "Epoch 00020 | Time(s) 0.0160 | Train Loss 0.4140 | Val Accuracy 0.8638\n",
      "Epoch 00021 | Time(s) 0.0159 | Train Loss 0.3601 | Val Accuracy 0.8766\n",
      "Epoch 00022 | Time(s) 0.0159 | Train Loss 0.3678 | Val Accuracy 0.8894\n",
      "Epoch 00023 | Time(s) 0.0159 | Train Loss 0.3791 | Val Accuracy 0.8872\n",
      "Epoch 00024 | Time(s) 0.0159 | Train Loss 0.3996 | Val Accuracy 0.8979\n",
      "Epoch 00025 | Time(s) 0.0159 | Train Loss 0.3733 | Val Accuracy 0.8979\n",
      "Epoch 00026 | Time(s) 0.0158 | Train Loss 0.3591 | Val Accuracy 0.8872\n",
      "Epoch 00027 | Time(s) 0.0158 | Train Loss 0.3328 | Val Accuracy 0.8787\n",
      "Epoch 00028 | Time(s) 0.0158 | Train Loss 0.3252 | Val Accuracy 0.8809\n",
      "Epoch 00029 | Time(s) 0.0159 | Train Loss 0.3196 | Val Accuracy 0.8745\n",
      "Epoch 00030 | Time(s) 0.0159 | Train Loss 0.3077 | Val Accuracy 0.8702\n",
      "Epoch 00031 | Time(s) 0.0158 | Train Loss 0.2926 | Val Accuracy 0.8702\n",
      "Epoch 00032 | Time(s) 0.0158 | Train Loss 0.2953 | Val Accuracy 0.8702\n",
      "Epoch 00033 | Time(s) 0.0158 | Train Loss 0.3072 | Val Accuracy 0.8702\n",
      "Epoch 00034 | Time(s) 0.0158 | Train Loss 0.3069 | Val Accuracy 0.8723\n",
      "Epoch 00035 | Time(s) 0.0157 | Train Loss 0.3019 | Val Accuracy 0.8745\n",
      "Epoch 00036 | Time(s) 0.0157 | Train Loss 0.3149 | Val Accuracy 0.8809\n",
      "Epoch 00037 | Time(s) 0.0158 | Train Loss 0.3018 | Val Accuracy 0.8809\n",
      "Epoch 00038 | Time(s) 0.0158 | Train Loss 0.2913 | Val Accuracy 0.8830\n",
      "Epoch 00039 | Time(s) 0.0158 | Train Loss 0.2772 | Val Accuracy 0.8894\n",
      "Epoch 00040 | Time(s) 0.0158 | Train Loss 0.2897 | Val Accuracy 0.8915\n",
      "Epoch 00041 | Time(s) 0.0158 | Train Loss 0.2734 | Val Accuracy 0.9000\n",
      "Epoch 00042 | Time(s) 0.0158 | Train Loss 0.2591 | Val Accuracy 0.9043\n",
      "Epoch 00043 | Time(s) 0.0157 | Train Loss 0.2639 | Val Accuracy 0.9043\n",
      "Epoch 00044 | Time(s) 0.0157 | Train Loss 0.3014 | Val Accuracy 0.9021\n",
      "Epoch 00045 | Time(s) 0.0158 | Train Loss 0.2763 | Val Accuracy 0.8979\n",
      "Epoch 00046 | Time(s) 0.0158 | Train Loss 0.2591 | Val Accuracy 0.9000\n",
      "Epoch 00047 | Time(s) 0.0159 | Train Loss 0.2852 | Val Accuracy 0.9021\n",
      "Epoch 00048 | Time(s) 0.0162 | Train Loss 0.2690 | Val Accuracy 0.8894\n",
      "Epoch 00049 | Time(s) 0.0163 | Train Loss 0.2487 | Val Accuracy 0.8872\n",
      "Epoch 00050 | Time(s) 0.0165 | Train Loss 0.2671 | Val Accuracy 0.8872\n",
      "Epoch 00051 | Time(s) 0.0164 | Train Loss 0.2590 | Val Accuracy 0.8851\n",
      "Epoch 00052 | Time(s) 0.0164 | Train Loss 0.2469 | Val Accuracy 0.8809\n",
      "Epoch 00053 | Time(s) 0.0165 | Train Loss 0.2600 | Val Accuracy 0.8809\n",
      "Epoch 00054 | Time(s) 0.0165 | Train Loss 0.2763 | Val Accuracy 0.8809\n",
      "Epoch 00055 | Time(s) 0.0165 | Train Loss 0.2601 | Val Accuracy 0.8830\n",
      "Epoch 00056 | Time(s) 0.0165 | Train Loss 0.2576 | Val Accuracy 0.8872\n",
      "Epoch 00057 | Time(s) 0.0165 | Train Loss 0.2589 | Val Accuracy 0.8936\n",
      "Epoch 00058 | Time(s) 0.0165 | Train Loss 0.2406 | Val Accuracy 0.9021\n",
      "Epoch 00059 | Time(s) 0.0164 | Train Loss 0.2573 | Val Accuracy 0.9043\n",
      "Epoch 00060 | Time(s) 0.0164 | Train Loss 0.2470 | Val Accuracy 0.9043\n",
      "Epoch 00061 | Time(s) 0.0164 | Train Loss 0.2452 | Val Accuracy 0.9043\n",
      "Epoch 00062 | Time(s) 0.0164 | Train Loss 0.2452 | Val Accuracy 0.9043\n",
      "Epoch 00063 | Time(s) 0.0164 | Train Loss 0.2388 | Val Accuracy 0.9043\n",
      "Epoch 00064 | Time(s) 0.0164 | Train Loss 0.2551 | Val Accuracy 0.9043\n",
      "Epoch 00065 | Time(s) 0.0164 | Train Loss 0.2512 | Val Accuracy 0.9000\n",
      "Epoch 00066 | Time(s) 0.0163 | Train Loss 0.2329 | Val Accuracy 0.8957\n",
      "Epoch 00067 | Time(s) 0.0163 | Train Loss 0.2701 | Val Accuracy 0.8979\n",
      "Epoch 00068 | Time(s) 0.0163 | Train Loss 0.2293 | Val Accuracy 0.9000\n",
      "Epoch 00069 | Time(s) 0.0162 | Train Loss 0.2503 | Val Accuracy 0.9021\n",
      "Epoch 00070 | Time(s) 0.0162 | Train Loss 0.2466 | Val Accuracy 0.8979\n",
      "Epoch 00071 | Time(s) 0.0162 | Train Loss 0.2495 | Val Accuracy 0.8936\n",
      "Epoch 00072 | Time(s) 0.0162 | Train Loss 0.2325 | Val Accuracy 0.8894\n",
      "Epoch 00073 | Time(s) 0.0162 | Train Loss 0.2527 | Val Accuracy 0.8830\n",
      "Epoch 00074 | Time(s) 0.0162 | Train Loss 0.2488 | Val Accuracy 0.8872\n",
      "Epoch 00075 | Time(s) 0.0162 | Train Loss 0.2361 | Val Accuracy 0.9021\n",
      "Epoch 00076 | Time(s) 0.0161 | Train Loss 0.2326 | Val Accuracy 0.9043\n",
      "Epoch 00077 | Time(s) 0.0161 | Train Loss 0.2401 | Val Accuracy 0.9064\n",
      "Epoch 00078 | Time(s) 0.0161 | Train Loss 0.2459 | Val Accuracy 0.9064\n",
      "Epoch 00079 | Time(s) 0.0161 | Train Loss 0.2385 | Val Accuracy 0.9064\n",
      "Epoch 00080 | Time(s) 0.0162 | Train Loss 0.2452 | Val Accuracy 0.9000\n",
      "Epoch 00081 | Time(s) 0.0162 | Train Loss 0.2391 | Val Accuracy 0.9043\n",
      "Epoch 00082 | Time(s) 0.0162 | Train Loss 0.2441 | Val Accuracy 0.9064\n",
      "Epoch 00083 | Time(s) 0.0162 | Train Loss 0.2426 | Val Accuracy 0.9085\n",
      "Epoch 00084 | Time(s) 0.0163 | Train Loss 0.2481 | Val Accuracy 0.9064\n",
      "Epoch 00085 | Time(s) 0.0163 | Train Loss 0.2414 | Val Accuracy 0.9064\n",
      "Epoch 00086 | Time(s) 0.0164 | Train Loss 0.2466 | Val Accuracy 0.9085\n",
      "Epoch 00087 | Time(s) 0.0164 | Train Loss 0.2498 | Val Accuracy 0.9085\n",
      "Epoch 00088 | Time(s) 0.0165 | Train Loss 0.2525 | Val Accuracy 0.8979\n",
      "Epoch 00089 | Time(s) 0.0165 | Train Loss 0.2406 | Val Accuracy 0.8957\n",
      "Epoch 00090 | Time(s) 0.0165 | Train Loss 0.2328 | Val Accuracy 0.9043\n",
      "Epoch 00091 | Time(s) 0.0165 | Train Loss 0.2377 | Val Accuracy 0.9064\n",
      "Epoch 00092 | Time(s) 0.0165 | Train Loss 0.2316 | Val Accuracy 0.9085\n",
      "Epoch 00093 | Time(s) 0.0165 | Train Loss 0.2296 | Val Accuracy 0.9064\n",
      "Epoch 00094 | Time(s) 0.0165 | Train Loss 0.2452 | Val Accuracy 0.9043\n",
      "Epoch 00095 | Time(s) 0.0165 | Train Loss 0.2371 | Val Accuracy 0.8979\n",
      "Epoch 00096 | Time(s) 0.0165 | Train Loss 0.2379 | Val Accuracy 0.8957\n",
      "Epoch 00097 | Time(s) 0.0165 | Train Loss 0.2278 | Val Accuracy 0.8957\n",
      "Epoch 00098 | Time(s) 0.0165 | Train Loss 0.2524 | Val Accuracy 0.8957\n",
      "Epoch 00099 | Time(s) 0.0165 | Train Loss 0.2400 | Val Accuracy 0.9000\n",
      "\n",
      "Test Accuracy 0.9000\n"
     ]
    }
   ],
   "source": [
    "model = LaplacianPolynomial(in_feats, n_classes, pol_order, p_dropout)\n",
    "\n",
    "graph_nx = nx.from_numpy_matrix(final_adjacency)\n",
    "graph = DGLGraph(graph_nx)\n",
    "\n",
    "loss_fcn = torch.nn.CrossEntropyLoss()\n",
    "optimizer = torch.optim.Adam(model.parameters(),\n",
    "                             lr=lr,\n",
    "                             weight_decay=weight_decay)\n",
    "\n",
    "dur = []\n",
    "for epoch in range(n_epochs):\n",
    "    if epoch >= 3:\n",
    "        t0 = time.time()\n",
    "    loss = train(model, graph, features_, final_labels, loss_fcn, train_mask, optimizer)\n",
    "\n",
    "    if epoch >= 3:\n",
    "        dur.append(time.time() - t0)\n",
    "\n",
    "    acc = evaluate(model, graph, features_, final_labels, val_mask)\n",
    "    print(\"Epoch {:05d} | Time(s) {:.4f} | Train Loss {:.4f} | Val Accuracy {:.4f}\". format(\n",
    "            epoch, np.mean(dur), loss.item(), acc))\n",
    "\n",
    "print()\n",
    "acc = evaluate(model, graph, features_, final_labels, test_mask)\n",
    "print(\"Test Accuracy {:.4f}\".format(acc))"
   ]
  },
  {
   "cell_type": "markdown",
   "metadata": {},
   "source": [
    "## Prediction"
   ]
  },
  {
   "cell_type": "code",
   "execution_count": 224,
   "metadata": {},
   "outputs": [
    {
     "name": "stdout",
     "output_type": "stream",
     "text": [
      "[====================] 99%"
     ]
    }
   ],
   "source": [
    "list_articles = [\"God\", \"Network Science\", \"Gleti\", \"Helena Blavatsky\", \"Christian angelology\", \"Jesus\", \"Nabeul\",\\\n",
    "                 \"Lectures on Faith\", \"Principal component analysis\", \"Secular spirituality\", \"God in the Baháʼí Faith\"]\n",
    "predictions_df = make_predictions(list_articles, stop_words, df, words)"
   ]
  },
  {
   "cell_type": "code",
   "execution_count": 225,
   "metadata": {},
   "outputs": [
    {
     "data": {
      "text/html": [
       "<div>\n",
       "<style scoped>\n",
       "    .dataframe tbody tr th:only-of-type {\n",
       "        vertical-align: middle;\n",
       "    }\n",
       "\n",
       "    .dataframe tbody tr th {\n",
       "        vertical-align: top;\n",
       "    }\n",
       "\n",
       "    .dataframe thead th {\n",
       "        text-align: right;\n",
       "    }\n",
       "</style>\n",
       "<table border=\"1\" class=\"dataframe\">\n",
       "  <thead>\n",
       "    <tr style=\"text-align: right;\">\n",
       "      <th></th>\n",
       "      <th>Name of the Article</th>\n",
       "      <th>Prediction</th>\n",
       "    </tr>\n",
       "  </thead>\n",
       "  <tbody>\n",
       "    <tr>\n",
       "      <td>0</td>\n",
       "      <td>God</td>\n",
       "      <td>This article is a religion related articles</td>\n",
       "    </tr>\n",
       "    <tr>\n",
       "      <td>1</td>\n",
       "      <td>Network Science</td>\n",
       "      <td>This article is a science related articles</td>\n",
       "    </tr>\n",
       "    <tr>\n",
       "      <td>2</td>\n",
       "      <td>Gleti</td>\n",
       "      <td>This article is either not connected to religi...</td>\n",
       "    </tr>\n",
       "    <tr>\n",
       "      <td>3</td>\n",
       "      <td>Helena Blavatsky</td>\n",
       "      <td>This article is a theosophy related articles</td>\n",
       "    </tr>\n",
       "    <tr>\n",
       "      <td>4</td>\n",
       "      <td>Christian angelology</td>\n",
       "      <td>This article is a religion related articles</td>\n",
       "    </tr>\n",
       "    <tr>\n",
       "      <td>5</td>\n",
       "      <td>Jesus</td>\n",
       "      <td>This article is a religion related articles</td>\n",
       "    </tr>\n",
       "    <tr>\n",
       "      <td>6</td>\n",
       "      <td>Nabeul</td>\n",
       "      <td>This article is either not connected to religi...</td>\n",
       "    </tr>\n",
       "    <tr>\n",
       "      <td>7</td>\n",
       "      <td>Lectures on Faith</td>\n",
       "      <td>This article is a religion related articles</td>\n",
       "    </tr>\n",
       "    <tr>\n",
       "      <td>8</td>\n",
       "      <td>Principal component analysis</td>\n",
       "      <td>This article is a science related articles</td>\n",
       "    </tr>\n",
       "    <tr>\n",
       "      <td>9</td>\n",
       "      <td>Secular spirituality</td>\n",
       "      <td>This article is a religion related articles</td>\n",
       "    </tr>\n",
       "    <tr>\n",
       "      <td>10</td>\n",
       "      <td>God in the Baháʼí Faith</td>\n",
       "      <td>This article is a religion related articles</td>\n",
       "    </tr>\n",
       "  </tbody>\n",
       "</table>\n",
       "</div>"
      ],
      "text/plain": [
       "             Name of the Article  \\\n",
       "0                            God   \n",
       "1                Network Science   \n",
       "2                          Gleti   \n",
       "3               Helena Blavatsky   \n",
       "4           Christian angelology   \n",
       "5                          Jesus   \n",
       "6                         Nabeul   \n",
       "7              Lectures on Faith   \n",
       "8   Principal component analysis   \n",
       "9           Secular spirituality   \n",
       "10       God in the Baháʼí Faith   \n",
       "\n",
       "                                           Prediction  \n",
       "0         This article is a religion related articles  \n",
       "1          This article is a science related articles  \n",
       "2   This article is either not connected to religi...  \n",
       "3        This article is a theosophy related articles  \n",
       "4         This article is a religion related articles  \n",
       "5         This article is a religion related articles  \n",
       "6   This article is either not connected to religi...  \n",
       "7         This article is a religion related articles  \n",
       "8          This article is a science related articles  \n",
       "9         This article is a religion related articles  \n",
       "10        This article is a religion related articles  "
      ]
     },
     "execution_count": 225,
     "metadata": {},
     "output_type": "execute_result"
    }
   ],
   "source": [
    "predictions_df[0]"
   ]
  },
  {
   "cell_type": "markdown",
   "metadata": {},
   "source": [
    "The prediction result seem to be correct in a sense that it classify the article in the correct class between religion and science. Furthermore, the article Gleti which a stub about a Moon Goddess and about Nabeul, which is a city and hence no connected to the category of science or religion, correctly classify them in no connected or stub articles. However, we would like that some articles will be classify in a more accurate cluster. For example, the article God in the Baháʼí Faith should be classify in Bahism cluster meaning that there something wrong or to improve with our subcategories. The article about Helena Blavatsky who is the founder of the Theosophy movement is indeed correctly classify in the Theosophy cluster. "
   ]
  }
 ],
 "metadata": {
  "kernelspec": {
   "display_name": "Python 3",
   "language": "python",
   "name": "python3"
  },
  "language_info": {
   "codemirror_mode": {
    "name": "ipython",
    "version": 3
   },
   "file_extension": ".py",
   "mimetype": "text/x-python",
   "name": "python",
   "nbconvert_exporter": "python",
   "pygments_lexer": "ipython3",
   "version": "3.7.3"
  }
 },
 "nbformat": 4,
 "nbformat_minor": 4
}
