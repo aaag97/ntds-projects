{
 "cells": [
  {
   "cell_type": "code",
   "execution_count": 1,
   "metadata": {},
   "outputs": [],
   "source": [
    "import wikipedia\n",
    "wikipedia.set_lang('en') # setting wikipedia language\n",
    "import wikipediaapi\n",
    "import pandas as pd\n",
    "import numpy as np\n",
    "import matplotlib.pyplot as plt\n",
    "import networkx as nx\n",
    "from IPython.display import display\n",
    "from sklearn.feature_extraction.text import TfidfVectorizer\n",
    "from sklearn.feature_extraction.text import CountVectorizer\n",
    "from sklearn.feature_extraction.text import TfidfTransformer\n",
    "from time import sleep\n",
    "import sys\n",
    "\n",
    "import nltk # for nlp on articles\n",
    "#nltk.download(\"stopwords\")\n",
    "#nltk.download('punkt')\n",
    "from nltk.corpus import stopwords\n",
    "from nltk.tokenize import word_tokenize"
   ]
  },
  {
   "cell_type": "markdown",
   "metadata": {},
   "source": [
    "# I. Data Acquisition"
   ]
  },
  {
   "cell_type": "markdown",
   "metadata": {},
   "source": [
    "## Data Acquisition Utils"
   ]
  },
  {
   "cell_type": "code",
   "execution_count": 96,
   "metadata": {},
   "outputs": [],
   "source": [
    "class DataAquisitionUtils():\n",
    "\n",
    "    @staticmethod\n",
    "    def fetch_category_members(category_members, level=0, max_level=1):\n",
    "        \"\"\"\n",
    "        Function to take all article in category (max_level control the depth of articles taken from the subcategories)\n",
    "        Arguments:\n",
    "        category_members - a list of category members\n",
    "        level - the level at which to start getting articles\n",
    "        max_level - the maximal level for the fetched articles\n",
    "        Returns:\n",
    "        list_articles - a list of the desired articles\n",
    "        \"\"\"\n",
    "        return 0\n",
    "        list_articles = []\n",
    "        for c in category_members.values():\n",
    "            if c.ns == 0:\n",
    "                list_articles.append(c) \n",
    "                #print(\"%s: %s (ns: %d)\" % (\"*\" * (level + 1), c.title, c.ns))\n",
    "            elif level < max_level and c.ns == 14:\n",
    "                sub_list = []\n",
    "                sub_list = DataAquisitionUtils.fetch_category_members(c.categorymembers, level=level + 1, max_level=max_level)\n",
    "                list_articles = list_articles + sub_list\n",
    "        return list_articles\n",
    "\n",
    "    @staticmethod\n",
    "    def hyperlinks_matrix(list_articles):\n",
    "        \"\"\"\n",
    "        Computes an adjacency matrix with the hyperlinks between the different articles in the argument given\n",
    "        Arguments:\n",
    "        list_articles - a list of articles for which to compute the hyperlink matrix\n",
    "        Returns:\n",
    "        matrix - a binary matrix A where A[i,j] = 1 if article i has a hyperlinkt to article j, and A[i,j] = 0 otherwise\n",
    "        \"\"\"\n",
    "        len_time = len(list_articles)*0.05\n",
    "        matrix = np.zeros((len(list_articles), len(list_articles)))\n",
    "        compt = 0\n",
    "        for article in list_articles:\n",
    "            for link in article.links:\n",
    "                for i in range(len(list_articles)):\n",
    "                    if (link == list_articles[i].title):\n",
    "                        matrix[compt,i] = 1\n",
    "            compt = compt + 1\n",
    "            sys.stdout.write('\\r')\n",
    "            sys.stdout.write(\"[%-20s] %d%%\" % ('='*int(compt/len_time), int(5*compt/len_time)))\n",
    "            sys.stdout.flush()\n",
    "            sleep(0.25)\n",
    "        return matrix\n",
    "    \n",
    "    @staticmethod\n",
    "    def take_words(list_articles, stop_words, is_title = False):\n",
    "        \"\"\"\n",
    "        Function that tokenizes and returns all words in the list of articles given\n",
    "        Arguments:\n",
    "        list_articles - list of articles\n",
    "        is_title - whether the list contains pages or just strings of titles\n",
    "        Returns:\n",
    "        words_df - the words in the articles in a dataframe\n",
    "        \"\"\"\n",
    "        len_time = len(list_articles)*0.05\n",
    "        words_df = pd.DataFrame(columns=['article', 'words'])\n",
    "        for i in range(len(list_articles)):\n",
    "            try: \n",
    "                if (is_title == False):\n",
    "                    page = wikipedia.page(list_articles[i].title)\n",
    "                else:\n",
    "                    page = wikipedia.page(list_articles[i])\n",
    "            except wikipedia.DisambiguationError as e:\n",
    "                s = e.options\n",
    "                s = list(filter(lambda x : x != \"\", s))\n",
    "                try :\n",
    "                    page = wikipedia.page(s)\n",
    "                except wikipedia.DisambiguationError as e:\n",
    "                    pass\n",
    "            except wikipedia.PageError:\n",
    "                pass\n",
    "            words = word_tokenize(page.content)\n",
    "            words = [elem.lower() for elem in words]\n",
    "            words = [elem for elem in words if len(elem) > 1 and elem.isdigit() == False]\n",
    "            words_wostop = [x for x in words if x not in stop_words]\n",
    "            words_wostop = [elem.lower() for elem in words_wostop]\n",
    "            if (is_title == False):\n",
    "                words_df.loc[i] = [list_articles[i].title] + [words_wostop]\n",
    "            else:\n",
    "                words_df.loc[i] = [list_articles[i]] + [words_wostop]\n",
    "            sys.stdout.write('\\r')\n",
    "            sys.stdout.write(\"[%-20s] %d%%\" % ('='*int((i+1)/len_time), int(5*(i+1)/len_time)))\n",
    "            sys.stdout.flush()\n",
    "            sleep(0.25)\n",
    "        return words_df\n",
    "    \n",
    "    @staticmethod\n",
    "    def make_features(words, important_words_df, weights = True):\n",
    "        explode_df = words.explode('words')\n",
    "        if (weights == True) :\n",
    "            explode_df = explode_df.merge(important_words_df, on = 'words', how = 'right')\n",
    "            df = pd.DataFrame(words['article']).assign(key = 1).merge(pd.DataFrame(important_words_df['words']).assign(key = 1), on = 'key').drop('key', 1)\n",
    "            df2 = df.merge(explode_df, on = ['article','words'] , how = 'left').drop_duplicates().fillna(0)\n",
    "            df3 = pd.pivot_table(df2, values = 'tfidf',  index = 'article', columns=['words'])\n",
    "        else : \n",
    "            explode_df['exist'] = np.ones(len(explode_df))\n",
    "            df = pd.DataFrame(words['article']).assign(key = 1).merge(pd.DataFrame(important_words_df['words']).assign(key = 1), on = 'key').drop('key', 1)\n",
    "            df2 = df.merge(explode_df, on = ['article','words'] , how = 'left').drop_duplicates().fillna(0)\n",
    "            df3 = pd.pivot_table(df2, values = 'exist',  index = 'article', columns=['words'])\n",
    "        display(df3.head(10))\n",
    "        features = df3.values\n",
    "        return features"
   ]
  },
  {
   "cell_type": "markdown",
   "metadata": {},
   "source": [
    "## NLP Utilities"
   ]
  },
  {
   "cell_type": "code",
   "execution_count": 4,
   "metadata": {},
   "outputs": [],
   "source": [
    "class NLPUtilities():\n",
    "    \n",
    "    @staticmethod\n",
    "    def TF_IDF(words_df, nb_words):\n",
    "        \"\"\"\n",
    "        Function to get the words with the top TF-IDF scores\n",
    "        Arguments:\n",
    "        words_df - the dataframe consisting of the words to be considered\n",
    "        nb_words - the number of words we would like the function to return\n",
    "        Returns:\n",
    "        df - a dataframe containing the words with the best TF-IDF scores\n",
    "        \"\"\"\n",
    "        #remove strings like \"10,000\"\n",
    "        #religion_df['words'] = religion_df['words'].apply(lambda word_list: list(filter(lambda word: (',' not in word), word_list)))\n",
    "        #only keep strings that contain alphabet chars\n",
    "        words_df['words'] = words_df['words'].apply(lambda word_list: list(filter(lambda word: word.isalpha(), word_list)))\n",
    "        # create a column with all words concatenated\n",
    "        words_df['words_string'] = words_df['words'].apply(lambda words_list: \" \".join(words_list))\n",
    "\n",
    "        cv=CountVectorizer()\n",
    "        word_count_vector=cv.fit_transform(words_df['words_string'])\n",
    "\n",
    "        tfidf_transformer=TfidfTransformer(smooth_idf=True,use_idf=True)\n",
    "        tfidf_transformer.fit(word_count_vector)\n",
    "\n",
    "        # count matrix\n",
    "        count_vector=cv.transform(words_df['words_string'])\n",
    "\n",
    "        # tf-idf scores\n",
    "        tf_idf_vector=tfidf_transformer.transform(count_vector)\n",
    "\n",
    "        feature_names = cv.get_feature_names()\n",
    "        \n",
    "        dense = tf_idf_vector.todense()\n",
    "        denselist = dense.tolist()\n",
    "                \n",
    "        #tf_idf = matrix where rows are articles and columns are words and values are tfidf score for word in article\n",
    "        tf_idf = pd.DataFrame(data=denselist, columns=feature_names, index=words_df['article'])\n",
    "        \n",
    "        #these are the words that have the biggest tfidf score\n",
    "        important_words = pd.DataFrame(tf_idf.sum(axis=0, numeric_only=True).sort_values(ascending = False),\\\n",
    "                                  columns=['tfidf']).head(nb_words).index.values\n",
    "        \n",
    "        #only keep the most important words in matrix\n",
    "        tf_idf = tf_idf[important_words]\n",
    "\n",
    "        return tf_idf"
   ]
  },
  {
   "cell_type": "markdown",
   "metadata": {},
   "source": [
    "## Data Acquisition Pipeline"
   ]
  },
  {
   "cell_type": "markdown",
   "metadata": {},
   "source": [
    "### Fetching the articles of interest"
   ]
  },
  {
   "cell_type": "code",
   "execution_count": 97,
   "metadata": {},
   "outputs": [],
   "source": [
    "aquire = DataAquisitionUtils()"
   ]
  },
  {
   "cell_type": "code",
   "execution_count": 6,
   "metadata": {},
   "outputs": [],
   "source": [
    "wiki_wiki = wikipediaapi.Wikipedia('en') # getting articles in english\n",
    "# fetching the articles for categories of interest\n",
    "religion_page = wiki_wiki.page(\"Category:Religion\")\n",
    "science_page = wiki_wiki.page(\"Category:Science\")"
   ]
  },
  {
   "cell_type": "code",
   "execution_count": 7,
   "metadata": {},
   "outputs": [],
   "source": [
    "# EXECUTE IF YOU DO NOT HAVE PICKLES\n",
    "# religion_articles = aquire.fetch_category_members(religion_page.categorymembers,0,1)\n",
    "# science_articles = aquire.fetch_category_members(science_page.categorymembers)"
   ]
  },
  {
   "cell_type": "code",
   "execution_count": 8,
   "metadata": {},
   "outputs": [],
   "source": [
    "religion_articles = pd.read_pickle('./religion_articles')\n",
    "science_articles = pd.read_pickle('./science_articles')"
   ]
  },
  {
   "cell_type": "markdown",
   "metadata": {},
   "source": [
    "#### Hyperlink matrix"
   ]
  },
  {
   "cell_type": "code",
   "execution_count": 9,
   "metadata": {},
   "outputs": [],
   "source": [
    "# EXECUTE IF YOU DO NOT HAVE CSV\n",
    "# list_articles = religion_articles + science_articles\n",
    "# adjacency_matrix = aquire.hyperlinks_matrix(list_articles)\n",
    "# num_edges = np.count_nonzero(adjacency_matrix)\n",
    "# print(f\"Number of edges in the feature graph: {num_edges}\")\n",
    "# np.savetxt('hyperlinks.csv', adjacency_matrix)"
   ]
  },
  {
   "cell_type": "code",
   "execution_count": 10,
   "metadata": {},
   "outputs": [],
   "source": [
    "df = pd.read_csv('./hyperlinks.csv.zip')"
   ]
  },
  {
   "cell_type": "markdown",
   "metadata": {},
   "source": [
    "### Taking the words with the highest TF-IDF"
   ]
  },
  {
   "cell_type": "code",
   "execution_count": 11,
   "metadata": {},
   "outputs": [],
   "source": [
    "#Take all the words present in the articles that are not stopwords\n",
    "stop_found = ['====', '===', '==', '<<', '>>', \"''\", '``', \"'s\" , '\\displaystyle', '...', '\\phi', '\\mu', '\\mathbf', '--', 'x_',\n",
    "        '\\alpha', '\\dot', '\\hat', '\\lambda', '\\left', '\\right', 'mathcal', '\\nu', '\\partial'] #getting the stopwords found in the articles after exmination\n",
    "stop_pre = stopwords.words('english') # getting the common english stopwords\n",
    "stop_words = stop_found + stop_pre"
   ]
  },
  {
   "cell_type": "code",
   "execution_count": 12,
   "metadata": {},
   "outputs": [],
   "source": [
    "#religion_df = aquire.take_words(religion_articles, stop_words)\n",
    "religion_df = religion_articles\n",
    "religion_df = religion_df.drop_duplicates('article')"
   ]
  },
  {
   "cell_type": "code",
   "execution_count": 13,
   "metadata": {},
   "outputs": [],
   "source": [
    "#science_df = aquire.take_words(science_articles, stop_words)\n",
    "science_df = science_articles\n",
    "science_df = science_df.drop_duplicates('article')"
   ]
  },
  {
   "cell_type": "code",
   "execution_count": 66,
   "metadata": {},
   "outputs": [
    {
     "data": {
      "text/html": [
       "<div>\n",
       "<style scoped>\n",
       "    .dataframe tbody tr th:only-of-type {\n",
       "        vertical-align: middle;\n",
       "    }\n",
       "\n",
       "    .dataframe tbody tr th {\n",
       "        vertical-align: top;\n",
       "    }\n",
       "\n",
       "    .dataframe thead th {\n",
       "        text-align: right;\n",
       "    }\n",
       "</style>\n",
       "<table border=\"1\" class=\"dataframe\">\n",
       "  <thead>\n",
       "    <tr style=\"text-align: right;\">\n",
       "      <th></th>\n",
       "      <th>article</th>\n",
       "      <th>words</th>\n",
       "      <th>label</th>\n",
       "    </tr>\n",
       "  </thead>\n",
       "  <tbody>\n",
       "    <tr>\n",
       "      <td>0</td>\n",
       "      <td>Religion</td>\n",
       "      <td>[religion, social-cultural, system, designated...</td>\n",
       "      <td>0</td>\n",
       "    </tr>\n",
       "    <tr>\n",
       "      <td>1</td>\n",
       "      <td>African and African-American women in Christia...</td>\n",
       "      <td>[christianity, africa, began, egypt, middle, 1...</td>\n",
       "      <td>0</td>\n",
       "    </tr>\n",
       "    <tr>\n",
       "      <td>2</td>\n",
       "      <td>Religion and agriculture</td>\n",
       "      <td>[religion, agriculture, closely, associated, s...</td>\n",
       "      <td>0</td>\n",
       "    </tr>\n",
       "    <tr>\n",
       "      <td>3</td>\n",
       "      <td>American Anglican Church</td>\n",
       "      <td>[anglican, church, north, america, acna, chris...</td>\n",
       "      <td>0</td>\n",
       "    </tr>\n",
       "    <tr>\n",
       "      <td>4</td>\n",
       "      <td>American Humanist Association</td>\n",
       "      <td>[american, humanist, association, aha, non-pro...</td>\n",
       "      <td>0</td>\n",
       "    </tr>\n",
       "    <tr>\n",
       "      <td>...</td>\n",
       "      <td>...</td>\n",
       "      <td>...</td>\n",
       "      <td>...</td>\n",
       "    </tr>\n",
       "    <tr>\n",
       "      <td>1395</td>\n",
       "      <td>Scientific equipment optician</td>\n",
       "      <td>[scientific, equipment, optician, individual, ...</td>\n",
       "      <td>1</td>\n",
       "    </tr>\n",
       "    <tr>\n",
       "      <td>1396</td>\n",
       "      <td>Volcanologist</td>\n",
       "      <td>[volcanologist, vulcanologist, geologist, stud...</td>\n",
       "      <td>1</td>\n",
       "    </tr>\n",
       "    <tr>\n",
       "      <td>1397</td>\n",
       "      <td>Allen Brain Atlas</td>\n",
       "      <td>[allen, mouse, human, brain, atlases, projects...</td>\n",
       "      <td>1</td>\n",
       "    </tr>\n",
       "    <tr>\n",
       "      <td>1398</td>\n",
       "      <td>Allen Institute for Brain Science</td>\n",
       "      <td>[allen, institute, brain, science, seattle-bas...</td>\n",
       "      <td>1</td>\n",
       "    </tr>\n",
       "    <tr>\n",
       "      <td>1399</td>\n",
       "      <td>Amsterdam Call for Action on Open Science</td>\n",
       "      <td>[amsterdam, call, action, open, science, docum...</td>\n",
       "      <td>1</td>\n",
       "    </tr>\n",
       "  </tbody>\n",
       "</table>\n",
       "<p>1400 rows × 3 columns</p>\n",
       "</div>"
      ],
      "text/plain": [
       "                                                article  \\\n",
       "0                                              Religion   \n",
       "1     African and African-American women in Christia...   \n",
       "2                              Religion and agriculture   \n",
       "3                              American Anglican Church   \n",
       "4                         American Humanist Association   \n",
       "...                                                 ...   \n",
       "1395                      Scientific equipment optician   \n",
       "1396                                      Volcanologist   \n",
       "1397                                  Allen Brain Atlas   \n",
       "1398                  Allen Institute for Brain Science   \n",
       "1399          Amsterdam Call for Action on Open Science   \n",
       "\n",
       "                                                  words  label  \n",
       "0     [religion, social-cultural, system, designated...      0  \n",
       "1     [christianity, africa, began, egypt, middle, 1...      0  \n",
       "2     [religion, agriculture, closely, associated, s...      0  \n",
       "3     [anglican, church, north, america, acna, chris...      0  \n",
       "4     [american, humanist, association, aha, non-pro...      0  \n",
       "...                                                 ...    ...  \n",
       "1395  [scientific, equipment, optician, individual, ...      1  \n",
       "1396  [volcanologist, vulcanologist, geologist, stud...      1  \n",
       "1397  [allen, mouse, human, brain, atlases, projects...      1  \n",
       "1398  [allen, institute, brain, science, seattle-bas...      1  \n",
       "1399  [amsterdam, call, action, open, science, docum...      1  \n",
       "\n",
       "[1400 rows x 3 columns]"
      ]
     },
     "execution_count": 66,
     "metadata": {},
     "output_type": "execute_result"
    }
   ],
   "source": [
    "religion_labeled_df = religion_df.copy()\n",
    "religion_labeled_df['label'] = 0\n",
    "\n",
    "science_labeled_df = science_df.copy()\n",
    "science_labeled_df['label'] = 1\n",
    "\n",
    "#words_df_reduced = pd.concat([religion_labeled_df[:int(len(religion_labeled_df)/10)],\\\n",
    "#                      science_labeled_df[:int(len(science_labeled_df)/10)]], ignore_index=True)\n",
    "words_df_reduced = pd.concat([religion_labeled_df[:700], science_labeled_df[:700]], ignore_index=True)\n",
    "                              \n",
    "labels_df = pd.DataFrame(words_df_reduced['label'])\n",
    "words_df_reduced"
   ]
  },
  {
   "cell_type": "code",
   "execution_count": 15,
   "metadata": {},
   "outputs": [],
   "source": [
    "nlpu = NLPUtilities()"
   ]
  },
  {
   "cell_type": "code",
   "execution_count": 16,
   "metadata": {
    "scrolled": true
   },
   "outputs": [
    {
     "data": {
      "text/html": [
       "<div>\n",
       "<style scoped>\n",
       "    .dataframe tbody tr th:only-of-type {\n",
       "        vertical-align: middle;\n",
       "    }\n",
       "\n",
       "    .dataframe tbody tr th {\n",
       "        vertical-align: top;\n",
       "    }\n",
       "\n",
       "    .dataframe thead th {\n",
       "        text-align: right;\n",
       "    }\n",
       "</style>\n",
       "<table border=\"1\" class=\"dataframe\">\n",
       "  <thead>\n",
       "    <tr style=\"text-align: right;\">\n",
       "      <th></th>\n",
       "      <th>science</th>\n",
       "      <th>religion</th>\n",
       "      <th>religious</th>\n",
       "      <th>also</th>\n",
       "      <th>god</th>\n",
       "      <th>book</th>\n",
       "      <th>scientific</th>\n",
       "      <th>research</th>\n",
       "      <th>one</th>\n",
       "      <th>church</th>\n",
       "      <th>...</th>\n",
       "      <th>review</th>\n",
       "      <th>spiritual</th>\n",
       "      <th>information</th>\n",
       "      <th>system</th>\n",
       "      <th>however</th>\n",
       "      <th>john</th>\n",
       "      <th>islam</th>\n",
       "      <th>group</th>\n",
       "      <th>years</th>\n",
       "      <th>based</th>\n",
       "    </tr>\n",
       "    <tr>\n",
       "      <th>article</th>\n",
       "      <th></th>\n",
       "      <th></th>\n",
       "      <th></th>\n",
       "      <th></th>\n",
       "      <th></th>\n",
       "      <th></th>\n",
       "      <th></th>\n",
       "      <th></th>\n",
       "      <th></th>\n",
       "      <th></th>\n",
       "      <th></th>\n",
       "      <th></th>\n",
       "      <th></th>\n",
       "      <th></th>\n",
       "      <th></th>\n",
       "      <th></th>\n",
       "      <th></th>\n",
       "      <th></th>\n",
       "      <th></th>\n",
       "      <th></th>\n",
       "      <th></th>\n",
       "    </tr>\n",
       "  </thead>\n",
       "  <tbody>\n",
       "    <tr>\n",
       "      <td>Religion</td>\n",
       "      <td>0.040566</td>\n",
       "      <td>0.543287</td>\n",
       "      <td>0.261171</td>\n",
       "      <td>0.040955</td>\n",
       "      <td>0.040272</td>\n",
       "      <td>0.005691</td>\n",
       "      <td>0.020897</td>\n",
       "      <td>0.000000</td>\n",
       "      <td>0.059069</td>\n",
       "      <td>0.035598</td>\n",
       "      <td>...</td>\n",
       "      <td>0.004107</td>\n",
       "      <td>0.03139</td>\n",
       "      <td>0.000000</td>\n",
       "      <td>0.030415</td>\n",
       "      <td>0.026056</td>\n",
       "      <td>0.013743</td>\n",
       "      <td>0.075973</td>\n",
       "      <td>0.026332</td>\n",
       "      <td>0.000000</td>\n",
       "      <td>0.023621</td>\n",
       "    </tr>\n",
       "    <tr>\n",
       "      <td>African and African-American women in Christianity</td>\n",
       "      <td>0.000000</td>\n",
       "      <td>0.023470</td>\n",
       "      <td>0.039923</td>\n",
       "      <td>0.033911</td>\n",
       "      <td>0.006669</td>\n",
       "      <td>0.005654</td>\n",
       "      <td>0.000000</td>\n",
       "      <td>0.005804</td>\n",
       "      <td>0.013043</td>\n",
       "      <td>0.219298</td>\n",
       "      <td>...</td>\n",
       "      <td>0.000000</td>\n",
       "      <td>0.00000</td>\n",
       "      <td>0.007334</td>\n",
       "      <td>0.000000</td>\n",
       "      <td>0.028767</td>\n",
       "      <td>0.000000</td>\n",
       "      <td>0.053285</td>\n",
       "      <td>0.019623</td>\n",
       "      <td>0.006092</td>\n",
       "      <td>0.005868</td>\n",
       "    </tr>\n",
       "    <tr>\n",
       "      <td>Religion and agriculture</td>\n",
       "      <td>0.000000</td>\n",
       "      <td>0.069755</td>\n",
       "      <td>0.000000</td>\n",
       "      <td>0.040315</td>\n",
       "      <td>0.000000</td>\n",
       "      <td>0.000000</td>\n",
       "      <td>0.000000</td>\n",
       "      <td>0.000000</td>\n",
       "      <td>0.000000</td>\n",
       "      <td>0.000000</td>\n",
       "      <td>...</td>\n",
       "      <td>0.000000</td>\n",
       "      <td>0.00000</td>\n",
       "      <td>0.000000</td>\n",
       "      <td>0.000000</td>\n",
       "      <td>0.000000</td>\n",
       "      <td>0.000000</td>\n",
       "      <td>0.000000</td>\n",
       "      <td>0.000000</td>\n",
       "      <td>0.000000</td>\n",
       "      <td>0.069755</td>\n",
       "    </tr>\n",
       "    <tr>\n",
       "      <td>American Anglican Church</td>\n",
       "      <td>0.000000</td>\n",
       "      <td>0.001558</td>\n",
       "      <td>0.003028</td>\n",
       "      <td>0.017105</td>\n",
       "      <td>0.005311</td>\n",
       "      <td>0.006004</td>\n",
       "      <td>0.000000</td>\n",
       "      <td>0.000000</td>\n",
       "      <td>0.012696</td>\n",
       "      <td>0.259163</td>\n",
       "      <td>...</td>\n",
       "      <td>0.000000</td>\n",
       "      <td>0.00000</td>\n",
       "      <td>0.000000</td>\n",
       "      <td>0.000000</td>\n",
       "      <td>0.003055</td>\n",
       "      <td>0.003625</td>\n",
       "      <td>0.002358</td>\n",
       "      <td>0.003473</td>\n",
       "      <td>0.004852</td>\n",
       "      <td>0.000000</td>\n",
       "    </tr>\n",
       "    <tr>\n",
       "      <td>American Humanist Association</td>\n",
       "      <td>0.000000</td>\n",
       "      <td>0.009570</td>\n",
       "      <td>0.046511</td>\n",
       "      <td>0.019358</td>\n",
       "      <td>0.038071</td>\n",
       "      <td>0.000000</td>\n",
       "      <td>0.000000</td>\n",
       "      <td>0.004733</td>\n",
       "      <td>0.007091</td>\n",
       "      <td>0.011538</td>\n",
       "      <td>...</td>\n",
       "      <td>0.000000</td>\n",
       "      <td>0.00000</td>\n",
       "      <td>0.000000</td>\n",
       "      <td>0.000000</td>\n",
       "      <td>0.000000</td>\n",
       "      <td>0.016704</td>\n",
       "      <td>0.000000</td>\n",
       "      <td>0.005334</td>\n",
       "      <td>0.004968</td>\n",
       "      <td>0.000000</td>\n",
       "    </tr>\n",
       "    <tr>\n",
       "      <td>...</td>\n",
       "      <td>...</td>\n",
       "      <td>...</td>\n",
       "      <td>...</td>\n",
       "      <td>...</td>\n",
       "      <td>...</td>\n",
       "      <td>...</td>\n",
       "      <td>...</td>\n",
       "      <td>...</td>\n",
       "      <td>...</td>\n",
       "      <td>...</td>\n",
       "      <td>...</td>\n",
       "      <td>...</td>\n",
       "      <td>...</td>\n",
       "      <td>...</td>\n",
       "      <td>...</td>\n",
       "      <td>...</td>\n",
       "      <td>...</td>\n",
       "      <td>...</td>\n",
       "      <td>...</td>\n",
       "      <td>...</td>\n",
       "      <td>...</td>\n",
       "    </tr>\n",
       "    <tr>\n",
       "      <td>Scientific equipment optician</td>\n",
       "      <td>0.000000</td>\n",
       "      <td>0.000000</td>\n",
       "      <td>0.000000</td>\n",
       "      <td>0.049731</td>\n",
       "      <td>0.000000</td>\n",
       "      <td>0.000000</td>\n",
       "      <td>0.029000</td>\n",
       "      <td>0.000000</td>\n",
       "      <td>0.000000</td>\n",
       "      <td>0.000000</td>\n",
       "      <td>...</td>\n",
       "      <td>0.000000</td>\n",
       "      <td>0.00000</td>\n",
       "      <td>0.000000</td>\n",
       "      <td>0.000000</td>\n",
       "      <td>0.000000</td>\n",
       "      <td>0.100127</td>\n",
       "      <td>0.000000</td>\n",
       "      <td>0.000000</td>\n",
       "      <td>0.000000</td>\n",
       "      <td>0.000000</td>\n",
       "    </tr>\n",
       "    <tr>\n",
       "      <td>Volcanologist</td>\n",
       "      <td>0.023798</td>\n",
       "      <td>0.000000</td>\n",
       "      <td>0.000000</td>\n",
       "      <td>0.016018</td>\n",
       "      <td>0.015751</td>\n",
       "      <td>0.000000</td>\n",
       "      <td>0.000000</td>\n",
       "      <td>0.027415</td>\n",
       "      <td>0.010268</td>\n",
       "      <td>0.000000</td>\n",
       "      <td>...</td>\n",
       "      <td>0.000000</td>\n",
       "      <td>0.00000</td>\n",
       "      <td>0.000000</td>\n",
       "      <td>0.000000</td>\n",
       "      <td>0.013588</td>\n",
       "      <td>0.000000</td>\n",
       "      <td>0.000000</td>\n",
       "      <td>0.015448</td>\n",
       "      <td>0.014387</td>\n",
       "      <td>0.000000</td>\n",
       "    </tr>\n",
       "    <tr>\n",
       "      <td>Allen Brain Atlas</td>\n",
       "      <td>0.022973</td>\n",
       "      <td>0.000000</td>\n",
       "      <td>0.000000</td>\n",
       "      <td>0.018039</td>\n",
       "      <td>0.000000</td>\n",
       "      <td>0.000000</td>\n",
       "      <td>0.000000</td>\n",
       "      <td>0.070573</td>\n",
       "      <td>0.003304</td>\n",
       "      <td>0.000000</td>\n",
       "      <td>...</td>\n",
       "      <td>0.000000</td>\n",
       "      <td>0.00000</td>\n",
       "      <td>0.016720</td>\n",
       "      <td>0.005104</td>\n",
       "      <td>0.004372</td>\n",
       "      <td>0.000000</td>\n",
       "      <td>0.000000</td>\n",
       "      <td>0.004971</td>\n",
       "      <td>0.004629</td>\n",
       "      <td>0.004459</td>\n",
       "    </tr>\n",
       "    <tr>\n",
       "      <td>Allen Institute for Brain Science</td>\n",
       "      <td>0.031113</td>\n",
       "      <td>0.000000</td>\n",
       "      <td>0.000000</td>\n",
       "      <td>0.003490</td>\n",
       "      <td>0.000000</td>\n",
       "      <td>0.000000</td>\n",
       "      <td>0.006106</td>\n",
       "      <td>0.023895</td>\n",
       "      <td>0.000000</td>\n",
       "      <td>0.000000</td>\n",
       "      <td>...</td>\n",
       "      <td>0.000000</td>\n",
       "      <td>0.00000</td>\n",
       "      <td>0.015097</td>\n",
       "      <td>0.006912</td>\n",
       "      <td>0.000000</td>\n",
       "      <td>0.000000</td>\n",
       "      <td>0.000000</td>\n",
       "      <td>0.000000</td>\n",
       "      <td>0.000000</td>\n",
       "      <td>0.000000</td>\n",
       "    </tr>\n",
       "    <tr>\n",
       "      <td>Amsterdam Call for Action on Open Science</td>\n",
       "      <td>0.223707</td>\n",
       "      <td>0.000000</td>\n",
       "      <td>0.000000</td>\n",
       "      <td>0.015057</td>\n",
       "      <td>0.000000</td>\n",
       "      <td>0.000000</td>\n",
       "      <td>0.039510</td>\n",
       "      <td>0.038656</td>\n",
       "      <td>0.000000</td>\n",
       "      <td>0.000000</td>\n",
       "      <td>...</td>\n",
       "      <td>0.000000</td>\n",
       "      <td>0.00000</td>\n",
       "      <td>0.000000</td>\n",
       "      <td>0.014909</td>\n",
       "      <td>0.000000</td>\n",
       "      <td>0.000000</td>\n",
       "      <td>0.000000</td>\n",
       "      <td>0.000000</td>\n",
       "      <td>0.000000</td>\n",
       "      <td>0.013026</td>\n",
       "    </tr>\n",
       "  </tbody>\n",
       "</table>\n",
       "<p>1400 rows × 100 columns</p>\n",
       "</div>"
      ],
      "text/plain": [
       "                                                     science  religion  \\\n",
       "article                                                                  \n",
       "Religion                                            0.040566  0.543287   \n",
       "African and African-American women in Christianity  0.000000  0.023470   \n",
       "Religion and agriculture                            0.000000  0.069755   \n",
       "American Anglican Church                            0.000000  0.001558   \n",
       "American Humanist Association                       0.000000  0.009570   \n",
       "...                                                      ...       ...   \n",
       "Scientific equipment optician                       0.000000  0.000000   \n",
       "Volcanologist                                       0.023798  0.000000   \n",
       "Allen Brain Atlas                                   0.022973  0.000000   \n",
       "Allen Institute for Brain Science                   0.031113  0.000000   \n",
       "Amsterdam Call for Action on Open Science           0.223707  0.000000   \n",
       "\n",
       "                                                    religious      also  \\\n",
       "article                                                                   \n",
       "Religion                                             0.261171  0.040955   \n",
       "African and African-American women in Christianity   0.039923  0.033911   \n",
       "Religion and agriculture                             0.000000  0.040315   \n",
       "American Anglican Church                             0.003028  0.017105   \n",
       "American Humanist Association                        0.046511  0.019358   \n",
       "...                                                       ...       ...   \n",
       "Scientific equipment optician                        0.000000  0.049731   \n",
       "Volcanologist                                        0.000000  0.016018   \n",
       "Allen Brain Atlas                                    0.000000  0.018039   \n",
       "Allen Institute for Brain Science                    0.000000  0.003490   \n",
       "Amsterdam Call for Action on Open Science            0.000000  0.015057   \n",
       "\n",
       "                                                         god      book  \\\n",
       "article                                                                  \n",
       "Religion                                            0.040272  0.005691   \n",
       "African and African-American women in Christianity  0.006669  0.005654   \n",
       "Religion and agriculture                            0.000000  0.000000   \n",
       "American Anglican Church                            0.005311  0.006004   \n",
       "American Humanist Association                       0.038071  0.000000   \n",
       "...                                                      ...       ...   \n",
       "Scientific equipment optician                       0.000000  0.000000   \n",
       "Volcanologist                                       0.015751  0.000000   \n",
       "Allen Brain Atlas                                   0.000000  0.000000   \n",
       "Allen Institute for Brain Science                   0.000000  0.000000   \n",
       "Amsterdam Call for Action on Open Science           0.000000  0.000000   \n",
       "\n",
       "                                                    scientific  research  \\\n",
       "article                                                                    \n",
       "Religion                                              0.020897  0.000000   \n",
       "African and African-American women in Christianity    0.000000  0.005804   \n",
       "Religion and agriculture                              0.000000  0.000000   \n",
       "American Anglican Church                              0.000000  0.000000   \n",
       "American Humanist Association                         0.000000  0.004733   \n",
       "...                                                        ...       ...   \n",
       "Scientific equipment optician                         0.029000  0.000000   \n",
       "Volcanologist                                         0.000000  0.027415   \n",
       "Allen Brain Atlas                                     0.000000  0.070573   \n",
       "Allen Institute for Brain Science                     0.006106  0.023895   \n",
       "Amsterdam Call for Action on Open Science             0.039510  0.038656   \n",
       "\n",
       "                                                         one    church  ...  \\\n",
       "article                                                                 ...   \n",
       "Religion                                            0.059069  0.035598  ...   \n",
       "African and African-American women in Christianity  0.013043  0.219298  ...   \n",
       "Religion and agriculture                            0.000000  0.000000  ...   \n",
       "American Anglican Church                            0.012696  0.259163  ...   \n",
       "American Humanist Association                       0.007091  0.011538  ...   \n",
       "...                                                      ...       ...  ...   \n",
       "Scientific equipment optician                       0.000000  0.000000  ...   \n",
       "Volcanologist                                       0.010268  0.000000  ...   \n",
       "Allen Brain Atlas                                   0.003304  0.000000  ...   \n",
       "Allen Institute for Brain Science                   0.000000  0.000000  ...   \n",
       "Amsterdam Call for Action on Open Science           0.000000  0.000000  ...   \n",
       "\n",
       "                                                      review  spiritual  \\\n",
       "article                                                                   \n",
       "Religion                                            0.004107    0.03139   \n",
       "African and African-American women in Christianity  0.000000    0.00000   \n",
       "Religion and agriculture                            0.000000    0.00000   \n",
       "American Anglican Church                            0.000000    0.00000   \n",
       "American Humanist Association                       0.000000    0.00000   \n",
       "...                                                      ...        ...   \n",
       "Scientific equipment optician                       0.000000    0.00000   \n",
       "Volcanologist                                       0.000000    0.00000   \n",
       "Allen Brain Atlas                                   0.000000    0.00000   \n",
       "Allen Institute for Brain Science                   0.000000    0.00000   \n",
       "Amsterdam Call for Action on Open Science           0.000000    0.00000   \n",
       "\n",
       "                                                    information    system  \\\n",
       "article                                                                     \n",
       "Religion                                               0.000000  0.030415   \n",
       "African and African-American women in Christianity     0.007334  0.000000   \n",
       "Religion and agriculture                               0.000000  0.000000   \n",
       "American Anglican Church                               0.000000  0.000000   \n",
       "American Humanist Association                          0.000000  0.000000   \n",
       "...                                                         ...       ...   \n",
       "Scientific equipment optician                          0.000000  0.000000   \n",
       "Volcanologist                                          0.000000  0.000000   \n",
       "Allen Brain Atlas                                      0.016720  0.005104   \n",
       "Allen Institute for Brain Science                      0.015097  0.006912   \n",
       "Amsterdam Call for Action on Open Science              0.000000  0.014909   \n",
       "\n",
       "                                                     however      john  \\\n",
       "article                                                                  \n",
       "Religion                                            0.026056  0.013743   \n",
       "African and African-American women in Christianity  0.028767  0.000000   \n",
       "Religion and agriculture                            0.000000  0.000000   \n",
       "American Anglican Church                            0.003055  0.003625   \n",
       "American Humanist Association                       0.000000  0.016704   \n",
       "...                                                      ...       ...   \n",
       "Scientific equipment optician                       0.000000  0.100127   \n",
       "Volcanologist                                       0.013588  0.000000   \n",
       "Allen Brain Atlas                                   0.004372  0.000000   \n",
       "Allen Institute for Brain Science                   0.000000  0.000000   \n",
       "Amsterdam Call for Action on Open Science           0.000000  0.000000   \n",
       "\n",
       "                                                       islam     group  \\\n",
       "article                                                                  \n",
       "Religion                                            0.075973  0.026332   \n",
       "African and African-American women in Christianity  0.053285  0.019623   \n",
       "Religion and agriculture                            0.000000  0.000000   \n",
       "American Anglican Church                            0.002358  0.003473   \n",
       "American Humanist Association                       0.000000  0.005334   \n",
       "...                                                      ...       ...   \n",
       "Scientific equipment optician                       0.000000  0.000000   \n",
       "Volcanologist                                       0.000000  0.015448   \n",
       "Allen Brain Atlas                                   0.000000  0.004971   \n",
       "Allen Institute for Brain Science                   0.000000  0.000000   \n",
       "Amsterdam Call for Action on Open Science           0.000000  0.000000   \n",
       "\n",
       "                                                       years     based  \n",
       "article                                                                 \n",
       "Religion                                            0.000000  0.023621  \n",
       "African and African-American women in Christianity  0.006092  0.005868  \n",
       "Religion and agriculture                            0.000000  0.069755  \n",
       "American Anglican Church                            0.004852  0.000000  \n",
       "American Humanist Association                       0.004968  0.000000  \n",
       "...                                                      ...       ...  \n",
       "Scientific equipment optician                       0.000000  0.000000  \n",
       "Volcanologist                                       0.014387  0.000000  \n",
       "Allen Brain Atlas                                   0.004629  0.004459  \n",
       "Allen Institute for Brain Science                   0.000000  0.000000  \n",
       "Amsterdam Call for Action on Open Science           0.000000  0.013026  \n",
       "\n",
       "[1400 rows x 100 columns]"
      ]
     },
     "execution_count": 16,
     "metadata": {},
     "output_type": "execute_result"
    }
   ],
   "source": [
    "# UNCOMMENT & EXECUTE IF YOU DO NOT HAVE tf_idf_1400_articles.pickle\n",
    "#tf_idf = nlpu.TF_IDF(words_df_reduced, 100)\n",
    "tf_idf = pd.read_pickle('tf_idf_1400_articles.pickle')\n",
    "tf_idf"
   ]
  },
  {
   "cell_type": "code",
   "execution_count": 17,
   "metadata": {},
   "outputs": [
    {
     "data": {
      "text/html": [
       "<div>\n",
       "<style scoped>\n",
       "    .dataframe tbody tr th:only-of-type {\n",
       "        vertical-align: middle;\n",
       "    }\n",
       "\n",
       "    .dataframe tbody tr th {\n",
       "        vertical-align: top;\n",
       "    }\n",
       "\n",
       "    .dataframe thead th {\n",
       "        text-align: right;\n",
       "    }\n",
       "</style>\n",
       "<table border=\"1\" class=\"dataframe\">\n",
       "  <thead>\n",
       "    <tr style=\"text-align: right;\">\n",
       "      <th></th>\n",
       "      <th>tfidf</th>\n",
       "    </tr>\n",
       "  </thead>\n",
       "  <tbody>\n",
       "    <tr>\n",
       "      <td>science</td>\n",
       "      <td>52.716979</td>\n",
       "    </tr>\n",
       "    <tr>\n",
       "      <td>religion</td>\n",
       "      <td>38.608664</td>\n",
       "    </tr>\n",
       "    <tr>\n",
       "      <td>religious</td>\n",
       "      <td>34.886210</td>\n",
       "    </tr>\n",
       "    <tr>\n",
       "      <td>also</td>\n",
       "      <td>26.213901</td>\n",
       "    </tr>\n",
       "    <tr>\n",
       "      <td>god</td>\n",
       "      <td>26.073406</td>\n",
       "    </tr>\n",
       "    <tr>\n",
       "      <td>...</td>\n",
       "      <td>...</td>\n",
       "    </tr>\n",
       "    <tr>\n",
       "      <td>john</td>\n",
       "      <td>8.422473</td>\n",
       "    </tr>\n",
       "    <tr>\n",
       "      <td>islam</td>\n",
       "      <td>8.327312</td>\n",
       "    </tr>\n",
       "    <tr>\n",
       "      <td>group</td>\n",
       "      <td>8.310144</td>\n",
       "    </tr>\n",
       "    <tr>\n",
       "      <td>years</td>\n",
       "      <td>8.304601</td>\n",
       "    </tr>\n",
       "    <tr>\n",
       "      <td>based</td>\n",
       "      <td>8.151457</td>\n",
       "    </tr>\n",
       "  </tbody>\n",
       "</table>\n",
       "<p>100 rows × 1 columns</p>\n",
       "</div>"
      ],
      "text/plain": [
       "               tfidf\n",
       "science    52.716979\n",
       "religion   38.608664\n",
       "religious  34.886210\n",
       "also       26.213901\n",
       "god        26.073406\n",
       "...              ...\n",
       "john        8.422473\n",
       "islam       8.327312\n",
       "group       8.310144\n",
       "years       8.304601\n",
       "based       8.151457\n",
       "\n",
       "[100 rows x 1 columns]"
      ]
     },
     "execution_count": 17,
     "metadata": {},
     "output_type": "execute_result"
    }
   ],
   "source": [
    "important_words_df = pd.DataFrame(tf_idf.sum(axis=0, numeric_only=True).sort_values(ascending = False),\\\n",
    "                                  columns=['tfidf'])\n",
    "important_words_df"
   ]
  },
  {
   "cell_type": "code",
   "execution_count": 18,
   "metadata": {},
   "outputs": [],
   "source": [
    "# we don't really need the function make_features anymore \n",
    "# features = aquire.make_features(words_df_reduced, important_words_df.reset_index().rename(columns={'index':'words'}))"
   ]
  },
  {
   "cell_type": "markdown",
   "metadata": {},
   "source": [
    "The weighted TF-IDF matrix $W_{w}$ is our tf_idf dataframe."
   ]
  },
  {
   "cell_type": "code",
   "execution_count": 19,
   "metadata": {},
   "outputs": [],
   "source": [
    "features_weight = tf_idf"
   ]
  },
  {
   "cell_type": "markdown",
   "metadata": {},
   "source": [
    "For the non-weighted TF-IDF $W_{nw}$ where we compute the weights such that for all $i,j$\n",
    "\n",
    "$(W_{nw})_{i,j} = 1$ if $(W_{w})_{i,j} > 0$, $(W_{nw})_{i,j} = 0$ otherwise\n",
    "\n",
    "we can do the following"
   ]
  },
  {
   "cell_type": "code",
   "execution_count": 20,
   "metadata": {},
   "outputs": [],
   "source": [
    "features_no_weight = tf_idf.where(tf_idf <= 0, 1)"
   ]
  },
  {
   "cell_type": "markdown",
   "metadata": {},
   "source": [
    "For the rest of this project we choose to work with the weighted TF-IDF matrix as it gives more insights into word importance."
   ]
  },
  {
   "cell_type": "code",
   "execution_count": 21,
   "metadata": {},
   "outputs": [],
   "source": [
    "features = features_weight"
   ]
  },
  {
   "cell_type": "markdown",
   "metadata": {},
   "source": [
    "We have hence aquired the data and put it in a dataframe called features. Its rows are the different articles and each column is an important word (according to TF-IDF scores)."
   ]
  },
  {
   "cell_type": "markdown",
   "metadata": {},
   "source": [
    "# II. Data Exploration"
   ]
  },
  {
   "cell_type": "code",
   "execution_count": 22,
   "metadata": {},
   "outputs": [],
   "source": [
    "from scipy.spatial.distance import pdist, squareform\n",
    "import operator\n",
    "from sklearn.manifold import TSNE"
   ]
  },
  {
   "cell_type": "markdown",
   "metadata": {},
   "source": [
    "## Matrix Utilities"
   ]
  },
  {
   "cell_type": "code",
   "execution_count": 133,
   "metadata": {},
   "outputs": [],
   "source": [
    "class MatrixUtils():\n",
    "    \n",
    "    @staticmethod\n",
    "    def epsilon_similarity_graph(X: np.ndarray, sigma=1, epsilon=0):\n",
    "        \"\"\" \n",
    "        Fnction to compute the epsilon similarity graph seen in class\n",
    "        Arguments:\n",
    "        X (n x d): coordinates of the n data points in R^d.\n",
    "        sigma (float): width of the kernel\n",
    "        epsilon (float): threshold\n",
    "        Returns:\n",
    "        adjacency (n x n ndarray): adjacency matrix of the graph.\n",
    "        \"\"\"\n",
    "        adjacency = np.exp((- X**2)/(2 * sigma**2))\n",
    "        adjacency[adjacency > epsilon] = 0\n",
    "        #according to the formula on slide 11 in the spectral clustering lecture, we set the diagonal to 0\n",
    "        np.fill_diagonal(adjacency,0)\n",
    "        return adjacency\n",
    "    \n",
    "    @staticmethod\n",
    "    def compute_laplacian(adjacency: np.ndarray, normalize: bool):\n",
    "        \"\"\" \n",
    "        Function to compute the laplacian\n",
    "        Arguments:\n",
    "        adjacency - an adjacency matrix for which to compute the laplacian\n",
    "        normalize - if set to True, the normalized laplacian is returned, otherwise the combinatorial one is returned \n",
    "        Returns:\n",
    "        L (n x n ndarray): combinatorial or symmetric normalized Laplacian.\n",
    "        \"\"\"\n",
    "        degrees_l = np.sum(adjacency,axis=1)\n",
    "        if(not normalize):\n",
    "            degrees = np.zeros(adjacency.shape)\n",
    "            np.fill_diagonal(degrees,degrees_l)\n",
    "            return degrees - adjacency \n",
    "        else:\n",
    "            degrees = np.sqrt(np.array([degrees_l]).T @ np.array([degrees_l]))\n",
    "            L = - adjacency/degrees\n",
    "            np.fill_diagonal(L,np.ones(len(adjacency)))\n",
    "            return L\n",
    "    \n",
    "    @staticmethod\n",
    "    def spectral_decomposition(laplacian: np.ndarray):\n",
    "        \"\"\"\n",
    "        Function to carry out spectral decomposition on a given matrix\n",
    "        Arguments:\n",
    "        laplacian - matrix on which to carry out decomposition\n",
    "        Returns:\n",
    "        lamb (np.array): eigenvalues of the Laplacian\n",
    "        U (np.ndarray): corresponding eigenvectors.\n",
    "        \"\"\"\n",
    "        values, vectors = np.linalg.eig(laplacian)\n",
    "        sorted_indices = np.argsort(values)\n",
    "        return values[sorted_indices], vectors[:,sorted_indices]\n",
    "    \n",
    "    @staticmethod\n",
    "    def GFT(signal: np.ndarray):\n",
    "        \"\"\"\n",
    "        Function to compute the fourier transform of a signal\n",
    "        Arguments:\n",
    "        signal - the signal for which to compute the fourier transform (in the form of an Numpy array)\n",
    "        Returns:\n",
    "        fourier - the fourier transform of the signal provided\n",
    "        \"\"\"\n",
    "        fourier = U.transpose()@signal\n",
    "        return fourier\n",
    "    \n",
    "    @staticmethod\n",
    "    def iGFT(fourier_coefficients: np.ndarray):\n",
    "        \"\"\"\n",
    "        Function to compute the signal from a fourier transform\n",
    "        Arguments:\n",
    "        fourier_coefficients - the fourier coefficients from which to get the signal (in the form of an Numpy array)\n",
    "        Returns:\n",
    "        signal - the signal for the fourier coefficients given\n",
    "        \"\"\"\n",
    "        signal = U@fourier_coefficients\n",
    "        return signal"
   ]
  },
  {
   "cell_type": "markdown",
   "metadata": {},
   "source": [
    "## Filter Utilities"
   ]
  },
  {
   "cell_type": "code",
   "execution_count": 134,
   "metadata": {},
   "outputs": [],
   "source": [
    "class FilterUtilities():\n",
    "    \n",
    "    @staticmethod    \n",
    "    def ideal_graph_filter(x: np.ndarray, spectral_response: np.ndarray):\n",
    "        \"\"\"\n",
    "        Function to apply an idea filter to a graph\n",
    "        Arguments:\n",
    "        x - the signal on which to apply the filter\n",
    "        spectral_response - the spectral response of the signal\n",
    "        Returns:\n",
    "        filtered_graph - a filtered signal\n",
    "        \"\"\"\n",
    "        fourier = MatrixUtils().GFT(x);\n",
    "        h = np.diag(spectral_response)\n",
    "        filtered_graph = U@h@fourier\n",
    "        return filtered_graph"
   ]
  },
  {
   "cell_type": "code",
   "execution_count": 135,
   "metadata": {},
   "outputs": [],
   "source": [
    "class VisUtils():\n",
    "    \n",
    "    @staticmethod\n",
    "    def laplacian_eigenmaps(X:np.ndarray, dim: int, sigma: float, epsilon: float, normalize: bool):\n",
    "        \"\"\"\n",
    "        Function to compute the laplacian eigenmap if a given matrix\n",
    "        Arguments:\n",
    "        X - the matrix for which to compute the eigenmaps\n",
    "        dim - the dimension of the data we would like to return\n",
    "        sigma - the sigma parameter for the epsilon similarity graph\n",
    "        epsilon - the epsilon parameter for the epsilon similarity graph\n",
    "        normalize - if set to True, the normalized laplacian is used, otherwise the combinatorial one is used \n",
    "        Returns:\n",
    "        coords (n x dim array): new coordinates for the data points\n",
    "        \"\"\"\n",
    "        adjacency = MatrixUtils().epsilon_similarity_graph(X, sigma, epsilon)\n",
    "        laplacian = MatrixUtils().compute_laplacian(adjacency, normalize)\n",
    "        eigenvalues, eigenvectors = MatrixUtils().spectral_decomposition(np.nan_to_num(laplacian)) \n",
    "        return (eigenvectors[:,1:dim+1])"
   ]
  },
  {
   "cell_type": "markdown",
   "metadata": {},
   "source": [
    "## Exploring graph properties"
   ]
  },
  {
   "cell_type": "code",
   "execution_count": 136,
   "metadata": {},
   "outputs": [],
   "source": [
    "from numpy import dot\n",
    "from numpy.linalg import norm\n",
    "\n",
    "def cosine(a,b):\n",
    "    \"\"\"\n",
    "    Function to compute the cosine similarity between two vectors\n",
    "    Arguments:\n",
    "    a - first vector\n",
    "    b - second vector\n",
    "    Returns:\n",
    "    cos_sim - the cosine similarity between a and b\n",
    "    \"\"\"\n",
    "    if(norm(a) == 0 or norm(b) == 0):\n",
    "        return dot(a,b)\n",
    "    cos_sim = dot(a, b)/(norm(a)*norm(b))\n",
    "    return cos_sim"
   ]
  },
  {
   "cell_type": "code",
   "execution_count": 27,
   "metadata": {},
   "outputs": [],
   "source": [
    "features_a = np.array(features)"
   ]
  },
  {
   "cell_type": "code",
   "execution_count": 28,
   "metadata": {},
   "outputs": [],
   "source": [
    "distances = np.array(\n",
    "    [\n",
    "        [\n",
    "            cosine(features_a[i,:],features_a[j,:]) for i in range(0,features_a.shape[0])\n",
    "        ]\n",
    "        for j in range(0,features_a.shape[0])\n",
    "    ]\n",
    "    ).reshape(features.shape[0],-1)"
   ]
  },
  {
   "cell_type": "code",
   "execution_count": 29,
   "metadata": {},
   "outputs": [
    {
     "data": {
      "image/png": "[encoded data removed]",
      "text/plain": [
       "<Figure size 576x288 with 1 Axes>"
      ]
     },
     "metadata": {
      "needs_background": "light"
     },
     "output_type": "display_data"
    }
   ],
   "source": [
    "plt.figure(1, figsize=(8, 4))\n",
    "plt.title(\"Histogram of cosine similarity between papers\")\n",
    "plt.hist(distances.flatten());"
   ]
  },
  {
   "cell_type": "markdown",
   "metadata": {},
   "source": [
    "We notice a heavy-tailed distribution. The similarity between papers is hence concentrated around 0 and 0.2 between most papers but there are some rare papers with very high cosine similarity scores."
   ]
  },
  {
   "cell_type": "code",
   "execution_count": 30,
   "metadata": {},
   "outputs": [
    {
     "data": {
      "text/html": [
       "<div>\n",
       "<style scoped>\n",
       "    .dataframe tbody tr th:only-of-type {\n",
       "        vertical-align: middle;\n",
       "    }\n",
       "\n",
       "    .dataframe tbody tr th {\n",
       "        vertical-align: top;\n",
       "    }\n",
       "\n",
       "    .dataframe thead th {\n",
       "        text-align: right;\n",
       "    }\n",
       "</style>\n",
       "<table border=\"1\" class=\"dataframe\">\n",
       "  <thead>\n",
       "    <tr style=\"text-align: right;\">\n",
       "      <th></th>\n",
       "      <th>tfidf</th>\n",
       "    </tr>\n",
       "  </thead>\n",
       "  <tbody>\n",
       "    <tr>\n",
       "      <td>science</td>\n",
       "      <td>52.716979</td>\n",
       "    </tr>\n",
       "    <tr>\n",
       "      <td>religion</td>\n",
       "      <td>38.608664</td>\n",
       "    </tr>\n",
       "    <tr>\n",
       "      <td>religious</td>\n",
       "      <td>34.886210</td>\n",
       "    </tr>\n",
       "    <tr>\n",
       "      <td>also</td>\n",
       "      <td>26.213901</td>\n",
       "    </tr>\n",
       "    <tr>\n",
       "      <td>god</td>\n",
       "      <td>26.073406</td>\n",
       "    </tr>\n",
       "    <tr>\n",
       "      <td>book</td>\n",
       "      <td>24.822986</td>\n",
       "    </tr>\n",
       "    <tr>\n",
       "      <td>scientific</td>\n",
       "      <td>23.692436</td>\n",
       "    </tr>\n",
       "    <tr>\n",
       "      <td>research</td>\n",
       "      <td>22.570687</td>\n",
       "    </tr>\n",
       "    <tr>\n",
       "      <td>one</td>\n",
       "      <td>21.420285</td>\n",
       "    </tr>\n",
       "    <tr>\n",
       "      <td>church</td>\n",
       "      <td>20.377060</td>\n",
       "    </tr>\n",
       "    <tr>\n",
       "      <td>new</td>\n",
       "      <td>18.943110</td>\n",
       "    </tr>\n",
       "    <tr>\n",
       "      <td>university</td>\n",
       "      <td>18.662818</td>\n",
       "    </tr>\n",
       "    <tr>\n",
       "      <td>world</td>\n",
       "      <td>17.003072</td>\n",
       "    </tr>\n",
       "    <tr>\n",
       "      <td>study</td>\n",
       "      <td>16.529316</td>\n",
       "    </tr>\n",
       "    <tr>\n",
       "      <td>may</td>\n",
       "      <td>16.474153</td>\n",
       "    </tr>\n",
       "    <tr>\n",
       "      <td>first</td>\n",
       "      <td>15.883151</td>\n",
       "    </tr>\n",
       "    <tr>\n",
       "      <td>people</td>\n",
       "      <td>15.558595</td>\n",
       "    </tr>\n",
       "    <tr>\n",
       "      <td>religions</td>\n",
       "      <td>15.077564</td>\n",
       "    </tr>\n",
       "    <tr>\n",
       "      <td>used</td>\n",
       "      <td>14.841717</td>\n",
       "    </tr>\n",
       "    <tr>\n",
       "      <td>christian</td>\n",
       "      <td>14.670851</td>\n",
       "    </tr>\n",
       "  </tbody>\n",
       "</table>\n",
       "</div>"
      ],
      "text/plain": [
       "                tfidf\n",
       "science     52.716979\n",
       "religion    38.608664\n",
       "religious   34.886210\n",
       "also        26.213901\n",
       "god         26.073406\n",
       "book        24.822986\n",
       "scientific  23.692436\n",
       "research    22.570687\n",
       "one         21.420285\n",
       "church      20.377060\n",
       "new         18.943110\n",
       "university  18.662818\n",
       "world       17.003072\n",
       "study       16.529316\n",
       "may         16.474153\n",
       "first       15.883151\n",
       "people      15.558595\n",
       "religions   15.077564\n",
       "used        14.841717\n",
       "christian   14.670851"
      ]
     },
     "execution_count": 30,
     "metadata": {},
     "output_type": "execute_result"
    }
   ],
   "source": [
    "important_words_df.head(20)"
   ]
  },
  {
   "cell_type": "code",
   "execution_count": 31,
   "metadata": {},
   "outputs": [],
   "source": [
    "distances = np.nan_to_num(distances)"
   ]
  },
  {
   "cell_type": "markdown",
   "metadata": {},
   "source": [
    "Let's examine an example of distance distribution for one of the papers."
   ]
  },
  {
   "cell_type": "code",
   "execution_count": 32,
   "metadata": {},
   "outputs": [
    {
     "data": {
      "text/plain": [
       "[<matplotlib.lines.Line2D at 0x118553128>]"
      ]
     },
     "execution_count": 32,
     "metadata": {},
     "output_type": "execute_result"
    },
    {
     "data": {
      "image/png": "[encoded data removed]",
      "text/plain": [
       "<Figure size 432x288 with 1 Axes>"
      ]
     },
     "metadata": {
      "needs_background": "light"
     },
     "output_type": "display_data"
    }
   ],
   "source": [
    "plt.plot(distances[0])"
   ]
  },
  {
   "cell_type": "code",
   "execution_count": 33,
   "metadata": {},
   "outputs": [],
   "source": [
    "def article_sim_th(threshold, distances=distances):\n",
    "    feat = np.where(distances > threshold, 1, 0)\n",
    "    np.fill_diagonal(feat, 0)\n",
    "    return feat"
   ]
  },
  {
   "cell_type": "code",
   "execution_count": 34,
   "metadata": {},
   "outputs": [],
   "source": [
    "adjacency_matrix = article_sim_th(0.6)"
   ]
  },
  {
   "cell_type": "code",
   "execution_count": 35,
   "metadata": {},
   "outputs": [],
   "source": [
    "# building a graph using the normalized distances\n",
    "graph = nx.from_numpy_matrix(adjacency_matrix)"
   ]
  },
  {
   "cell_type": "code",
   "execution_count": 36,
   "metadata": {},
   "outputs": [
    {
     "name": "stdout",
     "output_type": "stream",
     "text": [
      "The giant component of the feature graph has 1264 nodes and 13639 edges.\n"
     ]
    }
   ],
   "source": [
    "# assessing the giant component size\n",
    "giant_feature = max(nx.connected_component_subgraphs(graph), key=len)\n",
    "print('The giant component of the feature graph has {} nodes and {} edges.'.format(giant_feature.number_of_nodes(), giant_feature.size()))"
   ]
  },
  {
   "cell_type": "code",
   "execution_count": 37,
   "metadata": {},
   "outputs": [
    {
     "data": {
      "text/plain": [
       "0.4904574575937421"
      ]
     },
     "execution_count": 37,
     "metadata": {},
     "output_type": "execute_result"
    }
   ],
   "source": [
    "# getting the average clustering coefficient of our graph\n",
    "nx.average_clustering(graph)"
   ]
  },
  {
   "cell_type": "markdown",
   "metadata": {},
   "source": [
    "## Exploring possible clustering in the graph"
   ]
  },
  {
   "cell_type": "code",
   "execution_count": 137,
   "metadata": {},
   "outputs": [],
   "source": [
    "matrixu = MatrixUtils()"
   ]
  },
  {
   "cell_type": "code",
   "execution_count": 39,
   "metadata": {},
   "outputs": [
    {
     "data": {
      "image/png": "[encoded data removed]",
      "text/plain": [
       "<Figure size 432x288 with 1 Axes>"
      ]
     },
     "metadata": {
      "needs_background": "light"
     },
     "output_type": "display_data"
    }
   ],
   "source": [
    "plt.spy(adjacency_matrix)\n",
    "plt.show()"
   ]
  },
  {
   "cell_type": "code",
   "execution_count": 198,
   "metadata": {},
   "outputs": [
    {
     "data": {
      "image/png": "[encoded data removed]",
      "text/plain": [
       "<Figure size 432x288 with 1 Axes>"
      ]
     },
     "metadata": {
      "needs_background": "light"
     },
     "output_type": "display_data"
    }
   ],
   "source": [
    "adjacency = matrixu.epsilon_similarity_graph(distances, sigma= 5*np.mean(distances), epsilon=0.9)\n",
    "plt.spy(adjacency)\n",
    "plt.show()"
   ]
  },
  {
   "cell_type": "code",
   "execution_count": 233,
   "metadata": {},
   "outputs": [],
   "source": [
    "from sklearn.neighbors import NearestNeighbors\n",
    "neigh = NearestNeighbors(n_neighbors=6)\n",
    "neigh.fit(distances)\n",
    "A = neigh.kneighbors_graph(distances)\n",
    "knn = A.toarray()\n",
    "np.fill_diagonal(knn,0)"
   ]
  },
  {
   "cell_type": "code",
   "execution_count": 234,
   "metadata": {},
   "outputs": [],
   "source": [
    "for i in range(len(knn)):\n",
    "    for j in range(len(knn)):\n",
    "        if (knn[i,j] != knn[j,i]):\n",
    "            knn[i,j] = 0\n",
    "            knn[j,i] = 0"
   ]
  },
  {
   "cell_type": "code",
   "execution_count": 235,
   "metadata": {},
   "outputs": [
    {
     "data": {
      "image/png": "[encoded data removed]",
      "text/plain": [
       "<Figure size 432x288 with 1 Axes>"
      ]
     },
     "metadata": {
      "needs_background": "light"
     },
     "output_type": "display_data"
    }
   ],
   "source": [
    "plt.spy(knn)\n",
    "plt.show()"
   ]
  },
  {
   "cell_type": "code",
   "execution_count": 212,
   "metadata": {},
   "outputs": [
    {
     "name": "stderr",
     "output_type": "stream",
     "text": [
      "/Users/lucaseckes/miniconda2/envs/ntds_2019/lib/python3.7/site-packages/ipykernel_launcher.py:37: RuntimeWarning: invalid value encountered in true_divide\n"
     ]
    },
    {
     "data": {
      "text/plain": [
       "Text(0.5, 1.0, 'Graph of Wikipedia Science and Religion articles (done using mutual knn-Laplacian Eigenmaps)')"
      ]
     },
     "execution_count": 212,
     "metadata": {},
     "output_type": "execute_result"
    },
    {
     "data": {
      "image/png": "[encoded data removed]",
      "text/plain": [
       "<Figure size 432x288 with 1 Axes>"
      ]
     },
     "metadata": {
      "needs_background": "light"
     },
     "output_type": "display_data"
    }
   ],
   "source": [
    "laplacian = matrixu.compute_laplacian(knn, True)\n",
    "eigenvalues, eigenvectors = matrixu.spectral_decomposition(np.nan_to_num(laplacian)) \n",
    "twoD_embeddings = (eigenvectors[:,1:3])\n",
    "plt.scatter(twoD_embeddings[0:700,0], twoD_embeddings[0:700,1], label=1)\n",
    "plt.scatter(twoD_embeddings[700:2650,0], twoD_embeddings[700:2650,1], label=2)\n",
    "plt.title('Graph of Wikipedia Science and Religion articles (done using mutual knn-Laplacian Eigenmaps)')"
   ]
  },
  {
   "cell_type": "code",
   "execution_count": 41,
   "metadata": {},
   "outputs": [],
   "source": [
    "import operator\n",
    "pr = nx.pagerank(graph)\n",
    "sorted_pr = sorted(pr.items(), key=operator.itemgetter(1), reverse = True)"
   ]
  },
  {
   "cell_type": "code",
   "execution_count": 44,
   "metadata": {},
   "outputs": [
    {
     "data": {
      "text/plain": [
       "[(141, 0.0022892562700181163),\n",
       " (888, 0.0022018951756121365),\n",
       " (376, 0.0021703103031869083),\n",
       " (388, 0.00216482688413386),\n",
       " (1149, 0.002121851524451258),\n",
       " (297, 0.002116721270151282),\n",
       " (419, 0.0021010528137721533),\n",
       " (0, 0.0020973334279591653),\n",
       " (700, 0.002060695661624799),\n",
       " (40, 0.0020074828235951457)]"
      ]
     },
     "execution_count": 44,
     "metadata": {},
     "output_type": "execute_result"
    }
   ],
   "source": [
    "sorted_pr[:10]"
   ]
  },
  {
   "cell_type": "markdown",
   "metadata": {},
   "source": [
    "## Exploring possible clustering in the graph after passing it through an ideal filter"
   ]
  },
  {
   "cell_type": "code",
   "execution_count": 45,
   "metadata": {},
   "outputs": [
    {
     "name": "stderr",
     "output_type": "stream",
     "text": [
      "/Users/lucaseckes/miniconda2/envs/ntds_2019/lib/python3.7/site-packages/ipykernel_launcher.py:38: RuntimeWarning: invalid value encountered in true_divide\n"
     ]
    }
   ],
   "source": [
    "# Computing the laplacian\n",
    "laplacian = matrixu.compute_laplacian(adjacency, normalize=True)\n",
    "lam, U = matrixu.spectral_decomposition(np.nan_to_num(laplacian))"
   ]
  },
  {
   "cell_type": "code",
   "execution_count": 46,
   "metadata": {},
   "outputs": [],
   "source": [
    "alpha = 0.99 / np.max(lam)\n",
    "\n",
    "ideal_tk =  1/(1 + alpha*lam)"
   ]
  },
  {
   "cell_type": "code",
   "execution_count": 47,
   "metadata": {},
   "outputs": [],
   "source": [
    "filt = FilterUtilities().ideal_graph_filter(adjacency.tolist(),ideal_tk)"
   ]
  },
  {
   "cell_type": "code",
   "execution_count": 48,
   "metadata": {},
   "outputs": [],
   "source": [
    "graph_filt = nx.from_numpy_matrix(filt)"
   ]
  },
  {
   "cell_type": "code",
   "execution_count": 49,
   "metadata": {},
   "outputs": [
    {
     "name": "stderr",
     "output_type": "stream",
     "text": [
      "/Users/lucaseckes/miniconda2/envs/ntds_2019/lib/python3.7/site-packages/networkx/drawing/nx_pylab.py:579: MatplotlibDeprecationWarning: \n",
      "The iterable function was deprecated in Matplotlib 3.1 and will be removed in 3.3. Use np.iterable instead.\n",
      "  if not cb.iterable(width):\n"
     ]
    },
    {
     "data": {
      "image/png": "[encoded data removed]",
      "text/plain": [
       "<Figure size 432x288 with 1 Axes>"
      ]
     },
     "metadata": {},
     "output_type": "display_data"
    }
   ],
   "source": [
    "options = {\n",
    "    'node_color': 'black',\n",
    "    'node_size': 20,\n",
    "    'line_color': 'grey',\n",
    "    'linewidths': 0.2,\n",
    "    'width': 0.3,\n",
    "}\n",
    "nx.draw(graph, **options)"
   ]
  },
  {
   "cell_type": "code",
   "execution_count": 50,
   "metadata": {},
   "outputs": [
    {
     "name": "stderr",
     "output_type": "stream",
     "text": [
      "/Users/lucaseckes/miniconda2/envs/ntds_2019/lib/python3.7/site-packages/scipy/sparse/coo.py:196: ComplexWarning: Casting complex values to real discards the imaginary part\n",
      "  self.data = self.data.astype(dtype, copy=False)\n"
     ]
    },
    {
     "data": {
      "image/png": "[encoded data removed]",
      "text/plain": [
       "<Figure size 432x288 with 1 Axes>"
      ]
     },
     "metadata": {},
     "output_type": "display_data"
    }
   ],
   "source": [
    "options = {\n",
    "    'node_color': 'black',\n",
    "    'node_size': 20,\n",
    "    'line_color': 'grey',\n",
    "    'linewidths': 0.2,\n",
    "    'width': 0.3,\n",
    "}\n",
    "nx.draw(graph_filt, **options)"
   ]
  },
  {
   "cell_type": "code",
   "execution_count": 52,
   "metadata": {},
   "outputs": [],
   "source": [
    "giant_features = max(nx.connected_component_subgraphs(graph_filt), key = len)"
   ]
  },
  {
   "cell_type": "code",
   "execution_count": 53,
   "metadata": {},
   "outputs": [
    {
     "ename": "TypeError",
     "evalue": "can't convert complex to float",
     "output_type": "error",
     "traceback": [
      "\u001b[0;31m---------------------------------------------------------------------------\u001b[0m",
      "\u001b[0;31mValueError\u001b[0m                                Traceback (most recent call last)",
      "\u001b[0;32m~/miniconda2/envs/ntds_2019/lib/python3.7/site-packages/networkx/drawing/layout.py\u001b[0m in \u001b[0;36mfruchterman_reingold_layout\u001b[0;34m(G, k, pos, fixed, iterations, threshold, weight, scale, center, dim, seed)\u001b[0m\n\u001b[1;32m    451\u001b[0m         \u001b[0;32mif\u001b[0m \u001b[0mlen\u001b[0m\u001b[0;34m(\u001b[0m\u001b[0mG\u001b[0m\u001b[0;34m)\u001b[0m \u001b[0;34m<\u001b[0m \u001b[0;36m500\u001b[0m\u001b[0;34m:\u001b[0m  \u001b[0;31m# sparse solver for large graphs\u001b[0m\u001b[0;34m\u001b[0m\u001b[0;34m\u001b[0m\u001b[0m\n\u001b[0;32m--> 452\u001b[0;31m             \u001b[0;32mraise\u001b[0m \u001b[0mValueError\u001b[0m\u001b[0;34m\u001b[0m\u001b[0;34m\u001b[0m\u001b[0m\n\u001b[0m\u001b[1;32m    453\u001b[0m         \u001b[0mA\u001b[0m \u001b[0;34m=\u001b[0m \u001b[0mnx\u001b[0m\u001b[0;34m.\u001b[0m\u001b[0mto_scipy_sparse_matrix\u001b[0m\u001b[0;34m(\u001b[0m\u001b[0mG\u001b[0m\u001b[0;34m,\u001b[0m \u001b[0mweight\u001b[0m\u001b[0;34m=\u001b[0m\u001b[0mweight\u001b[0m\u001b[0;34m,\u001b[0m \u001b[0mdtype\u001b[0m\u001b[0;34m=\u001b[0m\u001b[0;34m'f'\u001b[0m\u001b[0;34m)\u001b[0m\u001b[0;34m\u001b[0m\u001b[0;34m\u001b[0m\u001b[0m\n",
      "\u001b[0;31mValueError\u001b[0m: ",
      "\nDuring handling of the above exception, another exception occurred:\n",
      "\u001b[0;31mTypeError\u001b[0m                                 Traceback (most recent call last)",
      "\u001b[0;32m<ipython-input-53-daa1429e3dff>\u001b[0m in \u001b[0;36m<module>\u001b[0;34m\u001b[0m\n\u001b[1;32m      6\u001b[0m     \u001b[0;34m'width'\u001b[0m\u001b[0;34m:\u001b[0m \u001b[0;36m0.3\u001b[0m\u001b[0;34m,\u001b[0m\u001b[0;34m\u001b[0m\u001b[0;34m\u001b[0m\u001b[0m\n\u001b[1;32m      7\u001b[0m }\n\u001b[0;32m----> 8\u001b[0;31m \u001b[0mnx\u001b[0m\u001b[0;34m.\u001b[0m\u001b[0mdraw\u001b[0m\u001b[0;34m(\u001b[0m\u001b[0mgiant_features\u001b[0m\u001b[0;34m,\u001b[0m \u001b[0;34m**\u001b[0m\u001b[0moptions\u001b[0m\u001b[0;34m)\u001b[0m\u001b[0;34m\u001b[0m\u001b[0;34m\u001b[0m\u001b[0m\n\u001b[0m",
      "\u001b[0;32m~/miniconda2/envs/ntds_2019/lib/python3.7/site-packages/networkx/drawing/nx_pylab.py\u001b[0m in \u001b[0;36mdraw\u001b[0;34m(G, pos, ax, **kwds)\u001b[0m\n\u001b[1;32m    126\u001b[0m \u001b[0;34m\u001b[0m\u001b[0m\n\u001b[1;32m    127\u001b[0m     \u001b[0;32mtry\u001b[0m\u001b[0;34m:\u001b[0m\u001b[0;34m\u001b[0m\u001b[0;34m\u001b[0m\u001b[0m\n\u001b[0;32m--> 128\u001b[0;31m         \u001b[0mdraw_networkx\u001b[0m\u001b[0;34m(\u001b[0m\u001b[0mG\u001b[0m\u001b[0;34m,\u001b[0m \u001b[0mpos\u001b[0m\u001b[0;34m=\u001b[0m\u001b[0mpos\u001b[0m\u001b[0;34m,\u001b[0m \u001b[0max\u001b[0m\u001b[0;34m=\u001b[0m\u001b[0max\u001b[0m\u001b[0;34m,\u001b[0m \u001b[0;34m**\u001b[0m\u001b[0mkwds\u001b[0m\u001b[0;34m)\u001b[0m\u001b[0;34m\u001b[0m\u001b[0;34m\u001b[0m\u001b[0m\n\u001b[0m\u001b[1;32m    129\u001b[0m         \u001b[0max\u001b[0m\u001b[0;34m.\u001b[0m\u001b[0mset_axis_off\u001b[0m\u001b[0;34m(\u001b[0m\u001b[0;34m)\u001b[0m\u001b[0;34m\u001b[0m\u001b[0;34m\u001b[0m\u001b[0m\n\u001b[1;32m    130\u001b[0m         \u001b[0mplt\u001b[0m\u001b[0;34m.\u001b[0m\u001b[0mdraw_if_interactive\u001b[0m\u001b[0;34m(\u001b[0m\u001b[0;34m)\u001b[0m\u001b[0;34m\u001b[0m\u001b[0;34m\u001b[0m\u001b[0m\n",
      "\u001b[0;32m~/miniconda2/envs/ntds_2019/lib/python3.7/site-packages/networkx/drawing/nx_pylab.py\u001b[0m in \u001b[0;36mdraw_networkx\u001b[0;34m(G, pos, arrows, with_labels, **kwds)\u001b[0m\n\u001b[1;32m    275\u001b[0m \u001b[0;34m\u001b[0m\u001b[0m\n\u001b[1;32m    276\u001b[0m     \u001b[0;32mif\u001b[0m \u001b[0mpos\u001b[0m \u001b[0;32mis\u001b[0m \u001b[0;32mNone\u001b[0m\u001b[0;34m:\u001b[0m\u001b[0;34m\u001b[0m\u001b[0;34m\u001b[0m\u001b[0m\n\u001b[0;32m--> 277\u001b[0;31m         \u001b[0mpos\u001b[0m \u001b[0;34m=\u001b[0m \u001b[0mnx\u001b[0m\u001b[0;34m.\u001b[0m\u001b[0mdrawing\u001b[0m\u001b[0;34m.\u001b[0m\u001b[0mspring_layout\u001b[0m\u001b[0;34m(\u001b[0m\u001b[0mG\u001b[0m\u001b[0;34m)\u001b[0m  \u001b[0;31m# default to spring layout\u001b[0m\u001b[0;34m\u001b[0m\u001b[0;34m\u001b[0m\u001b[0m\n\u001b[0m\u001b[1;32m    278\u001b[0m \u001b[0;34m\u001b[0m\u001b[0m\n\u001b[1;32m    279\u001b[0m     \u001b[0mnode_collection\u001b[0m \u001b[0;34m=\u001b[0m \u001b[0mdraw_networkx_nodes\u001b[0m\u001b[0;34m(\u001b[0m\u001b[0mG\u001b[0m\u001b[0;34m,\u001b[0m \u001b[0mpos\u001b[0m\u001b[0;34m,\u001b[0m \u001b[0;34m**\u001b[0m\u001b[0mkwds\u001b[0m\u001b[0;34m)\u001b[0m\u001b[0;34m\u001b[0m\u001b[0;34m\u001b[0m\u001b[0m\n",
      "\u001b[0;32m</Users/lucaseckes/miniconda2/envs/ntds_2019/lib/python3.7/site-packages/decorator.py:decorator-gen-791>\u001b[0m in \u001b[0;36mfruchterman_reingold_layout\u001b[0;34m(G, k, pos, fixed, iterations, threshold, weight, scale, center, dim, seed)\u001b[0m\n",
      "\u001b[0;32m~/miniconda2/envs/ntds_2019/lib/python3.7/site-packages/networkx/utils/decorators.py\u001b[0m in \u001b[0;36m_random_state\u001b[0;34m(func, *args, **kwargs)\u001b[0m\n\u001b[1;32m    403\u001b[0m         \u001b[0mnew_args\u001b[0m \u001b[0;34m=\u001b[0m \u001b[0mlist\u001b[0m\u001b[0;34m(\u001b[0m\u001b[0margs\u001b[0m\u001b[0;34m)\u001b[0m\u001b[0;34m\u001b[0m\u001b[0;34m\u001b[0m\u001b[0m\n\u001b[1;32m    404\u001b[0m         \u001b[0mnew_args\u001b[0m\u001b[0;34m[\u001b[0m\u001b[0mrandom_state_index\u001b[0m\u001b[0;34m]\u001b[0m \u001b[0;34m=\u001b[0m \u001b[0mrandom_state\u001b[0m\u001b[0;34m\u001b[0m\u001b[0;34m\u001b[0m\u001b[0m\n\u001b[0;32m--> 405\u001b[0;31m         \u001b[0;32mreturn\u001b[0m \u001b[0mfunc\u001b[0m\u001b[0;34m(\u001b[0m\u001b[0;34m*\u001b[0m\u001b[0mnew_args\u001b[0m\u001b[0;34m,\u001b[0m \u001b[0;34m**\u001b[0m\u001b[0mkwargs\u001b[0m\u001b[0;34m)\u001b[0m\u001b[0;34m\u001b[0m\u001b[0;34m\u001b[0m\u001b[0m\n\u001b[0m\u001b[1;32m    406\u001b[0m     \u001b[0;32mreturn\u001b[0m \u001b[0m_random_state\u001b[0m\u001b[0;34m\u001b[0m\u001b[0;34m\u001b[0m\u001b[0m\n\u001b[1;32m    407\u001b[0m \u001b[0;34m\u001b[0m\u001b[0m\n",
      "\u001b[0;32m~/miniconda2/envs/ntds_2019/lib/python3.7/site-packages/networkx/drawing/layout.py\u001b[0m in \u001b[0;36mfruchterman_reingold_layout\u001b[0;34m(G, k, pos, fixed, iterations, threshold, weight, scale, center, dim, seed)\u001b[0m\n\u001b[1;32m    460\u001b[0m                                            dim, seed)\n\u001b[1;32m    461\u001b[0m     \u001b[0;32mexcept\u001b[0m\u001b[0;34m:\u001b[0m\u001b[0;34m\u001b[0m\u001b[0;34m\u001b[0m\u001b[0m\n\u001b[0;32m--> 462\u001b[0;31m         \u001b[0mA\u001b[0m \u001b[0;34m=\u001b[0m \u001b[0mnx\u001b[0m\u001b[0;34m.\u001b[0m\u001b[0mto_numpy_array\u001b[0m\u001b[0;34m(\u001b[0m\u001b[0mG\u001b[0m\u001b[0;34m,\u001b[0m \u001b[0mweight\u001b[0m\u001b[0;34m=\u001b[0m\u001b[0mweight\u001b[0m\u001b[0;34m)\u001b[0m\u001b[0;34m\u001b[0m\u001b[0;34m\u001b[0m\u001b[0m\n\u001b[0m\u001b[1;32m    463\u001b[0m         \u001b[0;32mif\u001b[0m \u001b[0mk\u001b[0m \u001b[0;32mis\u001b[0m \u001b[0;32mNone\u001b[0m \u001b[0;32mand\u001b[0m \u001b[0mfixed\u001b[0m \u001b[0;32mis\u001b[0m \u001b[0;32mnot\u001b[0m \u001b[0;32mNone\u001b[0m\u001b[0;34m:\u001b[0m\u001b[0;34m\u001b[0m\u001b[0;34m\u001b[0m\u001b[0m\n\u001b[1;32m    464\u001b[0m             \u001b[0;31m# We must adjust k by domain size for layouts not near 1x1\u001b[0m\u001b[0;34m\u001b[0m\u001b[0;34m\u001b[0m\u001b[0;34m\u001b[0m\u001b[0m\n",
      "\u001b[0;32m~/miniconda2/envs/ntds_2019/lib/python3.7/site-packages/networkx/convert_matrix.py\u001b[0m in \u001b[0;36mto_numpy_array\u001b[0;34m(G, nodelist, dtype, order, multigraph_weight, weight, nonedge)\u001b[0m\n\u001b[1;32m   1121\u001b[0m             \u001b[0;32mfor\u001b[0m \u001b[0mv\u001b[0m\u001b[0;34m,\u001b[0m \u001b[0md\u001b[0m \u001b[0;32min\u001b[0m \u001b[0mnbrdict\u001b[0m\u001b[0;34m.\u001b[0m\u001b[0mitems\u001b[0m\u001b[0;34m(\u001b[0m\u001b[0;34m)\u001b[0m\u001b[0;34m:\u001b[0m\u001b[0;34m\u001b[0m\u001b[0;34m\u001b[0m\u001b[0m\n\u001b[1;32m   1122\u001b[0m                 \u001b[0;32mtry\u001b[0m\u001b[0;34m:\u001b[0m\u001b[0;34m\u001b[0m\u001b[0;34m\u001b[0m\u001b[0m\n\u001b[0;32m-> 1123\u001b[0;31m                     \u001b[0mA\u001b[0m\u001b[0;34m[\u001b[0m\u001b[0mindex\u001b[0m\u001b[0;34m[\u001b[0m\u001b[0mu\u001b[0m\u001b[0;34m]\u001b[0m\u001b[0;34m,\u001b[0m \u001b[0mindex\u001b[0m\u001b[0;34m[\u001b[0m\u001b[0mv\u001b[0m\u001b[0;34m]\u001b[0m\u001b[0;34m]\u001b[0m \u001b[0;34m=\u001b[0m \u001b[0md\u001b[0m\u001b[0;34m.\u001b[0m\u001b[0mget\u001b[0m\u001b[0;34m(\u001b[0m\u001b[0mweight\u001b[0m\u001b[0;34m,\u001b[0m \u001b[0;36m1\u001b[0m\u001b[0;34m)\u001b[0m\u001b[0;34m\u001b[0m\u001b[0;34m\u001b[0m\u001b[0m\n\u001b[0m\u001b[1;32m   1124\u001b[0m                 \u001b[0;32mexcept\u001b[0m \u001b[0mKeyError\u001b[0m\u001b[0;34m:\u001b[0m\u001b[0;34m\u001b[0m\u001b[0;34m\u001b[0m\u001b[0m\n\u001b[1;32m   1125\u001b[0m                     \u001b[0;31m# This occurs when there are fewer desired nodes than\u001b[0m\u001b[0;34m\u001b[0m\u001b[0;34m\u001b[0m\u001b[0;34m\u001b[0m\u001b[0m\n",
      "\u001b[0;31mTypeError\u001b[0m: can't convert complex to float"
     ]
    },
    {
     "data": {
      "image/png": "[encoded data removed]",
      "text/plain": [
       "<Figure size 432x288 with 1 Axes>"
      ]
     },
     "metadata": {},
     "output_type": "display_data"
    }
   ],
   "source": [
    "options = {\n",
    "    'node_color': 'black',\n",
    "    'node_size': 20,\n",
    "    'line_color': 'grey',\n",
    "    'linewidths': 0.2,\n",
    "    'width': 0.3,\n",
    "}\n",
    "nx.draw(giant_features, **options)"
   ]
  },
  {
   "cell_type": "code",
   "execution_count": 56,
   "metadata": {},
   "outputs": [
    {
     "data": {
      "text/plain": [
       "138"
      ]
     },
     "execution_count": 56,
     "metadata": {},
     "output_type": "execute_result"
    }
   ],
   "source": [
    "len(giant_features.nodes)"
   ]
  },
  {
   "cell_type": "code",
   "execution_count": 59,
   "metadata": {},
   "outputs": [
    {
     "data": {
      "image/png": "[encoded data removed]",
      "text/plain": [
       "<Figure size 432x288 with 1 Axes>"
      ]
     },
     "metadata": {
      "needs_background": "light"
     },
     "output_type": "display_data"
    }
   ],
   "source": [
    "adjacency_filt = matrixu.epsilon_similarity_graph(filt, sigma= np.mean(filt), epsilon=0.60)\n",
    "plt.spy(adjacency)\n",
    "plt.show()"
   ]
  },
  {
   "cell_type": "markdown",
   "metadata": {},
   "source": [
    "## Visualizing the graph obtained"
   ]
  },
  {
   "cell_type": "code",
   "execution_count": 129,
   "metadata": {},
   "outputs": [],
   "source": [
    "visu = VisUtils()"
   ]
  },
  {
   "cell_type": "markdown",
   "metadata": {},
   "source": [
    "### Laplacian Eigenmaps"
   ]
  },
  {
   "cell_type": "code",
   "execution_count": 188,
   "metadata": {},
   "outputs": [],
   "source": [
    "twoD_embeddings = visu.laplacian_eigenmaps(distances, dim=2, sigma= 5*np.mean(distances), epsilon=0.90, normalize=True)"
   ]
  },
  {
   "cell_type": "code",
   "execution_count": 189,
   "metadata": {},
   "outputs": [
    {
     "name": "stderr",
     "output_type": "stream",
     "text": [
      "/Users/lucaseckes/miniconda2/envs/ntds_2019/lib/python3.7/site-packages/numpy/core/numeric.py:553: ComplexWarning: Casting complex values to real discards the imaginary part\n",
      "  return array(a, dtype, copy=False, order=order, subok=True)\n"
     ]
    },
    {
     "data": {
      "text/plain": [
       "Text(0.5, 1.0, 'Graph of Wikipedia Science and Religion articles (done using Laplacian Eigenmaps)')"
      ]
     },
     "execution_count": 189,
     "metadata": {},
     "output_type": "execute_result"
    },
    {
     "data": {
      "image/png": "[encoded data removed]",
      "text/plain": [
       "<Figure size 432x288 with 1 Axes>"
      ]
     },
     "metadata": {
      "needs_background": "light"
     },
     "output_type": "display_data"
    }
   ],
   "source": [
    "plt.scatter(twoD_embeddings[0:700,0], twoD_embeddings[0:700,1], label=1)\n",
    "plt.scatter(twoD_embeddings[700:2650,0], twoD_embeddings[700:2650,1], label=2)\n",
    "plt.title('Graph of Wikipedia Science and Religion articles (done using Laplacian Eigenmaps)')"
   ]
  },
  {
   "cell_type": "markdown",
   "metadata": {},
   "source": [
    "### t-sne"
   ]
  },
  {
   "cell_type": "code",
   "execution_count": 236,
   "metadata": {},
   "outputs": [],
   "source": [
    "from sklearn.manifold import TSNE\n",
    "tsne = TSNE(n_components = 2)\n",
    "x_embed = tsne.fit_transform(knn)"
   ]
  },
  {
   "cell_type": "code",
   "execution_count": 237,
   "metadata": {},
   "outputs": [
    {
     "data": {
      "text/plain": [
       "Text(0.5, 1.0, 'Graph of Wikipedia Science and Religion articles (done using tSN-E)')"
      ]
     },
     "execution_count": 237,
     "metadata": {},
     "output_type": "execute_result"
    },
    {
     "data": {
      "image/png": "[encoded data removed]",
      "text/plain": [
       "<Figure size 432x288 with 1 Axes>"
      ]
     },
     "metadata": {
      "needs_background": "light"
     },
     "output_type": "display_data"
    }
   ],
   "source": [
    "plt.scatter(x_embed[:700,0], x_embed[:700,1], label=1)\n",
    "plt.scatter(x_embed[700:, 0], x_embed[700:,1], label=2)\n",
    "plt.title('Graph of Wikipedia Science and Religion articles (done using tSN-E)')"
   ]
  },
  {
   "cell_type": "markdown",
   "metadata": {},
   "source": [
    "# III. Machine Learning"
   ]
  },
  {
   "cell_type": "code",
   "execution_count": 60,
   "metadata": {},
   "outputs": [
    {
     "data": {
      "text/plain": [
       "<torch._C.Generator at 0x1278314f0>"
      ]
     },
     "execution_count": 60,
     "metadata": {},
     "output_type": "execute_result"
    }
   ],
   "source": [
    "import time\n",
    "\n",
    "import torch\n",
    "import torch.nn as nn\n",
    "import torch.nn.functional as F\n",
    "\n",
    "from dgl import DGLGraph\n",
    "import dgl.function as fn\n",
    "\n",
    "np.random.seed(0)\n",
    "torch.manual_seed(1)"
   ]
  },
  {
   "cell_type": "code",
   "execution_count": 61,
   "metadata": {},
   "outputs": [],
   "source": [
    "class LaplacianPolynomial(nn.Module):\n",
    "    def __init__(self,\n",
    "                 in_feats: int,\n",
    "                 out_feats: int,\n",
    "                 k: int,\n",
    "                 dropout_prob: float,\n",
    "                 norm=True):\n",
    "        super().__init__()\n",
    "        self._in_feats = in_feats\n",
    "        self._out_feats = out_feats\n",
    "        self._k = k\n",
    "        self._norm = norm\n",
    "        # Contains the weights learned by the Laplacian polynomial\n",
    "        self.pol_weights = nn.Parameter(torch.Tensor(self._k + 1))\n",
    "        # Contains the weights learned by the logistic regression (without bias)\n",
    "        self.logr_weights = nn.Parameter(torch.Tensor(in_feats, out_feats))\n",
    "        self.dropout = nn.Dropout(p=dropout_prob)\n",
    "        self.reset_parameters()\n",
    "\n",
    "    def reset_parameters(self):\n",
    "        \"\"\"Reinitialize learnable parameters.\"\"\"\n",
    "        torch.manual_seed(0)\n",
    "        torch.nn.init.xavier_uniform_(self.logr_weights, gain=0.01)\n",
    "        torch.nn.init.normal_(self.pol_weights, mean=0.0, std=1e-3)\n",
    "\n",
    "    def forward(self, graph, feat):\n",
    "        r\"\"\"Compute graph convolution.\n",
    "\n",
    "        Notes\n",
    "        -----\n",
    "        * Input shape: :math:`(N, *, \\text{in_feats})` where * means any number of additional\n",
    "          dimensions, :math:`N` is the number of nodes.\n",
    "        * Output shape: :math:`(N, *, \\text{out_feats})` where all but the last dimension are\n",
    "          the same shape as the input.\n",
    "\n",
    "        Parameters\n",
    "        ----------\n",
    "        graph (DGLGraph) : The graph.\n",
    "        feat (torch.Tensor): The input feature\n",
    "\n",
    "        Returns\n",
    "        -------\n",
    "        (torch.Tensor) The output feature\n",
    "        \"\"\"\n",
    "        feat = self.dropout(feat)\n",
    "        graph = graph.local_var()\n",
    "        \n",
    "        # D^(-1/2)\n",
    "        norm = torch.pow(graph.in_degrees().float().clamp(min=1), -0.5)\n",
    "        shp = norm.shape + (1,) * (feat.dim() - 1)\n",
    "        norm = torch.reshape(norm, shp)\n",
    "\n",
    "        # mult W first to reduce the feature size for aggregation.\n",
    "        feat = torch.matmul(feat, self.logr_weights)\n",
    "\n",
    "        result = self.pol_weights[0] * feat.clone()\n",
    "\n",
    "        for i in range(1, self._k + 1):\n",
    "            old_feat = feat.clone()\n",
    "            if self._norm:\n",
    "                feat = feat * norm\n",
    "            graph.ndata['h'] = feat\n",
    "            # Feat is not modified in place\n",
    "            graph.update_all(fn.copy_src(src='h', out='m'),\n",
    "                             fn.sum(msg='m', out='h'))\n",
    "            if self._norm:\n",
    "                graph.ndata['h'] = graph.ndata['h'] * norm\n",
    "\n",
    "            feat = old_feat - graph.ndata['h']\n",
    "            result += self.pol_weights[i] * feat\n",
    "\n",
    "        return result\n",
    "\n",
    "    def extra_repr(self):\n",
    "        \"\"\"Set the extra representation of the module,\n",
    "        which will come into effect when printing the model.\n",
    "        \"\"\"\n",
    "        summary = 'in={_in_feats}, out={_out_feats}'\n",
    "        summary += ', normalization={_norm}'\n",
    "        return summary.format(**self.__dict__)"
   ]
  },
  {
   "cell_type": "code",
   "execution_count": 62,
   "metadata": {},
   "outputs": [],
   "source": [
    "def train(model, g, features, labels, loss_fcn, train_mask, optimizer):\n",
    "    model.train()  # Activate dropout\n",
    "    \n",
    "    logits = model(g, features)\n",
    "    loss = loss_fcn(logits[train_mask], labels[train_mask])\n",
    "\n",
    "    optimizer.zero_grad()\n",
    "    loss.backward()\n",
    "    optimizer.step()\n",
    "    return loss\n",
    "\n",
    "def evaluate(model, g, features, labels, mask):\n",
    "    model.eval()  # Deactivate dropout\n",
    "    with torch.no_grad():\n",
    "        logits = model(g, features)[mask]  # only compute the evaluation set\n",
    "        labels = labels[mask]\n",
    "        _, indices = torch.max(logits, dim=1)\n",
    "        correct = torch.sum(indices == labels)\n",
    "        return correct.item() * 1.0 / len(labels)\n",
    "       \n",
    "def test_articles(model, g, features, mask):\n",
    "    model.eval()  # Deactivate dropout\n",
    "    with torch.no_grad():\n",
    "        logits = model(g, features)[mask] \n",
    "        _, indices = torch.max(logits, dim=1)\n",
    "        return indices"
   ]
  },
  {
   "cell_type": "code",
   "execution_count": 63,
   "metadata": {},
   "outputs": [],
   "source": [
    "from sklearn.model_selection import train_test_split\n",
    "x1, x2, y1, y2, idx1, idx2 = train_test_split(\n",
    "    adjacency_matrix, words_df_reduced['label'], range(adjacency_matrix.shape[1]), test_size=0.4)\n",
    "x3, x4, y3, y4, idx3, idx4 = train_test_split(\n",
    "    x2, y2, idx2, test_size=0.5)"
   ]
  },
  {
   "cell_type": "code",
   "execution_count": 68,
   "metadata": {},
   "outputs": [],
   "source": [
    "train_df = pd.DataFrame(np.column_stack((idx1, np.ones(len(idx1)).T)), columns = ['idx', 'indices'])\n",
    "train_ = labels_df.merge(train_df, left_index = True, right_on = 'idx', how = 'left').fillna(0)\n",
    "val_df = pd.DataFrame(np.column_stack((idx3, np.ones(len(idx3)).T)), columns = ['idx', 'indices'])\n",
    "val_ = labels_df.merge(val_df, left_index = True, right_on = 'idx', how = 'left').fillna(0)\n",
    "test_df = pd.DataFrame(np.column_stack((idx4, np.ones(len(idx4)).T)), columns = ['idx', 'indices'])\n",
    "test_ = labels_df.merge(val_df, left_index = True, right_on = 'idx', how = 'left').fillna(0)"
   ]
  },
  {
   "cell_type": "code",
   "execution_count": 69,
   "metadata": {},
   "outputs": [
    {
     "data": {
      "text/plain": [
       "(1400, 100)"
      ]
     },
     "execution_count": 69,
     "metadata": {},
     "output_type": "execute_result"
    }
   ],
   "source": [
    "features.shape"
   ]
  },
  {
   "cell_type": "code",
   "execution_count": 73,
   "metadata": {},
   "outputs": [],
   "source": [
    "in_feats = features.shape[1] \n",
    "n_classes = 2\n",
    "pol_order = 3\n",
    "lr = 0.2\n",
    "weight_decay = 5e-6\n",
    "n_epochs = 100\n",
    "p_dropout = 0.8\n",
    "features_ = torch.FloatTensor(features.values) \n",
    "labels = torch.LongTensor(labels_df['label']) \n",
    "train_mask = torch.BoolTensor(train_['indices'])\n",
    "val_mask = torch.BoolTensor(val_['indices'])\n",
    "test_mask = torch.BoolTensor(test_['indices'])"
   ]
  },
  {
   "cell_type": "code",
   "execution_count": 74,
   "metadata": {},
   "outputs": [
    {
     "name": "stderr",
     "output_type": "stream",
     "text": [
      "/Users/lucaseckes/miniconda2/envs/ntds_2019/lib/python3.7/site-packages/numpy/core/fromnumeric.py:2920: RuntimeWarning: Mean of empty slice.\n",
      "  out=out, **kwargs)\n",
      "/Users/lucaseckes/miniconda2/envs/ntds_2019/lib/python3.7/site-packages/numpy/core/_methods.py:85: RuntimeWarning: invalid value encountered in double_scalars\n",
      "  ret = ret.dtype.type(ret / rcount)\n"
     ]
    },
    {
     "name": "stdout",
     "output_type": "stream",
     "text": [
      "Epoch 00000 | Time(s) nan | Train Loss 0.6931 | Val Accuracy 0.6679\n",
      "Epoch 00001 | Time(s) nan | Train Loss 0.6796 | Val Accuracy 0.8143\n",
      "Epoch 00002 | Time(s) nan | Train Loss 0.6624 | Val Accuracy 0.8286\n",
      "Epoch 00003 | Time(s) 0.0044 | Train Loss 0.6301 | Val Accuracy 0.8393\n",
      "Epoch 00004 | Time(s) 0.0044 | Train Loss 0.5823 | Val Accuracy 0.8500\n",
      "Epoch 00005 | Time(s) 0.0044 | Train Loss 0.5187 | Val Accuracy 0.8571\n",
      "Epoch 00006 | Time(s) 0.0043 | Train Loss 0.4698 | Val Accuracy 0.8500\n",
      "Epoch 00007 | Time(s) 0.0044 | Train Loss 0.4169 | Val Accuracy 0.8500\n",
      "Epoch 00008 | Time(s) 0.0044 | Train Loss 0.3957 | Val Accuracy 0.8571\n",
      "Epoch 00009 | Time(s) 0.0044 | Train Loss 0.3371 | Val Accuracy 0.8571\n",
      "Epoch 00010 | Time(s) 0.0044 | Train Loss 0.3189 | Val Accuracy 0.8571\n",
      "Epoch 00011 | Time(s) 0.0044 | Train Loss 0.3170 | Val Accuracy 0.8679\n",
      "Epoch 00012 | Time(s) 0.0044 | Train Loss 0.3001 | Val Accuracy 0.8643\n",
      "Epoch 00013 | Time(s) 0.0044 | Train Loss 0.2948 | Val Accuracy 0.8679\n",
      "Epoch 00014 | Time(s) 0.0044 | Train Loss 0.2899 | Val Accuracy 0.8750\n",
      "Epoch 00015 | Time(s) 0.0044 | Train Loss 0.2944 | Val Accuracy 0.8821\n",
      "Epoch 00016 | Time(s) 0.0044 | Train Loss 0.2689 | Val Accuracy 0.8893\n",
      "Epoch 00017 | Time(s) 0.0044 | Train Loss 0.2739 | Val Accuracy 0.8893\n",
      "Epoch 00018 | Time(s) 0.0044 | Train Loss 0.2542 | Val Accuracy 0.8929\n",
      "Epoch 00019 | Time(s) 0.0044 | Train Loss 0.2803 | Val Accuracy 0.8929\n",
      "Epoch 00020 | Time(s) 0.0044 | Train Loss 0.2620 | Val Accuracy 0.8929\n",
      "Epoch 00021 | Time(s) 0.0044 | Train Loss 0.2878 | Val Accuracy 0.8929\n",
      "Epoch 00022 | Time(s) 0.0044 | Train Loss 0.2375 | Val Accuracy 0.8857\n",
      "Epoch 00023 | Time(s) 0.0044 | Train Loss 0.2641 | Val Accuracy 0.8786\n",
      "Epoch 00024 | Time(s) 0.0044 | Train Loss 0.2492 | Val Accuracy 0.8857\n",
      "Epoch 00025 | Time(s) 0.0044 | Train Loss 0.2649 | Val Accuracy 0.8857\n",
      "Epoch 00026 | Time(s) 0.0044 | Train Loss 0.2558 | Val Accuracy 0.8821\n",
      "Epoch 00027 | Time(s) 0.0044 | Train Loss 0.2700 | Val Accuracy 0.8786\n",
      "Epoch 00028 | Time(s) 0.0044 | Train Loss 0.2541 | Val Accuracy 0.8821\n",
      "Epoch 00029 | Time(s) 0.0044 | Train Loss 0.2388 | Val Accuracy 0.8786\n",
      "Epoch 00030 | Time(s) 0.0045 | Train Loss 0.2484 | Val Accuracy 0.8786\n",
      "Epoch 00031 | Time(s) 0.0045 | Train Loss 0.2667 | Val Accuracy 0.8750\n",
      "Epoch 00032 | Time(s) 0.0045 | Train Loss 0.2493 | Val Accuracy 0.8786\n",
      "Epoch 00033 | Time(s) 0.0045 | Train Loss 0.2561 | Val Accuracy 0.8786\n",
      "Epoch 00034 | Time(s) 0.0045 | Train Loss 0.2195 | Val Accuracy 0.8750\n",
      "Epoch 00035 | Time(s) 0.0045 | Train Loss 0.2365 | Val Accuracy 0.8679\n",
      "Epoch 00036 | Time(s) 0.0046 | Train Loss 0.2587 | Val Accuracy 0.8607\n",
      "Epoch 00037 | Time(s) 0.0047 | Train Loss 0.2376 | Val Accuracy 0.8607\n",
      "Epoch 00038 | Time(s) 0.0047 | Train Loss 0.2355 | Val Accuracy 0.8643\n",
      "Epoch 00039 | Time(s) 0.0048 | Train Loss 0.2617 | Val Accuracy 0.8714\n",
      "Epoch 00040 | Time(s) 0.0049 | Train Loss 0.2559 | Val Accuracy 0.8714\n",
      "Epoch 00041 | Time(s) 0.0049 | Train Loss 0.2535 | Val Accuracy 0.8786\n",
      "Epoch 00042 | Time(s) 0.0049 | Train Loss 0.2507 | Val Accuracy 0.8786\n",
      "Epoch 00043 | Time(s) 0.0049 | Train Loss 0.2229 | Val Accuracy 0.8786\n",
      "Epoch 00044 | Time(s) 0.0049 | Train Loss 0.2414 | Val Accuracy 0.8786\n",
      "Epoch 00045 | Time(s) 0.0050 | Train Loss 0.2630 | Val Accuracy 0.8821\n",
      "Epoch 00046 | Time(s) 0.0050 | Train Loss 0.2260 | Val Accuracy 0.8750\n",
      "Epoch 00047 | Time(s) 0.0050 | Train Loss 0.2445 | Val Accuracy 0.8786\n",
      "Epoch 00048 | Time(s) 0.0050 | Train Loss 0.2495 | Val Accuracy 0.8857\n",
      "Epoch 00049 | Time(s) 0.0050 | Train Loss 0.2510 | Val Accuracy 0.8893\n",
      "Epoch 00050 | Time(s) 0.0050 | Train Loss 0.2134 | Val Accuracy 0.8821\n",
      "Epoch 00051 | Time(s) 0.0050 | Train Loss 0.2199 | Val Accuracy 0.8821\n",
      "Epoch 00052 | Time(s) 0.0050 | Train Loss 0.2306 | Val Accuracy 0.8857\n",
      "Epoch 00053 | Time(s) 0.0050 | Train Loss 0.2338 | Val Accuracy 0.8857\n",
      "Epoch 00054 | Time(s) 0.0050 | Train Loss 0.2324 | Val Accuracy 0.8857\n",
      "Epoch 00055 | Time(s) 0.0051 | Train Loss 0.2435 | Val Accuracy 0.8821\n",
      "Epoch 00056 | Time(s) 0.0051 | Train Loss 0.2383 | Val Accuracy 0.8821\n",
      "Epoch 00057 | Time(s) 0.0051 | Train Loss 0.2172 | Val Accuracy 0.8857\n",
      "Epoch 00058 | Time(s) 0.0051 | Train Loss 0.2338 | Val Accuracy 0.8857\n",
      "Epoch 00059 | Time(s) 0.0050 | Train Loss 0.2272 | Val Accuracy 0.8821\n",
      "Epoch 00060 | Time(s) 0.0050 | Train Loss 0.2375 | Val Accuracy 0.8821\n",
      "Epoch 00061 | Time(s) 0.0050 | Train Loss 0.2284 | Val Accuracy 0.8821\n",
      "Epoch 00062 | Time(s) 0.0050 | Train Loss 0.2192 | Val Accuracy 0.8821\n",
      "Epoch 00063 | Time(s) 0.0050 | Train Loss 0.2175 | Val Accuracy 0.8786\n",
      "Epoch 00064 | Time(s) 0.0050 | Train Loss 0.2473 | Val Accuracy 0.8821\n",
      "Epoch 00065 | Time(s) 0.0050 | Train Loss 0.2189 | Val Accuracy 0.8821\n",
      "Epoch 00066 | Time(s) 0.0049 | Train Loss 0.2372 | Val Accuracy 0.8786\n",
      "Epoch 00067 | Time(s) 0.0049 | Train Loss 0.2305 | Val Accuracy 0.8750\n",
      "Epoch 00068 | Time(s) 0.0049 | Train Loss 0.2241 | Val Accuracy 0.8714\n",
      "Epoch 00069 | Time(s) 0.0049 | Train Loss 0.2380 | Val Accuracy 0.8714\n",
      "Epoch 00070 | Time(s) 0.0049 | Train Loss 0.2140 | Val Accuracy 0.8750\n",
      "Epoch 00071 | Time(s) 0.0049 | Train Loss 0.2466 | Val Accuracy 0.8750\n",
      "Epoch 00072 | Time(s) 0.0049 | Train Loss 0.2356 | Val Accuracy 0.8786\n",
      "Epoch 00073 | Time(s) 0.0049 | Train Loss 0.2332 | Val Accuracy 0.8821\n",
      "Epoch 00074 | Time(s) 0.0049 | Train Loss 0.2235 | Val Accuracy 0.8821\n",
      "Epoch 00075 | Time(s) 0.0049 | Train Loss 0.2339 | Val Accuracy 0.8857\n",
      "Epoch 00076 | Time(s) 0.0049 | Train Loss 0.2225 | Val Accuracy 0.8821\n",
      "Epoch 00077 | Time(s) 0.0049 | Train Loss 0.2140 | Val Accuracy 0.8821\n",
      "Epoch 00078 | Time(s) 0.0048 | Train Loss 0.2424 | Val Accuracy 0.8786\n",
      "Epoch 00079 | Time(s) 0.0048 | Train Loss 0.2456 | Val Accuracy 0.8714\n",
      "Epoch 00080 | Time(s) 0.0048 | Train Loss 0.2078 | Val Accuracy 0.8750\n",
      "Epoch 00081 | Time(s) 0.0048 | Train Loss 0.2378 | Val Accuracy 0.8750\n",
      "Epoch 00082 | Time(s) 0.0048 | Train Loss 0.2262 | Val Accuracy 0.8786\n",
      "Epoch 00083 | Time(s) 0.0048 | Train Loss 0.2161 | Val Accuracy 0.8750\n",
      "Epoch 00084 | Time(s) 0.0048 | Train Loss 0.2425 | Val Accuracy 0.8714\n",
      "Epoch 00085 | Time(s) 0.0048 | Train Loss 0.2432 | Val Accuracy 0.8750\n",
      "Epoch 00086 | Time(s) 0.0048 | Train Loss 0.2539 | Val Accuracy 0.8821\n",
      "Epoch 00087 | Time(s) 0.0048 | Train Loss 0.2140 | Val Accuracy 0.8893\n",
      "Epoch 00088 | Time(s) 0.0048 | Train Loss 0.2224 | Val Accuracy 0.8821\n",
      "Epoch 00089 | Time(s) 0.0048 | Train Loss 0.2321 | Val Accuracy 0.8821\n",
      "Epoch 00090 | Time(s) 0.0048 | Train Loss 0.2354 | Val Accuracy 0.8821\n",
      "Epoch 00091 | Time(s) 0.0048 | Train Loss 0.2448 | Val Accuracy 0.8893\n",
      "Epoch 00092 | Time(s) 0.0048 | Train Loss 0.2443 | Val Accuracy 0.8893\n",
      "Epoch 00093 | Time(s) 0.0048 | Train Loss 0.2459 | Val Accuracy 0.8893\n",
      "Epoch 00094 | Time(s) 0.0048 | Train Loss 0.2241 | Val Accuracy 0.8893\n",
      "Epoch 00095 | Time(s) 0.0048 | Train Loss 0.2517 | Val Accuracy 0.8857\n",
      "Epoch 00096 | Time(s) 0.0048 | Train Loss 0.2357 | Val Accuracy 0.8857\n",
      "Epoch 00097 | Time(s) 0.0048 | Train Loss 0.2261 | Val Accuracy 0.8893\n",
      "Epoch 00098 | Time(s) 0.0048 | Train Loss 0.2309 | Val Accuracy 0.8821\n",
      "Epoch 00099 | Time(s) 0.0047 | Train Loss 0.2242 | Val Accuracy 0.8857\n",
      "\n",
      "Test Accuracy 0.8857\n"
     ]
    }
   ],
   "source": [
    "model = LaplacianPolynomial(in_feats, n_classes, pol_order, p_dropout)\n",
    "\n",
    "graph = DGLGraph(graph)\n",
    "\n",
    "loss_fcn = torch.nn.CrossEntropyLoss()\n",
    "optimizer = torch.optim.Adam(model.parameters(),\n",
    "                             lr=lr,\n",
    "                             weight_decay=weight_decay)\n",
    "\n",
    "dur = []\n",
    "for epoch in range(n_epochs):\n",
    "    if epoch >= 3:\n",
    "        t0 = time.time()\n",
    "    loss = train(model, graph, features_, labels, loss_fcn, train_mask, optimizer)\n",
    "\n",
    "    if epoch >= 3:\n",
    "        dur.append(time.time() - t0)\n",
    "\n",
    "    acc = evaluate(model, graph, features_, labels, val_mask)\n",
    "    print(\"Epoch {:05d} | Time(s) {:.4f} | Train Loss {:.4f} | Val Accuracy {:.4f}\". format(\n",
    "            epoch, np.mean(dur), loss.item(), acc))\n",
    "\n",
    "print()\n",
    "acc = evaluate(model, graph, features_, labels, test_mask)\n",
    "print(\"Test Accuracy {:.4f}\".format(acc))"
   ]
  },
  {
   "cell_type": "code",
   "execution_count": 75,
   "metadata": {},
   "outputs": [
    {
     "name": "stdout",
     "output_type": "stream",
     "text": [
      "[ 3.0335634  -2.7560277  -0.23176661  0.7974252 ]\n"
     ]
    }
   ],
   "source": [
    "coeff_gcn =  model.pol_weights.data.numpy()\n",
    "print(coeff_gcn)"
   ]
  },
  {
   "cell_type": "code",
   "execution_count": 76,
   "metadata": {},
   "outputs": [
    {
     "data": {
      "text/plain": [
       "LaplacianPolynomial(\n",
       "  in=100, out=2, normalization=True\n",
       "  (dropout): Dropout(p=0.8, inplace=False)\n",
       ")"
      ]
     },
     "execution_count": 76,
     "metadata": {},
     "output_type": "execute_result"
    }
   ],
   "source": [
    "model"
   ]
  },
  {
   "cell_type": "code",
   "execution_count": 77,
   "metadata": {},
   "outputs": [],
   "source": [
    "def polynomial_graph_filter_response(coeff: np.array, lam: np.ndarray):\n",
    "    \"\"\" Return an array of the same shape as lam.\n",
    "        response[i] is the spectral response at frequency lam[i]. \"\"\"\n",
    "    # Your code here\n",
    "    V = np.vander(lam, len(coeff), increasing=True)\n",
    "    return V@coeff"
   ]
  },
  {
   "cell_type": "code",
   "execution_count": 78,
   "metadata": {},
   "outputs": [
    {
     "name": "stderr",
     "output_type": "stream",
     "text": [
      "/Users/lucaseckes/miniconda2/envs/ntds_2019/lib/python3.7/site-packages/numpy/core/numeric.py:501: ComplexWarning: Casting complex values to real discards the imaginary part\n",
      "  return array(a, dtype, copy=False, order=order)\n"
     ]
    },
    {
     "data": {
      "text/plain": [
       "Text(0, 0.5, 'Spectral response (db)')"
      ]
     },
     "execution_count": 78,
     "metadata": {},
     "output_type": "execute_result"
    },
    {
     "data": {
      "image/png": "[encoded data removed]",
      "text/plain": [
       "<Figure size 432x288 with 1 Axes>"
      ]
     },
     "metadata": {
      "needs_background": "light"
     },
     "output_type": "display_data"
    }
   ],
   "source": [
    "plt.semilogy(lam, np.abs(polynomial_graph_filter_response(coeff_gcn, lam)))\n",
    "plt.xlabel('$\\lambda$')\n",
    "plt.ylabel('Spectral response (db)')"
   ]
  },
  {
   "cell_type": "code",
   "execution_count": 94,
   "metadata": {},
   "outputs": [
    {
     "name": "stdout",
     "output_type": "stream",
     "text": [
      "[====================] 100%"
     ]
    }
   ],
   "source": [
    "list_articles = [\"God\", \"Network Science\", \"Jesus\", \"Quantic physics\"]\n",
    "test_df = aquire.take_words(list_articles, stop_words, is_title = True)"
   ]
  },
  {
   "cell_type": "code",
   "execution_count": 101,
   "metadata": {},
   "outputs": [
    {
     "name": "stderr",
     "output_type": "stream",
     "text": [
      "/Users/lucaseckes/miniconda2/envs/ntds_2019/lib/python3.7/site-packages/ipykernel_launcher.py:1: FutureWarning: Sorting because non-concatenation axis is not aligned. A future version\n",
      "of pandas will change to not sort by default.\n",
      "\n",
      "To accept the future behavior, pass 'sort=False'.\n",
      "\n",
      "To retain the current behavior and silence the warning, pass 'sort=True'.\n",
      "\n",
      "  \"\"\"Entry point for launching an IPython kernel.\n"
     ]
    }
   ],
   "source": [
    "test_df = pd.concat([words_df_reduced,test_df])"
   ]
  },
  {
   "cell_type": "code",
   "execution_count": 104,
   "metadata": {},
   "outputs": [
    {
     "data": {
      "text/plain": [
       "array([[0.04061253, 0.54364699, 0.26136965, ..., 0.        , 0.02633915,\n",
       "        0.02359013],\n",
       "       [0.        , 0.0234867 , 0.03995532, ..., 0.00609518, 0.01962889,\n",
       "        0.00586007],\n",
       "       [0.        , 0.06970982, 0.        , ..., 0.        , 0.        ,\n",
       "        0.0695721 ],\n",
       "       ...,\n",
       "       [0.06131579, 0.        , 0.        , ..., 0.        , 0.00935675,\n",
       "        0.01047523],\n",
       "       [0.        , 0.00350141, 0.01588417, ..., 0.00363469, 0.00130057,\n",
       "        0.00931865],\n",
       "       [0.        , 0.        , 0.        , ..., 0.0190229 , 0.        ,\n",
       "        0.01828915]])"
      ]
     },
     "execution_count": 104,
     "metadata": {},
     "output_type": "execute_result"
    }
   ],
   "source": [
    "features_final = nlpu.TF_IDF(test_df, 100).values\n",
    "features_final"
   ]
  },
  {
   "cell_type": "code",
   "execution_count": 105,
   "metadata": {},
   "outputs": [],
   "source": [
    "distances = np.array([[(np.sum((features_final[i,:]-features_final[j,:])**2)) for i in range(0,features_final.shape[0]) ] for j in range(0,features_final.shape[0])]).reshape(features_final.shape[0],-1)\n",
    "feat = distances/np.max(distances)\n",
    "np.fill_diagonal(feat, 0)\n",
    "graph = nx.from_numpy_array(feat)\n",
    "graph = DGLGraph(graph)"
   ]
  },
  {
   "cell_type": "code",
   "execution_count": 106,
   "metadata": {},
   "outputs": [],
   "source": [
    "features_ = torch.FloatTensor(features_final)"
   ]
  },
  {
   "cell_type": "code",
   "execution_count": 110,
   "metadata": {},
   "outputs": [],
   "source": [
    "mask1 = np.zeros((len(features)))\n",
    "mask2 = np.ones((4))\n",
    "mask = np.concatenate((mask1,mask2))\n",
    "mask = torch.BoolTensor(mask)"
   ]
  },
  {
   "cell_type": "code",
   "execution_count": 111,
   "metadata": {},
   "outputs": [
    {
     "data": {
      "text/plain": [
       "tensor([0, 0, 0, 0])"
      ]
     },
     "execution_count": 111,
     "metadata": {},
     "output_type": "execute_result"
    }
   ],
   "source": [
    "test_articles(model, graph, features_, mask)"
   ]
  },
  {
   "cell_type": "markdown",
   "metadata": {},
   "source": [
    "## Cheeger constant"
   ]
  },
  {
   "cell_type": "code",
   "execution_count": 112,
   "metadata": {},
   "outputs": [
    {
     "ename": "TypeError",
     "evalue": "'MatrixUtils' object is not callable",
     "output_type": "error",
     "traceback": [
      "\u001b[0;31m---------------------------------------------------------------------------\u001b[0m",
      "\u001b[0;31mTypeError\u001b[0m                                 Traceback (most recent call last)",
      "\u001b[0;32m<ipython-input-112-55935ba854e6>\u001b[0m in \u001b[0;36m<module>\u001b[0;34m\u001b[0m\n\u001b[0;32m----> 1\u001b[0;31m \u001b[0mmatrixu\u001b[0m\u001b[0;34m(\u001b[0m\u001b[0;34m)\u001b[0m\u001b[0;34m\u001b[0m\u001b[0;34m\u001b[0m\u001b[0m\n\u001b[0m",
      "\u001b[0;31mTypeError\u001b[0m: 'MatrixUtils' object is not callable"
     ]
    }
   ],
   "source": [
    "matrixu()"
   ]
  },
  {
   "cell_type": "markdown",
   "metadata": {},
   "source": [
    "## Heuristic Eigengaps"
   ]
  },
  {
   "cell_type": "code",
   "execution_count": 113,
   "metadata": {},
   "outputs": [],
   "source": [
    "laplacian = matrixu.compute_laplacian(adjacency_matrix, normalize = False)\n",
    "eigenvalues, eigenvectors = matrixu.spectral_decomposition(laplacian)"
   ]
  },
  {
   "cell_type": "code",
   "execution_count": 114,
   "metadata": {},
   "outputs": [
    {
     "name": "stderr",
     "output_type": "stream",
     "text": [
      "/Users/lucaseckes/miniconda2/envs/ntds_2019/lib/python3.7/site-packages/numpy/core/numeric.py:501: ComplexWarning: Casting complex values to real discards the imaginary part\n",
      "  return array(a, dtype, copy=False, order=order)\n"
     ]
    },
    {
     "data": {
      "text/plain": [
       "Text(0.5, 1.0, 'Eigenvalues $L_{comb}$')"
      ]
     },
     "execution_count": 114,
     "metadata": {},
     "output_type": "execute_result"
    },
    {
     "data": {
      "image/png": "[encoded data removed]",
      "text/plain": [
       "<Figure size 864x360 with 1 Axes>"
      ]
     },
     "metadata": {
      "needs_background": "light"
     },
     "output_type": "display_data"
    }
   ],
   "source": [
    "plt.figure(figsize=(12,5))\n",
    "plt.plot(eigenvalues)\n",
    "plt.xlabel('Index')\n",
    "plt.ylabel('Eigenvalue')\n",
    "plt.title('Eigenvalues $L_{comb}$')"
   ]
  },
  {
   "cell_type": "code",
   "execution_count": null,
   "metadata": {},
   "outputs": [],
   "source": []
  }
 ],
 "metadata": {
  "kernelspec": {
   "display_name": "Python 3",
   "language": "python",
   "name": "python3"
  },
  "language_info": {
   "codemirror_mode": {
    "name": "ipython",
    "version": 3
   },
   "file_extension": ".py",
   "mimetype": "text/x-python",
   "name": "python",
   "nbconvert_exporter": "python",
   "pygments_lexer": "ipython3",
   "version": "3.7.3"
  }
 },
 "nbformat": 4,
 "nbformat_minor": 4
}
