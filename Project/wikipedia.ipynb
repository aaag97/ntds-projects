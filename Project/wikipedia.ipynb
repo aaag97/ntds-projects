{
 "cells": [
  {
   "cell_type": "code",
   "execution_count": 1,
   "metadata": {},
   "outputs": [],
   "source": [
    "import wikipedia\n",
    "import wikipediaapi\n",
    "import pandas as pd\n",
    "import numpy as np\n",
    "import matplotlib.pyplot as plt\n",
    "import networkx as nx"
   ]
  },
  {
   "cell_type": "markdown",
   "metadata": {},
   "source": [
    "# Data Cleaning"
   ]
  },
  {
   "cell_type": "code",
   "execution_count": 2,
   "metadata": {},
   "outputs": [],
   "source": [
    "## take all article in category (max_level control the depthness of articles taken from the subcategories)\n",
    "def print_categorymembers(categorymembers, level=0, max_level=1):\n",
    "    list_articles = []\n",
    "    for c in categorymembers.values():\n",
    "        if c.ns == 0:\n",
    "            list_articles.append(c) \n",
    "            ##print(\"%s: %s (ns: %d)\" % (\"*\" * (level + 1), c.title, c.ns))\n",
    "        elif level < max_level and c.ns == 14:\n",
    "            sub_list = []\n",
    "            sub_list = print_categorymembers(c.categorymembers, level=level + 1, max_level=max_level)\n",
    "            list_articles = list_articles + sub_list\n",
    "    return list_articles"
   ]
  },
  {
   "cell_type": "code",
   "execution_count": 3,
   "metadata": {},
   "outputs": [],
   "source": [
    "wiki_wiki = wikipediaapi.Wikipedia('en')\n",
    "cat1 = wiki_wiki.page(\"Category:Religion\")\n",
    "cat2 = wiki_wiki.page(\"Category:Science\")"
   ]
  },
  {
   "cell_type": "code",
   "execution_count": 4,
   "metadata": {},
   "outputs": [],
   "source": [
    "religion_articles = print_categorymembers(cat1.categorymembers)\n",
    "science_articles = print_categorymembers(cat2.categorymembers)"
   ]
  },
  {
   "cell_type": "markdown",
   "metadata": {},
   "source": [
    "## This cell is about the hyperlink of articles but not relevant anymore"
   ]
  },
  {
   "cell_type": "code",
   "execution_count": 5,
   "metadata": {},
   "outputs": [
    {
     "ename": "NameError",
     "evalue": "name 'list_articles' is not defined",
     "output_type": "error",
     "traceback": [
      "\u001b[0;31m---------------------------------------------------------------------------\u001b[0m",
      "\u001b[0;31mNameError\u001b[0m                                 Traceback (most recent call last)",
      "\u001b[0;32m<ipython-input-5-c246ac101fd1>\u001b[0m in \u001b[0;36m<module>\u001b[0;34m\u001b[0m\n\u001b[1;32m      9\u001b[0m                     \u001b[0mmatrix\u001b[0m\u001b[0;34m[\u001b[0m\u001b[0mcompt\u001b[0m\u001b[0;34m,\u001b[0m\u001b[0mi\u001b[0m\u001b[0;34m]\u001b[0m \u001b[0;34m=\u001b[0m \u001b[0;36m1\u001b[0m\u001b[0;34m\u001b[0m\u001b[0;34m\u001b[0m\u001b[0m\n\u001b[1;32m     10\u001b[0m     \u001b[0;32mreturn\u001b[0m \u001b[0mmatrix\u001b[0m\u001b[0;34m\u001b[0m\u001b[0;34m\u001b[0m\u001b[0m\n\u001b[0;32m---> 11\u001b[0;31m \u001b[0madjacency_matrix\u001b[0m \u001b[0;34m=\u001b[0m \u001b[0mmake_links\u001b[0m\u001b[0;34m(\u001b[0m\u001b[0mlist_articles\u001b[0m\u001b[0;34m)\u001b[0m\u001b[0;34m\u001b[0m\u001b[0;34m\u001b[0m\u001b[0m\n\u001b[0m\u001b[1;32m     12\u001b[0m \u001b[0mnum_edges\u001b[0m \u001b[0;34m=\u001b[0m \u001b[0mnp\u001b[0m\u001b[0;34m.\u001b[0m\u001b[0mcount_nonzero\u001b[0m\u001b[0;34m(\u001b[0m\u001b[0madjacency_matrix\u001b[0m\u001b[0;34m)\u001b[0m\u001b[0;34m\u001b[0m\u001b[0;34m\u001b[0m\u001b[0m\n\u001b[1;32m     13\u001b[0m \u001b[0mprint\u001b[0m\u001b[0;34m(\u001b[0m\u001b[0;34mf\"Number of edges in the feature graph: {num_edges}\"\u001b[0m\u001b[0;34m)\u001b[0m\u001b[0;34m\u001b[0m\u001b[0;34m\u001b[0m\u001b[0m\n",
      "\u001b[0;31mNameError\u001b[0m: name 'list_articles' is not defined"
     ]
    }
   ],
   "source": [
    "## Create the adjacency matrix\n",
    "def make_links(list_articles):\n",
    "    matrix = np.zeros((len(list_articles), len(list_articles)))\n",
    "    compt = 0\n",
    "    for article in list_articles:\n",
    "        for link in article.links:\n",
    "            for i in range(len(list_articles)):\n",
    "                if (link == list_articles[i].title):\n",
    "                    matrix[compt,i] = 1\n",
    "    return matrix\n",
    "adjacency_matrix = make_links(list_articles)\n",
    "num_edges = np.count_nonzero(adjacency_matrix)\n",
    "print(f\"Number of edges in the feature graph: {num_edges}\")"
   ]
  },
  {
   "cell_type": "code",
   "execution_count": 6,
   "metadata": {},
   "outputs": [
    {
     "name": "stderr",
     "output_type": "stream",
     "text": [
      "[nltk_data] Downloading package stopwords to\n",
      "[nltk_data]     /Users/lucaseckes/nltk_data...\n",
      "[nltk_data]   Package stopwords is already up-to-date!\n",
      "[nltk_data] Downloading package punkt to\n",
      "[nltk_data]     /Users/lucaseckes/nltk_data...\n",
      "[nltk_data]   Package punkt is already up-to-date!\n"
     ]
    },
    {
     "data": {
      "text/plain": [
       "True"
      ]
     },
     "execution_count": 6,
     "metadata": {},
     "output_type": "execute_result"
    }
   ],
   "source": [
    "import nltk\n",
    "nltk.download(\"stopwords\")\n",
    "nltk.download('punkt')"
   ]
  },
  {
   "cell_type": "code",
   "execution_count": 7,
   "metadata": {},
   "outputs": [],
   "source": [
    "#Take all the words present in the articles that are not stopwords\n",
    "from nltk.corpus import stopwords\n",
    "from nltk.tokenize import word_tokenize\n",
    "stop1 = ['====', '===', '==', '<<', '>>', \"''\", '``', \"'s\" , '\\displaystyle', '...', '\\phi', '\\mu', '\\mathbf', '--', 'x_',\n",
    "        '\\alpha', '\\dot', '\\hat', '\\lambda', '\\left', '\\right', 'matcal', '\\nu', '\\partial']\n",
    "stop2 = stopwords.words('english')\n",
    "stop = stop1+stop2\n",
    "wikipedia.set_lang('en')\n",
    "\n",
    "def take_words(list_articles) :\n",
    "    words_df = pd.DataFrame(columns=['article', 'words'])\n",
    "    for i in range(len(list_articles)):\n",
    "        if (i%10 == 0) :\n",
    "            print(i)\n",
    "        try: \n",
    "            page = wikipedia.page(list_articles[i].title)\n",
    "        except wikipedia.DisambiguationError as e:\n",
    "            s = e.options\n",
    "            s = list(filter(lambda x : x != \"\", s))\n",
    "            try :\n",
    "                page = wikipedia.page(s)\n",
    "            except wikipedia.DisambiguationError as e:\n",
    "                pass\n",
    "        except wikipedia.PageError:\n",
    "            pass\n",
    "        words = word_tokenize(page.content)\n",
    "        words = [elem.lower() for elem in words]\n",
    "        words = [elem for elem in words if len(elem) > 1 and elem.isdigit() == False]\n",
    "        words_wostop = [x for x in words if x not in stop]\n",
    "        words_wostop = [elem.lower() for elem in words_wostop]\n",
    "        words_df.loc[i] = [list_articles[i].title] + [words_wostop]\n",
    "    return words_df"
   ]
  },
  {
   "cell_type": "code",
   "execution_count": 8,
   "metadata": {},
   "outputs": [
    {
     "name": "stdout",
     "output_type": "stream",
     "text": [
      "0\n",
      "10\n",
      "20\n",
      "30\n",
      "40\n",
      "50\n",
      "60\n",
      "70\n",
      "80\n",
      "90\n",
      "100\n",
      "110\n",
      "120\n",
      "130\n",
      "140\n",
      "150\n",
      "160\n",
      "170\n",
      "180\n",
      "190\n",
      "200\n",
      "210\n",
      "220\n",
      "230\n",
      "240\n",
      "250\n",
      "260\n",
      "270\n",
      "280\n",
      "290\n",
      "300\n",
      "310\n",
      "320\n",
      "330\n",
      "340\n",
      "350\n",
      "360\n",
      "370\n",
      "380\n"
     ]
    },
    {
     "name": "stderr",
     "output_type": "stream",
     "text": [
      "/Users/lucaseckes/miniconda2/envs/ntds_2019/lib/python3.7/site-packages/wikipedia/wikipedia.py:389: UserWarning: No parser was explicitly specified, so I'm using the best available HTML parser for this system (\"html.parser\"). This usually isn't a problem, but if you run this code on another system, or in a different virtual environment, it may use a different parser and behave differently.\n",
      "\n",
      "The code that caused this warning is on line 389 of the file /Users/lucaseckes/miniconda2/envs/ntds_2019/lib/python3.7/site-packages/wikipedia/wikipedia.py. To get rid of this warning, pass the additional argument 'features=\"html.parser\"' to the BeautifulSoup constructor.\n",
      "\n",
      "  lis = BeautifulSoup(html).find_all('li')\n"
     ]
    },
    {
     "name": "stdout",
     "output_type": "stream",
     "text": [
      "390\n",
      "400\n",
      "410\n",
      "420\n",
      "430\n",
      "440\n",
      "450\n",
      "460\n",
      "470\n",
      "480\n",
      "490\n",
      "500\n",
      "510\n",
      "520\n",
      "530\n",
      "540\n",
      "550\n",
      "560\n",
      "570\n",
      "580\n",
      "590\n",
      "600\n",
      "610\n",
      "620\n",
      "630\n",
      "640\n",
      "650\n",
      "660\n",
      "670\n",
      "680\n",
      "690\n",
      "700\n",
      "710\n",
      "720\n",
      "730\n",
      "740\n",
      "750\n",
      "760\n",
      "770\n",
      "780\n",
      "790\n"
     ]
    }
   ],
   "source": [
    "religion_df = take_words(religion_articles)"
   ]
  },
  {
   "cell_type": "code",
   "execution_count": 9,
   "metadata": {},
   "outputs": [
    {
     "name": "stdout",
     "output_type": "stream",
     "text": [
      "0\n",
      "10\n",
      "20\n",
      "30\n",
      "40\n",
      "50\n",
      "60\n",
      "70\n",
      "80\n",
      "90\n",
      "100\n",
      "110\n",
      "120\n",
      "130\n",
      "140\n",
      "150\n",
      "160\n",
      "170\n",
      "180\n",
      "190\n",
      "200\n",
      "210\n",
      "220\n",
      "230\n",
      "240\n",
      "250\n",
      "260\n",
      "270\n",
      "280\n",
      "290\n",
      "300\n",
      "310\n",
      "320\n",
      "330\n",
      "340\n",
      "350\n",
      "360\n",
      "370\n",
      "380\n",
      "390\n",
      "400\n",
      "410\n",
      "420\n",
      "430\n",
      "440\n",
      "450\n",
      "460\n",
      "470\n",
      "480\n",
      "490\n",
      "500\n",
      "510\n",
      "520\n",
      "530\n",
      "540\n",
      "550\n",
      "560\n",
      "570\n",
      "580\n",
      "590\n",
      "600\n",
      "610\n",
      "620\n",
      "630\n",
      "640\n",
      "650\n",
      "660\n",
      "670\n",
      "680\n",
      "690\n",
      "700\n",
      "710\n",
      "720\n",
      "730\n",
      "740\n",
      "750\n",
      "760\n",
      "770\n",
      "780\n",
      "790\n",
      "800\n",
      "810\n",
      "820\n",
      "830\n",
      "840\n",
      "850\n",
      "860\n",
      "870\n",
      "880\n",
      "890\n",
      "900\n",
      "910\n",
      "920\n",
      "930\n",
      "940\n",
      "950\n",
      "960\n",
      "970\n",
      "980\n",
      "990\n",
      "1000\n",
      "1010\n",
      "1020\n",
      "1030\n",
      "1040\n",
      "1050\n",
      "1060\n",
      "1070\n",
      "1080\n",
      "1090\n",
      "1100\n",
      "1110\n",
      "1120\n",
      "1130\n",
      "1140\n",
      "1150\n",
      "1160\n",
      "1170\n",
      "1180\n",
      "1190\n",
      "1200\n",
      "1210\n",
      "1220\n",
      "1230\n",
      "1240\n",
      "1250\n",
      "1260\n",
      "1270\n",
      "1280\n",
      "1290\n",
      "1300\n",
      "1310\n",
      "1320\n",
      "1330\n",
      "1340\n",
      "1350\n",
      "1360\n",
      "1370\n",
      "1380\n",
      "1390\n",
      "1400\n",
      "1410\n",
      "1420\n",
      "1430\n",
      "1440\n",
      "1450\n",
      "1460\n",
      "1470\n",
      "1480\n",
      "1490\n",
      "1500\n",
      "1510\n",
      "1520\n",
      "1530\n",
      "1540\n",
      "1550\n",
      "1560\n",
      "1570\n",
      "1580\n",
      "1590\n",
      "1600\n",
      "1610\n",
      "1620\n",
      "1630\n",
      "1640\n",
      "1650\n"
     ]
    }
   ],
   "source": [
    "science_df = take_words(science_articles)"
   ]
  },
  {
   "cell_type": "code",
   "execution_count": 10,
   "metadata": {},
   "outputs": [],
   "source": [
    "words_df = pd.concat([religion_df, science_df])"
   ]
  },
  {
   "cell_type": "code",
   "execution_count": 33,
   "metadata": {},
   "outputs": [],
   "source": [
    "TF_religion = religion_df.explode('words')\n",
    "len_religion = len(TF_religion)\n",
    "TF_science = science_df.explode('words')\n",
    "len_science = len(TF_science)"
   ]
  },
  {
   "cell_type": "code",
   "execution_count": 34,
   "metadata": {},
   "outputs": [],
   "source": [
    "TF_religion = TF_religion.groupby(['words']).count().reset_index().sort_values(['article'], ascending = False)\n",
    "TF_religion['TF'] = TF_religion['article'].apply(lambda x : x/len_religion)\n",
    "TF_science = TF_science.groupby(['words']).count().reset_index().sort_values(['article'], ascending = False)\n",
    "TF_science['TF'] = TF_science['article'].apply(lambda x : x/len_science)"
   ]
  },
  {
   "cell_type": "code",
   "execution_count": 36,
   "metadata": {},
   "outputs": [
    {
     "data": {
      "text/html": [
       "<div>\n",
       "<style scoped>\n",
       "    .dataframe tbody tr th:only-of-type {\n",
       "        vertical-align: middle;\n",
       "    }\n",
       "\n",
       "    .dataframe tbody tr th {\n",
       "        vertical-align: top;\n",
       "    }\n",
       "\n",
       "    .dataframe thead th {\n",
       "        text-align: right;\n",
       "    }\n",
       "</style>\n",
       "<table border=\"1\" class=\"dataframe\">\n",
       "  <thead>\n",
       "    <tr style=\"text-align: right;\">\n",
       "      <th></th>\n",
       "      <th>words</th>\n",
       "      <th>article</th>\n",
       "      <th>IDF</th>\n",
       "    </tr>\n",
       "  </thead>\n",
       "  <tbody>\n",
       "    <tr>\n",
       "      <td>104535</td>\n",
       "      <td>science</td>\n",
       "      <td>19668</td>\n",
       "      <td>1.905240</td>\n",
       "    </tr>\n",
       "    <tr>\n",
       "      <td>15880</td>\n",
       "      <td>also</td>\n",
       "      <td>15478</td>\n",
       "      <td>2.144813</td>\n",
       "    </tr>\n",
       "    <tr>\n",
       "      <td>85772</td>\n",
       "      <td>one</td>\n",
       "      <td>11955</td>\n",
       "      <td>2.403083</td>\n",
       "    </tr>\n",
       "    <tr>\n",
       "      <td>99572</td>\n",
       "      <td>religion</td>\n",
       "      <td>11045</td>\n",
       "      <td>2.482255</td>\n",
       "    </tr>\n",
       "    <tr>\n",
       "      <td>99653</td>\n",
       "      <td>religious</td>\n",
       "      <td>11021</td>\n",
       "      <td>2.484430</td>\n",
       "    </tr>\n",
       "    <tr>\n",
       "      <td>...</td>\n",
       "      <td>...</td>\n",
       "      <td>...</td>\n",
       "      <td>...</td>\n",
       "    </tr>\n",
       "    <tr>\n",
       "      <td>60372</td>\n",
       "      <td>identified.</td>\n",
       "      <td>1</td>\n",
       "      <td>11.791988</td>\n",
       "    </tr>\n",
       "    <tr>\n",
       "      <td>24674</td>\n",
       "      <td>bogost</td>\n",
       "      <td>1</td>\n",
       "      <td>11.791988</td>\n",
       "    </tr>\n",
       "    <tr>\n",
       "      <td>24675</td>\n",
       "      <td>bogota</td>\n",
       "      <td>1</td>\n",
       "      <td>11.791988</td>\n",
       "    </tr>\n",
       "    <tr>\n",
       "      <td>91628</td>\n",
       "      <td>plateau.women</td>\n",
       "      <td>1</td>\n",
       "      <td>11.791988</td>\n",
       "    </tr>\n",
       "    <tr>\n",
       "      <td>37070</td>\n",
       "      <td>dead-end</td>\n",
       "      <td>1</td>\n",
       "      <td>11.791988</td>\n",
       "    </tr>\n",
       "  </tbody>\n",
       "</table>\n",
       "<p>132189 rows × 3 columns</p>\n",
       "</div>"
      ],
      "text/plain": [
       "                words  article        IDF\n",
       "104535        science    19668   1.905240\n",
       "15880            also    15478   2.144813\n",
       "85772             one    11955   2.403083\n",
       "99572        religion    11045   2.482255\n",
       "99653       religious    11021   2.484430\n",
       "...               ...      ...        ...\n",
       "60372     identified.        1  11.791988\n",
       "24674          bogost        1  11.791988\n",
       "24675          bogota        1  11.791988\n",
       "91628   plateau.women        1  11.791988\n",
       "37070        dead-end        1  11.791988\n",
       "\n",
       "[132189 rows x 3 columns]"
      ]
     },
     "execution_count": 36,
     "metadata": {},
     "output_type": "execute_result"
    }
   ],
   "source": [
    "import math\n",
    "IDF = words_df.explode('words').groupby(['words']).count().reset_index().sort_values(['article'], ascending = False)\n",
    "IDF['IDF'] = IDF['article'].apply(lambda x : math.log(len(IDF)/x))\n",
    "IDF"
   ]
  },
  {
   "cell_type": "code",
   "execution_count": 37,
   "metadata": {},
   "outputs": [],
   "source": [
    "TF_IDF_religion = TF_religion.merge(IDF, on = ['words']).drop(['article_x', 'article_y'], axis = 1)\n",
    "TF_IDF_religion['TF_IDF'] = TF_IDF_religion['TF']*TF_IDF_religion['IDF']\n",
    "TF_IDF_science = TF_science.merge(IDF, on = ['words']).drop(['article_x', 'article_y'], axis = 1)\n",
    "TF_IDF_science['TF_IDF'] = TF_IDF_science['TF']*TF_IDF_science['IDF']"
   ]
  },
  {
   "cell_type": "code",
   "execution_count": 42,
   "metadata": {},
   "outputs": [],
   "source": [
    "important_words_df = pd.concat([TF_IDF_religion.sort_values(['TF_IDF'], ascending = False).head(500),TF_IDF_science.sort_values(['TF_IDF'], ascending = False).head(500)])"
   ]
  },
  {
   "cell_type": "code",
   "execution_count": 43,
   "metadata": {},
   "outputs": [],
   "source": [
    "important_words_df = important_words_df.drop_duplicates(subset = ['words'])"
   ]
  },
  {
   "cell_type": "code",
   "execution_count": 45,
   "metadata": {},
   "outputs": [
    {
     "data": {
      "text/html": [
       "<div>\n",
       "<style scoped>\n",
       "    .dataframe tbody tr th:only-of-type {\n",
       "        vertical-align: middle;\n",
       "    }\n",
       "\n",
       "    .dataframe tbody tr th {\n",
       "        vertical-align: top;\n",
       "    }\n",
       "\n",
       "    .dataframe thead th {\n",
       "        text-align: right;\n",
       "    }\n",
       "</style>\n",
       "<table border=\"1\" class=\"dataframe\">\n",
       "  <thead>\n",
       "    <tr style=\"text-align: right;\">\n",
       "      <th></th>\n",
       "      <th>words</th>\n",
       "      <th>TF</th>\n",
       "      <th>IDF</th>\n",
       "      <th>TF_IDF</th>\n",
       "    </tr>\n",
       "  </thead>\n",
       "  <tbody>\n",
       "    <tr>\n",
       "      <td>0</td>\n",
       "      <td>religion</td>\n",
       "      <td>0.007073</td>\n",
       "      <td>2.482255</td>\n",
       "      <td>0.017558</td>\n",
       "    </tr>\n",
       "    <tr>\n",
       "      <td>1</td>\n",
       "      <td>religious</td>\n",
       "      <td>0.006923</td>\n",
       "      <td>2.484430</td>\n",
       "      <td>0.017199</td>\n",
       "    </tr>\n",
       "    <tr>\n",
       "      <td>3</td>\n",
       "      <td>god</td>\n",
       "      <td>0.004503</td>\n",
       "      <td>2.869997</td>\n",
       "      <td>0.012923</td>\n",
       "    </tr>\n",
       "    <tr>\n",
       "      <td>5</td>\n",
       "      <td>church</td>\n",
       "      <td>0.003775</td>\n",
       "      <td>3.084670</td>\n",
       "      <td>0.011643</td>\n",
       "    </tr>\n",
       "    <tr>\n",
       "      <td>2</td>\n",
       "      <td>scientific</td>\n",
       "      <td>0.004262</td>\n",
       "      <td>2.657773</td>\n",
       "      <td>0.011329</td>\n",
       "    </tr>\n",
       "    <tr>\n",
       "      <td>...</td>\n",
       "      <td>...</td>\n",
       "      <td>...</td>\n",
       "      <td>...</td>\n",
       "      <td>...</td>\n",
       "    </tr>\n",
       "    <tr>\n",
       "      <td>552</td>\n",
       "      <td>team</td>\n",
       "      <td>0.000292</td>\n",
       "      <td>5.304304</td>\n",
       "      <td>0.001548</td>\n",
       "    </tr>\n",
       "    <tr>\n",
       "      <td>529</td>\n",
       "      <td>shown</td>\n",
       "      <td>0.000300</td>\n",
       "      <td>5.163947</td>\n",
       "      <td>0.001548</td>\n",
       "    </tr>\n",
       "    <tr>\n",
       "      <td>606</td>\n",
       "      <td>persecution</td>\n",
       "      <td>0.000268</td>\n",
       "      <td>5.768540</td>\n",
       "      <td>0.001548</td>\n",
       "    </tr>\n",
       "    <tr>\n",
       "      <td>518</td>\n",
       "      <td>bodies</td>\n",
       "      <td>0.000303</td>\n",
       "      <td>5.103633</td>\n",
       "      <td>0.001546</td>\n",
       "    </tr>\n",
       "    <tr>\n",
       "      <td>540</td>\n",
       "      <td>empirical</td>\n",
       "      <td>0.000297</td>\n",
       "      <td>5.211349</td>\n",
       "      <td>0.001545</td>\n",
       "    </tr>\n",
       "  </tbody>\n",
       "</table>\n",
       "<p>757 rows × 4 columns</p>\n",
       "</div>"
      ],
      "text/plain": [
       "           words        TF       IDF    TF_IDF\n",
       "0       religion  0.007073  2.482255  0.017558\n",
       "1      religious  0.006923  2.484430  0.017199\n",
       "3            god  0.004503  2.869997  0.012923\n",
       "5         church  0.003775  3.084670  0.011643\n",
       "2     scientific  0.004262  2.657773  0.011329\n",
       "..           ...       ...       ...       ...\n",
       "552         team  0.000292  5.304304  0.001548\n",
       "529        shown  0.000300  5.163947  0.001548\n",
       "606  persecution  0.000268  5.768540  0.001548\n",
       "518       bodies  0.000303  5.103633  0.001546\n",
       "540    empirical  0.000297  5.211349  0.001545\n",
       "\n",
       "[757 rows x 4 columns]"
      ]
     },
     "execution_count": 45,
     "metadata": {},
     "output_type": "execute_result"
    }
   ],
   "source": [
    "important_words_df.sort_values(['TF_IDF'], ascending = False)"
   ]
  },
  {
   "cell_type": "code",
   "execution_count": 46,
   "metadata": {},
   "outputs": [
    {
     "data": {
      "text/html": [
       "<div>\n",
       "<style scoped>\n",
       "    .dataframe tbody tr th:only-of-type {\n",
       "        vertical-align: middle;\n",
       "    }\n",
       "\n",
       "    .dataframe tbody tr th {\n",
       "        vertical-align: top;\n",
       "    }\n",
       "\n",
       "    .dataframe thead th {\n",
       "        text-align: right;\n",
       "    }\n",
       "</style>\n",
       "<table border=\"1\" class=\"dataframe\">\n",
       "  <thead>\n",
       "    <tr style=\"text-align: right;\">\n",
       "      <th>words</th>\n",
       "      <th>ability</th>\n",
       "      <th>able</th>\n",
       "      <th>academic</th>\n",
       "      <th>academy</th>\n",
       "      <th>access</th>\n",
       "      <th>according</th>\n",
       "      <th>act</th>\n",
       "      <th>action</th>\n",
       "      <th>activities</th>\n",
       "      <th>acupuncture</th>\n",
       "      <th>...</th>\n",
       "      <th>worship</th>\n",
       "      <th>would</th>\n",
       "      <th>writing</th>\n",
       "      <th>written</th>\n",
       "      <th>wrote</th>\n",
       "      <th>year</th>\n",
       "      <th>years</th>\n",
       "      <th>yoga</th>\n",
       "      <th>york</th>\n",
       "      <th>young</th>\n",
       "    </tr>\n",
       "    <tr>\n",
       "      <th>article</th>\n",
       "      <th></th>\n",
       "      <th></th>\n",
       "      <th></th>\n",
       "      <th></th>\n",
       "      <th></th>\n",
       "      <th></th>\n",
       "      <th></th>\n",
       "      <th></th>\n",
       "      <th></th>\n",
       "      <th></th>\n",
       "      <th></th>\n",
       "      <th></th>\n",
       "      <th></th>\n",
       "      <th></th>\n",
       "      <th></th>\n",
       "      <th></th>\n",
       "      <th></th>\n",
       "      <th></th>\n",
       "      <th></th>\n",
       "      <th></th>\n",
       "      <th></th>\n",
       "    </tr>\n",
       "  </thead>\n",
       "  <tbody>\n",
       "    <tr>\n",
       "      <td>1888–1893 Uprisings of Hazaras</td>\n",
       "      <td>0.0</td>\n",
       "      <td>0.0</td>\n",
       "      <td>0.0</td>\n",
       "      <td>0.0</td>\n",
       "      <td>0.0</td>\n",
       "      <td>1.0</td>\n",
       "      <td>0.0</td>\n",
       "      <td>0.0</td>\n",
       "      <td>0.0</td>\n",
       "      <td>0.0</td>\n",
       "      <td>...</td>\n",
       "      <td>0.0</td>\n",
       "      <td>1.0</td>\n",
       "      <td>0.0</td>\n",
       "      <td>0.0</td>\n",
       "      <td>0.0</td>\n",
       "      <td>1.0</td>\n",
       "      <td>1.0</td>\n",
       "      <td>0.0</td>\n",
       "      <td>0.0</td>\n",
       "      <td>0.0</td>\n",
       "    </tr>\n",
       "    <tr>\n",
       "      <td>2003 Quetta mosque bombing</td>\n",
       "      <td>0.0</td>\n",
       "      <td>0.0</td>\n",
       "      <td>1.0</td>\n",
       "      <td>0.0</td>\n",
       "      <td>1.0</td>\n",
       "      <td>0.0</td>\n",
       "      <td>0.0</td>\n",
       "      <td>0.0</td>\n",
       "      <td>0.0</td>\n",
       "      <td>0.0</td>\n",
       "      <td>...</td>\n",
       "      <td>0.0</td>\n",
       "      <td>0.0</td>\n",
       "      <td>0.0</td>\n",
       "      <td>0.0</td>\n",
       "      <td>0.0</td>\n",
       "      <td>1.0</td>\n",
       "      <td>1.0</td>\n",
       "      <td>0.0</td>\n",
       "      <td>0.0</td>\n",
       "      <td>0.0</td>\n",
       "    </tr>\n",
       "    <tr>\n",
       "      <td>2004 Quetta Ashura massacre</td>\n",
       "      <td>0.0</td>\n",
       "      <td>0.0</td>\n",
       "      <td>0.0</td>\n",
       "      <td>0.0</td>\n",
       "      <td>0.0</td>\n",
       "      <td>0.0</td>\n",
       "      <td>1.0</td>\n",
       "      <td>0.0</td>\n",
       "      <td>0.0</td>\n",
       "      <td>0.0</td>\n",
       "      <td>...</td>\n",
       "      <td>0.0</td>\n",
       "      <td>0.0</td>\n",
       "      <td>1.0</td>\n",
       "      <td>0.0</td>\n",
       "      <td>0.0</td>\n",
       "      <td>1.0</td>\n",
       "      <td>0.0</td>\n",
       "      <td>0.0</td>\n",
       "      <td>0.0</td>\n",
       "      <td>0.0</td>\n",
       "    </tr>\n",
       "    <tr>\n",
       "      <td>2017–19 Iranian protests against compulsory hijab</td>\n",
       "      <td>0.0</td>\n",
       "      <td>0.0</td>\n",
       "      <td>1.0</td>\n",
       "      <td>0.0</td>\n",
       "      <td>0.0</td>\n",
       "      <td>1.0</td>\n",
       "      <td>1.0</td>\n",
       "      <td>1.0</td>\n",
       "      <td>0.0</td>\n",
       "      <td>0.0</td>\n",
       "      <td>...</td>\n",
       "      <td>0.0</td>\n",
       "      <td>1.0</td>\n",
       "      <td>1.0</td>\n",
       "      <td>1.0</td>\n",
       "      <td>1.0</td>\n",
       "      <td>1.0</td>\n",
       "      <td>1.0</td>\n",
       "      <td>0.0</td>\n",
       "      <td>0.0</td>\n",
       "      <td>1.0</td>\n",
       "    </tr>\n",
       "    <tr>\n",
       "      <td>2019 Indian Science Congress pseudoscience controversies</td>\n",
       "      <td>0.0</td>\n",
       "      <td>0.0</td>\n",
       "      <td>0.0</td>\n",
       "      <td>0.0</td>\n",
       "      <td>0.0</td>\n",
       "      <td>0.0</td>\n",
       "      <td>0.0</td>\n",
       "      <td>0.0</td>\n",
       "      <td>0.0</td>\n",
       "      <td>0.0</td>\n",
       "      <td>...</td>\n",
       "      <td>1.0</td>\n",
       "      <td>0.0</td>\n",
       "      <td>0.0</td>\n",
       "      <td>0.0</td>\n",
       "      <td>1.0</td>\n",
       "      <td>0.0</td>\n",
       "      <td>1.0</td>\n",
       "      <td>0.0</td>\n",
       "      <td>0.0</td>\n",
       "      <td>1.0</td>\n",
       "    </tr>\n",
       "    <tr>\n",
       "      <td>...</td>\n",
       "      <td>...</td>\n",
       "      <td>...</td>\n",
       "      <td>...</td>\n",
       "      <td>...</td>\n",
       "      <td>...</td>\n",
       "      <td>...</td>\n",
       "      <td>...</td>\n",
       "      <td>...</td>\n",
       "      <td>...</td>\n",
       "      <td>...</td>\n",
       "      <td>...</td>\n",
       "      <td>...</td>\n",
       "      <td>...</td>\n",
       "      <td>...</td>\n",
       "      <td>...</td>\n",
       "      <td>...</td>\n",
       "      <td>...</td>\n",
       "      <td>...</td>\n",
       "      <td>...</td>\n",
       "      <td>...</td>\n",
       "      <td>...</td>\n",
       "    </tr>\n",
       "    <tr>\n",
       "      <td>Zero balancing</td>\n",
       "      <td>0.0</td>\n",
       "      <td>0.0</td>\n",
       "      <td>0.0</td>\n",
       "      <td>0.0</td>\n",
       "      <td>0.0</td>\n",
       "      <td>1.0</td>\n",
       "      <td>0.0</td>\n",
       "      <td>0.0</td>\n",
       "      <td>1.0</td>\n",
       "      <td>1.0</td>\n",
       "      <td>...</td>\n",
       "      <td>0.0</td>\n",
       "      <td>0.0</td>\n",
       "      <td>0.0</td>\n",
       "      <td>0.0</td>\n",
       "      <td>0.0</td>\n",
       "      <td>0.0</td>\n",
       "      <td>1.0</td>\n",
       "      <td>0.0</td>\n",
       "      <td>0.0</td>\n",
       "      <td>0.0</td>\n",
       "    </tr>\n",
       "    <tr>\n",
       "      <td>Zmanim</td>\n",
       "      <td>0.0</td>\n",
       "      <td>0.0</td>\n",
       "      <td>0.0</td>\n",
       "      <td>0.0</td>\n",
       "      <td>0.0</td>\n",
       "      <td>1.0</td>\n",
       "      <td>0.0</td>\n",
       "      <td>0.0</td>\n",
       "      <td>1.0</td>\n",
       "      <td>0.0</td>\n",
       "      <td>...</td>\n",
       "      <td>0.0</td>\n",
       "      <td>1.0</td>\n",
       "      <td>1.0</td>\n",
       "      <td>1.0</td>\n",
       "      <td>0.0</td>\n",
       "      <td>1.0</td>\n",
       "      <td>1.0</td>\n",
       "      <td>0.0</td>\n",
       "      <td>1.0</td>\n",
       "      <td>1.0</td>\n",
       "    </tr>\n",
       "    <tr>\n",
       "      <td>Zoetron therapy</td>\n",
       "      <td>0.0</td>\n",
       "      <td>0.0</td>\n",
       "      <td>0.0</td>\n",
       "      <td>0.0</td>\n",
       "      <td>0.0</td>\n",
       "      <td>0.0</td>\n",
       "      <td>0.0</td>\n",
       "      <td>1.0</td>\n",
       "      <td>0.0</td>\n",
       "      <td>0.0</td>\n",
       "      <td>...</td>\n",
       "      <td>0.0</td>\n",
       "      <td>0.0</td>\n",
       "      <td>0.0</td>\n",
       "      <td>0.0</td>\n",
       "      <td>0.0</td>\n",
       "      <td>0.0</td>\n",
       "      <td>0.0</td>\n",
       "      <td>0.0</td>\n",
       "      <td>0.0</td>\n",
       "      <td>0.0</td>\n",
       "    </tr>\n",
       "    <tr>\n",
       "      <td>Åke Green</td>\n",
       "      <td>0.0</td>\n",
       "      <td>0.0</td>\n",
       "      <td>0.0</td>\n",
       "      <td>0.0</td>\n",
       "      <td>0.0</td>\n",
       "      <td>1.0</td>\n",
       "      <td>1.0</td>\n",
       "      <td>0.0</td>\n",
       "      <td>0.0</td>\n",
       "      <td>0.0</td>\n",
       "      <td>...</td>\n",
       "      <td>0.0</td>\n",
       "      <td>1.0</td>\n",
       "      <td>1.0</td>\n",
       "      <td>0.0</td>\n",
       "      <td>1.0</td>\n",
       "      <td>0.0</td>\n",
       "      <td>0.0</td>\n",
       "      <td>0.0</td>\n",
       "      <td>1.0</td>\n",
       "      <td>0.0</td>\n",
       "    </tr>\n",
       "    <tr>\n",
       "      <td>Đạo Mẫu</td>\n",
       "      <td>0.0</td>\n",
       "      <td>1.0</td>\n",
       "      <td>1.0</td>\n",
       "      <td>0.0</td>\n",
       "      <td>0.0</td>\n",
       "      <td>0.0</td>\n",
       "      <td>0.0</td>\n",
       "      <td>0.0</td>\n",
       "      <td>0.0</td>\n",
       "      <td>0.0</td>\n",
       "      <td>...</td>\n",
       "      <td>1.0</td>\n",
       "      <td>0.0</td>\n",
       "      <td>0.0</td>\n",
       "      <td>0.0</td>\n",
       "      <td>0.0</td>\n",
       "      <td>1.0</td>\n",
       "      <td>1.0</td>\n",
       "      <td>0.0</td>\n",
       "      <td>1.0</td>\n",
       "      <td>0.0</td>\n",
       "    </tr>\n",
       "  </tbody>\n",
       "</table>\n",
       "<p>2333 rows × 757 columns</p>\n",
       "</div>"
      ],
      "text/plain": [
       "words                                               ability  able  academic  \\\n",
       "article                                                                       \n",
       "1888–1893 Uprisings of Hazaras                          0.0   0.0       0.0   \n",
       "2003 Quetta mosque bombing                              0.0   0.0       1.0   \n",
       "2004 Quetta Ashura massacre                             0.0   0.0       0.0   \n",
       "2017–19 Iranian protests against compulsory hijab       0.0   0.0       1.0   \n",
       "2019 Indian Science Congress pseudoscience cont...      0.0   0.0       0.0   \n",
       "...                                                     ...   ...       ...   \n",
       "Zero balancing                                          0.0   0.0       0.0   \n",
       "Zmanim                                                  0.0   0.0       0.0   \n",
       "Zoetron therapy                                         0.0   0.0       0.0   \n",
       "Åke Green                                               0.0   0.0       0.0   \n",
       "Đạo Mẫu                                                 0.0   1.0       1.0   \n",
       "\n",
       "words                                               academy  access  \\\n",
       "article                                                               \n",
       "1888–1893 Uprisings of Hazaras                          0.0     0.0   \n",
       "2003 Quetta mosque bombing                              0.0     1.0   \n",
       "2004 Quetta Ashura massacre                             0.0     0.0   \n",
       "2017–19 Iranian protests against compulsory hijab       0.0     0.0   \n",
       "2019 Indian Science Congress pseudoscience cont...      0.0     0.0   \n",
       "...                                                     ...     ...   \n",
       "Zero balancing                                          0.0     0.0   \n",
       "Zmanim                                                  0.0     0.0   \n",
       "Zoetron therapy                                         0.0     0.0   \n",
       "Åke Green                                               0.0     0.0   \n",
       "Đạo Mẫu                                                 0.0     0.0   \n",
       "\n",
       "words                                               according  act  action  \\\n",
       "article                                                                      \n",
       "1888–1893 Uprisings of Hazaras                            1.0  0.0     0.0   \n",
       "2003 Quetta mosque bombing                                0.0  0.0     0.0   \n",
       "2004 Quetta Ashura massacre                               0.0  1.0     0.0   \n",
       "2017–19 Iranian protests against compulsory hijab         1.0  1.0     1.0   \n",
       "2019 Indian Science Congress pseudoscience cont...        0.0  0.0     0.0   \n",
       "...                                                       ...  ...     ...   \n",
       "Zero balancing                                            1.0  0.0     0.0   \n",
       "Zmanim                                                    1.0  0.0     0.0   \n",
       "Zoetron therapy                                           0.0  0.0     1.0   \n",
       "Åke Green                                                 1.0  1.0     0.0   \n",
       "Đạo Mẫu                                                   0.0  0.0     0.0   \n",
       "\n",
       "words                                               activities  acupuncture  \\\n",
       "article                                                                       \n",
       "1888–1893 Uprisings of Hazaras                             0.0          0.0   \n",
       "2003 Quetta mosque bombing                                 0.0          0.0   \n",
       "2004 Quetta Ashura massacre                                0.0          0.0   \n",
       "2017–19 Iranian protests against compulsory hijab          0.0          0.0   \n",
       "2019 Indian Science Congress pseudoscience cont...         0.0          0.0   \n",
       "...                                                        ...          ...   \n",
       "Zero balancing                                             1.0          1.0   \n",
       "Zmanim                                                     1.0          0.0   \n",
       "Zoetron therapy                                            0.0          0.0   \n",
       "Åke Green                                                  0.0          0.0   \n",
       "Đạo Mẫu                                                    0.0          0.0   \n",
       "\n",
       "words                                               ...  worship  would  \\\n",
       "article                                             ...                   \n",
       "1888–1893 Uprisings of Hazaras                      ...      0.0    1.0   \n",
       "2003 Quetta mosque bombing                          ...      0.0    0.0   \n",
       "2004 Quetta Ashura massacre                         ...      0.0    0.0   \n",
       "2017–19 Iranian protests against compulsory hijab   ...      0.0    1.0   \n",
       "2019 Indian Science Congress pseudoscience cont...  ...      1.0    0.0   \n",
       "...                                                 ...      ...    ...   \n",
       "Zero balancing                                      ...      0.0    0.0   \n",
       "Zmanim                                              ...      0.0    1.0   \n",
       "Zoetron therapy                                     ...      0.0    0.0   \n",
       "Åke Green                                           ...      0.0    1.0   \n",
       "Đạo Mẫu                                             ...      1.0    0.0   \n",
       "\n",
       "words                                               writing  written  wrote  \\\n",
       "article                                                                       \n",
       "1888–1893 Uprisings of Hazaras                          0.0      0.0    0.0   \n",
       "2003 Quetta mosque bombing                              0.0      0.0    0.0   \n",
       "2004 Quetta Ashura massacre                             1.0      0.0    0.0   \n",
       "2017–19 Iranian protests against compulsory hijab       1.0      1.0    1.0   \n",
       "2019 Indian Science Congress pseudoscience cont...      0.0      0.0    1.0   \n",
       "...                                                     ...      ...    ...   \n",
       "Zero balancing                                          0.0      0.0    0.0   \n",
       "Zmanim                                                  1.0      1.0    0.0   \n",
       "Zoetron therapy                                         0.0      0.0    0.0   \n",
       "Åke Green                                               1.0      0.0    1.0   \n",
       "Đạo Mẫu                                                 0.0      0.0    0.0   \n",
       "\n",
       "words                                               year  years  yoga  york  \\\n",
       "article                                                                       \n",
       "1888–1893 Uprisings of Hazaras                       1.0    1.0   0.0   0.0   \n",
       "2003 Quetta mosque bombing                           1.0    1.0   0.0   0.0   \n",
       "2004 Quetta Ashura massacre                          1.0    0.0   0.0   0.0   \n",
       "2017–19 Iranian protests against compulsory hijab    1.0    1.0   0.0   0.0   \n",
       "2019 Indian Science Congress pseudoscience cont...   0.0    1.0   0.0   0.0   \n",
       "...                                                  ...    ...   ...   ...   \n",
       "Zero balancing                                       0.0    1.0   0.0   0.0   \n",
       "Zmanim                                               1.0    1.0   0.0   1.0   \n",
       "Zoetron therapy                                      0.0    0.0   0.0   0.0   \n",
       "Åke Green                                            0.0    0.0   0.0   1.0   \n",
       "Đạo Mẫu                                              1.0    1.0   0.0   1.0   \n",
       "\n",
       "words                                               young  \n",
       "article                                                    \n",
       "1888–1893 Uprisings of Hazaras                        0.0  \n",
       "2003 Quetta mosque bombing                            0.0  \n",
       "2004 Quetta Ashura massacre                           0.0  \n",
       "2017–19 Iranian protests against compulsory hijab     1.0  \n",
       "2019 Indian Science Congress pseudoscience cont...    1.0  \n",
       "...                                                   ...  \n",
       "Zero balancing                                        0.0  \n",
       "Zmanim                                                1.0  \n",
       "Zoetron therapy                                       0.0  \n",
       "Åke Green                                             0.0  \n",
       "Đạo Mẫu                                               0.0  \n",
       "\n",
       "[2333 rows x 757 columns]"
      ]
     },
     "execution_count": 46,
     "metadata": {},
     "output_type": "execute_result"
    }
   ],
   "source": [
    "explode_df = words_df.explode('words')\n",
    "explode_df['exist'] = np.ones(len(explode_df))\n",
    "df = pd.DataFrame(words_df['article']).assign(key = 1).merge(pd.DataFrame(important_words_df['words']).assign(key = 1), on = 'key').drop('key', 1)\n",
    "df2 = df.merge(explode_df, on = ['article','words'] , how = 'left').drop_duplicates().fillna(0)\n",
    "df3 = pd.pivot_table(df2, values = 'exist',  index = 'article', columns=['words'])\n",
    "df3"
   ]
  },
  {
   "cell_type": "code",
   "execution_count": 47,
   "metadata": {},
   "outputs": [],
   "source": [
    "features = df3.drop('article', axis = 1).values"
   ]
  },
  {
   "cell_type": "code",
   "execution_count": 48,
   "metadata": {},
   "outputs": [
    {
     "data": {
      "text/plain": [
       "array([110., 144.,  92., ...,  44., 155., 236.])"
      ]
     },
     "execution_count": 48,
     "metadata": {},
     "output_type": "execute_result"
    }
   ],
   "source": [
    "np.sum(features, axis = 1)"
   ]
  },
  {
   "cell_type": "markdown",
   "metadata": {},
   "source": [
    "# Graph"
   ]
  },
  {
   "cell_type": "code",
   "execution_count": 49,
   "metadata": {},
   "outputs": [],
   "source": [
    "distances = np.array([[(np.sum((features[i,:]-features[j,:])**2)) for i in range(0,features.shape[0]) ] for j in range(0,features.shape[0])]).reshape(features.shape[0],-1)"
   ]
  },
  {
   "cell_type": "code",
   "execution_count": 50,
   "metadata": {},
   "outputs": [
    {
     "data": {
      "image/png": "[encoded data removed]",
      "text/plain": [
       "<Figure size 576x288 with 1 Axes>"
      ]
     },
     "metadata": {
      "needs_background": "light"
     },
     "output_type": "display_data"
    }
   ],
   "source": [
    "plt.figure(1, figsize=(8, 4))\n",
    "plt.title(\"Histogram of Euclidean distances between papers\")\n",
    "plt.hist(distances.flatten());"
   ]
  },
  {
   "cell_type": "code",
   "execution_count": 51,
   "metadata": {},
   "outputs": [],
   "source": [
    "feat = np.where(distances>150, 0, 1)\n",
    "np.fill_diagonal(feat, 0)"
   ]
  },
  {
   "cell_type": "code",
   "execution_count": 52,
   "metadata": {},
   "outputs": [],
   "source": [
    "graph = nx.from_numpy_matrix(feat)"
   ]
  },
  {
   "cell_type": "code",
   "execution_count": null,
   "metadata": {},
   "outputs": [],
   "source": [
    "giant_feature = max(nx.connected_component_subgraphs(graph), key=len)\n",
    "print('The giant component of the feature graph has {} nodes and {} edges.'.format(giant_feature.number_of_nodes(), giant_feature.size()))"
   ]
  },
  {
   "cell_type": "code",
   "execution_count": null,
   "metadata": {},
   "outputs": [],
   "source": [
    "nx.average_clustering(graph)"
   ]
  },
  {
   "cell_type": "code",
   "execution_count": 53,
   "metadata": {},
   "outputs": [],
   "source": [
    "def epsilon_similarity_graph(X: np.ndarray, sigma=1, epsilon=0):\n",
    "    \"\"\" X (n x d): coordinates of the n data points in R^d.\n",
    "        sigma (float): width of the kernel\n",
    "        epsilon (float): threshold\n",
    "        Return:\n",
    "        adjacency (n x n ndarray): adjacency matrix of the graph.\n",
    "    \"\"\"\n",
    "    adjacency = squareform(pdist(X))\n",
    "    adjacency = np.exp((- adjacency**2)/(2 * sigma**2))\n",
    "    adjacency[adjacency < epsilon] = 0\n",
    "    #according to the formula on slide 11 in the spectral clustering lecture, we set the diagonal to 0\n",
    "    np.fill_diagonal(adjacency,0)\n",
    "    return adjacency"
   ]
  },
  {
   "cell_type": "code",
   "execution_count": 94,
   "metadata": {},
   "outputs": [
    {
     "data": {
      "image/png": "[encoded data removed]",
      "text/plain": [
       "<Figure size 432x288 with 1 Axes>"
      ]
     },
     "metadata": {
      "needs_background": "light"
     },
     "output_type": "display_data"
    }
   ],
   "source": [
    "from scipy.spatial.distance import pdist, squareform\n",
    "adjacency = epsilon_similarity_graph(feat, sigma= 5, epsilon=0.65)\n",
    "plt.spy(adjacency)\n",
    "plt.show()"
   ]
  },
  {
   "cell_type": "code",
   "execution_count": 95,
   "metadata": {},
   "outputs": [
    {
     "data": {
      "image/png": "[encoded data removed]",
      "text/plain": [
       "<Figure size 432x288 with 1 Axes>"
      ]
     },
     "metadata": {
      "needs_background": "light"
     },
     "output_type": "display_data"
    }
   ],
   "source": [
    "temp = np.exp((- squareform(pdist(feat))**2)/(2 * (1.5 * np.median(pdist(feat)))**2))\n",
    "plt.hist(temp.flatten(),bins=100);"
   ]
  },
  {
   "cell_type": "code",
   "execution_count": null,
   "metadata": {},
   "outputs": [],
   "source": [
    "import operator\n",
    "pr = nx.pagerank(graph)\n",
    "sorted_pr = sorted(pr.items(), key=operator.itemgetter(1), reverse = True)"
   ]
  },
  {
   "cell_type": "code",
   "execution_count": null,
   "metadata": {},
   "outputs": [],
   "source": [
    "sorted_pr[:10]"
   ]
  },
  {
   "cell_type": "code",
   "execution_count": null,
   "metadata": {},
   "outputs": [],
   "source": [
    "list_articles[794]"
   ]
  },
  {
   "cell_type": "code",
   "execution_count": 64,
   "metadata": {},
   "outputs": [],
   "source": [
    "def compute_laplacian(adjacency: np.ndarray, normalize: bool):\n",
    "    \"\"\" Return:\n",
    "        L (n x n ndarray): combinatorial or symmetric normalized Laplacian.\n",
    "    \"\"\"\n",
    "    degrees_l = np.sum(adjacency,axis=1)\n",
    "    if(not normalize):\n",
    "        degrees = np.zeros(adjacency.shape)\n",
    "        np.fill_diagonal(degrees,degrees_l)\n",
    "        return degrees - adjacency \n",
    "    else:\n",
    "        degrees = np.sqrt(np.array([degrees_l]).T @ np.array([degrees_l]))\n",
    "        L = - adjacency/degrees\n",
    "        np.fill_diagonal(L,np.ones(len(adjacency)))\n",
    "        return L"
   ]
  },
  {
   "cell_type": "code",
   "execution_count": 65,
   "metadata": {},
   "outputs": [],
   "source": [
    "def spectral_decomposition(laplacian: np.ndarray):\n",
    "    \"\"\" Return:\n",
    "        lamb (np.array): eigenvalues of the Laplacian\n",
    "        U (np.ndarray): corresponding eigenvectors.\n",
    "    \"\"\"\n",
    "    values, vectors = np.linalg.eig(laplacian)\n",
    "    sorted_indices = np.argsort(values)\n",
    "    return values[sorted_indices], vectors[:,sorted_indices]\n",
    "    # Your code here"
   ]
  },
  {
   "cell_type": "code",
   "execution_count": 96,
   "metadata": {},
   "outputs": [
    {
     "name": "stderr",
     "output_type": "stream",
     "text": [
      "/Users/lucaseckes/miniconda2/envs/ntds_2019/lib/python3.7/site-packages/ipykernel_launcher.py:12: RuntimeWarning: invalid value encountered in true_divide\n",
      "  if sys.path[0] == '':\n"
     ]
    }
   ],
   "source": [
    "laplacian = compute_laplacian(feat, normalize=True)\n",
    "lam, U = spectral_decomposition(np.nan_to_num(laplacian))"
   ]
  },
  {
   "cell_type": "code",
   "execution_count": 67,
   "metadata": {},
   "outputs": [],
   "source": [
    "def GFT(signal: np.ndarray):\n",
    "    fourier = U.transpose()@signal\n",
    "    return fourier\n",
    "\n",
    "def iGFT(fourier_coefficients: np.ndarray):\n",
    "    signal = U@fourier_coefficients\n",
    "    return signal"
   ]
  },
  {
   "cell_type": "code",
   "execution_count": 97,
   "metadata": {},
   "outputs": [],
   "source": [
    "alpha = 0.99 / np.max(lam)\n",
    "\n",
    "ideal_tk =  1/(1 + alpha*lam)"
   ]
  },
  {
   "cell_type": "code",
   "execution_count": 69,
   "metadata": {},
   "outputs": [],
   "source": [
    "def ideal_graph_filter(x: np.ndarray, spectral_response: np.ndarray):\n",
    "    \"\"\"Return a filtered signal.\"\"\"\n",
    "    fourier = GFT(x);\n",
    "    h = np.diag(spectral_response)\n",
    "    filtered_graph = U@h@fourier\n",
    "    return filtered_graph"
   ]
  },
  {
   "cell_type": "code",
   "execution_count": 98,
   "metadata": {},
   "outputs": [],
   "source": [
    "x_tk = ideal_graph_filter(adjacency.tolist(),ideal_tk)"
   ]
  },
  {
   "cell_type": "code",
   "execution_count": 99,
   "metadata": {},
   "outputs": [],
   "source": [
    "filt = np.where(x_tk>0.5, 1, 0)\n",
    "np.fill_diagonal(filt, 0)"
   ]
  },
  {
   "cell_type": "code",
   "execution_count": 100,
   "metadata": {},
   "outputs": [
    {
     "data": {
      "text/plain": [
       "array([[0, 0, 0, ..., 0, 0, 0],\n",
       "       [0, 0, 0, ..., 0, 0, 0],\n",
       "       [0, 0, 0, ..., 0, 0, 0],\n",
       "       ...,\n",
       "       [0, 0, 0, ..., 0, 0, 0],\n",
       "       [0, 0, 0, ..., 0, 0, 1],\n",
       "       [0, 0, 0, ..., 0, 1, 0]])"
      ]
     },
     "execution_count": 100,
     "metadata": {},
     "output_type": "execute_result"
    }
   ],
   "source": [
    "filt"
   ]
  },
  {
   "cell_type": "code",
   "execution_count": 101,
   "metadata": {},
   "outputs": [],
   "source": [
    "graph_filt = nx.from_numpy_matrix(filt)"
   ]
  },
  {
   "cell_type": "code",
   "execution_count": 74,
   "metadata": {},
   "outputs": [
    {
     "ename": "KeyboardInterrupt",
     "evalue": "",
     "output_type": "error",
     "traceback": [
      "\u001b[0;31m---------------------------------------------------------------------------\u001b[0m",
      "\u001b[0;31mKeyboardInterrupt\u001b[0m                         Traceback (most recent call last)",
      "\u001b[0;32m<ipython-input-74-ac3a81b55cda>\u001b[0m in \u001b[0;36m<module>\u001b[0;34m\u001b[0m\n\u001b[0;32m----> 1\u001b[0;31m \u001b[0mpr\u001b[0m \u001b[0;34m=\u001b[0m \u001b[0mnx\u001b[0m\u001b[0;34m.\u001b[0m\u001b[0mpagerank\u001b[0m\u001b[0;34m(\u001b[0m\u001b[0mgraph_filt\u001b[0m\u001b[0;34m)\u001b[0m\u001b[0;34m\u001b[0m\u001b[0;34m\u001b[0m\u001b[0m\n\u001b[0m\u001b[1;32m      2\u001b[0m \u001b[0msorted_pr\u001b[0m \u001b[0;34m=\u001b[0m \u001b[0msorted\u001b[0m\u001b[0;34m(\u001b[0m\u001b[0mpr\u001b[0m\u001b[0;34m.\u001b[0m\u001b[0mitems\u001b[0m\u001b[0;34m(\u001b[0m\u001b[0;34m)\u001b[0m\u001b[0;34m,\u001b[0m \u001b[0mkey\u001b[0m\u001b[0;34m=\u001b[0m\u001b[0moperator\u001b[0m\u001b[0;34m.\u001b[0m\u001b[0mitemgetter\u001b[0m\u001b[0;34m(\u001b[0m\u001b[0;36m1\u001b[0m\u001b[0;34m)\u001b[0m\u001b[0;34m,\u001b[0m \u001b[0mreverse\u001b[0m \u001b[0;34m=\u001b[0m \u001b[0;32mTrue\u001b[0m\u001b[0;34m)\u001b[0m\u001b[0;34m\u001b[0m\u001b[0;34m\u001b[0m\u001b[0m\n",
      "\u001b[0;32m</Users/lucaseckes/miniconda2/envs/ntds_2019/lib/python3.7/site-packages/decorator.py:decorator-gen-403>\u001b[0m in \u001b[0;36mpagerank\u001b[0;34m(G, alpha, personalization, max_iter, tol, nstart, weight, dangling)\u001b[0m\n",
      "\u001b[0;32m~/miniconda2/envs/ntds_2019/lib/python3.7/site-packages/networkx/utils/decorators.py\u001b[0m in \u001b[0;36m_not_implemented_for\u001b[0;34m(not_implement_for_func, *args, **kwargs)\u001b[0m\n\u001b[1;32m     80\u001b[0m             \u001b[0;32mraise\u001b[0m \u001b[0mnx\u001b[0m\u001b[0;34m.\u001b[0m\u001b[0mNetworkXNotImplemented\u001b[0m\u001b[0;34m(\u001b[0m\u001b[0mmsg\u001b[0m\u001b[0;34m)\u001b[0m\u001b[0;34m\u001b[0m\u001b[0;34m\u001b[0m\u001b[0m\n\u001b[1;32m     81\u001b[0m         \u001b[0;32melse\u001b[0m\u001b[0;34m:\u001b[0m\u001b[0;34m\u001b[0m\u001b[0;34m\u001b[0m\u001b[0m\n\u001b[0;32m---> 82\u001b[0;31m             \u001b[0;32mreturn\u001b[0m \u001b[0mnot_implement_for_func\u001b[0m\u001b[0;34m(\u001b[0m\u001b[0;34m*\u001b[0m\u001b[0margs\u001b[0m\u001b[0;34m,\u001b[0m \u001b[0;34m**\u001b[0m\u001b[0mkwargs\u001b[0m\u001b[0;34m)\u001b[0m\u001b[0;34m\u001b[0m\u001b[0;34m\u001b[0m\u001b[0m\n\u001b[0m\u001b[1;32m     83\u001b[0m     \u001b[0;32mreturn\u001b[0m \u001b[0m_not_implemented_for\u001b[0m\u001b[0;34m\u001b[0m\u001b[0;34m\u001b[0m\u001b[0m\n\u001b[1;32m     84\u001b[0m \u001b[0;34m\u001b[0m\u001b[0m\n",
      "\u001b[0;32m~/miniconda2/envs/ntds_2019/lib/python3.7/site-packages/networkx/algorithms/link_analysis/pagerank_alg.py\u001b[0m in \u001b[0;36mpagerank\u001b[0;34m(G, alpha, personalization, max_iter, tol, nstart, weight, dangling)\u001b[0m\n\u001b[1;32m    150\u001b[0m             \u001b[0;31m# doing a left multiply x^T=xlast^T*W\u001b[0m\u001b[0;34m\u001b[0m\u001b[0;34m\u001b[0m\u001b[0;34m\u001b[0m\u001b[0m\n\u001b[1;32m    151\u001b[0m             \u001b[0;32mfor\u001b[0m \u001b[0mnbr\u001b[0m \u001b[0;32min\u001b[0m \u001b[0mW\u001b[0m\u001b[0;34m[\u001b[0m\u001b[0mn\u001b[0m\u001b[0;34m]\u001b[0m\u001b[0;34m:\u001b[0m\u001b[0;34m\u001b[0m\u001b[0;34m\u001b[0m\u001b[0m\n\u001b[0;32m--> 152\u001b[0;31m                 \u001b[0mx\u001b[0m\u001b[0;34m[\u001b[0m\u001b[0mnbr\u001b[0m\u001b[0;34m]\u001b[0m \u001b[0;34m+=\u001b[0m \u001b[0malpha\u001b[0m \u001b[0;34m*\u001b[0m \u001b[0mxlast\u001b[0m\u001b[0;34m[\u001b[0m\u001b[0mn\u001b[0m\u001b[0;34m]\u001b[0m \u001b[0;34m*\u001b[0m \u001b[0mW\u001b[0m\u001b[0;34m[\u001b[0m\u001b[0mn\u001b[0m\u001b[0;34m]\u001b[0m\u001b[0;34m[\u001b[0m\u001b[0mnbr\u001b[0m\u001b[0;34m]\u001b[0m\u001b[0;34m[\u001b[0m\u001b[0mweight\u001b[0m\u001b[0;34m]\u001b[0m\u001b[0;34m\u001b[0m\u001b[0;34m\u001b[0m\u001b[0m\n\u001b[0m\u001b[1;32m    153\u001b[0m             \u001b[0mx\u001b[0m\u001b[0;34m[\u001b[0m\u001b[0mn\u001b[0m\u001b[0;34m]\u001b[0m \u001b[0;34m+=\u001b[0m \u001b[0mdanglesum\u001b[0m \u001b[0;34m*\u001b[0m \u001b[0mdangling_weights\u001b[0m\u001b[0;34m.\u001b[0m\u001b[0mget\u001b[0m\u001b[0;34m(\u001b[0m\u001b[0mn\u001b[0m\u001b[0;34m,\u001b[0m \u001b[0;36m0\u001b[0m\u001b[0;34m)\u001b[0m \u001b[0;34m+\u001b[0m \u001b[0;34m(\u001b[0m\u001b[0;36m1.0\u001b[0m \u001b[0;34m-\u001b[0m \u001b[0malpha\u001b[0m\u001b[0;34m)\u001b[0m \u001b[0;34m*\u001b[0m \u001b[0mp\u001b[0m\u001b[0;34m.\u001b[0m\u001b[0mget\u001b[0m\u001b[0;34m(\u001b[0m\u001b[0mn\u001b[0m\u001b[0;34m,\u001b[0m \u001b[0;36m0\u001b[0m\u001b[0;34m)\u001b[0m\u001b[0;34m\u001b[0m\u001b[0;34m\u001b[0m\u001b[0m\n\u001b[1;32m    154\u001b[0m         \u001b[0;31m# check convergence, l1 norm\u001b[0m\u001b[0;34m\u001b[0m\u001b[0;34m\u001b[0m\u001b[0;34m\u001b[0m\u001b[0m\n",
      "\u001b[0;32m~/miniconda2/envs/ntds_2019/lib/python3.7/site-packages/networkx/classes/coreviews.py\u001b[0m in \u001b[0;36m__getitem__\u001b[0;34m(self, key)\u001b[0m\n\u001b[1;32m     51\u001b[0m         \u001b[0;32mreturn\u001b[0m \u001b[0miter\u001b[0m\u001b[0;34m(\u001b[0m\u001b[0mself\u001b[0m\u001b[0;34m.\u001b[0m\u001b[0m_atlas\u001b[0m\u001b[0;34m)\u001b[0m\u001b[0;34m\u001b[0m\u001b[0;34m\u001b[0m\u001b[0m\n\u001b[1;32m     52\u001b[0m \u001b[0;34m\u001b[0m\u001b[0m\n\u001b[0;32m---> 53\u001b[0;31m     \u001b[0;32mdef\u001b[0m \u001b[0m__getitem__\u001b[0m\u001b[0;34m(\u001b[0m\u001b[0mself\u001b[0m\u001b[0;34m,\u001b[0m \u001b[0mkey\u001b[0m\u001b[0;34m)\u001b[0m\u001b[0;34m:\u001b[0m\u001b[0;34m\u001b[0m\u001b[0;34m\u001b[0m\u001b[0m\n\u001b[0m\u001b[1;32m     54\u001b[0m         \u001b[0;32mreturn\u001b[0m \u001b[0mself\u001b[0m\u001b[0;34m.\u001b[0m\u001b[0m_atlas\u001b[0m\u001b[0;34m[\u001b[0m\u001b[0mkey\u001b[0m\u001b[0;34m]\u001b[0m\u001b[0;34m\u001b[0m\u001b[0;34m\u001b[0m\u001b[0m\n\u001b[1;32m     55\u001b[0m \u001b[0;34m\u001b[0m\u001b[0m\n",
      "\u001b[0;31mKeyboardInterrupt\u001b[0m: "
     ]
    }
   ],
   "source": [
    "pr = nx.pagerank(graph_filt)\n",
    "sorted_pr = sorted(pr.items(), key=operator.itemgetter(1), reverse = True)"
   ]
  },
  {
   "cell_type": "code",
   "execution_count": null,
   "metadata": {},
   "outputs": [],
   "source": [
    "sorted_pr[:10]"
   ]
  },
  {
   "cell_type": "code",
   "execution_count": null,
   "metadata": {},
   "outputs": [],
   "source": [
    "list_articles[296]"
   ]
  },
  {
   "cell_type": "code",
   "execution_count": 102,
   "metadata": {},
   "outputs": [
    {
     "data": {
      "image/png": "[encoded data removed]",
      "text/plain": [
       "<Figure size 432x288 with 1 Axes>"
      ]
     },
     "metadata": {},
     "output_type": "display_data"
    }
   ],
   "source": [
    "options = {\n",
    "    'node_color': 'black',\n",
    "    'node_size': 20,\n",
    "    'line_color': 'grey',\n",
    "    'linewidths': 0.2,\n",
    "    'width': 0.3,\n",
    "}\n",
    "nx.draw(graph, **options)"
   ]
  },
  {
   "cell_type": "code",
   "execution_count": 103,
   "metadata": {},
   "outputs": [
    {
     "data": {
      "image/png": "[encoded data removed]",
      "text/plain": [
       "<Figure size 432x288 with 1 Axes>"
      ]
     },
     "metadata": {},
     "output_type": "display_data"
    }
   ],
   "source": [
    "options = {\n",
    "    'node_color': 'black',\n",
    "    'node_size': 20,\n",
    "    'line_color': 'grey',\n",
    "    'linewidths': 0.2,\n",
    "    'width': 0.3,\n",
    "}\n",
    "nx.draw(graph_filt, **options)"
   ]
  },
  {
   "cell_type": "code",
   "execution_count": 107,
   "metadata": {},
   "outputs": [],
   "source": [
    "giant_features = max(nx.connected_component_subgraphs(graph_filt), key = len)"
   ]
  },
  {
   "cell_type": "code",
   "execution_count": 108,
   "metadata": {},
   "outputs": [
    {
     "data": {
      "image/png": "[encoded data removed]",
      "text/plain": [
       "<Figure size 432x288 with 1 Axes>"
      ]
     },
     "metadata": {},
     "output_type": "display_data"
    }
   ],
   "source": [
    "options = {\n",
    "    'node_color': 'black',\n",
    "    'node_size': 20,\n",
    "    'line_color': 'grey',\n",
    "    'linewidths': 0.2,\n",
    "    'width': 0.3,\n",
    "}\n",
    "nx.draw(giant_features, **options)"
   ]
  },
  {
   "cell_type": "code",
   "execution_count": 110,
   "metadata": {},
   "outputs": [
    {
     "data": {
      "text/plain": [
       "NodeView((2050, 3, 2051, 5, 7, 8, 9, 10, 11, 12, 13, 14, 2056, 2060, 2062, 18, 19, 20, 2063, 22, 2066, 24, 25, 26, 27, 2072, 2073, 2075, 2079, 32, 2080, 34, 35, 36, 2082, 38, 39, 2083, 41, 42, 43, 2091, 45, 2092, 47, 2094, 49, 50, 2096, 2098, 2099, 2100, 55, 56, 57, 58, 2101, 60, 61, 2102, 63, 64, 2104, 66, 2113, 68, 69, 70, 2115, 72, 2116, 74, 2118, 2121, 77, 2122, 79, 2123, 2125, 2127, 2128, 84, 2131, 86, 2132, 2133, 89, 90, 2136, 92, 93, 94, 95, 96, 97, 2137, 99, 2139, 101, 102, 103, 104, 2144, 2145, 107, 2147, 109, 110, 2153, 112, 2154, 2157, 115, 116, 117, 118, 2158, 120, 2160, 2161, 123, 124, 125, 126, 127, 128, 2168, 130, 131, 2172, 2174, 2175, 135, 136, 137, 2177, 139, 140, 2180, 142, 2187, 144, 145, 146, 2188, 2189, 2190, 2191, 151, 152, 2193, 154, 2194, 156, 2196, 158, 2198, 160, 2203, 2204, 2207, 164, 165, 2211, 2215, 169, 2218, 2221, 174, 175, 176, 2222, 2223, 2224, 2226, 2228, 182, 2229, 184, 185, 2231, 187, 2235, 190, 2238, 2240, 194, 195, 2244, 198, 2247, 200, 202, 203, 2252, 2254, 209, 2259, 2263, 2264, 218, 2266, 221, 222, 223, 2269, 2270, 2273, 2276, 2279, 232, 233, 234, 2280, 236, 2281, 2282, 239, 2284, 2285, 242, 243, 2286, 2287, 246, 2289, 2294, 2295, 2298, 2299, 253, 2301, 2302, 2303, 2304, 2305, 259, 2307, 261, 262, 2308, 264, 2310, 2311, 267, 268, 269, 2312, 2314, 2315, 273, 2318, 2320, 2323, 2324, 278, 279, 280, 2329, 282, 283, 2331, 285, 2332, 289, 290, 291, 295, 297, 298, 300, 302, 304, 305, 310, 311, 312, 313, 316, 320, 325, 326, 327, 328, 334, 335, 336, 337, 338, 339, 340, 342, 345, 347, 348, 351, 2105, 353, 354, 355, 356, 358, 361, 362, 363, 364, 365, 366, 371, 372, 373, 374, 376, 377, 378, 379, 380, 381, 382, 383, 385, 387, 388, 389, 390, 391, 392, 393, 397, 398, 399, 404, 406, 407, 409, 411, 412, 413, 414, 417, 419, 420, 423, 426, 427, 428, 429, 430, 433, 434, 435, 438, 441, 445, 446, 448, 451, 452, 455, 456, 463, 464, 466, 467, 468, 469, 472, 473, 475, 476, 478, 479, 484, 485, 487, 490, 491, 494, 495, 496, 499, 501, 502, 503, 506, 507, 511, 513, 514, 516, 518, 522, 526, 527, 528, 529, 530, 531, 532, 533, 2140, 2141, 536, 2142, 541, 542, 547, 548, 551, 553, 557, 2146, 560, 561, 564, 568, 572, 576, 577, 578, 579, 580, 581, 584, 585, 586, 587, 592, 593, 594, 595, 596, 599, 601, 604, 606, 607, 609, 610, 611, 613, 614, 615, 617, 620, 621, 622, 623, 2159, 625, 627, 628, 630, 632, 638, 2162, 642, 2163, 644, 646, 647, 648, 649, 2164, 651, 652, 2165, 657, 658, 659, 660, 661, 662, 663, 2166, 2167, 666, 672, 674, 675, 676, 677, 678, 679, 2170, 681, 691, 692, 693, 694, 695, 697, 700, 707, 708, 2176, 710, 711, 713, 714, 715, 716, 718, 719, 2178, 727, 728, 730, 731, 734, 735, 742, 743, 744, 745, 750, 753, 760, 761, 766, 772, 773, 774, 776, 777, 778, 779, 781, 782, 783, 784, 790, 791, 792, 793, 800, 801, 802, 803, 804, 805, 2195, 808, 812, 814, 815, 816, 817, 821, 822, 823, 825, 831, 834, 836, 838, 840, 844, 845, 846, 848, 849, 850, 851, 853, 854, 855, 857, 858, 865, 868, 869, 871, 876, 877, 878, 881, 882, 883, 885, 886, 893, 894, 895, 896, 898, 899, 901, 902, 903, 904, 905, 909, 911, 913, 914, 915, 916, 917, 920, 922, 924, 925, 927, 928, 930, 933, 934, 935, 936, 937, 938, 939, 941, 942, 943, 951, 952, 954, 960, 961, 962, 963, 966, 969, 971, 972, 973, 981, 982, 984, 985, 986, 991, 993, 998, 1001, 1002, 1004, 1007, 1010, 1011, 1012, 1013, 1014, 1016, 1017, 1018, 1020, 1032, 1040, 1045, 1046, 1049, 1054, 1055, 1059, 1060, 1061, 1063, 1066, 1067, 1068, 1071, 1072, 1079, 1080, 1081, 1085, 1086, 1087, 1088, 1096, 1102, 1103, 1110, 1111, 1112, 1114, 1115, 1116, 1117, 1119, 1121, 1122, 1123, 1125, 1127, 1132, 1133, 1136, 1137, 1139, 1140, 1142, 1144, 1145, 1147, 1159, 1160, 1166, 1167, 1172, 1175, 1177, 1178, 1180, 1181, 1184, 1191, 1192, 1195, 1197, 1199, 1204, 1207, 1209, 1211, 1212, 1215, 1216, 1221, 1223, 1225, 1226, 1232, 1235, 1239, 1244, 1247, 1253, 1257, 1258, 1259, 1263, 1264, 1265, 1266, 1267, 1268, 1274, 1277, 1278, 1279, 1280, 1281, 1285, 1288, 1289, 1290, 1291, 1292, 1294, 1298, 1301, 1303, 1305, 1306, 1308, 1309, 1312, 1313, 1316, 1317, 1319, 1320, 1328, 1329, 1330, 1333, 1334, 1336, 1337, 1339, 1341, 1343, 1345, 1346, 1348, 1349, 1350, 1351, 1352, 1353, 1354, 1356, 1359, 1361, 1364, 1367, 1372, 1373, 1374, 1375, 1376, 1377, 1378, 1381, 1383, 1384, 1385, 1387, 1392, 1393, 1399, 1400, 1401, 1402, 1403, 1404, 1405, 1408, 1410, 1411, 1413, 1414, 1417, 1418, 1419, 1420, 1422, 1423, 1428, 1429, 1430, 1433, 1434, 1435, 1436, 1437, 1439, 1440, 1443, 1445, 1446, 1447, 1448, 1449, 1450, 1451, 1457, 1460, 1461, 1466, 1467, 1472, 1475, 1477, 1478, 1480, 1481, 1482, 1483, 1486, 1487, 1488, 1489, 1495, 1496, 1497, 1500, 1507, 1508, 1509, 1512, 1514, 1517, 1518, 1521, 1525, 1527, 1536, 1537, 1538, 1541, 1542, 1543, 1544, 1545, 1547, 1549, 1552, 1553, 1554, 1555, 1556, 1559, 1560, 1561, 1565, 1566, 1569, 1572, 1577, 1579, 1581, 1583, 1585, 1586, 1587, 1588, 1590, 1592, 1593, 1594, 1595, 1597, 1598, 1600, 1601, 1606, 1607, 1609, 1612, 1617, 1620, 1626, 1629, 1632, 1635, 1637, 1642, 1643, 1653, 1654, 1656, 1658, 1659, 1660, 1662, 1664, 1665, 1666, 1667, 1668, 1669, 1670, 1672, 1673, 1674, 1675, 1676, 1677, 1679, 1681, 1682, 1684, 1685, 1688, 1689, 1692, 1693, 1694, 1696, 1697, 1698, 1699, 1700, 1701, 1704, 1705, 1708, 1709, 1710, 1712, 1713, 1714, 1715, 1716, 1717, 1719, 1720, 1721, 1722, 1726, 1728, 1729, 1730, 1731, 1732, 1733, 1734, 1735, 1736, 1742, 1745, 1750, 1757, 1758, 1759, 1760, 1763, 1764, 1766, 1768, 1769, 1770, 1771, 1773, 1774, 1777, 1779, 1783, 1785, 1787, 1788, 1789, 1792, 1793, 1796, 1798, 1800, 1805, 1806, 1810, 1811, 1812, 1813, 1814, 1816, 1818, 1822, 1823, 1824, 1825, 1828, 1830, 1832, 1833, 1834, 1835, 1836, 1837, 1838, 1841, 1842, 1843, 1846, 1849, 1850, 1853, 1854, 1855, 1856, 1857, 1861, 1862, 1863, 1864, 1866, 1867, 1868, 1870, 1871, 1872, 1874, 1875, 1876, 1877, 1879, 1880, 1881, 1882, 1884, 1887, 1888, 1889, 1890, 1891, 1893, 1894, 1895, 1896, 1898, 1899, 1900, 1902, 1905, 1906, 1907, 1909, 1913, 1914, 1915, 1916, 1921, 1922, 1924, 1926, 1931, 1935, 1941, 1942, 1943, 1947, 1951, 1952, 1953, 1956, 1959, 1965, 1967, 1970, 1972, 1977, 1978, 1980, 1981, 1987, 1988, 1989, 1993, 1997, 2001, 2004, 2006, 2011, 2013, 2016, 2020, 2023, 2025, 2027, 2032, 2037, 2039, 2043, 2044, 2046, 2047))"
      ]
     },
     "execution_count": 110,
     "metadata": {},
     "output_type": "execute_result"
    }
   ],
   "source": [
    "giant_features.nodes"
   ]
  },
  {
   "cell_type": "code",
   "execution_count": null,
   "metadata": {},
   "outputs": [],
   "source": []
  }
 ],
 "metadata": {
  "kernelspec": {
   "display_name": "Python 3",
   "language": "python",
   "name": "python3"
  },
  "language_info": {
   "codemirror_mode": {
    "name": "ipython",
    "version": 3
   },
   "file_extension": ".py",
   "mimetype": "text/x-python",
   "name": "python",
   "nbconvert_exporter": "python",
   "pygments_lexer": "ipython3",
   "version": "3.7.3"
  }
 },
 "nbformat": 4,
 "nbformat_minor": 4
}
