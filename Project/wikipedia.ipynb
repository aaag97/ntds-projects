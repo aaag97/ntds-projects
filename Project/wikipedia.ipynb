{
 "cells": [
  {
   "cell_type": "code",
   "execution_count": 1174,
   "metadata": {},
   "outputs": [],
   "source": [
    "import wikipedia\n",
    "wikipedia.set_lang('en') # setting wikipedia language\n",
    "import wikipediaapi\n",
    "import pandas as pd\n",
    "import numpy as np\n",
    "import matplotlib.pyplot as plt\n",
    "import networkx as nx\n",
    "from IPython.display import display\n",
    "from sklearn.feature_extraction.text import TfidfVectorizer\n",
    "from sklearn.feature_extraction.text import CountVectorizer\n",
    "from sklearn.feature_extraction.text import TfidfTransformer\n",
    "from sklearn.cluster import KMeans\n",
    "from time import sleep\n",
    "import sys\n",
    "import pageviewapi.period\n",
    "from random import sample \n",
    "\n",
    "import nltk # for nlp on articles\n",
    "#nltk.download(\"stopwords\")\n",
    "#nltk.download('punkt')\n",
    "from nltk.corpus import stopwords\n",
    "from nltk.tokenize import word_tokenize"
   ]
  },
  {
   "cell_type": "markdown",
   "metadata": {},
   "source": [
    "# I. Data Acquisition"
   ]
  },
  {
   "cell_type": "markdown",
   "metadata": {},
   "source": [
    "## Data Acquisition Utils"
   ]
  },
  {
   "cell_type": "code",
   "execution_count": 1192,
   "metadata": {},
   "outputs": [],
   "source": [
    "class DataAquisitionUtils():\n",
    "\n",
    "    @staticmethod\n",
    "    def fetch_category_members(category_members, level=0, max_level=1):\n",
    "        \"\"\"\n",
    "        Function to take all article in category (max_level control the depth of articles taken from the subcategories)\n",
    "        Arguments:\n",
    "        category_members - a list of category members\n",
    "        level - the level at which to start getting articles\n",
    "        max_level - the maximal level for the fetched articles\n",
    "        Returns:\n",
    "        list_articles - a list of the desired articles\n",
    "        \"\"\"\n",
    "        list_articles = []\n",
    "        for c in category_members.values():\n",
    "            if c.ns == 0:\n",
    "                list_articles.append(c) \n",
    "                #print(\"%s: %s (ns: %d)\" % (\"*\" * (level + 1), c.title, c.ns))\n",
    "            elif level < max_level and c.ns == 14:\n",
    "                sub_list = []\n",
    "                sub_list = DataAquisitionUtils.fetch_category_members(c.categorymembers, level=level + 1, max_level=max_level)\n",
    "                list_articles = list_articles + sub_list\n",
    "        return list_articles\n",
    "\n",
    "    @staticmethod\n",
    "    def hyperlinks_matrix(list_articles):\n",
    "        \"\"\"\n",
    "        Computes an adjacency matrix with the hyperlinks between the different articles in the argument given\n",
    "        Arguments:\n",
    "        list_articles - a list of articles for which to compute the hyperlink matrix\n",
    "        Returns:\n",
    "        matrix - a binary matrix A where A[i,j] = 1 if article i has a hyperlinkt to article j, and A[i,j] = 0 otherwise\n",
    "        \"\"\"\n",
    "        len_time = len(list_articles)*0.05\n",
    "        matrix = np.zeros((len(list_articles), len(list_articles)))\n",
    "        compt = 0\n",
    "        for article in list_articles:\n",
    "            for link in article.links:\n",
    "                for i in range(len(list_articles)):\n",
    "                    if (link == list_articles[i].title):\n",
    "                        matrix[compt,i] = 1\n",
    "            compt = compt + 1\n",
    "            sys.stdout.write('\\r')\n",
    "            sys.stdout.write(\"[%-20s] %d%%\" % ('='*int(compt/len_time), int(5*compt/len_time)))\n",
    "            sys.stdout.flush()\n",
    "            sleep(0.25)\n",
    "        return matrix\n",
    "    \n",
    "    @staticmethod\n",
    "    def take_words(list_articles, stop_words, is_title = False):\n",
    "        \"\"\"\n",
    "        Function that tokenizes and returns all words in the list of articles given\n",
    "        Arguments:\n",
    "        list_articles - list of articles\n",
    "        is_title - whether the list contains pages or just strings of titles\n",
    "        Returns:\n",
    "        words_df - the words in the articles in a dataframe\n",
    "        \"\"\"\n",
    "        len_time = len(list_articles)*0.05\n",
    "        words_df = pd.DataFrame(columns=['article', 'words'])\n",
    "        for i in range(len(list_articles)):\n",
    "            try:\n",
    "                if (is_title == False):\n",
    "                    page = wikipedia.page(list_articles[i].title)\n",
    "                else:\n",
    "                    page = wikipedia.page(list_articles[i])\n",
    "            except wikipedia.DisambiguationError as e:\n",
    "                s = e.options\n",
    "                s = list(filter(lambda x : x != \"\", s))\n",
    "                try :\n",
    "                    page = wikipedia.page(s)\n",
    "                except wikipedia.DisambiguationError as e:\n",
    "                    pass\n",
    "            except wikipedia.PageError:\n",
    "                pass\n",
    "            words = word_tokenize(page.content)\n",
    "            words = [elem.lower() for elem in words]\n",
    "            words = [elem for elem in words if len(elem) > 1 and elem.isdigit() == False]\n",
    "            words_wostop = [x for x in words if x not in stop_words]\n",
    "            words_wostop = [elem.lower() for elem in words_wostop]\n",
    "            if (is_title == False):\n",
    "                words_df.loc[i] = [list_articles[i].title] + [words_wostop]\n",
    "            else:\n",
    "                words_df.loc[i] = [list_articles[i]] + [words_wostop]\n",
    "            sys.stdout.write('\\r')\n",
    "            sys.stdout.write(\"[%-20s] %d%%\" % ('='*int((i+1)/len_time), int(5*(i+1)/len_time)))\n",
    "            sys.stdout.flush()\n",
    "            sleep(0.25)\n",
    "        return words_df\n",
    "    \n",
    "    @staticmethod\n",
    "    def page_view(list_articles): \n",
    "        len_time = len(list_articles)*0.05\n",
    "        view_df = pd.DataFrame(columns=['article', 'views'])\n",
    "        for i in range(len(list_articles)):\n",
    "            try: \n",
    "                view_df.loc[i] = [list_articles[i].title] + [pageviewapi.period.sum_last('en.wikipedia', list_articles[i].title, last=30,\n",
    "                        access='all-access', agent='all-agents')]\n",
    "            except pageviewapi.client.ZeroOrDataNotLoadedException as e:\n",
    "                view_df.loc[i] = 0\n",
    "            except wikipedia.PageError:\n",
    "                pass\n",
    "            sys.stdout.write('\\r')\n",
    "            sys.stdout.write(\"[%-20s] %d%%\" % ('='*int((i+1)/len_time), int(5*(i+1)/len_time)))\n",
    "            sys.stdout.flush()\n",
    "            sleep(0.25)\n",
    "        return view_df"
   ]
  },
  {
   "cell_type": "markdown",
   "metadata": {},
   "source": [
    "## NLP Utilities"
   ]
  },
  {
   "cell_type": "code",
   "execution_count": 359,
   "metadata": {},
   "outputs": [],
   "source": [
    "class NLPUtilities():\n",
    "    \n",
    "    @staticmethod\n",
    "    def TF_IDF(words_df, nb_words):\n",
    "        \"\"\"\n",
    "        Function to get the words with the top TF-IDF scores\n",
    "        Arguments:\n",
    "        words_df - the dataframe consisting of the words to be considered\n",
    "        nb_words - the number of words we would like the function to return\n",
    "        Returns:\n",
    "        df - a dataframe containing the words with the best TF-IDF scores\n",
    "        \"\"\"\n",
    "        #remove strings like \"10,000\"\n",
    "        #religion_df['words'] = religion_df['words'].apply(lambda word_list: list(filter(lambda word: (',' not in word), word_list)))\n",
    "        #only keep strings that contain alphabet chars\n",
    "        words_df['words'] = words_df['words'].apply(lambda word_list: list(filter(lambda word: word.isalpha(), word_list)))\n",
    "        # create a column with all words concatenated\n",
    "        words_df['words_string'] = words_df['words'].apply(lambda words_list: \" \".join(words_list))\n",
    "\n",
    "        cv=CountVectorizer()\n",
    "        word_count_vector=cv.fit_transform(words_df['words_string'])\n",
    "\n",
    "        tfidf_transformer=TfidfTransformer(smooth_idf=True,use_idf=True)\n",
    "        tfidf_transformer.fit(word_count_vector)\n",
    "\n",
    "        # count matrix\n",
    "        count_vector=cv.transform(words_df['words_string'])\n",
    "\n",
    "        # tf-idf scores\n",
    "        tf_idf_vector=tfidf_transformer.transform(count_vector)\n",
    "\n",
    "        feature_names = cv.get_feature_names()\n",
    "        \n",
    "        dense = tf_idf_vector.todense()\n",
    "        denselist = dense.tolist()\n",
    "                \n",
    "        #tf_idf = matrix where rows are articles and columns are words and values are tfidf score for word in article\n",
    "        tf_idf = pd.DataFrame(data=denselist, columns=feature_names, index=words_df['article'])\n",
    "        \n",
    "        #these are the words that have the biggest tfidf score\n",
    "        important_words = pd.DataFrame(tf_idf.sum(axis=0, numeric_only=True).sort_values(ascending = False),\\\n",
    "                                  columns=['tfidf']).head(nb_words).index.values\n",
    "        \n",
    "        #only keep the most important words in matrix\n",
    "        tf_idf = tf_idf[important_words]\n",
    "\n",
    "        return tf_idf"
   ]
  },
  {
   "cell_type": "markdown",
   "metadata": {},
   "source": [
    "## Data Acquisition Pipeline"
   ]
  },
  {
   "cell_type": "markdown",
   "metadata": {},
   "source": [
    "### Fetching the articles of interest"
   ]
  },
  {
   "cell_type": "code",
   "execution_count": 1193,
   "metadata": {},
   "outputs": [],
   "source": [
    "aquire = DataAquisitionUtils()"
   ]
  },
  {
   "cell_type": "code",
   "execution_count": 1135,
   "metadata": {},
   "outputs": [],
   "source": [
    "wiki_wiki = wikipediaapi.Wikipedia('en') # getting articles in english\n",
    "# fetching the articles for categories of interest\n",
    "religion_page = wiki_wiki.page(\"Category:Religion\")\n",
    "science_page = wiki_wiki.page(\"Category:Science\")\n",
    "religion_articles = aquire.fetch_category_members(religion_page.categorymembers)\n",
    "science_articles = aquire.fetch_category_members(science_page.categorymembers)"
   ]
  },
  {
   "cell_type": "markdown",
   "metadata": {},
   "source": [
    "We will balance the number of articles in each section "
   ]
  },
  {
   "cell_type": "code",
   "execution_count": 1179,
   "metadata": {},
   "outputs": [],
   "source": [
    "# we keep the first article which is the Science or Religion article and sample randomly from the rest\n",
    "number_articles = min(len(religion_labeled_df), len(science_labeled_df))\n",
    "religion_articles = [religion_articles[0]] + sample(religion_articles,number_articles)\n",
    "science_articles = [science_articles[0]] + sample(science_articles,number_articles)\n",
    "list_articles = religion_articles + science_articles"
   ]
  },
  {
   "cell_type": "markdown",
   "metadata": {},
   "source": [
    "### Hyperlink matrix"
   ]
  },
  {
   "cell_type": "markdown",
   "metadata": {},
   "source": [
    "This is the adjacency matrix of the hyperlinks between articles. That is if one article Ai links to another article Aj there will be an 1 in the ith row and jth column of the matrix.   "
   ]
  },
  {
   "cell_type": "code",
   "execution_count": 364,
   "metadata": {},
   "outputs": [],
   "source": [
    "# EXECUTE IF YOU DO NOT HAVE CSV\n",
    "# list_articles = religion_articles + science_articles\n",
    "# adjacency_matrix = aquire.hyperlinks_matrix(list_articles)\n",
    "# num_edges = np.count_nonzero(adjacency_matrix)\n",
    "# print(f\"Number of edges in the feature graph: {num_edges}\")\n",
    "# np.savetxt('hyperlinks.csv', adjacency_matrix)"
   ]
  },
  {
   "cell_type": "code",
   "execution_count": 930,
   "metadata": {},
   "outputs": [],
   "source": [
    "import pandas as pd\n",
    "import zipfile\n",
    "\n",
    "zf = zipfile.ZipFile('hyperlinks.csv.zip') \n",
    "df = pd.read_csv(zf.open('hyperlinks.csv'), header=None, sep = \" \")"
   ]
  },
  {
   "cell_type": "code",
   "execution_count": 962,
   "metadata": {},
   "outputs": [
    {
     "data": {
      "text/plain": [
       "<matplotlib.image.AxesImage at 0x193d536a0>"
      ]
     },
     "execution_count": 962,
     "metadata": {},
     "output_type": "execute_result"
    },
    {
     "data": {
      "image/png": "[encoded data removed]",
      "text/plain": [
       "<Figure size 432x288 with 1 Axes>"
      ]
     },
     "metadata": {
      "needs_background": "light"
     },
     "output_type": "display_data"
    }
   ],
   "source": [
    "hyperlinks = df.values\n",
    "plt.spy(hyperlinks)"
   ]
  },
  {
   "cell_type": "code",
   "execution_count": null,
   "metadata": {},
   "outputs": [],
   "source": [
    "# Computing the laplacian\n",
    "laplacian = matrixu.compute_laplacian(hyperlinks, normalize=True)\n",
    "lam, U = matrixu.spectral_decomposition(np.nan_to_num(laplacian))"
   ]
  },
  {
   "cell_type": "code",
   "execution_count": null,
   "metadata": {},
   "outputs": [],
   "source": [
    "alpha = 0.99 / np.max(lam)\n",
    "ideal_tk = np.reciprocal(1+alpha*lam) "
   ]
  },
  {
   "cell_type": "code",
   "execution_count": null,
   "metadata": {},
   "outputs": [],
   "source": [
    "plt.plot(lam, ideal_tk)"
   ]
  },
  {
   "cell_type": "code",
   "execution_count": null,
   "metadata": {},
   "outputs": [],
   "source": [
    "order =  10\n",
    "coeff = fit_polynomial(lam.real, order, ideal_filter)\n",
    "graph_filter = polynomial_graph_filter(coeff.real, laplacian)"
   ]
  },
  {
   "cell_type": "code",
   "execution_count": null,
   "metadata": {},
   "outputs": [],
   "source": [
    "graph_filter.T @ features.numpy()"
   ]
  },
  {
   "cell_type": "markdown",
   "metadata": {},
   "source": [
    "### Pageviews of articles"
   ]
  },
  {
   "cell_type": "markdown",
   "metadata": {},
   "source": [
    "This matrix contain the total number of views during a period of 30 days for each articles. "
   ]
  },
  {
   "cell_type": "code",
   "execution_count": 1194,
   "metadata": {},
   "outputs": [
    {
     "name": "stdout",
     "output_type": "stream",
     "text": [
      "[====================] 100%"
     ]
    }
   ],
   "source": [
    "views_df = aquire.page_view(list_articles)"
   ]
  },
  {
   "cell_type": "markdown",
   "metadata": {},
   "source": [
    "### Taking the words with the highest TF-IDF"
   ]
  },
  {
   "cell_type": "code",
   "execution_count": 1130,
   "metadata": {},
   "outputs": [],
   "source": [
    "#Take all the words present in the articles that are not stopwords\n",
    "stop_found = ['====', '===', '==', '<<', '>>', \"''\", '``', \"'s\" , '\\displaystyle', '...', '\\phi', '\\mu', '\\mathbf', '--', 'x_',\n",
    "        '\\alpha', '\\dot', '\\hat', '\\lambda', '\\left', '\\right', 'mathcal', '\\nu', '\\partial'] #getting the stopwords found in the articles after exmination\n",
    "stop_pre = stopwords.words('english') # getting the common english stopwords\n",
    "stop_words = stop_found + stop_pre"
   ]
  },
  {
   "cell_type": "code",
   "execution_count": null,
   "metadata": {},
   "outputs": [],
   "source": [
    "religion_df = pd.read_pickle('./religion_articles')\n",
    "science_df = pd.read_pickle('./science_articles')"
   ]
  },
  {
   "cell_type": "code",
   "execution_count": 1167,
   "metadata": {},
   "outputs": [
    {
     "name": "stdout",
     "output_type": "stream",
     "text": [
      "[====================] 99%"
     ]
    }
   ],
   "source": [
    "#Execute only if you don't have the pickles\n",
    "religion_df= aquire.take_words(religion_articles, stop_words)\n",
    "religion_df = religion_df.drop_duplicates('article')"
   ]
  },
  {
   "cell_type": "code",
   "execution_count": 1184,
   "metadata": {},
   "outputs": [
    {
     "name": "stdout",
     "output_type": "stream",
     "text": [
      "[====================] 100%"
     ]
    }
   ],
   "source": [
    "#Execute only if you don't have the pickles\n",
    "science_df = aquire.take_words(science_articles, stop_words)\n",
    "science_df = science_df.drop_duplicates('article')"
   ]
  },
  {
   "cell_type": "code",
   "execution_count": 1231,
   "metadata": {},
   "outputs": [
    {
     "data": {
      "text/html": [
       "<div>\n",
       "<style scoped>\n",
       "    .dataframe tbody tr th:only-of-type {\n",
       "        vertical-align: middle;\n",
       "    }\n",
       "\n",
       "    .dataframe tbody tr th {\n",
       "        vertical-align: top;\n",
       "    }\n",
       "\n",
       "    .dataframe thead th {\n",
       "        text-align: right;\n",
       "    }\n",
       "</style>\n",
       "<table border=\"1\" class=\"dataframe\">\n",
       "  <thead>\n",
       "    <tr style=\"text-align: right;\">\n",
       "      <th></th>\n",
       "      <th>article</th>\n",
       "      <th>words</th>\n",
       "      <th>label</th>\n",
       "    </tr>\n",
       "  </thead>\n",
       "  <tbody>\n",
       "    <tr>\n",
       "      <td>0</td>\n",
       "      <td>Religion</td>\n",
       "      <td>[religion, social-cultural, system, designated...</td>\n",
       "      <td>0</td>\n",
       "    </tr>\n",
       "    <tr>\n",
       "      <td>1</td>\n",
       "      <td>African and African-American women in Christia...</td>\n",
       "      <td>[christianity, africa, began, egypt, middle, 1...</td>\n",
       "      <td>0</td>\n",
       "    </tr>\n",
       "    <tr>\n",
       "      <td>2</td>\n",
       "      <td>Religion and agriculture</td>\n",
       "      <td>[religion, agriculture, closely, associated, s...</td>\n",
       "      <td>0</td>\n",
       "    </tr>\n",
       "    <tr>\n",
       "      <td>3</td>\n",
       "      <td>American Anglican Church</td>\n",
       "      <td>[anglican, church, north, america, acna, chris...</td>\n",
       "      <td>0</td>\n",
       "    </tr>\n",
       "    <tr>\n",
       "      <td>4</td>\n",
       "      <td>American Humanist Association</td>\n",
       "      <td>[american, humanist, association, aha, non-pro...</td>\n",
       "      <td>0</td>\n",
       "    </tr>\n",
       "    <tr>\n",
       "      <td>...</td>\n",
       "      <td>...</td>\n",
       "      <td>...</td>\n",
       "      <td>...</td>\n",
       "    </tr>\n",
       "    <tr>\n",
       "      <td>1472</td>\n",
       "      <td>Creativity</td>\n",
       "      <td>[creativity, phenomenon, whereby, something, n...</td>\n",
       "      <td>1</td>\n",
       "    </tr>\n",
       "    <tr>\n",
       "      <td>1473</td>\n",
       "      <td>Ergonomic glove</td>\n",
       "      <td>[ergonomic, glove, also, known, computer, glov...</td>\n",
       "      <td>1</td>\n",
       "    </tr>\n",
       "    <tr>\n",
       "      <td>1474</td>\n",
       "      <td>DNA sequencer</td>\n",
       "      <td>[dna, sequencer, scientific, instrument, used,...</td>\n",
       "      <td>1</td>\n",
       "    </tr>\n",
       "    <tr>\n",
       "      <td>1475</td>\n",
       "      <td>List of abuse allegations made through facilit...</td>\n",
       "      <td>[instances, person, facilitated, communication...</td>\n",
       "      <td>1</td>\n",
       "    </tr>\n",
       "    <tr>\n",
       "      <td>1476</td>\n",
       "      <td>Electronic voice phenomenon</td>\n",
       "      <td>[within, ghost, hunting, parapsychology, elect...</td>\n",
       "      <td>1</td>\n",
       "    </tr>\n",
       "  </tbody>\n",
       "</table>\n",
       "<p>1477 rows × 3 columns</p>\n",
       "</div>"
      ],
      "text/plain": [
       "                                                article  \\\n",
       "0                                              Religion   \n",
       "1     African and African-American women in Christia...   \n",
       "2                              Religion and agriculture   \n",
       "3                              American Anglican Church   \n",
       "4                         American Humanist Association   \n",
       "...                                                 ...   \n",
       "1472                                         Creativity   \n",
       "1473                                    Ergonomic glove   \n",
       "1474                                      DNA sequencer   \n",
       "1475  List of abuse allegations made through facilit...   \n",
       "1476                        Electronic voice phenomenon   \n",
       "\n",
       "                                                  words  label  \n",
       "0     [religion, social-cultural, system, designated...      0  \n",
       "1     [christianity, africa, began, egypt, middle, 1...      0  \n",
       "2     [religion, agriculture, closely, associated, s...      0  \n",
       "3     [anglican, church, north, america, acna, chris...      0  \n",
       "4     [american, humanist, association, aha, non-pro...      0  \n",
       "...                                                 ...    ...  \n",
       "1472  [creativity, phenomenon, whereby, something, n...      1  \n",
       "1473  [ergonomic, glove, also, known, computer, glov...      1  \n",
       "1474  [dna, sequencer, scientific, instrument, used,...      1  \n",
       "1475  [instances, person, facilitated, communication...      1  \n",
       "1476  [within, ghost, hunting, parapsychology, elect...      1  \n",
       "\n",
       "[1477 rows x 3 columns]"
      ]
     },
     "execution_count": 1231,
     "metadata": {},
     "output_type": "execute_result"
    }
   ],
   "source": [
    "religion_labeled_df = religion_df.copy()\n",
    "religion_labeled_df['label'] = 0\n",
    "\n",
    "science_labeled_df = science_df.copy()\n",
    "science_labeled_df['label'] = 1\n",
    "\n",
    "# we select the same number of articles from both categories\n",
    "# we need a maximal number of data points for a good training process\n",
    "number_articles = min(len(religion_labeled_df), len(science_labeled_df))\n",
    "\n",
    "words_df_reduced = pd.concat([religion_labeled_df,\\\n",
    "                              science_labeled_df],\\\n",
    "                             ignore_index=True)\n",
    "                              \n",
    "labels_df = pd.DataFrame(words_df_reduced['label'])\n",
    "words_df_reduced"
   ]
  },
  {
   "cell_type": "code",
   "execution_count": 1232,
   "metadata": {},
   "outputs": [],
   "source": [
    "nlpu = NLPUtilities()"
   ]
  },
  {
   "cell_type": "code",
   "execution_count": 1233,
   "metadata": {
    "scrolled": true
   },
   "outputs": [],
   "source": [
    "# UNCOMMENT & EXECUTE IF YOU DO NOT HAVE tf_idf_50_words.pickle\n",
    "tf_idf = nlpu.TF_IDF(words_df_reduced, 50)\n",
    "#tf_idf = pd.read_pickle('tf_idf_50_words.pickle')\n",
    "#tf_idf"
   ]
  },
  {
   "cell_type": "code",
   "execution_count": 1234,
   "metadata": {
    "scrolled": true
   },
   "outputs": [
    {
     "data": {
      "text/html": [
       "<div>\n",
       "<style scoped>\n",
       "    .dataframe tbody tr th:only-of-type {\n",
       "        vertical-align: middle;\n",
       "    }\n",
       "\n",
       "    .dataframe tbody tr th {\n",
       "        vertical-align: top;\n",
       "    }\n",
       "\n",
       "    .dataframe thead th {\n",
       "        text-align: right;\n",
       "    }\n",
       "</style>\n",
       "<table border=\"1\" class=\"dataframe\">\n",
       "  <thead>\n",
       "    <tr style=\"text-align: right;\">\n",
       "      <th></th>\n",
       "      <th>tfidf</th>\n",
       "    </tr>\n",
       "  </thead>\n",
       "  <tbody>\n",
       "    <tr>\n",
       "      <td>science</td>\n",
       "      <td>44.780375</td>\n",
       "    </tr>\n",
       "    <tr>\n",
       "      <td>religion</td>\n",
       "      <td>40.360663</td>\n",
       "    </tr>\n",
       "    <tr>\n",
       "      <td>religious</td>\n",
       "      <td>37.352622</td>\n",
       "    </tr>\n",
       "    <tr>\n",
       "      <td>also</td>\n",
       "      <td>27.245895</td>\n",
       "    </tr>\n",
       "    <tr>\n",
       "      <td>god</td>\n",
       "      <td>25.984154</td>\n",
       "    </tr>\n",
       "    <tr>\n",
       "      <td>scientific</td>\n",
       "      <td>22.375240</td>\n",
       "    </tr>\n",
       "    <tr>\n",
       "      <td>one</td>\n",
       "      <td>21.610772</td>\n",
       "    </tr>\n",
       "    <tr>\n",
       "      <td>church</td>\n",
       "      <td>21.152889</td>\n",
       "    </tr>\n",
       "    <tr>\n",
       "      <td>research</td>\n",
       "      <td>20.845156</td>\n",
       "    </tr>\n",
       "    <tr>\n",
       "      <td>new</td>\n",
       "      <td>18.711279</td>\n",
       "    </tr>\n",
       "  </tbody>\n",
       "</table>\n",
       "</div>"
      ],
      "text/plain": [
       "                tfidf\n",
       "science     44.780375\n",
       "religion    40.360663\n",
       "religious   37.352622\n",
       "also        27.245895\n",
       "god         25.984154\n",
       "scientific  22.375240\n",
       "one         21.610772\n",
       "church      21.152889\n",
       "research    20.845156\n",
       "new         18.711279"
      ]
     },
     "execution_count": 1234,
     "metadata": {},
     "output_type": "execute_result"
    }
   ],
   "source": [
    "important_words_df = pd.DataFrame(tf_idf.sum(axis=0, numeric_only=True).sort_values(ascending = False),\\\n",
    "                                  columns=['tfidf'])\n",
    "important_words_df.head(10)"
   ]
  },
  {
   "cell_type": "markdown",
   "metadata": {},
   "source": [
    "The weighted TF-IDF matrix $W_{w}$ is our tf_idf dataframe."
   ]
  },
  {
   "cell_type": "code",
   "execution_count": 1235,
   "metadata": {},
   "outputs": [],
   "source": [
    "features_weight = tf_idf"
   ]
  },
  {
   "cell_type": "markdown",
   "metadata": {},
   "source": [
    "For the non-weighted TF-IDF $W_{nw}$ where we compute the weights such that for all $i,j$\n",
    "\n",
    "$(W_{nw})_{i,j} = 1$ if $(W_{w})_{i,j} > 0$, $(W_{nw})_{i,j} = 0$ otherwise\n",
    "\n",
    "we can do the following"
   ]
  },
  {
   "cell_type": "code",
   "execution_count": 1236,
   "metadata": {},
   "outputs": [],
   "source": [
    "features_no_weight = tf_idf.where(tf_idf <= 0, 1)"
   ]
  },
  {
   "cell_type": "markdown",
   "metadata": {},
   "source": [
    "For the rest of this project we choose to work with the weighted TF-IDF matrix as it gives more insights into word importance."
   ]
  },
  {
   "cell_type": "code",
   "execution_count": 1237,
   "metadata": {},
   "outputs": [],
   "source": [
    "features = features_weight"
   ]
  },
  {
   "cell_type": "markdown",
   "metadata": {},
   "source": [
    "We have hence aquired the data and put it in a dataframe called features. Its rows are the different articles and each column is an important word (according to TF-IDF scores)."
   ]
  },
  {
   "cell_type": "markdown",
   "metadata": {},
   "source": [
    "# II. Data Exploration"
   ]
  },
  {
   "cell_type": "code",
   "execution_count": 1238,
   "metadata": {},
   "outputs": [],
   "source": [
    "from scipy.spatial.distance import pdist, squareform\n",
    "import operator\n",
    "from sklearn.manifold import TSNE"
   ]
  },
  {
   "cell_type": "markdown",
   "metadata": {},
   "source": [
    "## Matrix Utilities"
   ]
  },
  {
   "cell_type": "code",
   "execution_count": 1239,
   "metadata": {},
   "outputs": [],
   "source": [
    "class MatrixUtils():\n",
    "    \n",
    "    @staticmethod\n",
    "    def epsilon_similarity_graph(X: np.ndarray, sigma=1, epsilon=0):\n",
    "        \"\"\" \n",
    "        Fnction to compute the epsilon similarity graph seen in class\n",
    "        Arguments:\n",
    "        X (n x d): coordinates of the n data points in R^d.\n",
    "        sigma (float): width of the kernel\n",
    "        epsilon (float): threshold\n",
    "        Returns:\n",
    "        adjacency (n x n ndarray): adjacency matrix of the graph.\n",
    "        \"\"\"\n",
    "        adjacency = np.exp((- X**2)/(2 * sigma**2))\n",
    "        adjacency[adjacency > epsilon] = 0\n",
    "        #according to the formula on slide 11 in the spectral clustering lecture, we set the diagonal to 0\n",
    "        np.fill_diagonal(adjacency,0)\n",
    "        return adjacency\n",
    "    \n",
    "    @staticmethod\n",
    "    def compute_laplacian(adjacency: np.ndarray, normalize: bool):\n",
    "        \"\"\" \n",
    "        Function to compute the laplacian\n",
    "        Arguments:\n",
    "        adjacency - an adjacency matrix for which to compute the laplacian\n",
    "        normalize - if set to True, the normalized laplacian is returned, otherwise the combinatorial one is returned \n",
    "        Returns:\n",
    "        L (n x n ndarray): combinatorial or symmetric normalized Laplacian.\n",
    "        \"\"\"\n",
    "        degrees_l = np.sum(adjacency,axis=1)\n",
    "        if(not normalize):\n",
    "            degrees = np.zeros(adjacency.shape)\n",
    "            np.fill_diagonal(degrees,degrees_l)\n",
    "            return degrees - adjacency \n",
    "        else:\n",
    "            degrees = np.sqrt(np.array([degrees_l]).T @ np.array([degrees_l]))\n",
    "            L = - adjacency/degrees\n",
    "            np.fill_diagonal(L,np.ones(len(adjacency)))\n",
    "            return L\n",
    "    \n",
    "    @staticmethod\n",
    "    def spectral_decomposition(laplacian: np.ndarray):\n",
    "        \"\"\"\n",
    "        Function to carry out spectral decomposition on a given matrix\n",
    "        Arguments:\n",
    "        laplacian - matrix on which to carry out decomposition\n",
    "        Returns:\n",
    "        lamb (np.array): eigenvalues of the Laplacian\n",
    "        U (np.ndarray): corresponding eigenvectors.\n",
    "        \"\"\"\n",
    "        values, vectors = np.linalg.eig(laplacian)\n",
    "        sorted_indices = np.argsort(values)\n",
    "        return values[sorted_indices], vectors[:,sorted_indices]\n",
    "    \n",
    "    @staticmethod\n",
    "    def GFT(signal: np.ndarray):\n",
    "        \"\"\"\n",
    "        Function to compute the fourier transform of a signal\n",
    "        Arguments:\n",
    "        signal - the signal for which to compute the fourier transform (in the form of an Numpy array)\n",
    "        Returns:\n",
    "        fourier - the fourier transform of the signal provided\n",
    "        \"\"\"\n",
    "        fourier = U.transpose()@signal\n",
    "        return fourier\n",
    "    \n",
    "    @staticmethod\n",
    "    def iGFT(fourier_coefficients: np.ndarray):\n",
    "        \"\"\"\n",
    "        Function to compute the signal from a fourier transform\n",
    "        Arguments:\n",
    "        fourier_coefficients - the fourier coefficients from which to get the signal (in the form of an Numpy array)\n",
    "        Returns:\n",
    "        signal - the signal for the fourier coefficients given\n",
    "        \"\"\"\n",
    "        signal = U@fourier_coefficients\n",
    "        return signal"
   ]
  },
  {
   "cell_type": "markdown",
   "metadata": {},
   "source": [
    "## Filter Utilities"
   ]
  },
  {
   "cell_type": "code",
   "execution_count": 1240,
   "metadata": {},
   "outputs": [],
   "source": [
    "class FilterUtilities():\n",
    "    \n",
    "    @staticmethod    \n",
    "    def ideal_graph_filter(x: np.ndarray, spectral_response: np.ndarray):\n",
    "        \"\"\"\n",
    "        Function to apply an idea filter to a graph\n",
    "        Arguments:\n",
    "        x - the signal on which to apply the filter\n",
    "        spectral_response - the spectral response of the signal\n",
    "        Returns:\n",
    "        filtered_graph - a filtered signal\n",
    "        \"\"\"\n",
    "        fourier = MatrixUtils().GFT(x);\n",
    "        h = np.diag(spectral_response)\n",
    "        filtered_graph = U@h@fourier\n",
    "        return filtered_graph"
   ]
  },
  {
   "cell_type": "code",
   "execution_count": 1241,
   "metadata": {},
   "outputs": [],
   "source": [
    "class VisUtils():\n",
    "    \n",
    "    @staticmethod\n",
    "    def laplacian_eigenmaps(X:np.ndarray, dim: int, sigma: float, epsilon: float, normalize: bool):\n",
    "        \"\"\"\n",
    "        Function to compute the laplacian eigenmap if a given matrix\n",
    "        Arguments:\n",
    "        X - the matrix for which to compute the eigenmaps\n",
    "        dim - the dimension of the data we would like to return\n",
    "        sigma - the sigma parameter for the epsilon similarity graph\n",
    "        epsilon - the epsilon parameter for the epsilon similarity graph\n",
    "        normalize - if set to True, the normalized laplacian is used, otherwise the combinatorial one is used \n",
    "        Returns:\n",
    "        coords (n x dim array): new coordinates for the data points\n",
    "        \"\"\"\n",
    "        adjacency = MatrixUtils().epsilon_similarity_graph(X, sigma, epsilon)\n",
    "        laplacian = MatrixUtils().compute_laplacian(adjacency, normalize)\n",
    "        eigenvalues, eigenvectors = MatrixUtils().spectral_decomposition(np.nan_to_num(laplacian)) \n",
    "        return (eigenvectors[:,1:dim+1])"
   ]
  },
  {
   "cell_type": "markdown",
   "metadata": {},
   "source": [
    "## A/ Build an adjacency matrix"
   ]
  },
  {
   "cell_type": "markdown",
   "metadata": {},
   "source": [
    "1/ Compute distances between articles"
   ]
  },
  {
   "cell_type": "code",
   "execution_count": 1497,
   "metadata": {},
   "outputs": [],
   "source": [
    "from numpy import dot\n",
    "from numpy.linalg import norm\n",
    "\n",
    "def cosine(a,b):\n",
    "    \"\"\"\n",
    "    Function to compute the cosine similarity between two vectors\n",
    "    Arguments:\n",
    "    a - first vector\n",
    "    b - second vector\n",
    "    Returns:\n",
    "    cos_sim - the cosine similarity between a and b\n",
    "    \"\"\"\n",
    "    if(norm(a) == 0 or norm(b) == 0):\n",
    "        return dot(a,b)\n",
    "    cos_sim = dot(a, b)/(norm(a)*norm(b))\n",
    "    return cos_sim\n",
    "\n",
    "def cosine_distances(features):\n",
    "    features_a = np.array(features)\n",
    "\n",
    "    #compute cosine similarity between all articles\n",
    "    distances = np.array([[cosine(features_a[i,:],features_a[j,:]) for i in range(0,features_a.shape[0])]\n",
    "        for j in range(0,features_a.shape[0])]).reshape(features.shape[0],-1)\n",
    "\n",
    "    return distances"
   ]
  },
  {
   "cell_type": "code",
   "execution_count": 1503,
   "metadata": {},
   "outputs": [],
   "source": [
    "features_a = np.array(features)\n",
    "distances = cosine_distances(features_a)\n",
    "distances_religion = cosine_distances(features_a[labels_df_wo[labels_df_wo[\"label\"] == 0].index])\n",
    "distances_science = cosine_distances(features_a[labels_df_wo[labels_df_wo[\"label\"] == 1].index])"
   ]
  },
  {
   "cell_type": "code",
   "execution_count": 1504,
   "metadata": {},
   "outputs": [
    {
     "data": {
      "image/png": "[encoded data removed]",
      "text/plain": [
       "<Figure size 576x288 with 1 Axes>"
      ]
     },
     "metadata": {
      "needs_background": "light"
     },
     "output_type": "display_data"
    },
    {
     "name": "stdout",
     "output_type": "stream",
     "text": [
      "95.0% of the distances between pages are below:  0.5285327720169993\n"
     ]
    },
    {
     "data": {
      "image/png": "[encoded data removed]",
      "text/plain": [
       "<Figure size 432x288 with 1 Axes>"
      ]
     },
     "metadata": {
      "needs_background": "light"
     },
     "output_type": "display_data"
    },
    {
     "name": "stdout",
     "output_type": "stream",
     "text": [
      "95.0% of the distances between religion pages are below:  0.623150457248326\n",
      "95.0% of the distances between science pages are below:  0.592263134632401\n"
     ]
    }
   ],
   "source": [
    "#histogram of cosine similarity\n",
    "\n",
    "plt.figure(1, figsize=(8, 4))\n",
    "plt.title(\"Histogram of cosine similarity between pages\")\n",
    "plt.hist(distances .flatten(),bins =50);\n",
    "plt.xlabel('cosine similarity')\n",
    "plt.ylabel('count')\n",
    "plt.show()\n",
    "\n",
    "quantile = 0.95\n",
    "print(f\"{quantile*100}% of the distances between pages are below: \", np.quantile(distances,quantile))\n",
    "\n",
    "plt.title(\"Histogram of cosine similarity inside of a category\")\n",
    "plt.hist(distances_science.flatten(), bins = 50 , alpha=0.5, label='science')\n",
    "plt.hist(distances_religion.flatten(), bins = 50, alpha=0.5, label='religion')\n",
    "plt.xlabel('cosine similarity')\n",
    "plt.ylabel('count')\n",
    "plt.legend(loc='upper right')\n",
    "plt.show()\n",
    "\n",
    "print(f\"{quantile*100}% of the distances between religion pages are below: \",  np.quantile(distances_religion,quantile))\n",
    "print(f\"{quantile*100}% of the distances between science pages are below: \", np.quantile(distances_science,quantile))\n"
   ]
  },
  {
   "cell_type": "markdown",
   "metadata": {},
   "source": [
    "We notice a heavy-tailed distribution. The similarity between papers is hence concentrated around 0 and 0.2 between most papers but there are some rare papers with very high cosine similarity scores."
   ]
  },
  {
   "cell_type": "markdown",
   "metadata": {},
   "source": [
    "Let's examine an example of distance distribution for one religon paper"
   ]
  },
  {
   "cell_type": "code",
   "execution_count": 1505,
   "metadata": {},
   "outputs": [
    {
     "data": {
      "text/plain": [
       "[<matplotlib.lines.Line2D at 0x185675a58>]"
      ]
     },
     "execution_count": 1505,
     "metadata": {},
     "output_type": "execute_result"
    },
    {
     "data": {
      "image/png": "[encoded data removed]",
      "text/plain": [
       "<Figure size 432x288 with 1 Axes>"
      ]
     },
     "metadata": {
      "needs_background": "light"
     },
     "output_type": "display_data"
    }
   ],
   "source": [
    "plt.plot(distances[0],'x')"
   ]
  },
  {
   "cell_type": "markdown",
   "metadata": {},
   "source": [
    "Let's examine an example of distance distribution for one scientific paper"
   ]
  },
  {
   "cell_type": "code",
   "execution_count": 1507,
   "metadata": {},
   "outputs": [
    {
     "data": {
      "text/plain": [
       "[<matplotlib.lines.Line2D at 0x1859724e0>]"
      ]
     },
     "execution_count": 1507,
     "metadata": {},
     "output_type": "execute_result"
    },
    {
     "data": {
      "image/png": "[encoded data removed]",
      "text/plain": [
       "<Figure size 432x288 with 1 Axes>"
      ]
     },
     "metadata": {
      "needs_background": "light"
     },
     "output_type": "display_data"
    }
   ],
   "source": [
    "plt.plot(distances[752],'x')"
   ]
  },
  {
   "cell_type": "markdown",
   "metadata": {},
   "source": [
    "2/ Adjacency Matrix"
   ]
  },
  {
   "cell_type": "code",
   "execution_count": 1508,
   "metadata": {},
   "outputs": [
    {
     "data": {
      "image/png": "[encoded data removed]",
      "text/plain": [
       "<Figure size 432x288 with 1 Axes>"
      ]
     },
     "metadata": {
      "needs_background": "light"
     },
     "output_type": "display_data"
    }
   ],
   "source": [
    "def article_sim_th(threshold, distances=distances,weight=True):\n",
    "    \"\"\"\n",
    "    apply a threshold to cosine distances in order to get an adjacency matrix that \n",
    "    allow to observe the two classes of articles\n",
    "    \"\"\"\n",
    "    feat = distances.copy()\n",
    "    if(weight):\n",
    "        feat[feat<threshold]=0\n",
    "    else:\n",
    "        feat = np.where(distances > threshold, 1, 0)\n",
    "    np.fill_diagonal(feat, 0)\n",
    "    return feat\n",
    "\n",
    "# according to previous part approximatly 95% of the articles of given category have cosine distances above 0.6\n",
    "# we will keep this value as a threshold, distances that are below 0.6, won't be taken in account in our adjacency matrix\n",
    "adjacency = article_sim_th(0.64,weight=True)\n",
    "\n",
    "plt.spy(adjacency)\n",
    "plt.show()"
   ]
  },
  {
   "cell_type": "markdown",
   "metadata": {},
   "source": [
    "## B/ Exploring graph properties"
   ]
  },
  {
   "cell_type": "code",
   "execution_count": 1510,
   "metadata": {},
   "outputs": [],
   "source": [
    "import collections\n",
    "import matplotlib.pyplot as plt\n",
    "import networkx as nx"
   ]
  },
  {
   "cell_type": "markdown",
   "metadata": {},
   "source": [
    "1/ General features"
   ]
  },
  {
   "cell_type": "code",
   "execution_count": 1511,
   "metadata": {},
   "outputs": [
    {
     "name": "stdout",
     "output_type": "stream",
     "text": [
      "The giant component of the feature graph has 1459 nodes and 23245 edges.\n",
      "average clustering coefficient of our graph: 0.5285367062819631\n"
     ]
    }
   ],
   "source": [
    "# building a graph using the normalized distances\n",
    "graph = nx.from_numpy_matrix(adjacency)\n",
    "\n",
    "# assessing the giant component size\n",
    "giant_feature = max(nx.connected_component_subgraphs(graph), key=len)\n",
    "print('The giant component of the feature graph has {} nodes and {} edges.'.format(giant_feature.number_of_nodes(), giant_feature.size()))\n",
    "\n",
    "print(\"average clustering coefficient of our graph:\",nx.average_clustering(graph))"
   ]
  },
  {
   "cell_type": "code",
   "execution_count": 1512,
   "metadata": {},
   "outputs": [
    {
     "name": "stdout",
     "output_type": "stream",
     "text": [
      "subgraph nb  0 nb of nodes: 1459\n",
      "subgraph nb  1 nb of nodes: 1\n",
      "subgraph nb  2 nb of nodes: 1\n",
      "subgraph nb  3 nb of nodes: 1\n",
      "subgraph nb  4 nb of nodes: 1\n",
      "subgraph nb  5 nb of nodes: 1\n",
      "subgraph nb  6 nb of nodes: 1\n",
      "subgraph nb  7 nb of nodes: 1\n",
      "subgraph nb  8 nb of nodes: 1\n",
      "subgraph nb  9 nb of nodes: 1\n",
      "subgraph nb  10 nb of nodes: 1\n",
      "subgraph nb  11 nb of nodes: 2\n",
      "subgraph nb  12 nb of nodes: 1\n",
      "subgraph nb  13 nb of nodes: 1\n",
      "subgraph nb  14 nb of nodes: 1\n",
      "subgraph nb  15 nb of nodes: 1\n",
      "subgraph nb  16 nb of nodes: 1\n",
      "subgraph nb  17 nb of nodes: 1\n"
     ]
    }
   ],
   "source": [
    "#study the connected components\n",
    "graphs = list(nx.connected_component_subgraphs(graph))\n",
    "for i in range(0,len(graphs)):\n",
    "    print(\"subgraph nb \", i, \"nb of nodes:\",len(graphs[i].degree))"
   ]
  },
  {
   "cell_type": "markdown",
   "metadata": {},
   "source": [
    "The graph has one giant component and a small component composed of 2 nodes, the 16 other components are pages that are alone."
   ]
  },
  {
   "cell_type": "code",
   "execution_count": 1514,
   "metadata": {},
   "outputs": [
    {
     "name": "stdout",
     "output_type": "stream",
     "text": [
      "Induced-self antigen\n",
      "Rope worms\n"
     ]
    }
   ],
   "source": [
    "nodes_small_comp = list(graphs[11].nodes())\n",
    "\n",
    "#for curiosity, articles linked in the small component\n",
    "for node in nodes_small_comp:\n",
    "     print(features.index[node])"
   ]
  },
  {
   "cell_type": "markdown",
   "metadata": {},
   "source": [
    "2/ Degree distribution"
   ]
  },
  {
   "cell_type": "code",
   "execution_count": 1522,
   "metadata": {},
   "outputs": [
    {
     "ename": "NameError",
     "evalue": "name 'er_degrees' is not defined",
     "output_type": "error",
     "traceback": [
      "\u001b[0;31m---------------------------------------------------------------------------\u001b[0m",
      "\u001b[0;31mNameError\u001b[0m                                 Traceback (most recent call last)",
      "\u001b[0;32m<ipython-input-1522-a3a17fd1f0d3>\u001b[0m in \u001b[0;36m<module>\u001b[0;34m\u001b[0m\n\u001b[1;32m      1\u001b[0m \u001b[0mplt\u001b[0m\u001b[0;34m.\u001b[0m\u001b[0mtitle\u001b[0m\u001b[0;34m(\u001b[0m\u001b[0;34m\"Degree distribution\"\u001b[0m\u001b[0;34m)\u001b[0m\u001b[0;34m\u001b[0m\u001b[0;34m\u001b[0m\u001b[0m\n\u001b[1;32m      2\u001b[0m \u001b[0mdegrees\u001b[0m \u001b[0;34m=\u001b[0m \u001b[0;34m[\u001b[0m\u001b[0md\u001b[0m \u001b[0;32mfor\u001b[0m \u001b[0;34m(\u001b[0m\u001b[0mi\u001b[0m\u001b[0;34m,\u001b[0m\u001b[0md\u001b[0m\u001b[0;34m)\u001b[0m \u001b[0;32min\u001b[0m \u001b[0mgraph\u001b[0m\u001b[0;34m.\u001b[0m\u001b[0mdegree\u001b[0m\u001b[0;34m(\u001b[0m\u001b[0;34m)\u001b[0m\u001b[0;34m]\u001b[0m\u001b[0;34m\u001b[0m\u001b[0;34m\u001b[0m\u001b[0m\n\u001b[0;32m----> 3\u001b[0;31m \u001b[0mplt\u001b[0m\u001b[0;34m.\u001b[0m\u001b[0mhist\u001b[0m\u001b[0;34m(\u001b[0m\u001b[0mer_degrees\u001b[0m\u001b[0;34m,\u001b[0m\u001b[0mbins\u001b[0m \u001b[0;34m=\u001b[0m \u001b[0;36m50\u001b[0m\u001b[0;34m)\u001b[0m\u001b[0;34m;\u001b[0m\u001b[0;34m\u001b[0m\u001b[0;34m\u001b[0m\u001b[0m\n\u001b[0m\u001b[1;32m      4\u001b[0m \u001b[0mplt\u001b[0m\u001b[0;34m.\u001b[0m\u001b[0mxlabel\u001b[0m\u001b[0;34m(\u001b[0m\u001b[0;34m'degree'\u001b[0m\u001b[0;34m)\u001b[0m\u001b[0;34m\u001b[0m\u001b[0;34m\u001b[0m\u001b[0m\n\u001b[1;32m      5\u001b[0m \u001b[0mplt\u001b[0m\u001b[0;34m.\u001b[0m\u001b[0mylabel\u001b[0m\u001b[0;34m(\u001b[0m\u001b[0;34m'count'\u001b[0m\u001b[0;34m)\u001b[0m\u001b[0;34m\u001b[0m\u001b[0;34m\u001b[0m\u001b[0m\n",
      "\u001b[0;31mNameError\u001b[0m: name 'er_degrees' is not defined"
     ]
    },
    {
     "data": {
      "image/png": "[encoded data removed]",
      "text/plain": [
       "<Figure size 432x288 with 1 Axes>"
      ]
     },
     "metadata": {
      "needs_background": "light"
     },
     "output_type": "display_data"
    }
   ],
   "source": [
    "plt.title(\"Degree distribution\")\n",
    "degrees = [d for (i,d) in graph.degree()]\n",
    "plt.hist(er_degrees,bins = 50);\n",
    "plt.xlabel('degree')\n",
    "plt.ylabel('count')\n",
    "plt.show()"
   ]
  },
  {
   "cell_type": "markdown",
   "metadata": {},
   "source": [
    "The distribution of the degree follows a power law, hence the garph corresponds to a scale free network."
   ]
  },
  {
   "cell_type": "code",
   "execution_count": 1520,
   "metadata": {},
   "outputs": [
    {
     "data": {
      "image/png": "[encoded data removed]",
      "text/plain": [
       "<Figure size 432x288 with 1 Axes>"
      ]
     },
     "metadata": {
      "needs_background": "light"
     },
     "output_type": "display_data"
    }
   ],
   "source": [
    "#observe articles with highest degree\n",
    "\n",
    "list_degree = list(graph.degree)\n",
    "degree_religion = []\n",
    "degree_science = []\n",
    "data= []\n",
    "\n",
    "for node in list_degree:\n",
    "    if(node[0]<=751):\n",
    "        category = \"religion\"\n",
    "        degree_religion.append(node[1])\n",
    "    else:\n",
    "        category = \"science\"\n",
    "        degree_science.append(node[1])\n",
    "    article_name = features.index[node[0]]\n",
    "    degree = node[1]\n",
    "    \n",
    "    data.append([article_name,category,degree])\n",
    "    \n",
    "df = pd.DataFrame(data, columns = ['Article Name', 'Category','Degree'])\n",
    "\n",
    "plt.title(\"Degree distribution by category\")\n",
    "plt.hist(degree_religion, bins = 50 , alpha=0.5, label='religion')\n",
    "plt.hist(degree_science, bins = 50, alpha=0.5, label='science')\n",
    "plt.xlabel('degree')\n",
    "plt.ylabel('count')\n",
    "plt.legend(loc='upper right')\n",
    "plt.show()"
   ]
  },
  {
   "cell_type": "markdown",
   "metadata": {},
   "source": [
    "2/ Articles with highest and lowest degrees"
   ]
  },
  {
   "cell_type": "code",
   "execution_count": 1521,
   "metadata": {},
   "outputs": [
    {
     "data": {
      "text/html": [
       "<div>\n",
       "<style scoped>\n",
       "    .dataframe tbody tr th:only-of-type {\n",
       "        vertical-align: middle;\n",
       "    }\n",
       "\n",
       "    .dataframe tbody tr th {\n",
       "        vertical-align: top;\n",
       "    }\n",
       "\n",
       "    .dataframe thead th {\n",
       "        text-align: right;\n",
       "    }\n",
       "</style>\n",
       "<table border=\"1\" class=\"dataframe\">\n",
       "  <thead>\n",
       "    <tr style=\"text-align: right;\">\n",
       "      <th></th>\n",
       "      <th>Article Name</th>\n",
       "      <th>Category</th>\n",
       "      <th>Degree</th>\n",
       "    </tr>\n",
       "  </thead>\n",
       "  <tbody>\n",
       "    <tr>\n",
       "      <td>1139</td>\n",
       "      <td>Logology (science)</td>\n",
       "      <td>science</td>\n",
       "      <td>140</td>\n",
       "    </tr>\n",
       "    <tr>\n",
       "      <td>145</td>\n",
       "      <td>Criticism of religion</td>\n",
       "      <td>religion</td>\n",
       "      <td>135</td>\n",
       "    </tr>\n",
       "    <tr>\n",
       "      <td>1324</td>\n",
       "      <td>Antiscience</td>\n",
       "      <td>science</td>\n",
       "      <td>133</td>\n",
       "    </tr>\n",
       "    <tr>\n",
       "      <td>1237</td>\n",
       "      <td>Little Science, Big Science</td>\n",
       "      <td>science</td>\n",
       "      <td>131</td>\n",
       "    </tr>\n",
       "    <tr>\n",
       "      <td>739</td>\n",
       "      <td>Science</td>\n",
       "      <td>religion</td>\n",
       "      <td>131</td>\n",
       "    </tr>\n",
       "    <tr>\n",
       "      <td>926</td>\n",
       "      <td>Fringe science</td>\n",
       "      <td>science</td>\n",
       "      <td>130</td>\n",
       "    </tr>\n",
       "    <tr>\n",
       "      <td>311</td>\n",
       "      <td>Spiritual but not religious</td>\n",
       "      <td>religion</td>\n",
       "      <td>128</td>\n",
       "    </tr>\n",
       "    <tr>\n",
       "      <td>1308</td>\n",
       "      <td>Women in science</td>\n",
       "      <td>science</td>\n",
       "      <td>127</td>\n",
       "    </tr>\n",
       "    <tr>\n",
       "      <td>372</td>\n",
       "      <td>Religious pluralism</td>\n",
       "      <td>religion</td>\n",
       "      <td>125</td>\n",
       "    </tr>\n",
       "    <tr>\n",
       "      <td>1423</td>\n",
       "      <td>Scientometrics</td>\n",
       "      <td>science</td>\n",
       "      <td>124</td>\n",
       "    </tr>\n",
       "    <tr>\n",
       "      <td>984</td>\n",
       "      <td>Scientist</td>\n",
       "      <td>science</td>\n",
       "      <td>120</td>\n",
       "    </tr>\n",
       "    <tr>\n",
       "      <td>302</td>\n",
       "      <td>Irreligion</td>\n",
       "      <td>religion</td>\n",
       "      <td>120</td>\n",
       "    </tr>\n",
       "  </tbody>\n",
       "</table>\n",
       "</div>"
      ],
      "text/plain": [
       "                     Article Name  Category  Degree\n",
       "1139           Logology (science)   science     140\n",
       "145         Criticism of religion  religion     135\n",
       "1324                  Antiscience   science     133\n",
       "1237  Little Science, Big Science   science     131\n",
       "739                       Science  religion     131\n",
       "926                Fringe science   science     130\n",
       "311   Spiritual but not religious  religion     128\n",
       "1308             Women in science   science     127\n",
       "372           Religious pluralism  religion     125\n",
       "1423               Scientometrics   science     124\n",
       "984                     Scientist   science     120\n",
       "302                    Irreligion  religion     120"
      ]
     },
     "execution_count": 1521,
     "metadata": {},
     "output_type": "execute_result"
    }
   ],
   "source": [
    "#articles with highest degree\n",
    "df.sort_values(by=['Degree'],ascending=False)[:12]"
   ]
  },
  {
   "cell_type": "markdown",
   "metadata": {},
   "source": [
    "## Exploring possible clustering in the graph"
   ]
  },
  {
   "cell_type": "code",
   "execution_count": 1247,
   "metadata": {},
   "outputs": [],
   "source": [
    "matrixu = MatrixUtils()"
   ]
  },
  {
   "cell_type": "code",
   "execution_count": 1475,
   "metadata": {},
   "outputs": [],
   "source": [
    "nodes_df = pd.DataFrame(range(len(adjacency)), columns = [\"X\"])\n",
    "nodes_df[\"Y\"] = np.zeros((len(adjacency)))"
   ]
  },
  {
   "cell_type": "code",
   "execution_count": 1476,
   "metadata": {},
   "outputs": [],
   "source": [
    "epsilon_df = pd.DataFrame(np.argwhere(adjacency != 0), columns = [\"X\",\"Y\"] ).drop_duplicates(subset = \"X\")\n",
    "epsilon_wo = epsilon_df.merge(nodes_df, on = [\"X\"], how= \"right\")"
   ]
  },
  {
   "cell_type": "markdown",
   "metadata": {},
   "source": [
    "### Removing the nodes that are not connected"
   ]
  },
  {
   "cell_type": "code",
   "execution_count": 1477,
   "metadata": {},
   "outputs": [
    {
     "data": {
      "text/html": [
       "<div>\n",
       "<style scoped>\n",
       "    .dataframe tbody tr th:only-of-type {\n",
       "        vertical-align: middle;\n",
       "    }\n",
       "\n",
       "    .dataframe tbody tr th {\n",
       "        vertical-align: top;\n",
       "    }\n",
       "\n",
       "    .dataframe thead th {\n",
       "        text-align: right;\n",
       "    }\n",
       "</style>\n",
       "<table border=\"1\" class=\"dataframe\">\n",
       "  <thead>\n",
       "    <tr style=\"text-align: right;\">\n",
       "      <th></th>\n",
       "      <th>article</th>\n",
       "      <th>words</th>\n",
       "      <th>label</th>\n",
       "      <th>words_string</th>\n",
       "    </tr>\n",
       "  </thead>\n",
       "  <tbody>\n",
       "    <tr>\n",
       "      <td>134</td>\n",
       "      <td>Buber-Rosenzweig-Medal</td>\n",
       "      <td>[annual, prize, awarded, since, deutscher, koo...</td>\n",
       "      <td>0</td>\n",
       "      <td>annual prize awarded since deutscher koordinie...</td>\n",
       "    </tr>\n",
       "    <tr>\n",
       "      <td>194</td>\n",
       "      <td>Bar Ilan Responsa Project</td>\n",
       "      <td>[bar, ilan, responsa, project, global, jewish,...</td>\n",
       "      <td>0</td>\n",
       "      <td>bar ilan responsa project global jewish databa...</td>\n",
       "    </tr>\n",
       "    <tr>\n",
       "      <td>391</td>\n",
       "      <td>Niraj Jain</td>\n",
       "      <td>[pandit, niraj, jain, october, march, scholar,...</td>\n",
       "      <td>0</td>\n",
       "      <td>pandit niraj jain october march scholar jainis...</td>\n",
       "    </tr>\n",
       "    <tr>\n",
       "      <td>536</td>\n",
       "      <td>Hierotopy</td>\n",
       "      <td>[hierotopy, ancient, greek, ἱερός, sacred, anc...</td>\n",
       "      <td>0</td>\n",
       "      <td>hierotopy ancient greek ἱερός sacred ancient g...</td>\n",
       "    </tr>\n",
       "    <tr>\n",
       "      <td>685</td>\n",
       "      <td>Prorrhesis</td>\n",
       "      <td>[part, eleusinian, mysteries, prorrhesis, offi...</td>\n",
       "      <td>0</td>\n",
       "      <td>part eleusinian mysteries prorrhesis official ...</td>\n",
       "    </tr>\n",
       "    <tr>\n",
       "      <td>721</td>\n",
       "      <td>Spiritual literature</td>\n",
       "      <td>[spiritual, literature, genre, literature, usu...</td>\n",
       "      <td>0</td>\n",
       "      <td>spiritual literature genre literature usually ...</td>\n",
       "    </tr>\n",
       "    <tr>\n",
       "      <td>732</td>\n",
       "      <td>Transfiguration (religion)</td>\n",
       "      <td>[religious, context, transfiguration, latin, t...</td>\n",
       "      <td>0</td>\n",
       "      <td>religious context transfiguration latin transf...</td>\n",
       "    </tr>\n",
       "    <tr>\n",
       "      <td>804</td>\n",
       "      <td>Endophysics</td>\n",
       "      <td>[endophysics, literally, means, physics, withi...</td>\n",
       "      <td>1</td>\n",
       "      <td>endophysics literally means physics within stu...</td>\n",
       "    </tr>\n",
       "    <tr>\n",
       "      <td>915</td>\n",
       "      <td>Nature center</td>\n",
       "      <td>[nature, center, nature, centre, organization,...</td>\n",
       "      <td>1</td>\n",
       "      <td>nature center nature centre organization visit...</td>\n",
       "    </tr>\n",
       "    <tr>\n",
       "      <td>1144</td>\n",
       "      <td>Science attaché</td>\n",
       "      <td>[diplomacy, attaché, person, assigned, attache...</td>\n",
       "      <td>1</td>\n",
       "      <td>diplomacy attaché person assigned attached dip...</td>\n",
       "    </tr>\n",
       "    <tr>\n",
       "      <td>1363</td>\n",
       "      <td>Beta (velocity)</td>\n",
       "      <td>[special, relativity, velocity, object, relati...</td>\n",
       "      <td>1</td>\n",
       "      <td>special relativity velocity object relative sp...</td>\n",
       "    </tr>\n",
       "    <tr>\n",
       "      <td>1384</td>\n",
       "      <td>Legends of the Lost with Megan Fox</td>\n",
       "      <td>[legends, lost, megan, fox, american, starring...</td>\n",
       "      <td>1</td>\n",
       "      <td>legends lost megan fox american starring megan...</td>\n",
       "    </tr>\n",
       "    <tr>\n",
       "      <td>1446</td>\n",
       "      <td>Creative Commons</td>\n",
       "      <td>[creative, commons, cc, american, organization...</td>\n",
       "      <td>1</td>\n",
       "      <td>creative commons cc american organization devo...</td>\n",
       "    </tr>\n",
       "    <tr>\n",
       "      <td>1453</td>\n",
       "      <td>Botanical expedition</td>\n",
       "      <td>[botanical, expedition, scientific, journey, v...</td>\n",
       "      <td>1</td>\n",
       "      <td>botanical expedition scientific journey voyage...</td>\n",
       "    </tr>\n",
       "  </tbody>\n",
       "</table>\n",
       "</div>"
      ],
      "text/plain": [
       "                                 article  \\\n",
       "134               Buber-Rosenzweig-Medal   \n",
       "194            Bar Ilan Responsa Project   \n",
       "391                           Niraj Jain   \n",
       "536                            Hierotopy   \n",
       "685                           Prorrhesis   \n",
       "721                 Spiritual literature   \n",
       "732           Transfiguration (religion)   \n",
       "804                          Endophysics   \n",
       "915                        Nature center   \n",
       "1144                     Science attaché   \n",
       "1363                     Beta (velocity)   \n",
       "1384  Legends of the Lost with Megan Fox   \n",
       "1446                    Creative Commons   \n",
       "1453                Botanical expedition   \n",
       "\n",
       "                                                  words  label  \\\n",
       "134   [annual, prize, awarded, since, deutscher, koo...      0   \n",
       "194   [bar, ilan, responsa, project, global, jewish,...      0   \n",
       "391   [pandit, niraj, jain, october, march, scholar,...      0   \n",
       "536   [hierotopy, ancient, greek, ἱερός, sacred, anc...      0   \n",
       "685   [part, eleusinian, mysteries, prorrhesis, offi...      0   \n",
       "721   [spiritual, literature, genre, literature, usu...      0   \n",
       "732   [religious, context, transfiguration, latin, t...      0   \n",
       "804   [endophysics, literally, means, physics, withi...      1   \n",
       "915   [nature, center, nature, centre, organization,...      1   \n",
       "1144  [diplomacy, attaché, person, assigned, attache...      1   \n",
       "1363  [special, relativity, velocity, object, relati...      1   \n",
       "1384  [legends, lost, megan, fox, american, starring...      1   \n",
       "1446  [creative, commons, cc, american, organization...      1   \n",
       "1453  [botanical, expedition, scientific, journey, v...      1   \n",
       "\n",
       "                                           words_string  \n",
       "134   annual prize awarded since deutscher koordinie...  \n",
       "194   bar ilan responsa project global jewish databa...  \n",
       "391   pandit niraj jain october march scholar jainis...  \n",
       "536   hierotopy ancient greek ἱερός sacred ancient g...  \n",
       "685   part eleusinian mysteries prorrhesis official ...  \n",
       "721   spiritual literature genre literature usually ...  \n",
       "732   religious context transfiguration latin transf...  \n",
       "804   endophysics literally means physics within stu...  \n",
       "915   nature center nature centre organization visit...  \n",
       "1144  diplomacy attaché person assigned attached dip...  \n",
       "1363  special relativity velocity object relative sp...  \n",
       "1384  legends lost megan fox american starring megan...  \n",
       "1446  creative commons cc american organization devo...  \n",
       "1453  botanical expedition scientific journey voyage...  "
      ]
     },
     "execution_count": 1477,
     "metadata": {},
     "output_type": "execute_result"
    }
   ],
   "source": [
    "removed_df = words_df_reduced[words_df_reduced[\"article\"].isin(tf_idf.iloc[epsilon_wo[pd.isna(epsilon_wo[\"Y_x\"]) == True][\"X\"]].index)]\n",
    "removed_df"
   ]
  },
  {
   "cell_type": "code",
   "execution_count": 1478,
   "metadata": {},
   "outputs": [
    {
     "name": "stdout",
     "output_type": "stream",
     "text": [
      "The mean number of words of the removed articles are 297.7857142857143\n"
     ]
    }
   ],
   "source": [
    "mean_nb_words_removed = len(removed_df[\"words\"].explode())/len(removed_df)\n",
    "print(\"The mean number of words of the removed articles are \" + str(mean_nb_words_removed))"
   ]
  },
  {
   "cell_type": "code",
   "execution_count": 1479,
   "metadata": {},
   "outputs": [
    {
     "name": "stdout",
     "output_type": "stream",
     "text": [
      "The mean number of views of these articles are 5518.461538461538 per month\n"
     ]
    }
   ],
   "source": [
    "views_df_removed = views_df.merge(removed_df, on = \"article\")\n",
    "mean_nb_views_removed = views_df_removed[\"views\"].sum()/len(views_df_removed)\n",
    "print(\"The mean number of views of these articles are \" + str(mean_nb_views_removed) + \" per month\")"
   ]
  },
  {
   "cell_type": "code",
   "execution_count": 1480,
   "metadata": {},
   "outputs": [
    {
     "name": "stdout",
     "output_type": "stream",
     "text": [
      "The mean number of words of the articles are 828.5795531482735\n"
     ]
    }
   ],
   "source": [
    "mean_nb_words = len(words_df_reduced[\"words\"].explode())/len(words_df_reduced)\n",
    "print(\"The mean number of words of the articles are \" + str(mean_nb_words))"
   ]
  },
  {
   "cell_type": "code",
   "execution_count": 1481,
   "metadata": {},
   "outputs": [
    {
     "name": "stdout",
     "output_type": "stream",
     "text": [
      "The mean number of views of the articles are 6581.863031914893 per month\n"
     ]
    }
   ],
   "source": [
    "mean_nb_views = views_df[\"views\"].sum()/len(views_df)\n",
    "print(\"The mean number of views of the articles are \" + str(mean_nb_views) + \" per month\")"
   ]
  },
  {
   "cell_type": "markdown",
   "metadata": {},
   "source": [
    "The removed articles belong to the religon and science articles with approximatively the same proportion, excluding a possible bias that could happen when removing articles. Furthermore, these articles are mostly short articles. We can claim that these articles are stub and need more expansion and devolepment. The mean number of views for the removed articles are way less than for the total articles, adding to the supposition that htese articles are stubs. "
   ]
  },
  {
   "cell_type": "code",
   "execution_count": 1482,
   "metadata": {},
   "outputs": [],
   "source": [
    "distances_wo = np.delete(distances, epsilon_wo[pd.isna(epsilon_wo[\"Y_x\"]) == True][\"X\"], 0)\n",
    "distances_wo = np.delete(distances_wo, epsilon_wo[pd.isna(epsilon_wo[\"Y_x\"]) == True][\"X\"], 1)\n",
    "tf_idf_wo = tf_idf.drop(tf_idf.iloc[epsilon_wo[pd.isna(epsilon_wo[\"Y_x\"]) == True][\"X\"]].index.values)\n",
    "labels_df_wo = labels_df.drop(labels_df.index[epsilon_wo[pd.isna(epsilon_wo[\"Y_x\"]) == True][\"X\"]]).reset_index()"
   ]
  },
  {
   "cell_type": "code",
   "execution_count": 1523,
   "metadata": {},
   "outputs": [
    {
     "data": {
      "image/png": "[encoded data removed]",
      "text/plain": [
       "<Figure size 432x288 with 1 Axes>"
      ]
     },
     "metadata": {
      "needs_background": "light"
     },
     "output_type": "display_data"
    }
   ],
   "source": [
    "adjacency_wo = article_sim_th(0.59,distances_wo, weight=True)\n",
    "\n",
    "plt.spy(adjacency_wo)\n",
    "plt.show()"
   ]
  },
  {
   "cell_type": "markdown",
   "metadata": {},
   "source": [
    "## Visualizing the graph obtained"
   ]
  },
  {
   "cell_type": "code",
   "execution_count": null,
   "metadata": {},
   "outputs": [],
   "source": [
    "visu = VisUtils()"
   ]
  },
  {
   "cell_type": "markdown",
   "metadata": {},
   "source": [
    "#### Laplacian Eigenmaps"
   ]
  },
  {
   "cell_type": "code",
   "execution_count": 1524,
   "metadata": {},
   "outputs": [
    {
     "data": {
      "text/plain": [
       "Text(0.5, 1.0, 'Graph of Wikipedia Science and Religion articles (done using Laplacian Eigenmaps)')"
      ]
     },
     "execution_count": 1524,
     "metadata": {},
     "output_type": "execute_result"
    },
    {
     "data": {
      "image/png": "[encoded data removed]",
      "text/plain": [
       "<Figure size 432x288 with 1 Axes>"
      ]
     },
     "metadata": {
      "needs_background": "light"
     },
     "output_type": "display_data"
    }
   ],
   "source": [
    "laplacian = matrixu.compute_laplacian(adjacency_wo, normalize=True)\n",
    "eigenvalues, eigenvectors = matrixu.spectral_decomposition(np.nan_to_num(laplacian)) \n",
    "twoD_embeddings = (eigenvectors[:,1:3])\n",
    "plt.scatter(twoD_embeddings[labels_df_wo[labels_df_wo[\"label\"] == 0].index,0], twoD_embeddings[labels_df_wo[labels_df_wo[\"label\"] == 0].index,1], label=1)\n",
    "plt.scatter(twoD_embeddings[labels_df_wo[labels_df_wo[\"label\"] == 1].index,0], twoD_embeddings[labels_df_wo[labels_df_wo[\"label\"] == 1].index,1], label=2)\n",
    "plt.title('Graph of Wikipedia Science and Religion articles (done using Laplacian Eigenmaps)')"
   ]
  },
  {
   "cell_type": "markdown",
   "metadata": {},
   "source": [
    "### t-sne"
   ]
  },
  {
   "cell_type": "code",
   "execution_count": 1527,
   "metadata": {},
   "outputs": [],
   "source": [
    "from sklearn.manifold import TSNE\n",
    "tsne = TSNE(n_components = 2)\n",
    "x_embed = tsne.fit_transform(distances_wo)"
   ]
  },
  {
   "cell_type": "code",
   "execution_count": 1528,
   "metadata": {},
   "outputs": [
    {
     "data": {
      "text/plain": [
       "Text(0.5, 1.0, 'Graph of Wikipedia Science and Religion articles (done using tSN-E)')"
      ]
     },
     "execution_count": 1528,
     "metadata": {},
     "output_type": "execute_result"
    },
    {
     "data": {
      "image/png": "[encoded data removed]",
      "text/plain": [
       "<Figure size 432x288 with 1 Axes>"
      ]
     },
     "metadata": {
      "needs_background": "light"
     },
     "output_type": "display_data"
    }
   ],
   "source": [
    "plt.scatter(x_embed[labels_df_wo[labels_df_wo[\"label\"] == 0].index,0], x_embed[labels_df_wo[labels_df_wo[\"label\"] == 0].index,1], label=1)\n",
    "plt.scatter(x_embed[labels_df_wo[labels_df_wo[\"label\"] == 1].index,0], x_embed[labels_df_wo[labels_df_wo[\"label\"] == 1].index,1], label=2)\n",
    "plt.title('Graph of Wikipedia Science and Religion articles (done using tSN-E)')"
   ]
  },
  {
   "cell_type": "markdown",
   "metadata": {},
   "source": [
    "# III. Machine Learning"
   ]
  },
  {
   "cell_type": "markdown",
   "metadata": {},
   "source": [
    "## Heuristic Eigengaps"
   ]
  },
  {
   "cell_type": "code",
   "execution_count": 1529,
   "metadata": {},
   "outputs": [],
   "source": [
    "laplacian = matrixu.compute_laplacian(adjacency_wo, normalize = True)\n",
    "eigenvalues, eigenvectors = matrixu.spectral_decomposition(laplacian)"
   ]
  },
  {
   "cell_type": "code",
   "execution_count": 1530,
   "metadata": {},
   "outputs": [
    {
     "data": {
      "text/plain": [
       "Text(0.5, 1.0, 'Eigenvalues $L_{comb}$')"
      ]
     },
     "execution_count": 1530,
     "metadata": {},
     "output_type": "execute_result"
    },
    {
     "data": {
      "image/png": "[encoded data removed]",
      "text/plain": [
       "<Figure size 864x360 with 1 Axes>"
      ]
     },
     "metadata": {
      "needs_background": "light"
     },
     "output_type": "display_data"
    }
   ],
   "source": [
    "plt.figure(figsize=(12,5))\n",
    "plt.plot(eigenvalues[0:20])\n",
    "plt.xlabel('Index')\n",
    "plt.ylabel('Eigenvalue')\n",
    "plt.title('Eigenvalues $L_{comb}$')"
   ]
  },
  {
   "cell_type": "markdown",
   "metadata": {},
   "source": [
    "The heuristic eigengaps state that the number of clusters need to be equal to the index of eigenvalues with the largest difference between themselves. However, here there is no clear cut except maybe for the index 2 that have a large eigengap."
   ]
  },
  {
   "cell_type": "markdown",
   "metadata": {},
   "source": [
    "## Unsupervised learning"
   ]
  },
  {
   "cell_type": "code",
   "execution_count": 1539,
   "metadata": {},
   "outputs": [],
   "source": [
    "class SpectralClustering():\n",
    "    def __init__(self, n_classes: int, normalize: bool):\n",
    "        self.n_classes = n_classes\n",
    "        self.normalize = normalize\n",
    "        self.laplacian = None\n",
    "        self.e = None\n",
    "        self.U = None\n",
    "        self.clustering_method =  None\n",
    "        \n",
    "    def fit_predict(self, adjacency):\n",
    "        \"\"\" Your code should be correct both for the combinatorial\n",
    "            and the symmetric normalized spectral clustering.\n",
    "            Return:\n",
    "            y_pred (np.ndarray): cluster assignments.\n",
    "        \"\"\"\n",
    "        laplacian = matrixu.compute_laplacian(adjacency, self.normalize)\n",
    "        lamb, U = matrixu.spectral_decomposition(laplacian)\n",
    "        Y = U[:,0:self.n_classes].real\n",
    "        kmeans = KMeans(n_clusters = self.n_classes).fit(Y)\n",
    "        y_pred =  kmeans.predict(Y)\n",
    "        centers = kmeans.cluster_centers_\n",
    "        return y_pred, centers"
   ]
  },
  {
   "cell_type": "markdown",
   "metadata": {},
   "source": [
    "### The clusters"
   ]
  },
  {
   "cell_type": "code",
   "execution_count": 1540,
   "metadata": {},
   "outputs": [],
   "source": [
    "def make_clusters(adjacency, nb_clusters) : \n",
    "    spectral_clustering = SpectralClustering(n_classes=nb_clusters, normalize=True)\n",
    "    y_pred, centers = spectral_clustering.fit_predict(adjacency)\n",
    "    y_pred = pd.DataFrame(y_pred, columns = [\"label\"])\n",
    "    laplacian = matrixu.compute_laplacian(adjacency, True)\n",
    "    lamb, U = matrixu.spectral_decomposition(laplacian)\n",
    "    Y = U[:,0:nb_clusters].real\n",
    "    clusters_df = pd.DataFrame([tf_idf_wo.columns.values[np.argsort(-(Y @ centers.T).T@tf_idf_wo.values, 1)[i][:10]] for i in range(nb_clusters)]).T\n",
    "    clusters_df.index = [3, 4, 5, 6, 7, 8, 9, 10, 11, 12]\n",
    "    clusters_df.loc[0] = tf_idf_wo.index[np.argmax(Y @ centers.T, 0)]\n",
    "    clusters_df.loc[1] = [words_df_reduced.explode(\"words\").groupby([\"article\"]).count().iloc[y_pred[y_pred[\"label\"] == i].index].sort_values(by = [\"words\"], ascending = False).index[0] for i in range(nb_clusters)]\n",
    "    clusters_df.loc[2] = [views_df.merge(words_df_reduced.iloc[y_pred[y_pred[\"label\"] == i].index], on = \"article\").sort_values(by = [\"views\"], ascending = False).iloc[0][\"article\"] for i in range(nb_clusters)]\n",
    "    clusters_df.loc[13] = [len(y_pred[y_pred[\"label\"] == i]) for i in range(nb_clusters)]\n",
    "    clusters_df.loc[14] = [100 - (labels_df_wo.iloc[y_pred[y_pred[\"label\"] == i].index].sum().values[-1:]*100 / len(y_pred[y_pred[\"label\"] == i])) for i in range(nb_clusters)]\n",
    "    clusters_df.loc[15] = [labels_df_wo.iloc[y_pred[y_pred[\"label\"] == i].index].sum().values[-1:]*100 / len(y_pred[y_pred[\"label\"] == i]) for i in range(nb_clusters)]\n",
    "    clusters_df.sort_index(inplace=True)\n",
    "    clusters_df.index = [\"Most relevant article\", \"Longest article\", \"Most viewed article\", \"1\", \"2\", \"3\", \"4\", \"5\", \"6\", \"7\", \"8\", \"9\", \"10\", \"Number of articles\",\"Percentage of religion article\", \"Percentage of science articles\"]\n",
    "    return clusters_df, y_pred"
   ]
  },
  {
   "cell_type": "code",
   "execution_count": 1541,
   "metadata": {},
   "outputs": [
    {
     "data": {
      "text/html": [
       "<div>\n",
       "<style scoped>\n",
       "    .dataframe tbody tr th:only-of-type {\n",
       "        vertical-align: middle;\n",
       "    }\n",
       "\n",
       "    .dataframe tbody tr th {\n",
       "        vertical-align: top;\n",
       "    }\n",
       "\n",
       "    .dataframe thead th {\n",
       "        text-align: right;\n",
       "    }\n",
       "</style>\n",
       "<table border=\"1\" class=\"dataframe\">\n",
       "  <thead>\n",
       "    <tr style=\"text-align: right;\">\n",
       "      <th></th>\n",
       "      <th>0</th>\n",
       "      <th>1</th>\n",
       "    </tr>\n",
       "  </thead>\n",
       "  <tbody>\n",
       "    <tr>\n",
       "      <td>Most relevant article</td>\n",
       "      <td>Criticism of religion</td>\n",
       "      <td>Science</td>\n",
       "    </tr>\n",
       "    <tr>\n",
       "      <td>Longest article</td>\n",
       "      <td>Criticism of Islam</td>\n",
       "      <td>Well-being contributing factors</td>\n",
       "    </tr>\n",
       "    <tr>\n",
       "      <td>Most viewed article</td>\n",
       "      <td>List of religious populations</td>\n",
       "      <td>Myers–Briggs Type Indicator</td>\n",
       "    </tr>\n",
       "    <tr>\n",
       "      <td>1</td>\n",
       "      <td>religion</td>\n",
       "      <td>science</td>\n",
       "    </tr>\n",
       "    <tr>\n",
       "      <td>2</td>\n",
       "      <td>religious</td>\n",
       "      <td>scientific</td>\n",
       "    </tr>\n",
       "    <tr>\n",
       "      <td>3</td>\n",
       "      <td>god</td>\n",
       "      <td>research</td>\n",
       "    </tr>\n",
       "    <tr>\n",
       "      <td>4</td>\n",
       "      <td>church</td>\n",
       "      <td>technology</td>\n",
       "    </tr>\n",
       "    <tr>\n",
       "      <td>5</td>\n",
       "      <td>religions</td>\n",
       "      <td>also</td>\n",
       "    </tr>\n",
       "    <tr>\n",
       "      <td>6</td>\n",
       "      <td>christian</td>\n",
       "      <td>university</td>\n",
       "    </tr>\n",
       "    <tr>\n",
       "      <td>7</td>\n",
       "      <td>one</td>\n",
       "      <td>religion</td>\n",
       "    </tr>\n",
       "    <tr>\n",
       "      <td>8</td>\n",
       "      <td>also</td>\n",
       "      <td>religious</td>\n",
       "    </tr>\n",
       "    <tr>\n",
       "      <td>9</td>\n",
       "      <td>world</td>\n",
       "      <td>new</td>\n",
       "    </tr>\n",
       "    <tr>\n",
       "      <td>10</td>\n",
       "      <td>faith</td>\n",
       "      <td>book</td>\n",
       "    </tr>\n",
       "    <tr>\n",
       "      <td>Number of articles</td>\n",
       "      <td>455</td>\n",
       "      <td>1008</td>\n",
       "    </tr>\n",
       "    <tr>\n",
       "      <td>Percentage of religion article</td>\n",
       "      <td>[98.02197802197801]</td>\n",
       "      <td>[28.373015873015873]</td>\n",
       "    </tr>\n",
       "    <tr>\n",
       "      <td>Percentage of science articles</td>\n",
       "      <td>[1.978021978021978]</td>\n",
       "      <td>[71.62698412698413]</td>\n",
       "    </tr>\n",
       "  </tbody>\n",
       "</table>\n",
       "</div>"
      ],
      "text/plain": [
       "                                                            0  \\\n",
       "Most relevant article                   Criticism of religion   \n",
       "Longest article                            Criticism of Islam   \n",
       "Most viewed article             List of religious populations   \n",
       "1                                                    religion   \n",
       "2                                                   religious   \n",
       "3                                                         god   \n",
       "4                                                      church   \n",
       "5                                                   religions   \n",
       "6                                                   christian   \n",
       "7                                                         one   \n",
       "8                                                        also   \n",
       "9                                                       world   \n",
       "10                                                      faith   \n",
       "Number of articles                                        455   \n",
       "Percentage of religion article            [98.02197802197801]   \n",
       "Percentage of science articles            [1.978021978021978]   \n",
       "\n",
       "                                                              1  \n",
       "Most relevant article                                   Science  \n",
       "Longest article                 Well-being contributing factors  \n",
       "Most viewed article                 Myers–Briggs Type Indicator  \n",
       "1                                                       science  \n",
       "2                                                    scientific  \n",
       "3                                                      research  \n",
       "4                                                    technology  \n",
       "5                                                          also  \n",
       "6                                                    university  \n",
       "7                                                      religion  \n",
       "8                                                     religious  \n",
       "9                                                           new  \n",
       "10                                                         book  \n",
       "Number of articles                                         1008  \n",
       "Percentage of religion article             [28.373015873015873]  \n",
       "Percentage of science articles              [71.62698412698413]  "
      ]
     },
     "execution_count": 1541,
     "metadata": {},
     "output_type": "execute_result"
    }
   ],
   "source": [
    "clusters_df, y_pred = make_clusters(adjacency_wo, 2)\n",
    "clusters_df"
   ]
  },
  {
   "cell_type": "markdown",
   "metadata": {},
   "source": [
    "# Supervised Learning"
   ]
  },
  {
   "cell_type": "code",
   "execution_count": 1534,
   "metadata": {},
   "outputs": [
    {
     "data": {
      "text/plain": [
       "<torch._C.Generator at 0x12164f890>"
      ]
     },
     "execution_count": 1534,
     "metadata": {},
     "output_type": "execute_result"
    }
   ],
   "source": [
    "import time\n",
    "\n",
    "import torch\n",
    "import torch.nn as nn\n",
    "import torch.nn.functional as F\n",
    "\n",
    "from dgl import DGLGraph\n",
    "import dgl.function as fn\n",
    "\n",
    "np.random.seed(0)\n",
    "torch.manual_seed(1)"
   ]
  },
  {
   "cell_type": "code",
   "execution_count": 1535,
   "metadata": {},
   "outputs": [],
   "source": [
    "class LaplacianPolynomial(nn.Module):\n",
    "    def __init__(self,\n",
    "                 in_feats: int,\n",
    "                 out_feats: int,\n",
    "                 k: int,\n",
    "                 dropout_prob: float,\n",
    "                 norm=True):\n",
    "        super().__init__()\n",
    "        self._in_feats = in_feats\n",
    "        self._out_feats = out_feats\n",
    "        self._k = k\n",
    "        self._norm = norm\n",
    "        # Contains the weights learned by the Laplacian polynomial\n",
    "        self.pol_weights = nn.Parameter(torch.Tensor(self._k + 1))\n",
    "        # Contains the weights learned by the logistic regression (without bias)\n",
    "        self.logr_weights = nn.Parameter(torch.Tensor(in_feats, out_feats))\n",
    "        self.dropout = nn.Dropout(p=dropout_prob)\n",
    "        self.reset_parameters()\n",
    "\n",
    "    def reset_parameters(self):\n",
    "        \"\"\"Reinitialize learnable parameters.\"\"\"\n",
    "        torch.manual_seed(0)\n",
    "        torch.nn.init.xavier_uniform_(self.logr_weights, gain=0.01)\n",
    "        torch.nn.init.normal_(self.pol_weights, mean=0.0, std=1e-3)\n",
    "\n",
    "    def forward(self, graph, feat):\n",
    "        r\"\"\"Compute graph convolution.\n",
    "\n",
    "        Notes\n",
    "        -----\n",
    "        * Input shape: :math:`(N, *, \\text{in_feats})` where * means any number of additional\n",
    "          dimensions, :math:`N` is the number of nodes.\n",
    "        * Output shape: :math:`(N, *, \\text{out_feats})` where all but the last dimension are\n",
    "          the same shape as the input.\n",
    "\n",
    "        Parameters\n",
    "        ----------\n",
    "        graph (DGLGraph) : The graph.\n",
    "        feat (torch.Tensor): The input feature\n",
    "\n",
    "        Returns\n",
    "        -------\n",
    "        (torch.Tensor) The output feature\n",
    "        \"\"\"\n",
    "        feat = self.dropout(feat)\n",
    "        graph = graph.local_var()\n",
    "        \n",
    "        # D^(-1/2)\n",
    "        norm = torch.pow(graph.in_degrees().float().clamp(min=1), -0.5)\n",
    "        shp = norm.shape + (1,) * (feat.dim() - 1)\n",
    "        norm = torch.reshape(norm, shp)\n",
    "\n",
    "        # mult W first to reduce the feature size for aggregation.\n",
    "        feat = torch.matmul(feat, self.logr_weights)\n",
    "\n",
    "        result = self.pol_weights[0] * feat.clone()\n",
    "\n",
    "        for i in range(1, self._k + 1):\n",
    "            old_feat = feat.clone()\n",
    "            if self._norm:\n",
    "                feat = feat * norm\n",
    "            graph.ndata['h'] = feat\n",
    "            # Feat is not modified in place\n",
    "            graph.update_all(fn.copy_src(src='h', out='m'),\n",
    "                             fn.sum(msg='m', out='h'))\n",
    "            if self._norm:\n",
    "                graph.ndata['h'] = graph.ndata['h'] * norm\n",
    "\n",
    "            feat = old_feat - graph.ndata['h']\n",
    "            result += self.pol_weights[i] * feat\n",
    "\n",
    "        return result\n",
    "\n",
    "    def extra_repr(self):\n",
    "        \"\"\"Set the extra representation of the module,\n",
    "        which will come into effect when printing the model.\n",
    "        \"\"\"\n",
    "        summary = 'in={_in_feats}, out={_out_feats}'\n",
    "        summary += ', normalization={_norm}'\n",
    "        return summary.format(**self.__dict__)"
   ]
  },
  {
   "cell_type": "code",
   "execution_count": 1536,
   "metadata": {},
   "outputs": [],
   "source": [
    "def train(model, g, features, labels, loss_fcn, train_mask, optimizer):\n",
    "    model.train()  # Activate dropout\n",
    "    \n",
    "    logits = model(g, features)\n",
    "    loss = loss_fcn(logits[train_mask], labels[train_mask])\n",
    "\n",
    "    optimizer.zero_grad()\n",
    "    loss.backward()\n",
    "    optimizer.step()\n",
    "    return loss\n",
    "\n",
    "def evaluate(model, g, features, labels, mask):\n",
    "    model.eval()  # Deactivate dropout\n",
    "    with torch.no_grad():\n",
    "        logits = model(g, features)[mask]  # only compute the evaluation set\n",
    "        labels = labels[mask]\n",
    "        _, indices = torch.max(logits, dim=1)\n",
    "        correct = torch.sum(indices == labels)\n",
    "        return correct.item() * 1.0 / len(labels)\n",
    "       \n",
    "def test_articles(model, g, features, mask):\n",
    "    model.eval()  # Deactivate dropout\n",
    "    with torch.no_grad():\n",
    "        logits = model(g, features)[mask] \n",
    "        _, indices = torch.max(logits, dim=1)\n",
    "        return indices"
   ]
  },
  {
   "cell_type": "code",
   "execution_count": 1542,
   "metadata": {},
   "outputs": [],
   "source": [
    "from sklearn.model_selection import train_test_split\n",
    "x1, x2, y1, y2, idx1, idx2 = train_test_split(\n",
    "    adjacency_wo, y_pred['label'], range(adjacency_wo.shape[1]), test_size=0.4)\n",
    "x3, x4, y3, y4, idx3, idx4 = train_test_split(\n",
    "    x2, y2, idx2, test_size=0.5)"
   ]
  },
  {
   "cell_type": "code",
   "execution_count": 1543,
   "metadata": {},
   "outputs": [],
   "source": [
    "train_df = pd.DataFrame(np.column_stack((idx1, np.ones(len(idx1)).T)), columns = ['idx', 'indices'])\n",
    "train_ = y_pred.merge(train_df, left_index = True, right_on = 'idx', how = 'left').fillna(0)\n",
    "val_df = pd.DataFrame(np.column_stack((idx3, np.ones(len(idx3)).T)), columns = ['idx', 'indices'])\n",
    "val_ = y_pred.merge(val_df, left_index = True, right_on = 'idx', how = 'left').fillna(0)\n",
    "test_df = pd.DataFrame(np.column_stack((idx4, np.ones(len(idx4)).T)), columns = ['idx', 'indices'])\n",
    "test_ = y_pred.merge(val_df, left_index = True, right_on = 'idx', how = 'left').fillna(0)"
   ]
  },
  {
   "cell_type": "code",
   "execution_count": 1545,
   "metadata": {},
   "outputs": [],
   "source": [
    "in_feats = tf_idf_wo_filt.shape[1] \n",
    "n_classes = 2\n",
    "pol_order = 3\n",
    "lr = 0.2\n",
    "weight_decay = 5e-6\n",
    "n_epochs = 100\n",
    "p_dropout = 0.8\n",
    "features_ = torch.FloatTensor(tf_idf_wo.values) \n",
    "labels = torch.LongTensor(y_pred['label']) \n",
    "train_mask = torch.BoolTensor(train_['indices'])\n",
    "val_mask = torch.BoolTensor(val_['indices'])\n",
    "test_mask = torch.BoolTensor(test_['indices'])"
   ]
  },
  {
   "cell_type": "code",
   "execution_count": 1546,
   "metadata": {},
   "outputs": [
    {
     "ename": "RuntimeError",
     "evalue": "size mismatch, m1: [1463 x 50], m2: [100 x 2] at /Users/distiller/project/conda/conda-bld/pytorch_1565272526878/work/aten/src/TH/generic/THTensorMath.cpp:752",
     "output_type": "error",
     "traceback": [
      "\u001b[0;31m---------------------------------------------------------------------------\u001b[0m",
      "\u001b[0;31mRuntimeError\u001b[0m                              Traceback (most recent call last)",
      "\u001b[0;32m<ipython-input-1546-4050e75706c1>\u001b[0m in \u001b[0;36m<module>\u001b[0;34m\u001b[0m\n\u001b[1;32m     13\u001b[0m     \u001b[0;32mif\u001b[0m \u001b[0mepoch\u001b[0m \u001b[0;34m>=\u001b[0m \u001b[0;36m3\u001b[0m\u001b[0;34m:\u001b[0m\u001b[0;34m\u001b[0m\u001b[0;34m\u001b[0m\u001b[0m\n\u001b[1;32m     14\u001b[0m         \u001b[0mt0\u001b[0m \u001b[0;34m=\u001b[0m \u001b[0mtime\u001b[0m\u001b[0;34m.\u001b[0m\u001b[0mtime\u001b[0m\u001b[0;34m(\u001b[0m\u001b[0;34m)\u001b[0m\u001b[0;34m\u001b[0m\u001b[0;34m\u001b[0m\u001b[0m\n\u001b[0;32m---> 15\u001b[0;31m     \u001b[0mloss\u001b[0m \u001b[0;34m=\u001b[0m \u001b[0mtrain\u001b[0m\u001b[0;34m(\u001b[0m\u001b[0mmodel\u001b[0m\u001b[0;34m,\u001b[0m \u001b[0mgraph\u001b[0m\u001b[0;34m,\u001b[0m \u001b[0mfeatures_\u001b[0m\u001b[0;34m,\u001b[0m \u001b[0mlabels\u001b[0m\u001b[0;34m,\u001b[0m \u001b[0mloss_fcn\u001b[0m\u001b[0;34m,\u001b[0m \u001b[0mtrain_mask\u001b[0m\u001b[0;34m,\u001b[0m \u001b[0moptimizer\u001b[0m\u001b[0;34m)\u001b[0m\u001b[0;34m\u001b[0m\u001b[0;34m\u001b[0m\u001b[0m\n\u001b[0m\u001b[1;32m     16\u001b[0m \u001b[0;34m\u001b[0m\u001b[0m\n\u001b[1;32m     17\u001b[0m     \u001b[0;32mif\u001b[0m \u001b[0mepoch\u001b[0m \u001b[0;34m>=\u001b[0m \u001b[0;36m3\u001b[0m\u001b[0;34m:\u001b[0m\u001b[0;34m\u001b[0m\u001b[0;34m\u001b[0m\u001b[0m\n",
      "\u001b[0;32m<ipython-input-1536-b2ee030fdf84>\u001b[0m in \u001b[0;36mtrain\u001b[0;34m(model, g, features, labels, loss_fcn, train_mask, optimizer)\u001b[0m\n\u001b[1;32m      2\u001b[0m     \u001b[0mmodel\u001b[0m\u001b[0;34m.\u001b[0m\u001b[0mtrain\u001b[0m\u001b[0;34m(\u001b[0m\u001b[0;34m)\u001b[0m  \u001b[0;31m# Activate dropout\u001b[0m\u001b[0;34m\u001b[0m\u001b[0;34m\u001b[0m\u001b[0m\n\u001b[1;32m      3\u001b[0m \u001b[0;34m\u001b[0m\u001b[0m\n\u001b[0;32m----> 4\u001b[0;31m     \u001b[0mlogits\u001b[0m \u001b[0;34m=\u001b[0m \u001b[0mmodel\u001b[0m\u001b[0;34m(\u001b[0m\u001b[0mg\u001b[0m\u001b[0;34m,\u001b[0m \u001b[0mfeatures\u001b[0m\u001b[0;34m)\u001b[0m\u001b[0;34m\u001b[0m\u001b[0;34m\u001b[0m\u001b[0m\n\u001b[0m\u001b[1;32m      5\u001b[0m     \u001b[0mloss\u001b[0m \u001b[0;34m=\u001b[0m \u001b[0mloss_fcn\u001b[0m\u001b[0;34m(\u001b[0m\u001b[0mlogits\u001b[0m\u001b[0;34m[\u001b[0m\u001b[0mtrain_mask\u001b[0m\u001b[0;34m]\u001b[0m\u001b[0;34m,\u001b[0m \u001b[0mlabels\u001b[0m\u001b[0;34m[\u001b[0m\u001b[0mtrain_mask\u001b[0m\u001b[0;34m]\u001b[0m\u001b[0;34m)\u001b[0m\u001b[0;34m\u001b[0m\u001b[0;34m\u001b[0m\u001b[0m\n\u001b[1;32m      6\u001b[0m \u001b[0;34m\u001b[0m\u001b[0m\n",
      "\u001b[0;32m~/miniconda2/envs/ntds_2019/lib/python3.7/site-packages/torch/nn/modules/module.py\u001b[0m in \u001b[0;36m__call__\u001b[0;34m(self, *input, **kwargs)\u001b[0m\n\u001b[1;32m    545\u001b[0m             \u001b[0mresult\u001b[0m \u001b[0;34m=\u001b[0m \u001b[0mself\u001b[0m\u001b[0;34m.\u001b[0m\u001b[0m_slow_forward\u001b[0m\u001b[0;34m(\u001b[0m\u001b[0;34m*\u001b[0m\u001b[0minput\u001b[0m\u001b[0;34m,\u001b[0m \u001b[0;34m**\u001b[0m\u001b[0mkwargs\u001b[0m\u001b[0;34m)\u001b[0m\u001b[0;34m\u001b[0m\u001b[0;34m\u001b[0m\u001b[0m\n\u001b[1;32m    546\u001b[0m         \u001b[0;32melse\u001b[0m\u001b[0;34m:\u001b[0m\u001b[0;34m\u001b[0m\u001b[0;34m\u001b[0m\u001b[0m\n\u001b[0;32m--> 547\u001b[0;31m             \u001b[0mresult\u001b[0m \u001b[0;34m=\u001b[0m \u001b[0mself\u001b[0m\u001b[0;34m.\u001b[0m\u001b[0mforward\u001b[0m\u001b[0;34m(\u001b[0m\u001b[0;34m*\u001b[0m\u001b[0minput\u001b[0m\u001b[0;34m,\u001b[0m \u001b[0;34m**\u001b[0m\u001b[0mkwargs\u001b[0m\u001b[0;34m)\u001b[0m\u001b[0;34m\u001b[0m\u001b[0;34m\u001b[0m\u001b[0m\n\u001b[0m\u001b[1;32m    548\u001b[0m         \u001b[0;32mfor\u001b[0m \u001b[0mhook\u001b[0m \u001b[0;32min\u001b[0m \u001b[0mself\u001b[0m\u001b[0;34m.\u001b[0m\u001b[0m_forward_hooks\u001b[0m\u001b[0;34m.\u001b[0m\u001b[0mvalues\u001b[0m\u001b[0;34m(\u001b[0m\u001b[0;34m)\u001b[0m\u001b[0;34m:\u001b[0m\u001b[0;34m\u001b[0m\u001b[0;34m\u001b[0m\u001b[0m\n\u001b[1;32m    549\u001b[0m             \u001b[0mhook_result\u001b[0m \u001b[0;34m=\u001b[0m \u001b[0mhook\u001b[0m\u001b[0;34m(\u001b[0m\u001b[0mself\u001b[0m\u001b[0;34m,\u001b[0m \u001b[0minput\u001b[0m\u001b[0;34m,\u001b[0m \u001b[0mresult\u001b[0m\u001b[0;34m)\u001b[0m\u001b[0;34m\u001b[0m\u001b[0;34m\u001b[0m\u001b[0m\n",
      "\u001b[0;32m<ipython-input-1535-e778811897a0>\u001b[0m in \u001b[0;36mforward\u001b[0;34m(self, graph, feat)\u001b[0m\n\u001b[1;32m     52\u001b[0m \u001b[0;34m\u001b[0m\u001b[0m\n\u001b[1;32m     53\u001b[0m         \u001b[0;31m# mult W first to reduce the feature size for aggregation.\u001b[0m\u001b[0;34m\u001b[0m\u001b[0;34m\u001b[0m\u001b[0;34m\u001b[0m\u001b[0m\n\u001b[0;32m---> 54\u001b[0;31m         \u001b[0mfeat\u001b[0m \u001b[0;34m=\u001b[0m \u001b[0mtorch\u001b[0m\u001b[0;34m.\u001b[0m\u001b[0mmatmul\u001b[0m\u001b[0;34m(\u001b[0m\u001b[0mfeat\u001b[0m\u001b[0;34m,\u001b[0m \u001b[0mself\u001b[0m\u001b[0;34m.\u001b[0m\u001b[0mlogr_weights\u001b[0m\u001b[0;34m)\u001b[0m\u001b[0;34m\u001b[0m\u001b[0;34m\u001b[0m\u001b[0m\n\u001b[0m\u001b[1;32m     55\u001b[0m \u001b[0;34m\u001b[0m\u001b[0m\n\u001b[1;32m     56\u001b[0m         \u001b[0mresult\u001b[0m \u001b[0;34m=\u001b[0m \u001b[0mself\u001b[0m\u001b[0;34m.\u001b[0m\u001b[0mpol_weights\u001b[0m\u001b[0;34m[\u001b[0m\u001b[0;36m0\u001b[0m\u001b[0;34m]\u001b[0m \u001b[0;34m*\u001b[0m \u001b[0mfeat\u001b[0m\u001b[0;34m.\u001b[0m\u001b[0mclone\u001b[0m\u001b[0;34m(\u001b[0m\u001b[0;34m)\u001b[0m\u001b[0;34m\u001b[0m\u001b[0;34m\u001b[0m\u001b[0m\n",
      "\u001b[0;31mRuntimeError\u001b[0m: size mismatch, m1: [1463 x 50], m2: [100 x 2] at /Users/distiller/project/conda/conda-bld/pytorch_1565272526878/work/aten/src/TH/generic/THTensorMath.cpp:752"
     ]
    }
   ],
   "source": [
    "model = LaplacianPolynomial(in_feats, n_classes, pol_order, p_dropout)\n",
    "\n",
    "graph_wo = nx.from_numpy_matrix(adjacency)\n",
    "graph = DGLGraph(graph_wo)\n",
    "\n",
    "loss_fcn = torch.nn.CrossEntropyLoss()\n",
    "optimizer = torch.optim.Adam(model.parameters(),\n",
    "                             lr=lr,\n",
    "                             weight_decay=weight_decay)\n",
    "\n",
    "dur = []\n",
    "for epoch in range(n_epochs):\n",
    "    if epoch >= 3:\n",
    "        t0 = time.time()\n",
    "    loss = train(model, graph, features_, labels, loss_fcn, train_mask, optimizer)\n",
    "\n",
    "    if epoch >= 3:\n",
    "        dur.append(time.time() - t0)\n",
    "\n",
    "    acc = evaluate(model, graph, features_, labels, val_mask)\n",
    "    print(\"Epoch {:05d} | Time(s) {:.4f} | Train Loss {:.4f} | Val Accuracy {:.4f}\". format(\n",
    "            epoch, np.mean(dur), loss.item(), acc))\n",
    "\n",
    "print()\n",
    "acc = evaluate(model, graph, features_, labels, test_mask)\n",
    "print(\"Test Accuracy {:.4f}\".format(acc))"
   ]
  },
  {
   "cell_type": "code",
   "execution_count": null,
   "metadata": {},
   "outputs": [],
   "source": [
    "coeff_gcn =  model.pol_weights.data.numpy()\n",
    "print(coeff_gcn)"
   ]
  },
  {
   "cell_type": "code",
   "execution_count": 1060,
   "metadata": {},
   "outputs": [
    {
     "data": {
      "text/plain": [
       "LaplacianPolynomial(\n",
       "  in=100, out=6, normalization=True\n",
       "  (dropout): Dropout(p=0.8, inplace=False)\n",
       ")"
      ]
     },
     "execution_count": 1060,
     "metadata": {},
     "output_type": "execute_result"
    }
   ],
   "source": [
    "model"
   ]
  },
  {
   "cell_type": "code",
   "execution_count": 1061,
   "metadata": {},
   "outputs": [],
   "source": [
    "def polynomial_graph_filter_response(coeff: np.array, lam: np.ndarray):\n",
    "    \"\"\" Return an array of the same shape as lam.\n",
    "        response[i] is the spectral response at frequency lam[i]. \"\"\"\n",
    "    # Your code here\n",
    "    V = np.vander(lam, len(coeff), increasing=True)\n",
    "    return V@coeff"
   ]
  },
  {
   "cell_type": "code",
   "execution_count": 1062,
   "metadata": {},
   "outputs": [
    {
     "data": {
      "text/plain": [
       "Text(0, 0.5, 'Spectral response (db)')"
      ]
     },
     "execution_count": 1062,
     "metadata": {},
     "output_type": "execute_result"
    },
    {
     "data": {
      "image/png": "[encoded data removed]",
      "text/plain": [
       "<Figure size 432x288 with 1 Axes>"
      ]
     },
     "metadata": {
      "needs_background": "light"
     },
     "output_type": "display_data"
    }
   ],
   "source": [
    "plt.semilogy(lamb, np.abs(polynomial_graph_filter_response(coeff_gcn, lamb)))\n",
    "plt.xlabel('$\\lambda$')\n",
    "plt.ylabel('Spectral response (db)')"
   ]
  },
  {
   "cell_type": "code",
   "execution_count": 1063,
   "metadata": {},
   "outputs": [
    {
     "name": "stdout",
     "output_type": "stream",
     "text": [
      "[====================] 100%"
     ]
    }
   ],
   "source": [
    "list_articles = [\"God\", \"Network Science\", \"Jesus\", \"Quantic physics\"]\n",
    "test_df = aquire.take_words(list_articles, stop_words, is_title = True)"
   ]
  },
  {
   "cell_type": "code",
   "execution_count": 1064,
   "metadata": {},
   "outputs": [
    {
     "name": "stderr",
     "output_type": "stream",
     "text": [
      "/Users/lucaseckes/miniconda2/envs/ntds_2019/lib/python3.7/site-packages/ipykernel_launcher.py:1: FutureWarning: Sorting because non-concatenation axis is not aligned. A future version\n",
      "of pandas will change to not sort by default.\n",
      "\n",
      "To accept the future behavior, pass 'sort=False'.\n",
      "\n",
      "To retain the current behavior and silence the warning, pass 'sort=True'.\n",
      "\n",
      "  \"\"\"Entry point for launching an IPython kernel.\n"
     ]
    }
   ],
   "source": [
    "test_df = pd.concat([words_df_reduced,test_df])"
   ]
  },
  {
   "cell_type": "code",
   "execution_count": 1065,
   "metadata": {},
   "outputs": [
    {
     "data": {
      "text/plain": [
       "array([[0.04042863, 0.54163663, 0.26061566, ..., 0.01383232, 0.02608606,\n",
       "        0.00361969],\n",
       "       [0.        , 0.02340949, 0.03985647, ..., 0.        , 0.01944829,\n",
       "        0.        ],\n",
       "       [0.        , 0.06943664, 0.        , ..., 0.        , 0.        ,\n",
       "        0.        ],\n",
       "       ...,\n",
       "       [0.06263579, 0.        , 0.        , ..., 0.00252121, 0.0095094 ,\n",
       "        0.01319519],\n",
       "       [0.        , 0.00347259, 0.01576626, ..., 0.11286383, 0.00256443,\n",
       "        0.00142335],\n",
       "       [0.        , 0.        , 0.        , ..., 0.        , 0.        ,\n",
       "        0.        ]])"
      ]
     },
     "execution_count": 1065,
     "metadata": {},
     "output_type": "execute_result"
    }
   ],
   "source": [
    "features_final = nlpu.TF_IDF(test_df, 100).values\n",
    "features_final"
   ]
  },
  {
   "cell_type": "code",
   "execution_count": 1066,
   "metadata": {},
   "outputs": [],
   "source": [
    "distances = np.array([[(np.sum((features_final[i,:]-features_final[j,:])**2)) for i in range(0,features_final.shape[0]) ] for j in range(0,features_final.shape[0])]).reshape(features_final.shape[0],-1)\n",
    "feat = distances/np.max(distances)\n",
    "np.fill_diagonal(feat, 0)\n",
    "graph = nx.from_numpy_array(feat)\n",
    "graph = DGLGraph(graph)"
   ]
  },
  {
   "cell_type": "code",
   "execution_count": 1067,
   "metadata": {},
   "outputs": [],
   "source": [
    "features_ = torch.FloatTensor(features_final)"
   ]
  },
  {
   "cell_type": "code",
   "execution_count": 1068,
   "metadata": {},
   "outputs": [],
   "source": [
    "mask1 = np.zeros((len(features)))\n",
    "mask2 = np.ones((4))\n",
    "mask = np.concatenate((mask1,mask2))\n",
    "mask = torch.BoolTensor(mask)"
   ]
  },
  {
   "cell_type": "code",
   "execution_count": 1069,
   "metadata": {},
   "outputs": [
    {
     "ename": "IndexError",
     "evalue": "The shape of the mask [1404] at index 0does not match the shape of the indexed tensor [1506, 6] at index 0",
     "output_type": "error",
     "traceback": [
      "\u001b[0;31m---------------------------------------------------------------------------\u001b[0m",
      "\u001b[0;31mIndexError\u001b[0m                                Traceback (most recent call last)",
      "\u001b[0;32m<ipython-input-1069-6842bc2bd144>\u001b[0m in \u001b[0;36m<module>\u001b[0;34m\u001b[0m\n\u001b[0;32m----> 1\u001b[0;31m \u001b[0mtest_articles\u001b[0m\u001b[0;34m(\u001b[0m\u001b[0mmodel\u001b[0m\u001b[0;34m,\u001b[0m \u001b[0mgraph\u001b[0m\u001b[0;34m,\u001b[0m \u001b[0mfeatures_\u001b[0m\u001b[0;34m,\u001b[0m \u001b[0mmask\u001b[0m\u001b[0;34m)\u001b[0m\u001b[0;34m\u001b[0m\u001b[0;34m\u001b[0m\u001b[0m\n\u001b[0m",
      "\u001b[0;32m<ipython-input-1054-b2ee030fdf84>\u001b[0m in \u001b[0;36mtest_articles\u001b[0;34m(model, g, features, mask)\u001b[0m\n\u001b[1;32m     22\u001b[0m     \u001b[0mmodel\u001b[0m\u001b[0;34m.\u001b[0m\u001b[0meval\u001b[0m\u001b[0;34m(\u001b[0m\u001b[0;34m)\u001b[0m  \u001b[0;31m# Deactivate dropout\u001b[0m\u001b[0;34m\u001b[0m\u001b[0;34m\u001b[0m\u001b[0m\n\u001b[1;32m     23\u001b[0m     \u001b[0;32mwith\u001b[0m \u001b[0mtorch\u001b[0m\u001b[0;34m.\u001b[0m\u001b[0mno_grad\u001b[0m\u001b[0;34m(\u001b[0m\u001b[0;34m)\u001b[0m\u001b[0;34m:\u001b[0m\u001b[0;34m\u001b[0m\u001b[0;34m\u001b[0m\u001b[0m\n\u001b[0;32m---> 24\u001b[0;31m         \u001b[0mlogits\u001b[0m \u001b[0;34m=\u001b[0m \u001b[0mmodel\u001b[0m\u001b[0;34m(\u001b[0m\u001b[0mg\u001b[0m\u001b[0;34m,\u001b[0m \u001b[0mfeatures\u001b[0m\u001b[0;34m)\u001b[0m\u001b[0;34m[\u001b[0m\u001b[0mmask\u001b[0m\u001b[0;34m]\u001b[0m\u001b[0;34m\u001b[0m\u001b[0;34m\u001b[0m\u001b[0m\n\u001b[0m\u001b[1;32m     25\u001b[0m         \u001b[0m_\u001b[0m\u001b[0;34m,\u001b[0m \u001b[0mindices\u001b[0m \u001b[0;34m=\u001b[0m \u001b[0mtorch\u001b[0m\u001b[0;34m.\u001b[0m\u001b[0mmax\u001b[0m\u001b[0;34m(\u001b[0m\u001b[0mlogits\u001b[0m\u001b[0;34m,\u001b[0m \u001b[0mdim\u001b[0m\u001b[0;34m=\u001b[0m\u001b[0;36m1\u001b[0m\u001b[0;34m)\u001b[0m\u001b[0;34m\u001b[0m\u001b[0;34m\u001b[0m\u001b[0m\n\u001b[1;32m     26\u001b[0m         \u001b[0;32mreturn\u001b[0m \u001b[0mindices\u001b[0m\u001b[0;34m\u001b[0m\u001b[0;34m\u001b[0m\u001b[0m\n",
      "\u001b[0;31mIndexError\u001b[0m: The shape of the mask [1404] at index 0does not match the shape of the indexed tensor [1506, 6] at index 0"
     ]
    }
   ],
   "source": [
    "test_articles(model, graph, features_, mask)"
   ]
  },
  {
   "cell_type": "code",
   "execution_count": 967,
   "metadata": {},
   "outputs": [],
   "source": [
    "def polynomial_graph_filter(coeff: np.array, laplacian: np.ndarray):\n",
    "    \"\"\" Return the laplacian polynomial with coefficients 'coeff'. \"\"\"\n",
    "    provisory = np.eye(len(laplacian))\n",
    "    h = coeff[0]*np.eye(len(laplacian)) \n",
    "    \n",
    "    for i in range (1,len(coeff)):\n",
    "        provisory =  provisory@laplacian\n",
    "        h += coeff[i]*provisory \n",
    "    return h"
   ]
  },
  {
   "cell_type": "code",
   "execution_count": 973,
   "metadata": {},
   "outputs": [
    {
     "data": {
      "text/plain": [
       "array([-1.44496764e+07,  0.00000000e+00,  3.06946925e+04, ...,\n",
       "        1.03254147e+01,  0.00000000e+00,  0.00000000e+00])"
      ]
     },
     "execution_count": 973,
     "metadata": {},
     "output_type": "execute_result"
    }
   ],
   "source": [
    "polynomial_graph_filter(coeff_gcn, laplacian)[0]"
   ]
  },
  {
   "cell_type": "code",
   "execution_count": 971,
   "metadata": {},
   "outputs": [
    {
     "data": {
      "text/plain": [
       "torch.Size([1404, 100])"
      ]
     },
     "execution_count": 971,
     "metadata": {},
     "output_type": "execute_result"
    }
   ],
   "source": [
    "features_.shape"
   ]
  },
  {
   "cell_type": "code",
   "execution_count": null,
   "metadata": {},
   "outputs": [],
   "source": []
  }
 ],
 "metadata": {
  "kernelspec": {
   "display_name": "Python 3",
   "language": "python",
   "name": "python3"
  },
  "language_info": {
   "codemirror_mode": {
    "name": "ipython",
    "version": 3
   },
   "file_extension": ".py",
   "mimetype": "text/x-python",
   "name": "python",
   "nbconvert_exporter": "python",
   "pygments_lexer": "ipython3",
   "version": "3.7.3"
  }
 },
 "nbformat": 4,
 "nbformat_minor": 4
}
