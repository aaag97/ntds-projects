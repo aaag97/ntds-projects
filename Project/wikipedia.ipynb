{
 "cells": [
  {
   "cell_type": "code",
   "execution_count": 447,
   "metadata": {},
   "outputs": [
    {
     "name": "stderr",
     "output_type": "stream",
     "text": [
      "[nltk_data] Downloading package stopwords to\n",
      "[nltk_data]     /Users/lucaseckes/nltk_data...\n",
      "[nltk_data]   Package stopwords is already up-to-date!\n",
      "[nltk_data] Downloading package punkt to\n",
      "[nltk_data]     /Users/lucaseckes/nltk_data...\n",
      "[nltk_data]   Package punkt is already up-to-date!\n"
     ]
    }
   ],
   "source": [
    "import wikipedia\n",
    "wikipedia.set_lang('en') # setting wikipedia language\n",
    "import wikipediaapi\n",
    "import pandas as pd\n",
    "import numpy as np\n",
    "import matplotlib.pyplot as plt\n",
    "import networkx as nx\n",
    "from IPython.display import display\n",
    "from sklearn.feature_extraction.text import TfidfVectorizer\n",
    "from sklearn.feature_extraction.text import CountVectorizer\n",
    "from sklearn.feature_extraction.text import TfidfTransformer\n",
    "\n",
    "import nltk # for nlp on articles\n",
    "nltk.download(\"stopwords\")\n",
    "nltk.download('punkt')\n",
    "from nltk.corpus import stopwords\n",
    "from nltk.tokenize import word_tokenize"
   ]
  },
  {
   "cell_type": "markdown",
   "metadata": {},
   "source": [
    "# I. Data Acquisition"
   ]
  },
  {
   "cell_type": "markdown",
   "metadata": {},
   "source": [
    "## Data Acquisition Utils"
   ]
  },
  {
   "cell_type": "code",
   "execution_count": null,
   "metadata": {},
   "outputs": [],
   "source": [
    "class DataAquisitionUtils():\n",
    "\n",
    "    @staticmethod\n",
    "    def fetch_category_members(category_members, level=0, max_level=1):\n",
    "        \"\"\"\n",
    "        Function to take all article in category (max_level control the depth of articles taken from the subcategories)\n",
    "        Arguments:\n",
    "        category_members - a list of category members\n",
    "        level - the level at which to start getting articles\n",
    "        max_level - the maximal level for the fetched articles\n",
    "        Returns:\n",
    "        list_articles - a list of the desired articles\n",
    "        \"\"\"\n",
    "#         return 0\n",
    "        list_articles = []\n",
    "        for c in categorymembers.values():\n",
    "            if c.ns == 0:\n",
    "                list_articles.append(c) \n",
    "                ##print(\"%s: %s (ns: %d)\" % (\"*\" * (level + 1), c.title, c.ns))\n",
    "            elif level < max_level and c.ns == 14:\n",
    "                sub_list = []\n",
    "                sub_list = print_categorymembers(c.categorymembers, level=level + 1, max_level=max_level)\n",
    "                list_articles = list_articles + sub_list\n",
    "        return list_articles\n",
    "\n",
    "    @staticmethod\n",
    "    def hyperlinks_matrix(list_articles):\n",
    "        \"\"\"\n",
    "        Computes an adjacency matrix with the hyperlinks between the different articles in the argument given\n",
    "        Arguments:\n",
    "        list_articles - a list of articles for which to compute the hyperlink matrix\n",
    "        Returns:\n",
    "        matrix - a binary matrix A where A[i,j] = 1 if article i has a hyperlinkt to article j, and A[i,j] = 0 otherwise\n",
    "        \"\"\"\n",
    "        matrix = np.zeros((len(list_articles), len(list_articles)))\n",
    "        compt = 0\n",
    "        for article in list_articles:\n",
    "            if (compt%10 == 0) :\n",
    "                print(compt)\n",
    "            for link in article.links:\n",
    "                for i in range(len(list_articles)):\n",
    "                    if (link == list_articles[i].title):\n",
    "                        matrix[compt,i] = 1\n",
    "            compt = compt + 1\n",
    "        return matrix\n",
    "    \n",
    "    @staticmethod\n",
    "    def take_words(list_articles, stop_words, is_title = False):\n",
    "        \"\"\"\n",
    "        Function that tokenizes and returns all words in the list of articles given\n",
    "        Arguments:\n",
    "        list_articles - list of articles\n",
    "        is_title - whether the list contains pages or just strings of titles\n",
    "        Returns:\n",
    "        words_df - the words in the articles in a dataframe\n",
    "        \"\"\"\n",
    "        words_df = pd.DataFrame(columns=['article', 'words'])\n",
    "        for i in range(len(list_articles)):\n",
    "            if (i%100 == 0) :\n",
    "                print(i)\n",
    "            try: \n",
    "                if (is_title == False):\n",
    "                    page = wikipedia.page(list_articles[i].title)\n",
    "                else:\n",
    "                    page = wikipedia.page(list_articles[i])\n",
    "            except wikipedia.DisambiguationError as e:\n",
    "                s = e.options\n",
    "                s = list(filter(lambda x : x != \"\", s))\n",
    "                try :\n",
    "                    page = wikipedia.page(s)\n",
    "                except wikipedia.DisambiguationError as e:\n",
    "                    pass\n",
    "            except wikipedia.PageError:\n",
    "                pass\n",
    "            words = word_tokenize(page.content)\n",
    "            words = [elem.lower() for elem in words]\n",
    "            words = [elem for elem in words if len(elem) > 1 and elem.isalpha() == True]\n",
    "            words_wostop = [x for x in words if x not in stop_words]\n",
    "            words_wostop = [elem.lower() for elem in words_wostop]\n",
    "            if (is_title == False):\n",
    "                words_df.loc[i] = [list_articles[i].title] + [words_wostop]\n",
    "            else:\n",
    "                words_df.loc[i] = [list_articles[i]] + [words_wostop]\n",
    "        return words_df\n",
    "    \n",
    "    @staticmethod\n",
    "    def make_features(words, important_words_df):\n",
    "        explode_df = words.explode('words')\n",
    "        explode_df['exist'] = np.ones(len(explode_df))\n",
    "        df = pd.DataFrame(words['article']).assign(key = 1).merge(pd.DataFrame(important_words_df['words']).assign(key = 1), on = 'key').drop('key', 1)\n",
    "        df2 = df.merge(explode_df, on = ['article','words'] , how = 'left').drop_duplicates().fillna(0)\n",
    "        df3 = pd.pivot_table(df2, values = 'exist',  index = 'article', columns=['words'])\n",
    "        display(df3.head(10))\n",
    "        features = df3.values\n",
    "        return features"
   ]
  },
  {
   "cell_type": "markdown",
   "metadata": {},
   "source": [
    "## NLP Utilities"
   ]
  },
  {
   "cell_type": "code",
   "execution_count": null,
   "metadata": {},
   "outputs": [],
   "source": [
    "class NLPUtilities():\n",
    "    \n",
    "    @staticmethod\n",
    "    def TF_IDF(words_df, nb_words):\n",
    "        \"\"\"\n",
    "        Function to get the words with the top TF-IDF scores\n",
    "        Arguments:\n",
    "        words_df - the dataframe consisting of the words to be considered\n",
    "        nb_words - the number of words we would like the function to return\n",
    "        Returns:\n",
    "        df - a dataframe containing the words with the best TF-IDF scores\n",
    "        \"\"\"\n",
    "        #remove strings like \"10,000\"\n",
    "        #religion_df['words'] = religion_df['words'].apply(lambda word_list: list(filter(lambda word: (',' not in word), word_list)))\n",
    "        #only keep strings that contain alphabet chars\n",
    "        words_df['words'] = words_df['words'].apply(lambda word_list: list(filter(lambda word: word.isalpha(), word_list)))\n",
    "        # create a column with all words concatenated\n",
    "        words_df['words_string'] = words_df['words'].apply(lambda words_list: \" \".join(words_list))\n",
    "\n",
    "        cv=CountVectorizer()\n",
    "        word_count_vector=cv.fit_transform(words_df['words_string'])\n",
    "\n",
    "        tfidf_transformer=TfidfTransformer(smooth_idf=True,use_idf=True)\n",
    "        tfidf_transformer.fit(word_count_vector)\n",
    "\n",
    "        # count matrix\n",
    "        count_vector=cv.transform(words_df['words_string'])\n",
    "\n",
    "        # tf-idf scores\n",
    "        tf_idf_vector=tfidf_transformer.transform(count_vector)\n",
    "\n",
    "        feature_names = cv.get_feature_names()\n",
    "\n",
    "        #get tfidf vector for first document\n",
    "        first_document_vector=tf_idf_vector[0]\n",
    "\n",
    "        #print the scores\n",
    "        df = pd.DataFrame(first_document_vector.T.todense(), index=feature_names, columns=[\"tfidf\"])\n",
    "        df = df.sort_values(by=[\"tfidf\"],ascending=False).head(nb_words)\n",
    "        return df"
   ]
  },
  {
   "cell_type": "markdown",
   "metadata": {},
   "source": [
    "## Data Acquisition Pipeline"
   ]
  },
  {
   "cell_type": "markdown",
   "metadata": {},
   "source": [
    "### Fetching the articles of interest"
   ]
  },
  {
   "cell_type": "code",
   "execution_count": null,
   "metadata": {},
   "outputs": [],
   "source": [
    "aquire = DataAquisitionUtils()"
   ]
  },
  {
   "cell_type": "code",
   "execution_count": 3,
   "metadata": {},
   "outputs": [],
   "source": [
    "wiki_wiki = wikipediaapi.Wikipedia('en') # getting articles in english\n",
    "# fetching the articles for categories of interest\n",
    "religion_page = wiki_wiki.page(\"Category:Religion\")\n",
    "science_page = wiki_wiki.page(\"Category:Science\")"
   ]
  },
  {
   "cell_type": "code",
   "execution_count": 392,
   "metadata": {},
   "outputs": [],
   "source": [
    "religion_articles = aquire.fetch_category_members(religion_page.categorymembers,0,1)\n",
    "science_articles = aquire.fetch_category_members(science_page.categorymembers)"
   ]
  },
  {
   "cell_type": "code",
   "execution_count": 394,
   "metadata": {},
   "outputs": [
    {
     "name": "stdout",
     "output_type": "stream",
     "text": [
      "0\n",
      "10\n",
      "20\n",
      "30\n",
      "40\n",
      "50\n",
      "60\n",
      "70\n",
      "80\n",
      "90\n",
      "100\n",
      "110\n",
      "120\n",
      "130\n",
      "140\n",
      "150\n",
      "160\n",
      "170\n",
      "180\n",
      "190\n",
      "200\n",
      "210\n",
      "220\n",
      "230\n",
      "240\n",
      "250\n",
      "260\n",
      "270\n",
      "280\n",
      "290\n",
      "300\n",
      "310\n",
      "320\n",
      "330\n",
      "340\n",
      "350\n",
      "360\n",
      "370\n",
      "380\n",
      "390\n",
      "400\n",
      "410\n",
      "420\n",
      "430\n",
      "440\n",
      "450\n",
      "460\n",
      "470\n",
      "480\n",
      "490\n",
      "500\n",
      "510\n",
      "520\n",
      "530\n",
      "540\n",
      "550\n",
      "560\n",
      "570\n",
      "580\n",
      "590\n",
      "600\n",
      "610\n",
      "620\n",
      "630\n",
      "640\n",
      "650\n",
      "660\n",
      "670\n",
      "680\n",
      "690\n",
      "700\n",
      "710\n",
      "720\n",
      "730\n",
      "740\n",
      "750\n",
      "760\n",
      "770\n",
      "780\n",
      "790\n",
      "800\n",
      "810\n",
      "820\n",
      "830\n",
      "840\n",
      "850\n",
      "860\n",
      "870\n",
      "880\n",
      "890\n",
      "900\n",
      "910\n",
      "920\n",
      "930\n",
      "940\n",
      "950\n",
      "960\n",
      "970\n",
      "980\n",
      "990\n",
      "1000\n",
      "1010\n",
      "1020\n",
      "1030\n",
      "1040\n",
      "1050\n",
      "1060\n",
      "1070\n",
      "1080\n",
      "1090\n",
      "1100\n",
      "1110\n",
      "1120\n",
      "1130\n",
      "1140\n",
      "1150\n",
      "1160\n",
      "1170\n",
      "1180\n",
      "1190\n",
      "1200\n",
      "1210\n",
      "1220\n",
      "1230\n",
      "1240\n",
      "1250\n",
      "1260\n",
      "1270\n",
      "1280\n",
      "1290\n",
      "1300\n",
      "1310\n",
      "1320\n",
      "1330\n",
      "1340\n",
      "1350\n",
      "1360\n",
      "1370\n",
      "1380\n",
      "1390\n",
      "1400\n",
      "1410\n",
      "1420\n",
      "1430\n",
      "1440\n",
      "1450\n",
      "1460\n",
      "1470\n",
      "1480\n",
      "1490\n",
      "1500\n",
      "1510\n",
      "1520\n",
      "1530\n",
      "1540\n",
      "1550\n",
      "1560\n",
      "1570\n",
      "1580\n",
      "1590\n",
      "1600\n",
      "1610\n",
      "1620\n",
      "1630\n",
      "1640\n",
      "1650\n",
      "1660\n",
      "1670\n",
      "1680\n",
      "1690\n",
      "1700\n",
      "1710\n",
      "1720\n",
      "1730\n",
      "1740\n",
      "1750\n",
      "1760\n",
      "1770\n",
      "1780\n",
      "1790\n",
      "1800\n",
      "1810\n",
      "1820\n",
      "1830\n",
      "1840\n",
      "1850\n",
      "1860\n",
      "1870\n",
      "1880\n",
      "1890\n",
      "1900\n",
      "1910\n",
      "1920\n",
      "1930\n",
      "1940\n",
      "1950\n",
      "1960\n",
      "1970\n",
      "1980\n",
      "1990\n",
      "2000\n",
      "2010\n",
      "2020\n",
      "2030\n",
      "2040\n",
      "2050\n",
      "2060\n",
      "2070\n",
      "2080\n",
      "2090\n",
      "2100\n",
      "2110\n",
      "2120\n",
      "2130\n",
      "2140\n",
      "2150\n",
      "2160\n",
      "2170\n",
      "2180\n",
      "2190\n",
      "2200\n",
      "2210\n",
      "2220\n",
      "2230\n",
      "2240\n",
      "2250\n",
      "2260\n",
      "2270\n",
      "2280\n",
      "2290\n",
      "2300\n",
      "2310\n",
      "2320\n",
      "2330\n",
      "2340\n",
      "2350\n",
      "2360\n",
      "2370\n",
      "2380\n",
      "2390\n",
      "2400\n",
      "2410\n",
      "2420\n",
      "2430\n",
      "2440\n",
      "2450\n"
     ]
    },
    {
     "ename": "NameError",
     "evalue": "name 'adjacency_matrix' is not defined",
     "output_type": "error",
     "traceback": [
      "\u001b[0;31m---------------------------------------------------------------------------\u001b[0m",
      "\u001b[0;31mNameError\u001b[0m                                 Traceback (most recent call last)",
      "\u001b[0;32m<ipython-input-394-d238417f094d>\u001b[0m in \u001b[0;36m<module>\u001b[0;34m\u001b[0m\n\u001b[1;32m      1\u001b[0m \u001b[0mhyperlink_matrix\u001b[0m \u001b[0;34m=\u001b[0m \u001b[0mmake_links\u001b[0m\u001b[0;34m(\u001b[0m\u001b[0mlist_articles\u001b[0m\u001b[0;34m)\u001b[0m\u001b[0;34m\u001b[0m\u001b[0;34m\u001b[0m\u001b[0m\n\u001b[0;32m----> 2\u001b[0;31m \u001b[0mnum_edges\u001b[0m \u001b[0;34m=\u001b[0m \u001b[0mnp\u001b[0m\u001b[0;34m.\u001b[0m\u001b[0mcount_nonzero\u001b[0m\u001b[0;34m(\u001b[0m\u001b[0madjacency_matrix\u001b[0m\u001b[0;34m)\u001b[0m\u001b[0;34m\u001b[0m\u001b[0;34m\u001b[0m\u001b[0m\n\u001b[0m\u001b[1;32m      3\u001b[0m \u001b[0mprint\u001b[0m\u001b[0;34m(\u001b[0m\u001b[0;34mf\"Number of edges in the feature graph: {num_edges}\"\u001b[0m\u001b[0;34m)\u001b[0m\u001b[0;34m\u001b[0m\u001b[0;34m\u001b[0m\u001b[0m\n",
      "\u001b[0;31mNameError\u001b[0m: name 'adjacency_matrix' is not defined"
     ]
    }
   ],
   "source": [
    "list_articles = religion_articles + science_articles\n",
    "adjacency_matrix = aquire.hyperlinks_matrix(list_articles)\n",
    "num_edges = np.count_nonzero(adjacency_matrix)\n",
    "print(f\"Number of edges in the feature graph: {num_edges}\")"
   ]
  },
  {
   "cell_type": "code",
   "execution_count": 396,
   "metadata": {},
   "outputs": [],
   "source": [
    "np.savetxt('hyperlinks.csv',hyperlink_matrix)"
   ]
  },
  {
   "cell_type": "markdown",
   "metadata": {},
   "source": [
    "### Taking the words with the highest TF-IDF"
   ]
  },
  {
   "cell_type": "code",
   "execution_count": 6,
   "metadata": {},
   "outputs": [
    {
     "name": "stderr",
     "output_type": "stream",
     "text": [
      "[nltk_data] Downloading package stopwords to\n",
      "[nltk_data]     /Users/lucaseckes/nltk_data...\n",
      "[nltk_data]   Package stopwords is already up-to-date!\n",
      "[nltk_data] Downloading package punkt to\n",
      "[nltk_data]     /Users/lucaseckes/nltk_data...\n",
      "[nltk_data]   Package punkt is already up-to-date!\n"
     ]
    },
    {
     "data": {
      "text/plain": [
       "True"
      ]
     },
     "execution_count": 6,
     "metadata": {},
     "output_type": "execute_result"
    }
   ],
   "source": [
    "#Take all the words present in the articles that are not stopwords\n",
    "stop_found = ['====', '===', '==', '<<', '>>', \"''\", '``', \"'s\" , '\\displaystyle', '...', '\\phi', '\\mu', '\\mathbf', '--', 'x_',\n",
    "        '\\alpha', '\\dot', '\\hat', '\\lambda', '\\left', '\\right', 'mathcal', '\\nu', '\\partial'] #getting the stopwords found in the articles after exmination\n",
    "stop_pre = stopwords.words('english') # getting the common english stopwords\n",
    "stop_words = stop_found + stop_pre"
   ]
  },
  {
   "cell_type": "code",
   "execution_count": 7,
   "metadata": {},
   "outputs": [],
   "source": [
    "religion_df = aquire.take_words(religion_articles, stop_words)"
   ]
  },
  {
   "cell_type": "code",
   "execution_count": 129,
   "metadata": {},
   "outputs": [
    {
     "name": "stdout",
     "output_type": "stream",
     "text": [
      "0\n",
      "10\n",
      "20\n",
      "30\n",
      "40\n",
      "50\n",
      "60\n",
      "70\n",
      "80\n",
      "90\n",
      "100\n"
     ]
    },
    {
     "name": "stderr",
     "output_type": "stream",
     "text": [
      "/Users/lucaseckes/miniconda2/envs/ntds_2019/lib/python3.7/site-packages/wikipedia/wikipedia.py:389: UserWarning: No parser was explicitly specified, so I'm using the best available HTML parser for this system (\"html.parser\"). This usually isn't a problem, but if you run this code on another system, or in a different virtual environment, it may use a different parser and behave differently.\n",
      "\n",
      "The code that caused this warning is on line 389 of the file /Users/lucaseckes/miniconda2/envs/ntds_2019/lib/python3.7/site-packages/wikipedia/wikipedia.py. To get rid of this warning, pass the additional argument 'features=\"html.parser\"' to the BeautifulSoup constructor.\n",
      "\n",
      "  lis = BeautifulSoup(html).find_all('li')\n"
     ]
    },
    {
     "name": "stdout",
     "output_type": "stream",
     "text": [
      "110\n",
      "120\n",
      "130\n",
      "140\n",
      "150\n",
      "160\n",
      "170\n",
      "180\n",
      "190\n",
      "200\n",
      "210\n",
      "220\n",
      "230\n",
      "240\n",
      "250\n",
      "260\n",
      "270\n",
      "280\n",
      "290\n",
      "300\n",
      "310\n",
      "320\n",
      "330\n",
      "340\n",
      "350\n",
      "360\n",
      "370\n",
      "380\n",
      "390\n",
      "400\n",
      "410\n",
      "420\n",
      "430\n",
      "440\n",
      "450\n",
      "460\n",
      "470\n",
      "480\n",
      "490\n",
      "500\n",
      "510\n",
      "520\n",
      "530\n",
      "540\n",
      "550\n",
      "560\n",
      "570\n",
      "580\n",
      "590\n",
      "600\n",
      "610\n",
      "620\n",
      "630\n",
      "640\n",
      "650\n",
      "660\n",
      "670\n",
      "680\n",
      "690\n",
      "700\n",
      "710\n",
      "720\n",
      "730\n",
      "740\n",
      "750\n",
      "760\n",
      "770\n",
      "780\n",
      "790\n",
      "800\n",
      "810\n",
      "820\n",
      "830\n",
      "840\n",
      "850\n",
      "860\n",
      "870\n",
      "880\n",
      "890\n",
      "900\n",
      "910\n",
      "920\n",
      "930\n",
      "940\n",
      "950\n",
      "960\n",
      "970\n",
      "980\n",
      "990\n",
      "1000\n",
      "1010\n",
      "1020\n",
      "1030\n",
      "1040\n",
      "1050\n",
      "1060\n",
      "1070\n",
      "1080\n",
      "1090\n",
      "1100\n",
      "1110\n",
      "1120\n",
      "1130\n",
      "1140\n",
      "1150\n",
      "1160\n",
      "1170\n",
      "1180\n",
      "1190\n",
      "1200\n",
      "1210\n",
      "1220\n",
      "1230\n",
      "1240\n",
      "1250\n",
      "1260\n",
      "1270\n",
      "1280\n",
      "1290\n",
      "1300\n",
      "1310\n",
      "1320\n",
      "1330\n",
      "1340\n",
      "1350\n",
      "1360\n",
      "1370\n",
      "1380\n",
      "1390\n",
      "1400\n",
      "1410\n",
      "1420\n",
      "1430\n",
      "1440\n",
      "1450\n",
      "1460\n",
      "1470\n",
      "1480\n",
      "1490\n",
      "1500\n",
      "1510\n",
      "1520\n",
      "1530\n",
      "1540\n",
      "1550\n",
      "1560\n",
      "1570\n",
      "1580\n",
      "1590\n",
      "1600\n",
      "1610\n",
      "1620\n",
      "1630\n",
      "1640\n",
      "1650\n"
     ]
    }
   ],
   "source": [
    "science_df = aquire.take_words(science_articles, stop_words)"
   ]
  },
  {
   "cell_type": "code",
   "execution_count": 130,
   "metadata": {},
   "outputs": [],
   "source": [
    "religion_labeled_df = religion_df.copy()\n",
    "religion_labeled__df['label'] = 0\n",
    "\n",
    "science_labeled_df = science_df.copy()\n",
    "science_labeled_df['label'] = 1\n",
    "\n",
    "words_df = pd.concat([religion_labeled_df, science_labeled_df])\n",
    "labels_df = words_df['label']\n",
    "words_df.drop(columns=['label'])"
   ]
  },
  {
   "cell_type": "code",
   "execution_count": 131,
   "metadata": {},
   "outputs": [
    {
     "name": "stderr",
     "output_type": "stream",
     "text": [
      "/Users/lucaseckes/miniconda2/envs/ntds_2019/lib/python3.7/site-packages/ipykernel_launcher.py:1: FutureWarning: Sorting because non-concatenation axis is not aligned. A future version\n",
      "of pandas will change to not sort by default.\n",
      "\n",
      "To accept the future behavior, pass 'sort=False'.\n",
      "\n",
      "To retain the current behavior and silence the warning, pass 'sort=True'.\n",
      "\n",
      "  \"\"\"Entry point for launching an IPython kernel.\n"
     ]
    }
   ],
   "source": [
    "nlpu = NLPUtilities()"
   ]
  },
  {
   "cell_type": "code",
   "execution_count": null,
   "metadata": {},
   "outputs": [],
   "source": [
    "TF_IDF_religion = nlpu.TF_IDF(religion_df, 500)\n",
    "TF_IDF_science = nlpu.TF_IDF(science_df, 500)\n",
    "important_words_df = pd.concat([TF_IDF_religion, TF_IDF_science])\n",
    "important_words_df['words'] = important_words_df.index\n",
    "important_words_df = important_words_df.drop_duplicates(subset = ['words'])\n",
    "important_words_df.sort_values(['tfidf'], ascending = False)"
   ]
  },
  {
   "cell_type": "code",
   "execution_count": 450,
   "metadata": {},
   "outputs": [
    {
     "ename": "NameError",
     "evalue": "name 'aquire' is not defined",
     "output_type": "error",
     "traceback": [
      "\u001b[0;31m---------------------------------------------------------------------------\u001b[0m",
      "\u001b[0;31mNameError\u001b[0m                                 Traceback (most recent call last)",
      "\u001b[0;32m<ipython-input-450-ba7739d88596>\u001b[0m in \u001b[0;36m<module>\u001b[0;34m\u001b[0m\n\u001b[0;32m----> 1\u001b[0;31m \u001b[0mfeatures\u001b[0m \u001b[0;34m=\u001b[0m \u001b[0maquire\u001b[0m\u001b[0;34m.\u001b[0m\u001b[0mmake_features\u001b[0m\u001b[0;34m(\u001b[0m\u001b[0mwords_df\u001b[0m\u001b[0;34m,\u001b[0m \u001b[0mimportant_words_df\u001b[0m\u001b[0;34m)\u001b[0m\u001b[0;34m\u001b[0m\u001b[0;34m\u001b[0m\u001b[0m\n\u001b[0m",
      "\u001b[0;31mNameError\u001b[0m: name 'aquire' is not defined"
     ]
    }
   ],
   "source": [
    "features = aquire.make_features(words_df, important_words_df)"
   ]
  },
  {
   "cell_type": "markdown",
   "metadata": {},
   "source": [
    "We have hence aquired the data and put it in a dataframe called features. Its rows are the different articles and each column is an important word (according to TF-IDF scores)."
   ]
  },
  {
   "cell_type": "markdown",
   "metadata": {},
   "source": [
    "# II. Data Exploration"
   ]
  },
  {
   "cell_type": "code",
   "execution_count": 451,
   "metadata": {},
   "outputs": [],
   "source": [
    "from scipy.spatial.distance import pdist, squareform\n",
    "import operator\n",
    "from sklearn.manifold import TSNE"
   ]
  },
  {
   "cell_type": "markdown",
   "metadata": {},
   "source": [
    "## Matrix Utilities"
   ]
  },
  {
   "cell_type": "code",
   "execution_count": 463,
   "metadata": {},
   "outputs": [],
   "source": [
    "class MatrixUtils():\n",
    "    \n",
    "    @staticmethod\n",
    "    def epsilon_similarity_graph(X: np.ndarray, sigma=1, epsilon=0):\n",
    "        \"\"\" \n",
    "        Fnction to compute the epsilon similarity graph seen in class\n",
    "        Arguments:\n",
    "        X (n x d): coordinates of the n data points in R^d.\n",
    "        sigma (float): width of the kernel\n",
    "        epsilon (float): threshold\n",
    "        Returns:\n",
    "        adjacency (n x n ndarray): adjacency matrix of the graph.\n",
    "        \"\"\"\n",
    "        adjacency = squareform(pdist(X))\n",
    "        adjacency = np.exp((- adjacency**2)/(2 * sigma**2))\n",
    "        adjacency[adjacency < epsilon] = 0\n",
    "        #according to the formula on slide 11 in the spectral clustering lecture, we set the diagonal to 0\n",
    "        np.fill_diagonal(adjacency,0)\n",
    "        return adjacency\n",
    "    \n",
    "    @staticmethod\n",
    "    def compute_laplacian(adjacency: np.ndarray, normalize: bool):\n",
    "        \"\"\" \n",
    "        Function to compute the laplacian\n",
    "        Arguments:\n",
    "        adjacency - an adjacency matrix for which to compute the laplacian\n",
    "        normalize - if set to True, the normalized laplacian is returned, otherwise the combinatorial one is returned \n",
    "        Returns:\n",
    "        L (n x n ndarray): combinatorial or symmetric normalized Laplacian.\n",
    "        \"\"\"\n",
    "        degrees_l = np.sum(adjacency,axis=1)\n",
    "        if(not normalize):\n",
    "            degrees = np.zeros(adjacency.shape)\n",
    "            np.fill_diagonal(degrees,degrees_l)\n",
    "            return degrees - adjacency \n",
    "        else:\n",
    "            degrees = np.sqrt(np.array([degrees_l]).T @ np.array([degrees_l]))\n",
    "            L = - adjacency/degrees\n",
    "            np.fill_diagonal(L,np.ones(len(adjacency)))\n",
    "            return L\n",
    "    \n",
    "    @staticmethod\n",
    "    def spectral_decomposition(laplacian: np.ndarray):\n",
    "        \"\"\"\n",
    "        Function to carry out spectral decomposition on a given matrix\n",
    "        Arguments:\n",
    "        laplacian - matrix on which to carry out decomposition\n",
    "        Returns:\n",
    "        lamb (np.array): eigenvalues of the Laplacian\n",
    "        U (np.ndarray): corresponding eigenvectors.\n",
    "        \"\"\"\n",
    "        values, vectors = np.linalg.eig(laplacian)\n",
    "        sorted_indices = np.argsort(values)\n",
    "        return values[sorted_indices], vectors[:,sorted_indices]\n",
    "    \n",
    "    @staticmethod\n",
    "    def GFT(signal: np.ndarray):\n",
    "        \"\"\"\n",
    "        Function to compute the fourier transform of a signal\n",
    "        Arguments:\n",
    "        signal - the signal for which to compute the fourier transform (in the form of an Numpy array)\n",
    "        Returns:\n",
    "        fourier - the fourier transform of the signal provided\n",
    "        \"\"\"\n",
    "        fourier = U.transpose()@signal\n",
    "        return fourier\n",
    "    \n",
    "    @staticmethod\n",
    "    def iGFT(fourier_coefficients: np.ndarray):\n",
    "        \"\"\"\n",
    "        Function to compute the signal from a fourier transform\n",
    "        Arguments:\n",
    "        fourier_coefficients - the fourier coefficients from which to get the signal (in the form of an Numpy array)\n",
    "        Returns:\n",
    "        signal - the signal for the fourier coefficients given\n",
    "        \"\"\"\n",
    "        signal = U@fourier_coefficients\n",
    "        return signal"
   ]
  },
  {
   "cell_type": "markdown",
   "metadata": {},
   "source": [
    "## Filter Utilities"
   ]
  },
  {
   "cell_type": "code",
   "execution_count": 464,
   "metadata": {},
   "outputs": [],
   "source": [
    "class FilterUtilities():\n",
    "    \n",
    "    @staticmethod    \n",
    "    def ideal_graph_filter(x: np.ndarray, spectral_response: np.ndarray):\n",
    "        \"\"\"\n",
    "        Function to apply an idea filter to a graph\n",
    "        Arguments:\n",
    "        x - the signal on which to apply the filter\n",
    "        spectral_response - the spectral response of the signal\n",
    "        Returns:\n",
    "        filtered_graph - a filtered signal\n",
    "        \"\"\"\n",
    "        fourier = MatrixUtils().GFT(x);\n",
    "        h = np.diag(spectral_response)\n",
    "        filtered_graph = U@h@fourier\n",
    "        return filtered_graph"
   ]
  },
  {
   "cell_type": "code",
   "execution_count": 465,
   "metadata": {},
   "outputs": [],
   "source": [
    "class VisUtils():\n",
    "    \n",
    "    @staticmethod\n",
    "    def laplacian_eigenmaps(X:np.ndarray, dim: int, sigma: float, epsilon: float, normalize: bool):\n",
    "        \"\"\"\n",
    "        Function to compute the laplacian eigenmap if a given matrix\n",
    "        Arguments:\n",
    "        X - the matrix for which to compute the eigenmaps\n",
    "        dim - the dimension of the data we would like to return\n",
    "        sigma - the sigma parameter for the epsilon similarity graph\n",
    "        epsilon - the epsilon parameter for the epsilon similarity graph\n",
    "        normalize - if set to True, the normalized laplacian is used, otherwise the combinatorial one is used \n",
    "        Returns:\n",
    "        coords (n x dim array): new coordinates for the data points\n",
    "        \"\"\"\n",
    "        adjacency = MatrixUtils().epsilon_similarity_graph(X, sigma, epsilon)\n",
    "        laplacian = MatrixUtils().compute_laplacian(adjacency, normalize)\n",
    "        eigenvalues, eigenvectors = MatrixUtils().spectral_decomposition(np.nan_to_num(laplacian)) \n",
    "        return (eigenvectors[:,1:dim+1])"
   ]
  },
  {
   "cell_type": "markdown",
   "metadata": {},
   "source": [
    "## Exploring graph properties"
   ]
  },
  {
   "cell_type": "code",
   "execution_count": 388,
   "metadata": {},
   "outputs": [
    {
     "data": {
      "text/plain": [
       "array([4.000e+00, 3.700e+01, 2.000e+00, 1.160e+02, 5.980e+02, 8.900e+01,\n",
       "       1.073e+03, 5.600e+01, 5.400e+02, 3.130e+02, 3.590e+02, 3.950e+02,\n",
       "       2.190e+02, 1.050e+02, 3.150e+02, 2.410e+02, 4.000e+00, 7.400e+01,\n",
       "       2.160e+02, 9.000e+00, 1.400e+01, 2.440e+02, 2.390e+02, 5.000e+00,\n",
       "       1.000e+01, 4.000e+00, 8.000e+00, 1.300e+01, 1.800e+01, 4.520e+02,\n",
       "       2.102e+03, 4.000e+00, 7.000e+00, 9.860e+02, 8.400e+01, 1.072e+03,\n",
       "       2.000e+00, 6.070e+02, 8.000e+00, 3.140e+02, 4.200e+01, 5.400e+01,\n",
       "       5.200e+01, 1.620e+02, 1.480e+02, 1.000e+01, 1.100e+01, 8.100e+01,\n",
       "       3.180e+02, 1.910e+02, 4.100e+02, 3.000e+02, 1.600e+01, 2.900e+02,\n",
       "       3.140e+02, 4.670e+02, 8.660e+02, 3.640e+02, 1.700e+01, 1.400e+01,\n",
       "       2.740e+02, 2.250e+02, 2.720e+02, 5.160e+02, 1.300e+02, 7.100e+02,\n",
       "       6.900e+01, 1.570e+02, 4.510e+02, 3.490e+02, 3.900e+02, 4.630e+02,\n",
       "       2.000e+00, 2.410e+02, 4.000e+00, 6.000e+00, 1.100e+02, 1.470e+02,\n",
       "       1.400e+01, 1.142e+03, 1.100e+02, 8.190e+02, 3.570e+02, 3.350e+02,\n",
       "       7.230e+02, 6.300e+02, 6.550e+02, 5.400e+02, 3.430e+02, 1.370e+02,\n",
       "       1.300e+01, 7.300e+02, 1.450e+02, 3.240e+02, 1.700e+02, 1.410e+02,\n",
       "       3.370e+02, 2.560e+02, 9.000e+00, 7.000e+00, 1.300e+01, 1.161e+03,\n",
       "       7.700e+01, 2.000e+00, 1.330e+02, 8.000e+00, 9.000e+00, 6.000e+00,\n",
       "       5.000e+00, 4.000e+00, 1.200e+01, 2.370e+02, 6.600e+01, 2.440e+02,\n",
       "       5.140e+02, 1.030e+02, 2.300e+01, 6.100e+02, 3.450e+02, 9.290e+02,\n",
       "       7.000e+01, 3.480e+02, 2.840e+02, 5.800e+01, 2.880e+02, 3.150e+02,\n",
       "       2.000e+00, 3.230e+02, 7.870e+02, 6.010e+02, 3.390e+02, 7.180e+02,\n",
       "       3.040e+02, 2.800e+01, 3.130e+02, 2.830e+02, 1.990e+02, 8.200e+01,\n",
       "       2.950e+02, 3.800e+01, 3.420e+02, 3.060e+02, 2.400e+02, 4.400e+01,\n",
       "       5.600e+02, 6.500e+01, 2.000e+01, 9.170e+02, 9.700e+01, 4.140e+02,\n",
       "       7.920e+02, 1.750e+02, 2.000e+00, 3.850e+02, 2.000e+00, 1.300e+01,\n",
       "       1.000e+01, 7.880e+02, 8.500e+01, 4.940e+02, 2.850e+02, 3.210e+02,\n",
       "       4.600e+01, 1.880e+02, 9.000e+00, 4.390e+02, 9.600e+02, 2.360e+02,\n",
       "       9.400e+01, 1.070e+02, 1.000e+01, 5.000e+00, 3.060e+02, 9.000e+00,\n",
       "       4.780e+02, 3.780e+02, 5.400e+02, 1.670e+02, 1.970e+02, 9.300e+01,\n",
       "       1.270e+02, 1.160e+02, 7.000e+00, 5.470e+02, 1.740e+02, 8.200e+01,\n",
       "       4.790e+02, 1.620e+02, 4.000e+00, 4.730e+02, 5.900e+01, 6.660e+02,\n",
       "       3.380e+02, 1.880e+02, 6.000e+00, 2.880e+02, 1.500e+01, 8.300e+01,\n",
       "       2.460e+02, 2.000e+00, 1.270e+02, 2.570e+02, 6.090e+02, 1.980e+02,\n",
       "       8.500e+01, 2.140e+02, 5.510e+02, 1.810e+02, 4.760e+02, 1.940e+02,\n",
       "       2.000e+00, 2.390e+02, 2.000e+00, 8.900e+01, 1.800e+02, 8.000e+00,\n",
       "       1.000e+01, 9.500e+01, 3.850e+02, 3.630e+02, 8.360e+02, 8.920e+02,\n",
       "       8.900e+01, 1.600e+01, 1.610e+02, 1.600e+01, 1.139e+03, 8.000e+00,\n",
       "       7.800e+01, 1.240e+02, 1.000e+01, 9.000e+00, 3.080e+02, 1.000e+01,\n",
       "       3.710e+02, 1.960e+02, 2.030e+02, 7.000e+00, 2.560e+02, 2.280e+02,\n",
       "       2.870e+02, 4.000e+00, 4.440e+02, 9.900e+01, 3.540e+02, 1.970e+02,\n",
       "       2.070e+02, 4.000e+00, 1.720e+02, 7.000e+00, 6.000e+00, 4.000e+00,\n",
       "       8.000e+00, 1.100e+01, 8.140e+02, 6.000e+00, 6.000e+00, 4.200e+01,\n",
       "       7.000e+00, 3.870e+02, 3.690e+02, 1.400e+01, 2.990e+02, 7.000e+00,\n",
       "       2.490e+02, 8.000e+00, 4.740e+02, 2.000e+00, 1.400e+01, 2.380e+02,\n",
       "       8.700e+01, 2.490e+02, 1.250e+02, 3.230e+02, 6.350e+02, 6.250e+02,\n",
       "       2.000e+00, 4.000e+00, 3.200e+01, 2.800e+02, 1.720e+02, 2.170e+02,\n",
       "       2.660e+02, 1.770e+02, 2.590e+02, 1.860e+02, 1.200e+01, 2.700e+01,\n",
       "       5.070e+02, 4.900e+02, 1.007e+03, 3.400e+02, 4.980e+02, 7.000e+02,\n",
       "       1.460e+02, 8.110e+02, 2.190e+02, 2.530e+02, 1.110e+03, 1.200e+02,\n",
       "       4.850e+02, 5.790e+02, 3.140e+02, 5.660e+02, 2.820e+02, 4.070e+02,\n",
       "       2.150e+02, 4.020e+02, 1.350e+02, 3.020e+02, 2.610e+02, 1.100e+01,\n",
       "       6.440e+02, 1.970e+02, 1.200e+01, 5.020e+02, 4.970e+02, 2.250e+02,\n",
       "       2.700e+01, 1.700e+02, 9.700e+01, 4.000e+00, 7.200e+01, 8.360e+02,\n",
       "       3.290e+02, 1.477e+03, 9.000e+00, 3.430e+02, 1.550e+02, 3.880e+02,\n",
       "       3.130e+02, 3.880e+02, 1.200e+01, 2.300e+02, 1.051e+03, 3.780e+02,\n",
       "       6.370e+02, 1.070e+03, 8.300e+01, 5.730e+02, 3.520e+02, 6.000e+00,\n",
       "       3.900e+02, 3.430e+02, 1.260e+02, 8.000e+00, 2.100e+01, 2.390e+02,\n",
       "       1.000e+01, 9.000e+00, 1.300e+01, 9.910e+02, 9.800e+01, 8.660e+02,\n",
       "       3.860e+02, 2.700e+01, 7.000e+00, 1.400e+01, 1.920e+02, 7.880e+02,\n",
       "       1.300e+01, 3.180e+02, 7.000e+02, 2.000e+00, 5.000e+00, 1.580e+02,\n",
       "       4.460e+02, 2.810e+02, 8.600e+01, 9.430e+02, 7.620e+02, 8.900e+01,\n",
       "       1.000e+01, 2.000e+00, 2.000e+00, 1.320e+02, 4.000e+00, 2.210e+02,\n",
       "       8.000e+00, 6.360e+02, 1.400e+01, 2.080e+02, 7.000e+00, 3.900e+01,\n",
       "       1.390e+02, 1.400e+01, 3.000e+00, 2.880e+02, 2.900e+02, 2.000e+00,\n",
       "       6.120e+02, 2.980e+02, 1.090e+02, 1.371e+03, 2.000e+00, 3.350e+02,\n",
       "       1.200e+01, 3.910e+02, 1.157e+03, 1.136e+03, 2.690e+02, 5.000e+00,\n",
       "       5.000e+00, 8.000e+00, 7.000e+00, 1.700e+02, 4.120e+02, 3.370e+02,\n",
       "       2.730e+02, 1.100e+01, 1.000e+01, 3.840e+02, 6.000e+00, 8.690e+02,\n",
       "       1.000e+01, 1.100e+01, 1.117e+03, 6.540e+02, 1.296e+03, 4.300e+02,\n",
       "       3.380e+02, 1.500e+02, 7.430e+02, 8.500e+01, 1.100e+01, 3.660e+02,\n",
       "       4.000e+00, 6.000e+00, 3.940e+02, 4.000e+00, 4.000e+00, 3.620e+02,\n",
       "       6.000e+00, 7.600e+01, 7.920e+02, 2.300e+01, 4.100e+02, 2.070e+02,\n",
       "       1.580e+02, 1.290e+02, 4.000e+00, 1.330e+02, 9.000e+01, 3.900e+01,\n",
       "       7.220e+02, 4.040e+02, 3.230e+02, 6.000e+00, 2.370e+02, 6.000e+00,\n",
       "       5.800e+01, 9.300e+01, 5.350e+02, 2.580e+02, 2.090e+02, 6.000e+00,\n",
       "       2.000e+00, 3.430e+02, 9.000e+00, 4.180e+02, 2.700e+02, 7.880e+02,\n",
       "       3.400e+02, 1.800e+01, 3.490e+02, 2.740e+02, 7.000e+00, 1.000e+01,\n",
       "       4.000e+00, 1.180e+02, 8.020e+02, 1.167e+03, 1.260e+02, 8.700e+01,\n",
       "       6.000e+00, 1.100e+01, 2.000e+00, 9.800e+01, 1.400e+01, 5.520e+02,\n",
       "       2.480e+02, 3.780e+02, 2.890e+02, 5.680e+02, 9.850e+02, 3.820e+02,\n",
       "       1.100e+01, 7.490e+02, 5.160e+02, 1.770e+02, 3.610e+02, 1.200e+01,\n",
       "       6.460e+02, 1.099e+03, 4.000e+00, 1.048e+03, 4.600e+02, 5.480e+02,\n",
       "       5.720e+02, 2.000e+01, 3.100e+01, 3.210e+02, 1.450e+02, 7.000e+00,\n",
       "       7.000e+00, 4.000e+00, 7.000e+00, 8.400e+01, 2.000e+00, 1.010e+02,\n",
       "       1.500e+01, 5.100e+01, 7.000e+00, 1.200e+01, 6.460e+02, 3.110e+02,\n",
       "       7.790e+02, 9.250e+02, 6.940e+02, 6.000e+00, 6.600e+02, 1.200e+01,\n",
       "       6.000e+00, 7.000e+00, 1.469e+03, 6.000e+00, 9.000e+00, 1.100e+01,\n",
       "       1.920e+02, 7.900e+01, 2.000e+00, 5.000e+00, 1.200e+01, 1.630e+02,\n",
       "       1.491e+03, 1.600e+01, 1.000e+01, 3.830e+02, 6.760e+02, 7.810e+02,\n",
       "       2.540e+02, 2.330e+02, 1.300e+02, 5.180e+02, 3.020e+02, 1.220e+02,\n",
       "       6.620e+02, 2.000e+00, 2.000e+01, 4.000e+00, 3.580e+02, 8.300e+01,\n",
       "       5.070e+02, 9.440e+02, 1.400e+01, 2.000e+00, 7.000e+01, 2.000e+00,\n",
       "       1.500e+01, 1.050e+02, 1.900e+01, 3.350e+02, 1.500e+02, 3.640e+02,\n",
       "       7.400e+01, 3.600e+01, 6.760e+02, 3.430e+02, 8.590e+02, 1.540e+02,\n",
       "       4.840e+02, 4.200e+01, 2.660e+02, 3.350e+02, 2.430e+02, 2.000e+00,\n",
       "       1.800e+02, 1.670e+02, 1.610e+02, 3.900e+01, 6.300e+01, 1.400e+01,\n",
       "       2.520e+02, 1.500e+01, 3.080e+02, 2.340e+02, 8.300e+02, 9.020e+02,\n",
       "       5.000e+00, 3.460e+02, 3.400e+02, 1.160e+02, 5.520e+02, 2.330e+02,\n",
       "       1.529e+03, 6.000e+00, 4.400e+01, 5.000e+00, 6.000e+00, 2.300e+01,\n",
       "       1.310e+02, 2.000e+00, 3.690e+02, 1.088e+03, 3.500e+02, 1.400e+01,\n",
       "       4.100e+01, 9.100e+01, 4.000e+00, 3.400e+02, 1.205e+03, 1.641e+03,\n",
       "       1.000e+01, 1.690e+02, 1.140e+02, 8.840e+02, 1.570e+02, 3.430e+02,\n",
       "       4.870e+02, 7.050e+02, 3.630e+02, 3.280e+02, 1.260e+02, 1.600e+01,\n",
       "       9.760e+02, 3.010e+02, 1.730e+02, 5.710e+02, 1.340e+02, 2.000e+00,\n",
       "       1.100e+01, 1.500e+01, 4.000e+00, 8.080e+02, 7.000e+00, 2.400e+02,\n",
       "       4.630e+02, 4.000e+00, 8.000e+00, 1.290e+03, 1.890e+02, 3.640e+02,\n",
       "       2.600e+02, 3.400e+02, 3.290e+02, 1.400e+01, 4.080e+02, 3.540e+02,\n",
       "       1.300e+01, 4.070e+02, 1.000e+02, 6.440e+02, 2.670e+02, 5.100e+01,\n",
       "       8.640e+02, 3.870e+02, 6.180e+02, 2.760e+02, 7.800e+01, 3.000e+00,\n",
       "       4.000e+00, 3.780e+02, 1.600e+02, 7.750e+02, 1.100e+01, 6.760e+02,\n",
       "       2.180e+02, 3.240e+02, 8.780e+02, 2.550e+02, 6.400e+02, 2.880e+02,\n",
       "       4.000e+00, 1.100e+01, 3.060e+02, 1.510e+02, 5.000e+00, 1.000e+01,\n",
       "       1.200e+01, 1.410e+02, 3.450e+02, 6.000e+00, 4.160e+02, 3.480e+02,\n",
       "       1.600e+02, 9.200e+01, 2.470e+02, 7.200e+01, 3.000e+00, 3.000e+00,\n",
       "       4.040e+02, 2.000e+01, 9.030e+02, 4.770e+02, 5.000e+00, 1.330e+02,\n",
       "       9.600e+01, 1.270e+02, 7.000e+00, 6.400e+01, 4.000e+00, 8.390e+02,\n",
       "       3.780e+02, 5.080e+02, 5.150e+02, 3.150e+02, 1.100e+01, 4.730e+02,\n",
       "       1.880e+02, 8.400e+01, 3.090e+02, 4.730e+02, 1.880e+02, 9.000e+00,\n",
       "       5.000e+00, 1.400e+01, 8.600e+02, 3.570e+02, 5.020e+02, 2.280e+02,\n",
       "       2.910e+02, 2.940e+02, 4.200e+01, 1.073e+03, 2.000e+00, 6.650e+02,\n",
       "       2.000e+00, 7.600e+01, 1.131e+03, 6.800e+01, 4.000e+00, 6.000e+01,\n",
       "       1.200e+01, 1.000e+01, 2.980e+02, 4.000e+00, 2.500e+02, 7.100e+01,\n",
       "       2.000e+00, 6.000e+00, 1.000e+01, 4.960e+02, 2.300e+01, 5.810e+02,\n",
       "       3.740e+02, 4.000e+00, 2.250e+02, 4.260e+02, 1.180e+02, 1.850e+02,\n",
       "       1.300e+01, 1.960e+02, 2.090e+02, 1.390e+02, 6.000e+00, 3.610e+02,\n",
       "       1.200e+01, 1.260e+02, 8.100e+01, 2.000e+00, 2.060e+02, 2.000e+00,\n",
       "       1.100e+01, 2.000e+00, 2.150e+02, 6.000e+00, 2.000e+00, 7.100e+01,\n",
       "       2.900e+01, 2.000e+00, 3.640e+02, 1.200e+01, 3.000e+00, 4.000e+00,\n",
       "       1.200e+01, 2.660e+02, 4.950e+02, 4.680e+02, 8.000e+00, 1.573e+03,\n",
       "       1.200e+01, 1.316e+03, 9.000e+00, 1.710e+02, 1.540e+02, 4.000e+00,\n",
       "       1.460e+02, 3.520e+02, 4.500e+01, 2.680e+02, 2.990e+02, 6.820e+02,\n",
       "       1.600e+01, 5.970e+02, 4.360e+02, 1.580e+02, 4.400e+01, 3.880e+02,\n",
       "       8.310e+02, 1.050e+03, 1.300e+01, 7.100e+01, 3.540e+02, 6.000e+01,\n",
       "       4.000e+00, 6.000e+00, 2.000e+00, 1.400e+01, 6.380e+02, 1.660e+02,\n",
       "       8.400e+01, 5.000e+00, 1.070e+02, 6.200e+01, 8.930e+02, 3.320e+02,\n",
       "       1.135e+03, 2.000e+00, 2.130e+02, 2.740e+02, 9.240e+02, 1.950e+02,\n",
       "       9.600e+01, 9.000e+00, 8.000e+00, 8.200e+02, 3.110e+02, 1.800e+02,\n",
       "       2.450e+02, 5.880e+02, 6.420e+02, 4.950e+02, 8.700e+01, 2.500e+02,\n",
       "       5.000e+00, 3.930e+02, 5.760e+02, 1.900e+02, 9.990e+02, 1.127e+03,\n",
       "       2.000e+00, 2.000e+00, 8.010e+02, 2.540e+02, 3.370e+02, 4.810e+02,\n",
       "       9.630e+02, 1.042e+03, 2.320e+02, 4.400e+01, 7.250e+02, 3.160e+02,\n",
       "       1.600e+02, 1.690e+02, 3.860e+02, 2.490e+02, 7.000e+00, 1.080e+02,\n",
       "       5.000e+00, 1.110e+02, 2.010e+02, 4.600e+01, 1.600e+01, 4.000e+00,\n",
       "       9.440e+02, 1.900e+01, 5.600e+01, 5.000e+00, 9.200e+01, 9.000e+00,\n",
       "       1.370e+02, 2.840e+02, 2.310e+02, 8.400e+01, 3.100e+02, 9.970e+02,\n",
       "       7.090e+02, 2.260e+02, 4.000e+00, 3.780e+02, 9.200e+01, 1.490e+02,\n",
       "       3.920e+02, 4.700e+02, 2.880e+02, 5.880e+02, 7.670e+02, 7.080e+02,\n",
       "       1.690e+02, 9.950e+02, 2.000e+00, 5.660e+02, 8.680e+02, 1.200e+01,\n",
       "       1.308e+03, 8.620e+02, 5.640e+02, 5.740e+02, 9.800e+01, 3.930e+02,\n",
       "       3.740e+02, 5.110e+02, 5.180e+02, 6.590e+02, 2.450e+02, 4.700e+02,\n",
       "       1.000e+01, 4.400e+01, 7.100e+01, 3.900e+01, 7.000e+00, 3.100e+02,\n",
       "       1.410e+02, 3.000e+00, 3.000e+00, 6.000e+00, 5.880e+02, 4.470e+02,\n",
       "       2.470e+02, 2.000e+00, 7.000e+00, 1.285e+03, 7.000e+00, 5.000e+00,\n",
       "       4.000e+00, 2.130e+02, 2.000e+01, 1.500e+01, 3.810e+02, 6.750e+02,\n",
       "       3.540e+02, 1.100e+01, 9.490e+02, 1.910e+02, 3.960e+02, 4.220e+02,\n",
       "       4.000e+00, 7.590e+02, 2.780e+02, 1.280e+03, 1.505e+03, 7.160e+02,\n",
       "       4.000e+00, 1.500e+01, 4.060e+02, 1.200e+01, 5.120e+02, 1.063e+03,\n",
       "       1.200e+01, 5.600e+01, 4.000e+00, 2.000e+00, 1.200e+01, 7.000e+01,\n",
       "       1.800e+01, 7.620e+02, 1.600e+02, 1.180e+02, 8.500e+01, 1.200e+01,\n",
       "       1.100e+01, 1.100e+01, 5.000e+00, 1.009e+03, 1.330e+02, 6.000e+00,\n",
       "       5.500e+01, 1.252e+03, 3.720e+02, 5.230e+02, 8.000e+00, 1.670e+02,\n",
       "       7.250e+02, 1.160e+02, 4.190e+02, 5.390e+02, 1.103e+03, 6.260e+02,\n",
       "       5.190e+02, 1.287e+03, 1.080e+02, 2.750e+02, 3.990e+02, 1.185e+03,\n",
       "       3.150e+02, 7.130e+02, 5.000e+00, 1.200e+01, 4.000e+00, 2.000e+00,\n",
       "       1.300e+01, 9.000e+00, 5.000e+00, 7.800e+01, 1.400e+01, 4.300e+01,\n",
       "       8.000e+00, 2.000e+00, 2.000e+00, 5.000e+00])"
      ]
     },
     "execution_count": 388,
     "metadata": {},
     "output_type": "execute_result"
    }
   ],
   "source": [
    "# computing the distances between the articles\n",
    "distances = np.array([[(np.sum((features[i,:]-features[j,:])**2)) for i in range(0,features.shape[0]) ] for j in range(0,features.shape[0])]).reshape(features.shape[0],-1)"
   ]
  },
  {
   "cell_type": "code",
   "execution_count": 455,
   "metadata": {},
   "outputs": [
    {
     "data": {
      "image/png": "[encoded data removed]",
      "text/plain": [
       "<Figure size 576x288 with 1 Axes>"
      ]
     },
     "metadata": {
      "needs_background": "light"
     },
     "output_type": "display_data"
    }
   ],
   "source": [
    "plt.figure(1, figsize=(8, 4))\n",
    "plt.title(\"Histogram of Euclidean distances between papers\")\n",
    "plt.hist(distances.flatten());"
   ]
  },
  {
   "cell_type": "code",
   "execution_count": 459,
   "metadata": {},
   "outputs": [],
   "source": [
    "feat = np.where(distances<150,1,0)\n",
    "np.fill_diagonal(feat, 0)"
   ]
  },
  {
   "cell_type": "code",
   "execution_count": 460,
   "metadata": {},
   "outputs": [],
   "source": [
    "# building a graph using the normalized distances\n",
    "graph = nx.from_numpy_matrix(feat)"
   ]
  },
  {
   "cell_type": "code",
   "execution_count": 461,
   "metadata": {},
   "outputs": [
    {
     "name": "stdout",
     "output_type": "stream",
     "text": [
      "The giant component of the feature graph has 1770 nodes and 1141851 edges.\n"
     ]
    }
   ],
   "source": [
    "# assessing the giant component size\n",
    "giant_feature = max(nx.connected_component_subgraphs(graph), key=len)\n",
    "print('The giant component of the feature graph has {} nodes and {} edges.'.format(giant_feature.number_of_nodes(), giant_feature.size()))"
   ]
  },
  {
   "cell_type": "code",
   "execution_count": null,
   "metadata": {},
   "outputs": [],
   "source": [
    "# getting the average clustering coefficient of our graph\n",
    "nx.average_clustering(graph)"
   ]
  },
  {
   "cell_type": "markdown",
   "metadata": {},
   "source": [
    "## Exploring possible clustering in the graph"
   ]
  },
  {
   "cell_type": "code",
   "execution_count": 472,
   "metadata": {},
   "outputs": [],
   "source": [
    "matrixu = MatrixUtils()"
   ]
  },
  {
   "cell_type": "code",
   "execution_count": 473,
   "metadata": {},
   "outputs": [
    {
     "data": {
      "image/png": "[encoded data removed]",
      "text/plain": [
       "<Figure size 432x288 with 1 Axes>"
      ]
     },
     "metadata": {
      "needs_background": "light"
     },
     "output_type": "display_data"
    }
   ],
   "source": [
    "plt.spy(feat)\n",
    "plt.show()"
   ]
  },
  {
   "cell_type": "code",
   "execution_count": 481,
   "metadata": {},
   "outputs": [
    {
     "data": {
      "image/png": "[encoded data removed]",
      "text/plain": [
       "<Figure size 432x288 with 1 Axes>"
      ]
     },
     "metadata": {
      "needs_background": "light"
     },
     "output_type": "display_data"
    }
   ],
   "source": [
    "adjacency = matrixu.epsilon_similarity_graph(feat, sigma= 8*np.mean(feat), epsilon=0.40)\n",
    "plt.spy(adjacency)\n",
    "plt.show()"
   ]
  },
  {
   "cell_type": "code",
   "execution_count": null,
   "metadata": {},
   "outputs": [],
   "source": [
    "import operator\n",
    "pr = nx.pagerank(graph)\n",
    "sorted_pr = sorted(pr.items(), key=operator.itemgetter(1), reverse = True)"
   ]
  },
  {
   "cell_type": "code",
   "execution_count": null,
   "metadata": {},
   "outputs": [],
   "source": [
    "sorted_pr[:10]"
   ]
  },
  {
   "cell_type": "markdown",
   "metadata": {},
   "source": [
    "## Exploring possible clustering in the graph after passing it through an ideal filter"
   ]
  },
  {
   "cell_type": "code",
   "execution_count": 300,
   "metadata": {},
   "outputs": [
    {
     "name": "stderr",
     "output_type": "stream",
     "text": [
      "/Users/lucaseckes/miniconda2/envs/ntds_2019/lib/python3.7/site-packages/ipykernel_launcher.py:12: RuntimeWarning: invalid value encountered in true_divide\n",
      "  if sys.path[0] == '':\n"
     ]
    }
   ],
   "source": [
    "# Computing the laplacian\n",
    "laplacian = matrixu.compute_laplacian(adjacency, normalize=True)\n",
    "lam, U = matrixu.spectral_decomposition(np.nan_to_num(laplacian))"
   ]
  },
  {
   "cell_type": "code",
   "execution_count": 181,
   "metadata": {},
   "outputs": [],
   "source": [
    "alpha = 0.99 / np.max(lam)\n",
    "\n",
    "ideal_tk =  1/(1 + alpha*lam)"
   ]
  },
  {
   "cell_type": "code",
   "execution_count": 183,
   "metadata": {},
   "outputs": [],
   "source": [
    "filt = ideal_graph_filter(adjacency.tolist(),ideal_tk)"
   ]
  },
  {
   "cell_type": "code",
   "execution_count": 184,
   "metadata": {},
   "outputs": [],
   "source": [
    "graph_filt = nx.from_numpy_matrix(filt)"
   ]
  },
  {
   "cell_type": "code",
   "execution_count": null,
   "metadata": {},
   "outputs": [],
   "source": [
    "options = {\n",
    "    'node_color': 'black',\n",
    "    'node_size': 20,\n",
    "    'line_color': 'grey',\n",
    "    'linewidths': 0.2,\n",
    "    'width': 0.3,\n",
    "}\n",
    "nx.draw(graph, **options)"
   ]
  },
  {
   "cell_type": "code",
   "execution_count": null,
   "metadata": {},
   "outputs": [],
   "source": [
    "options = {\n",
    "    'node_color': 'black',\n",
    "    'node_size': 20,\n",
    "    'line_color': 'grey',\n",
    "    'linewidths': 0.2,\n",
    "    'width': 0.3,\n",
    "}\n",
    "nx.draw(graph_filt, **options)"
   ]
  },
  {
   "cell_type": "code",
   "execution_count": null,
   "metadata": {},
   "outputs": [],
   "source": [
    "giant_features = max(nx.connected_component_subgraphs(graph_filt), key = len)"
   ]
  },
  {
   "cell_type": "code",
   "execution_count": null,
   "metadata": {},
   "outputs": [],
   "source": [
    "options = {\n",
    "    'node_color': 'black',\n",
    "    'node_size': 20,\n",
    "    'line_color': 'grey',\n",
    "    'linewidths': 0.2,\n",
    "    'width': 0.3,\n",
    "}\n",
    "nx.draw(giant_features, **options)"
   ]
  },
  {
   "cell_type": "code",
   "execution_count": null,
   "metadata": {},
   "outputs": [],
   "source": [
    "giant_features.nodes"
   ]
  },
  {
   "cell_type": "code",
   "execution_count": 196,
   "metadata": {},
   "outputs": [
    {
     "data": {
      "image/png": "[encoded data removed]",
      "text/plain": [
       "<Figure size 432x288 with 1 Axes>"
      ]
     },
     "metadata": {
      "needs_background": "light"
     },
     "output_type": "display_data"
    }
   ],
   "source": [
    "adjacency_filt = epsilon_similarity_graph(filt, sigma= 2*np.mean(feat), epsilon=0.60)\n",
    "plt.spy(adjacency)\n",
    "plt.show()"
   ]
  },
  {
   "cell_type": "markdown",
   "metadata": {},
   "source": [
    "## Visualizing the graph obtained"
   ]
  },
  {
   "cell_type": "code",
   "execution_count": null,
   "metadata": {},
   "outputs": [],
   "source": [
    "visu = VisUtils()"
   ]
  },
  {
   "cell_type": "markdown",
   "metadata": {},
   "source": [
    "### Laplacian Eigenmaps"
   ]
  },
  {
   "cell_type": "code",
   "execution_count": null,
   "metadata": {},
   "outputs": [],
   "source": [
    "twoD_embeddings = visu.laplacian_eigenmaps(feat, dim=2, sigma= 8*np.mean(feat), epsilon=0.40, normalize=True)"
   ]
  },
  {
   "cell_type": "code",
   "execution_count": 201,
   "metadata": {},
   "outputs": [
    {
     "data": {
      "text/plain": [
       "<matplotlib.collections.PathCollection at 0x1bd9fb898>"
      ]
     },
     "execution_count": 201,
     "metadata": {},
     "output_type": "execute_result"
    },
    {
     "data": {
      "image/png": "[encoded data removed]",
      "text/plain": [
       "<Figure size 432x288 with 1 Axes>"
      ]
     },
     "metadata": {
      "needs_background": "light"
     },
     "output_type": "display_data"
    }
   ],
   "source": [
    "plt.scatter(twoD_embeddings[0:800,0], twoD_embeddings[0:800,1], label=1)\n",
    "plt.scatter(twoD_embeddings[800:2650,0], twoD_embeddings[800:2650,1], label=2)\n",
    "plt.title('Graph of Wikipedia Science and Religion articles (done using Laplacian Eigenmaps)')"
   ]
  },
  {
   "cell_type": "markdown",
   "metadata": {},
   "source": [
    "### t-sne"
   ]
  },
  {
   "cell_type": "code",
   "execution_count": 397,
   "metadata": {},
   "outputs": [],
   "source": [
    "from sklearn.manifold import TSNE\n",
    "tsne = TSNE(n_components = 2)\n",
    "x_embed = tsne.fit_transform(adjacency)"
   ]
  },
  {
   "cell_type": "code",
   "execution_count": 403,
   "metadata": {},
   "outputs": [
    {
     "data": {
      "text/plain": [
       "<matplotlib.collections.PathCollection at 0x14e2ed208>"
      ]
     },
     "execution_count": 403,
     "metadata": {},
     "output_type": "execute_result"
    },
    {
     "data": {
      "image/png": "[encoded data removed]",
      "text/plain": [
       "<Figure size 432x288 with 1 Axes>"
      ]
     },
     "metadata": {
      "needs_background": "light"
     },
     "output_type": "display_data"
    }
   ],
   "source": [
    "plt.scatter(x_embed[0:800,0], x_embed[0:800,1], label=1)\n",
    "plt.scatter(x_embed[800:2650,0], x_embed[800:2650,1], label=2)\n",
    "plt.title('Graph of Wikipedia Science and Religion articles (done using tSN-E)')"
   ]
  },
  {
   "cell_type": "markdown",
   "metadata": {},
   "source": [
    "# III. Machine Learning"
   ]
  },
  {
   "cell_type": "code",
   "execution_count": 210,
   "metadata": {},
   "outputs": [
    {
     "data": {
      "text/plain": [
       "<torch._C.Generator at 0x169c48ef0>"
      ]
     },
     "execution_count": 210,
     "metadata": {},
     "output_type": "execute_result"
    }
   ],
   "source": [
    "import time\n",
    "\n",
    "import torch\n",
    "import torch.nn as nn\n",
    "import torch.nn.functional as F\n",
    "\n",
    "from dgl import DGLGraph\n",
    "import dgl.function as fn\n",
    "\n",
    "np.random.seed(0)\n",
    "torch.manual_seed(1)"
   ]
  },
  {
   "cell_type": "code",
   "execution_count": 211,
   "metadata": {},
   "outputs": [],
   "source": [
    "class LaplacianPolynomial(nn.Module):\n",
    "    def __init__(self,\n",
    "                 in_feats: int,\n",
    "                 out_feats: int,\n",
    "                 k: int,\n",
    "                 dropout_prob: float,\n",
    "                 norm=True):\n",
    "        super().__init__()\n",
    "        self._in_feats = in_feats\n",
    "        self._out_feats = out_feats\n",
    "        self._k = k\n",
    "        self._norm = norm\n",
    "        # Contains the weights learned by the Laplacian polynomial\n",
    "        self.pol_weights = nn.Parameter(torch.Tensor(self._k + 1))\n",
    "        # Contains the weights learned by the logistic regression (without bias)\n",
    "        self.logr_weights = nn.Parameter(torch.Tensor(in_feats, out_feats))\n",
    "        self.dropout = nn.Dropout(p=dropout_prob)\n",
    "        self.reset_parameters()\n",
    "\n",
    "    def reset_parameters(self):\n",
    "        \"\"\"Reinitialize learnable parameters.\"\"\"\n",
    "        torch.manual_seed(0)\n",
    "        torch.nn.init.xavier_uniform_(self.logr_weights, gain=0.01)\n",
    "        torch.nn.init.normal_(self.pol_weights, mean=0.0, std=1e-3)\n",
    "\n",
    "    def forward(self, graph, feat):\n",
    "        r\"\"\"Compute graph convolution.\n",
    "\n",
    "        Notes\n",
    "        -----\n",
    "        * Input shape: :math:`(N, *, \\text{in_feats})` where * means any number of additional\n",
    "          dimensions, :math:`N` is the number of nodes.\n",
    "        * Output shape: :math:`(N, *, \\text{out_feats})` where all but the last dimension are\n",
    "          the same shape as the input.\n",
    "\n",
    "        Parameters\n",
    "        ----------\n",
    "        graph (DGLGraph) : The graph.\n",
    "        feat (torch.Tensor): The input feature\n",
    "\n",
    "        Returns\n",
    "        -------\n",
    "        (torch.Tensor) The output feature\n",
    "        \"\"\"\n",
    "        feat = self.dropout(feat)\n",
    "        graph = graph.local_var()\n",
    "        \n",
    "        # D^(-1/2)\n",
    "        norm = torch.pow(graph.in_degrees().float().clamp(min=1), -0.5)\n",
    "        shp = norm.shape + (1,) * (feat.dim() - 1)\n",
    "        norm = torch.reshape(norm, shp)\n",
    "\n",
    "        # mult W first to reduce the feature size for aggregation.\n",
    "        feat = torch.matmul(feat, self.logr_weights)\n",
    "\n",
    "        result = self.pol_weights[0] * feat.clone()\n",
    "\n",
    "        for i in range(1, self._k + 1):\n",
    "            old_feat = feat.clone()\n",
    "            if self._norm:\n",
    "                feat = feat * norm\n",
    "            graph.ndata['h'] = feat\n",
    "            # Feat is not modified in place\n",
    "            graph.update_all(fn.copy_src(src='h', out='m'),\n",
    "                             fn.sum(msg='m', out='h'))\n",
    "            if self._norm:\n",
    "                graph.ndata['h'] = graph.ndata['h'] * norm\n",
    "\n",
    "            feat = old_feat - graph.ndata['h']\n",
    "            result += self.pol_weights[i] * feat\n",
    "\n",
    "        return result\n",
    "\n",
    "    def extra_repr(self):\n",
    "        \"\"\"Set the extra representation of the module,\n",
    "        which will come into effect when printing the model.\n",
    "        \"\"\"\n",
    "        summary = 'in={_in_feats}, out={_out_feats}'\n",
    "        summary += ', normalization={_norm}'\n",
    "        return summary.format(**self.__dict__)"
   ]
  },
  {
   "cell_type": "code",
   "execution_count": 212,
   "metadata": {},
   "outputs": [],
   "source": [
    "def train(model, g, features, labels, loss_fcn, train_mask, optimizer):\n",
    "    model.train()  # Activate dropout\n",
    "    \n",
    "    logits = model(g, features)\n",
    "    loss = loss_fcn(logits[train_mask], labels[train_mask])\n",
    "\n",
    "    optimizer.zero_grad()\n",
    "    loss.backward()\n",
    "    optimizer.step()\n",
    "    return loss\n",
    "\n",
    "def evaluate(model, g, features, labels, mask):\n",
    "    model.eval()  # Deactivate dropout\n",
    "    with torch.no_grad():\n",
    "        logits = model(g, features)[mask]  # only compute the evaluation set\n",
    "        labels = labels[mask]\n",
    "        _, indices = torch.max(logits, dim=1)\n",
    "        correct = torch.sum(indices == labels)\n",
    "        return correct.item() * 1.0 / len(labels)\n",
    "       \n",
    "def test_articles(model, g, features, mask):\n",
    "    model.eval()  # Deactivate dropout\n",
    "    with torch.no_grad():\n",
    "        logits = model(g, features)[mask] \n",
    "        _, indices = torch.max(logits, dim=1)\n",
    "        return indices"
   ]
  },
  {
   "cell_type": "code",
   "execution_count": 372,
   "metadata": {},
   "outputs": [],
   "source": [
    "from sklearn.model_selection import train_test_split\n",
    "x1, x2, y1, y2, idx1, idx2 = train_test_split(\n",
    "    feat, labels_df['label'], range(feat.shape[1]), test_size=0.4)\n",
    "x3, x4, y3, y4, idx3, idx4 = train_test_split(\n",
    "    x2, y2, idx2, test_size=0.5)"
   ]
  },
  {
   "cell_type": "code",
   "execution_count": 373,
   "metadata": {},
   "outputs": [],
   "source": [
    "train_df = pd.DataFrame(np.column_stack((idx1, np.ones(len(idx1)).T)), columns = ['idx', 'indices'])\n",
    "train_ = labels_df.merge(train_df, left_index = True, right_on = 'idx', how = 'left').fillna(0)\n",
    "val_df = pd.DataFrame(np.column_stack((idx3, np.ones(len(idx3)).T)), columns = ['idx', 'indices'])\n",
    "val_ = labels_df.merge(val_df, left_index = True, right_on = 'idx', how = 'left').fillna(0)\n",
    "test_df = pd.DataFrame(np.column_stack((idx4, np.ones(len(idx4)).T)), columns = ['idx', 'indices'])\n",
    "test_ = labels_df.merge(val_df, left_index = True, right_on = 'idx', how = 'left').fillna(0)"
   ]
  },
  {
   "cell_type": "code",
   "execution_count": 374,
   "metadata": {},
   "outputs": [
    {
     "data": {
      "text/plain": [
       "(2330, 1000)"
      ]
     },
     "execution_count": 374,
     "metadata": {},
     "output_type": "execute_result"
    }
   ],
   "source": [
    "features.shape"
   ]
  },
  {
   "cell_type": "code",
   "execution_count": 375,
   "metadata": {},
   "outputs": [],
   "source": [
    "in_feats = features.shape[1] \n",
    "n_classes = 2\n",
    "pol_order = 3\n",
    "lr = 0.2\n",
    "weight_decay = 5e-6\n",
    "n_epochs = 100\n",
    "p_dropout = 0.8\n",
    "features_ = torch.FloatTensor(features) \n",
    "labels = torch.LongTensor(labels_df['label']) \n",
    "train_mask = torch.BoolTensor(train_['indices'])\n",
    "val_mask = torch.BoolTensor(val_['indices'])\n",
    "test_mask = torch.BoolTensor(test_['indices'])"
   ]
  },
  {
   "cell_type": "code",
   "execution_count": 376,
   "metadata": {},
   "outputs": [
    {
     "name": "stderr",
     "output_type": "stream",
     "text": [
      "/Users/lucaseckes/miniconda2/envs/ntds_2019/lib/python3.7/site-packages/numpy/core/fromnumeric.py:2920: RuntimeWarning: Mean of empty slice.\n",
      "  out=out, **kwargs)\n",
      "/Users/lucaseckes/miniconda2/envs/ntds_2019/lib/python3.7/site-packages/numpy/core/_methods.py:85: RuntimeWarning: invalid value encountered in double_scalars\n",
      "  ret = ret.dtype.type(ret / rcount)\n"
     ]
    },
    {
     "name": "stdout",
     "output_type": "stream",
     "text": [
      "Epoch 00000 | Time(s) nan | Train Loss 0.6932 | Val Accuracy 0.4641\n",
      "Epoch 00001 | Time(s) nan | Train Loss 9.0115 | Val Accuracy 0.5067\n",
      "Epoch 00002 | Time(s) nan | Train Loss 0.7495 | Val Accuracy 0.4529\n",
      "Epoch 00003 | Time(s) 0.1711 | Train Loss 2.3036 | Val Accuracy 0.4529\n",
      "Epoch 00004 | Time(s) 0.1706 | Train Loss 4.2787 | Val Accuracy 0.4507\n",
      "Epoch 00005 | Time(s) 0.1715 | Train Loss 1.8527 | Val Accuracy 0.5471\n",
      "Epoch 00006 | Time(s) 0.1731 | Train Loss 2.6986 | Val Accuracy 0.5717\n",
      "Epoch 00007 | Time(s) 0.1736 | Train Loss 2.3006 | Val Accuracy 0.6031\n",
      "Epoch 00008 | Time(s) 0.1728 | Train Loss 0.9401 | Val Accuracy 0.3767\n",
      "Epoch 00009 | Time(s) 0.1722 | Train Loss 1.2846 | Val Accuracy 0.3430\n",
      "Epoch 00010 | Time(s) 0.1721 | Train Loss 2.1541 | Val Accuracy 0.3430\n",
      "Epoch 00011 | Time(s) 0.1724 | Train Loss 2.1861 | Val Accuracy 0.3430\n",
      "Epoch 00012 | Time(s) 0.1723 | Train Loss 1.2641 | Val Accuracy 0.3744\n",
      "Epoch 00013 | Time(s) 0.1725 | Train Loss 0.7236 | Val Accuracy 0.5919\n",
      "Epoch 00014 | Time(s) 0.1723 | Train Loss 0.6929 | Val Accuracy 0.4170\n",
      "Epoch 00015 | Time(s) 0.1721 | Train Loss 0.9314 | Val Accuracy 0.3430\n",
      "Epoch 00016 | Time(s) 0.1721 | Train Loss 1.1672 | Val Accuracy 0.3565\n",
      "Epoch 00017 | Time(s) 0.1722 | Train Loss 1.1731 | Val Accuracy 0.4103\n",
      "Epoch 00018 | Time(s) 0.1722 | Train Loss 1.1124 | Val Accuracy 0.5224\n",
      "Epoch 00019 | Time(s) 0.1721 | Train Loss 0.7861 | Val Accuracy 0.6368\n",
      "Epoch 00020 | Time(s) 0.1720 | Train Loss 0.7225 | Val Accuracy 0.6368\n",
      "Epoch 00021 | Time(s) 0.1720 | Train Loss 0.9415 | Val Accuracy 0.6570\n",
      "Epoch 00022 | Time(s) 0.1720 | Train Loss 0.9424 | Val Accuracy 0.6570\n",
      "Epoch 00023 | Time(s) 0.1718 | Train Loss 0.8548 | Val Accuracy 0.6570\n",
      "Epoch 00024 | Time(s) 0.1719 | Train Loss 0.7321 | Val Accuracy 0.6547\n",
      "Epoch 00025 | Time(s) 0.1719 | Train Loss 0.6447 | Val Accuracy 0.6525\n",
      "Epoch 00026 | Time(s) 0.1718 | Train Loss 0.6782 | Val Accuracy 0.3453\n",
      "Epoch 00027 | Time(s) 0.1719 | Train Loss 0.7662 | Val Accuracy 0.3744\n",
      "Epoch 00028 | Time(s) 0.1718 | Train Loss 0.8076 | Val Accuracy 0.3744\n",
      "Epoch 00029 | Time(s) 0.1719 | Train Loss 0.8084 | Val Accuracy 0.3767\n",
      "Epoch 00030 | Time(s) 0.1718 | Train Loss 0.7574 | Val Accuracy 0.3453\n",
      "Epoch 00031 | Time(s) 0.1718 | Train Loss 0.7144 | Val Accuracy 0.5381\n",
      "Epoch 00032 | Time(s) 0.1718 | Train Loss 0.7076 | Val Accuracy 0.4238\n",
      "Epoch 00033 | Time(s) 0.1717 | Train Loss 0.6930 | Val Accuracy 0.4013\n",
      "Epoch 00034 | Time(s) 0.1717 | Train Loss 0.6978 | Val Accuracy 0.3857\n",
      "Epoch 00035 | Time(s) 0.1716 | Train Loss 0.7222 | Val Accuracy 0.3632\n",
      "Epoch 00036 | Time(s) 0.1716 | Train Loss 0.7482 | Val Accuracy 0.3498\n",
      "Epoch 00037 | Time(s) 0.1717 | Train Loss 0.7478 | Val Accuracy 0.3430\n",
      "Epoch 00038 | Time(s) 0.1717 | Train Loss 0.7343 | Val Accuracy 0.3520\n",
      "Epoch 00039 | Time(s) 0.1717 | Train Loss 0.7290 | Val Accuracy 0.3430\n",
      "Epoch 00040 | Time(s) 0.1718 | Train Loss 0.7038 | Val Accuracy 0.4193\n",
      "Epoch 00041 | Time(s) 0.1718 | Train Loss 0.6964 | Val Accuracy 0.4193\n",
      "Epoch 00042 | Time(s) 0.1718 | Train Loss 0.7075 | Val Accuracy 0.4170\n",
      "Epoch 00043 | Time(s) 0.1717 | Train Loss 0.6928 | Val Accuracy 0.3857\n",
      "Epoch 00044 | Time(s) 0.1717 | Train Loss 0.6956 | Val Accuracy 0.3430\n",
      "Epoch 00045 | Time(s) 0.1715 | Train Loss 0.7099 | Val Accuracy 0.3812\n",
      "Epoch 00046 | Time(s) 0.1714 | Train Loss 0.7033 | Val Accuracy 0.3924\n",
      "Epoch 00047 | Time(s) 0.1715 | Train Loss 0.7062 | Val Accuracy 0.4036\n",
      "Epoch 00048 | Time(s) 0.1715 | Train Loss 0.7174 | Val Accuracy 0.4013\n",
      "Epoch 00049 | Time(s) 0.1715 | Train Loss 0.6948 | Val Accuracy 0.4058\n",
      "Epoch 00050 | Time(s) 0.1715 | Train Loss 0.6925 | Val Accuracy 0.6188\n",
      "Epoch 00051 | Time(s) 0.1715 | Train Loss 0.6934 | Val Accuracy 0.6099\n",
      "Epoch 00052 | Time(s) 0.1715 | Train Loss 0.6802 | Val Accuracy 0.5762\n",
      "Epoch 00053 | Time(s) 0.1715 | Train Loss 0.6814 | Val Accuracy 0.5874\n",
      "Epoch 00054 | Time(s) 0.1716 | Train Loss 0.6741 | Val Accuracy 0.6300\n",
      "Epoch 00055 | Time(s) 0.1716 | Train Loss 0.6657 | Val Accuracy 0.6570\n",
      "Epoch 00056 | Time(s) 0.1716 | Train Loss 0.6481 | Val Accuracy 0.6570\n",
      "Epoch 00057 | Time(s) 0.1716 | Train Loss 0.6434 | Val Accuracy 0.6570\n",
      "Epoch 00058 | Time(s) 0.1715 | Train Loss 0.6376 | Val Accuracy 0.6592\n",
      "Epoch 00059 | Time(s) 0.1716 | Train Loss 0.6366 | Val Accuracy 0.6502\n",
      "Epoch 00060 | Time(s) 0.1716 | Train Loss 0.6616 | Val Accuracy 0.6592\n",
      "Epoch 00061 | Time(s) 0.1720 | Train Loss 0.6597 | Val Accuracy 0.6570\n",
      "Epoch 00062 | Time(s) 0.1720 | Train Loss 0.6507 | Val Accuracy 0.6570\n",
      "Epoch 00063 | Time(s) 0.1721 | Train Loss 0.6469 | Val Accuracy 0.6570\n",
      "Epoch 00064 | Time(s) 0.1723 | Train Loss 0.6342 | Val Accuracy 0.6547\n",
      "Epoch 00065 | Time(s) 0.1723 | Train Loss 0.6325 | Val Accuracy 0.6457\n",
      "Epoch 00066 | Time(s) 0.1725 | Train Loss 0.6403 | Val Accuracy 0.6480\n",
      "Epoch 00067 | Time(s) 0.1725 | Train Loss 0.6498 | Val Accuracy 0.6592\n",
      "Epoch 00068 | Time(s) 0.1727 | Train Loss 0.6400 | Val Accuracy 0.6570\n",
      "Epoch 00069 | Time(s) 0.1728 | Train Loss 0.6442 | Val Accuracy 0.6570\n",
      "Epoch 00070 | Time(s) 0.1728 | Train Loss 0.6393 | Val Accuracy 0.6570\n",
      "Epoch 00071 | Time(s) 0.1729 | Train Loss 0.6243 | Val Accuracy 0.6502\n",
      "Epoch 00072 | Time(s) 0.1729 | Train Loss 0.6322 | Val Accuracy 0.6435\n",
      "Epoch 00073 | Time(s) 0.1729 | Train Loss 0.6318 | Val Accuracy 0.6592\n",
      "Epoch 00074 | Time(s) 0.1730 | Train Loss 0.6365 | Val Accuracy 0.6570\n",
      "Epoch 00075 | Time(s) 0.1730 | Train Loss 0.6324 | Val Accuracy 0.6570\n",
      "Epoch 00076 | Time(s) 0.1731 | Train Loss 0.6345 | Val Accuracy 0.6570\n",
      "Epoch 00077 | Time(s) 0.1731 | Train Loss 0.6171 | Val Accuracy 0.6435\n",
      "Epoch 00078 | Time(s) 0.1731 | Train Loss 0.6330 | Val Accuracy 0.6435\n",
      "Epoch 00079 | Time(s) 0.1731 | Train Loss 0.6273 | Val Accuracy 0.6480\n",
      "Epoch 00080 | Time(s) 0.1731 | Train Loss 0.6263 | Val Accuracy 0.6570\n",
      "Epoch 00081 | Time(s) 0.1731 | Train Loss 0.6305 | Val Accuracy 0.6570\n",
      "Epoch 00082 | Time(s) 0.1731 | Train Loss 0.6336 | Val Accuracy 0.6570\n",
      "Epoch 00083 | Time(s) 0.1731 | Train Loss 0.6219 | Val Accuracy 0.6525\n",
      "Epoch 00084 | Time(s) 0.1731 | Train Loss 0.6078 | Val Accuracy 0.6413\n",
      "Epoch 00085 | Time(s) 0.1731 | Train Loss 0.6299 | Val Accuracy 0.6457\n",
      "Epoch 00086 | Time(s) 0.1734 | Train Loss 0.6329 | Val Accuracy 0.6592\n",
      "Epoch 00087 | Time(s) 0.1734 | Train Loss 0.6080 | Val Accuracy 0.6570\n",
      "Epoch 00088 | Time(s) 0.1734 | Train Loss 0.6161 | Val Accuracy 0.6570\n",
      "Epoch 00089 | Time(s) 0.1736 | Train Loss 0.6232 | Val Accuracy 0.6592\n",
      "Epoch 00090 | Time(s) 0.1735 | Train Loss 0.6144 | Val Accuracy 0.6525\n",
      "Epoch 00091 | Time(s) 0.1735 | Train Loss 0.6230 | Val Accuracy 0.6502\n",
      "Epoch 00092 | Time(s) 0.1735 | Train Loss 0.6034 | Val Accuracy 0.6502\n",
      "Epoch 00093 | Time(s) 0.1735 | Train Loss 0.6107 | Val Accuracy 0.6502\n",
      "Epoch 00094 | Time(s) 0.1735 | Train Loss 0.6075 | Val Accuracy 0.6570\n",
      "Epoch 00095 | Time(s) 0.1735 | Train Loss 0.6220 | Val Accuracy 0.6570\n",
      "Epoch 00096 | Time(s) 0.1734 | Train Loss 0.6087 | Val Accuracy 0.6592\n",
      "Epoch 00097 | Time(s) 0.1734 | Train Loss 0.6080 | Val Accuracy 0.6480\n",
      "Epoch 00098 | Time(s) 0.1735 | Train Loss 0.6149 | Val Accuracy 0.6525\n",
      "Epoch 00099 | Time(s) 0.1734 | Train Loss 0.6065 | Val Accuracy 0.6547\n",
      "\n",
      "Test Accuracy 0.6547\n"
     ]
    }
   ],
   "source": [
    "model = LaplacianPolynomial(in_feats, n_classes, pol_order, p_dropout)\n",
    "\n",
    "graph = DGLGraph(graph)\n",
    "\n",
    "loss_fcn = torch.nn.CrossEntropyLoss()\n",
    "optimizer = torch.optim.Adam(model.parameters(),\n",
    "                             lr=lr,\n",
    "                             weight_decay=weight_decay)\n",
    "\n",
    "dur = []\n",
    "for epoch in range(n_epochs):\n",
    "    if epoch >= 3:\n",
    "        t0 = time.time()\n",
    "    loss = train(model, graph, features_, labels, loss_fcn, train_mask, optimizer)\n",
    "\n",
    "    if epoch >= 3:\n",
    "        dur.append(time.time() - t0)\n",
    "\n",
    "    acc = evaluate(model, graph, features_, labels, val_mask)\n",
    "    print(\"Epoch {:05d} | Time(s) {:.4f} | Train Loss {:.4f} | Val Accuracy {:.4f}\". format(\n",
    "            epoch, np.mean(dur), loss.item(), acc))\n",
    "\n",
    "print()\n",
    "acc = evaluate(model, graph, features_, labels, test_mask)\n",
    "print(\"Test Accuracy {:.4f}\".format(acc))"
   ]
  },
  {
   "cell_type": "code",
   "execution_count": 377,
   "metadata": {},
   "outputs": [
    {
     "name": "stdout",
     "output_type": "stream",
     "text": [
      "[-0.11737417  0.05720133  0.05533382  0.05744279]\n"
     ]
    }
   ],
   "source": [
    "coeff_gcn =  model.pol_weights.data.numpy()\n",
    "print(coeff_gcn)"
   ]
  },
  {
   "cell_type": "code",
   "execution_count": 378,
   "metadata": {},
   "outputs": [
    {
     "data": {
      "text/plain": [
       "LaplacianPolynomial(\n",
       "  in=1000, out=2, normalization=True\n",
       "  (dropout): Dropout(p=0.8, inplace=False)\n",
       ")"
      ]
     },
     "execution_count": 378,
     "metadata": {},
     "output_type": "execute_result"
    }
   ],
   "source": [
    "model"
   ]
  },
  {
   "cell_type": "code",
   "execution_count": 379,
   "metadata": {},
   "outputs": [],
   "source": [
    "def polynomial_graph_filter_response(coeff: np.array, lam: np.ndarray):\n",
    "    \"\"\" Return an array of the same shape as lam.\n",
    "        response[i] is the spectral response at frequency lam[i]. \"\"\"\n",
    "    # Your code here\n",
    "    V = np.vander(lam, len(coeff), increasing=True)\n",
    "    return V@coeff"
   ]
  },
  {
   "cell_type": "code",
   "execution_count": 380,
   "metadata": {},
   "outputs": [
    {
     "name": "stderr",
     "output_type": "stream",
     "text": [
      "/Users/lucaseckes/miniconda2/envs/ntds_2019/lib/python3.7/site-packages/numpy/core/numeric.py:501: ComplexWarning: Casting complex values to real discards the imaginary part\n",
      "  return array(a, dtype, copy=False, order=order)\n"
     ]
    },
    {
     "data": {
      "text/plain": [
       "Text(0, 0.5, 'Spectral response (db)')"
      ]
     },
     "execution_count": 380,
     "metadata": {},
     "output_type": "execute_result"
    },
    {
     "data": {
      "image/png": "[encoded data removed]",
      "text/plain": [
       "<Figure size 432x288 with 1 Axes>"
      ]
     },
     "metadata": {
      "needs_background": "light"
     },
     "output_type": "display_data"
    }
   ],
   "source": [
    "plt.semilogy(lam, np.abs(polynomial_graph_filter_response(coeff_gcn, lam)))\n",
    "plt.xlabel('$\\lambda$')\n",
    "plt.ylabel('Spectral response (db)')"
   ]
  },
  {
   "cell_type": "code",
   "execution_count": 381,
   "metadata": {},
   "outputs": [
    {
     "name": "stdout",
     "output_type": "stream",
     "text": [
      "0\n"
     ]
    }
   ],
   "source": [
    "list_articles = [\"God\", \"Network Science\", \"Jesus\", \"Quantic physics\"]\n",
    "test_df = take_words(list_articles, is_title = True)"
   ]
  },
  {
   "cell_type": "code",
   "execution_count": 382,
   "metadata": {},
   "outputs": [
    {
     "data": {
      "text/html": [
       "<div>\n",
       "<style scoped>\n",
       "    .dataframe tbody tr th:only-of-type {\n",
       "        vertical-align: middle;\n",
       "    }\n",
       "\n",
       "    .dataframe tbody tr th {\n",
       "        vertical-align: top;\n",
       "    }\n",
       "\n",
       "    .dataframe thead th {\n",
       "        text-align: right;\n",
       "    }\n",
       "</style>\n",
       "<table border=\"1\" class=\"dataframe\">\n",
       "  <thead>\n",
       "    <tr style=\"text-align: right;\">\n",
       "      <th>words</th>\n",
       "      <th>abhängigkeitsgefühl</th>\n",
       "      <th>aboriginal</th>\n",
       "      <th>abp</th>\n",
       "      <th>abrahamic</th>\n",
       "      <th>academic</th>\n",
       "      <th>accepts</th>\n",
       "      <th>according</th>\n",
       "      <th>achieving</th>\n",
       "      <th>across</th>\n",
       "      <th>acts</th>\n",
       "      <th>...</th>\n",
       "      <th>yazdânism</th>\n",
       "      <th>yazidi</th>\n",
       "      <th>yiguandao</th>\n",
       "      <th>zoroastrianism</th>\n",
       "      <th>zulu</th>\n",
       "      <th>émile</th>\n",
       "      <th>ānanda</th>\n",
       "      <th>đài</th>\n",
       "      <th>ōaṅkār</th>\n",
       "      <th>ƭat</th>\n",
       "    </tr>\n",
       "    <tr>\n",
       "      <th>article</th>\n",
       "      <th></th>\n",
       "      <th></th>\n",
       "      <th></th>\n",
       "      <th></th>\n",
       "      <th></th>\n",
       "      <th></th>\n",
       "      <th></th>\n",
       "      <th></th>\n",
       "      <th></th>\n",
       "      <th></th>\n",
       "      <th></th>\n",
       "      <th></th>\n",
       "      <th></th>\n",
       "      <th></th>\n",
       "      <th></th>\n",
       "      <th></th>\n",
       "      <th></th>\n",
       "      <th></th>\n",
       "      <th></th>\n",
       "      <th></th>\n",
       "      <th></th>\n",
       "    </tr>\n",
       "  </thead>\n",
       "  <tbody>\n",
       "    <tr>\n",
       "      <td>God</td>\n",
       "      <td>0.0</td>\n",
       "      <td>0.0</td>\n",
       "      <td>0.0</td>\n",
       "      <td>1.0</td>\n",
       "      <td>0.0</td>\n",
       "      <td>0.0</td>\n",
       "      <td>1.0</td>\n",
       "      <td>0.0</td>\n",
       "      <td>0.0</td>\n",
       "      <td>0.0</td>\n",
       "      <td>...</td>\n",
       "      <td>0.0</td>\n",
       "      <td>0.0</td>\n",
       "      <td>0.0</td>\n",
       "      <td>1.0</td>\n",
       "      <td>0.0</td>\n",
       "      <td>1.0</td>\n",
       "      <td>0.0</td>\n",
       "      <td>0.0</td>\n",
       "      <td>0.0</td>\n",
       "      <td>0.0</td>\n",
       "    </tr>\n",
       "    <tr>\n",
       "      <td>Jesus</td>\n",
       "      <td>0.0</td>\n",
       "      <td>0.0</td>\n",
       "      <td>0.0</td>\n",
       "      <td>0.0</td>\n",
       "      <td>1.0</td>\n",
       "      <td>1.0</td>\n",
       "      <td>1.0</td>\n",
       "      <td>0.0</td>\n",
       "      <td>1.0</td>\n",
       "      <td>1.0</td>\n",
       "      <td>...</td>\n",
       "      <td>0.0</td>\n",
       "      <td>0.0</td>\n",
       "      <td>0.0</td>\n",
       "      <td>0.0</td>\n",
       "      <td>0.0</td>\n",
       "      <td>0.0</td>\n",
       "      <td>0.0</td>\n",
       "      <td>0.0</td>\n",
       "      <td>0.0</td>\n",
       "      <td>0.0</td>\n",
       "    </tr>\n",
       "    <tr>\n",
       "      <td>Network Science</td>\n",
       "      <td>0.0</td>\n",
       "      <td>0.0</td>\n",
       "      <td>0.0</td>\n",
       "      <td>0.0</td>\n",
       "      <td>1.0</td>\n",
       "      <td>0.0</td>\n",
       "      <td>0.0</td>\n",
       "      <td>0.0</td>\n",
       "      <td>1.0</td>\n",
       "      <td>0.0</td>\n",
       "      <td>...</td>\n",
       "      <td>0.0</td>\n",
       "      <td>0.0</td>\n",
       "      <td>0.0</td>\n",
       "      <td>0.0</td>\n",
       "      <td>0.0</td>\n",
       "      <td>0.0</td>\n",
       "      <td>0.0</td>\n",
       "      <td>0.0</td>\n",
       "      <td>0.0</td>\n",
       "      <td>0.0</td>\n",
       "    </tr>\n",
       "    <tr>\n",
       "      <td>Quantic physics</td>\n",
       "      <td>0.0</td>\n",
       "      <td>0.0</td>\n",
       "      <td>0.0</td>\n",
       "      <td>0.0</td>\n",
       "      <td>0.0</td>\n",
       "      <td>0.0</td>\n",
       "      <td>1.0</td>\n",
       "      <td>0.0</td>\n",
       "      <td>0.0</td>\n",
       "      <td>1.0</td>\n",
       "      <td>...</td>\n",
       "      <td>0.0</td>\n",
       "      <td>0.0</td>\n",
       "      <td>0.0</td>\n",
       "      <td>0.0</td>\n",
       "      <td>0.0</td>\n",
       "      <td>0.0</td>\n",
       "      <td>0.0</td>\n",
       "      <td>0.0</td>\n",
       "      <td>0.0</td>\n",
       "      <td>0.0</td>\n",
       "    </tr>\n",
       "  </tbody>\n",
       "</table>\n",
       "<p>4 rows × 1000 columns</p>\n",
       "</div>"
      ],
      "text/plain": [
       "words            abhängigkeitsgefühl  aboriginal  abp  abrahamic  academic  \\\n",
       "article                                                                      \n",
       "God                              0.0         0.0  0.0        1.0       0.0   \n",
       "Jesus                            0.0         0.0  0.0        0.0       1.0   \n",
       "Network Science                  0.0         0.0  0.0        0.0       1.0   \n",
       "Quantic physics                  0.0         0.0  0.0        0.0       0.0   \n",
       "\n",
       "words            accepts  according  achieving  across  acts  ...  yazdânism  \\\n",
       "article                                                       ...              \n",
       "God                  0.0        1.0        0.0     0.0   0.0  ...        0.0   \n",
       "Jesus                1.0        1.0        0.0     1.0   1.0  ...        0.0   \n",
       "Network Science      0.0        0.0        0.0     1.0   0.0  ...        0.0   \n",
       "Quantic physics      0.0        1.0        0.0     0.0   1.0  ...        0.0   \n",
       "\n",
       "words            yazidi  yiguandao  zoroastrianism  zulu  émile  ānanda  đài  \\\n",
       "article                                                                        \n",
       "God                 0.0        0.0             1.0   0.0    1.0     0.0  0.0   \n",
       "Jesus               0.0        0.0             0.0   0.0    0.0     0.0  0.0   \n",
       "Network Science     0.0        0.0             0.0   0.0    0.0     0.0  0.0   \n",
       "Quantic physics     0.0        0.0             0.0   0.0    0.0     0.0  0.0   \n",
       "\n",
       "words            ōaṅkār  ƭat  \n",
       "article                       \n",
       "God                 0.0  0.0  \n",
       "Jesus               0.0  0.0  \n",
       "Network Science     0.0  0.0  \n",
       "Quantic physics     0.0  0.0  \n",
       "\n",
       "[4 rows x 1000 columns]"
      ]
     },
     "metadata": {},
     "output_type": "display_data"
    }
   ],
   "source": [
    "test = make_features(test_df)\n",
    "features_final = np.concatenate((features, test))"
   ]
  },
  {
   "cell_type": "code",
   "execution_count": 383,
   "metadata": {},
   "outputs": [],
   "source": [
    "distances = np.array([[(np.sum((features_final[i,:]-features_final[j,:])**2)) for i in range(0,features_final.shape[0]) ] for j in range(0,features_final.shape[0])]).reshape(features_final.shape[0],-1)\n",
    "feat = distances/np.max(distances)\n",
    "np.fill_diagonal(feat, 0)\n",
    "graph = nx.from_numpy_array(feat)\n",
    "graph = DGLGraph(graph)"
   ]
  },
  {
   "cell_type": "code",
   "execution_count": 386,
   "metadata": {},
   "outputs": [],
   "source": [
    "features_ = torch.FloatTensor(features_final)"
   ]
  },
  {
   "cell_type": "code",
   "execution_count": 384,
   "metadata": {},
   "outputs": [],
   "source": [
    "mask1 = np.zeros((len(features)))\n",
    "mask2 = np.ones((len(test)))\n",
    "mask = np.concatenate((mask1,mask2))\n",
    "mask = torch.BoolTensor(mask)"
   ]
  },
  {
   "cell_type": "code",
   "execution_count": 387,
   "metadata": {},
   "outputs": [
    {
     "data": {
      "text/plain": [
       "tensor([1, 1, 1, 1])"
      ]
     },
     "execution_count": 387,
     "metadata": {},
     "output_type": "execute_result"
    }
   ],
   "source": [
    "test_articles(model, graph, features_, mask)"
   ]
  },
  {
   "cell_type": "code",
   "execution_count": 389,
   "metadata": {},
   "outputs": [
    {
     "data": {
      "text/plain": [
       "Parameter containing:\n",
       "tensor([-0.1174,  0.0572,  0.0553,  0.0574], requires_grad=True)"
      ]
     },
     "execution_count": 389,
     "metadata": {},
     "output_type": "execute_result"
    }
   ],
   "source": [
    "model.pol_weights"
   ]
  },
  {
   "cell_type": "code",
   "execution_count": 390,
   "metadata": {},
   "outputs": [
    {
     "data": {
      "text/plain": [
       "Parameter containing:\n",
       "tensor([[ 1.2907, -1.2909],\n",
       "        [-1.0584,  1.0577],\n",
       "        [ 0.0989, -0.0988],\n",
       "        ...,\n",
       "        [-0.2613,  0.2613],\n",
       "        [-0.9524,  0.9525],\n",
       "        [ 0.9983, -0.9981]], requires_grad=True)"
      ]
     },
     "execution_count": 390,
     "metadata": {},
     "output_type": "execute_result"
    }
   ],
   "source": [
    "model.logr_weights"
   ]
  },
  {
   "cell_type": "code",
   "execution_count": 85,
   "metadata": {},
   "outputs": [
    {
     "data": {
      "text/plain": [
       "2332"
      ]
     },
     "execution_count": 85,
     "metadata": {},
     "output_type": "execute_result"
    }
   ],
   "source": [
    "len(mask)"
   ]
  },
  {
   "cell_type": "code",
   "execution_count": null,
   "metadata": {},
   "outputs": [],
   "source": []
  }
 ],
 "metadata": {
  "kernelspec": {
   "display_name": "Python 3",
   "language": "python",
   "name": "python3"
  },
  "language_info": {
   "codemirror_mode": {
    "name": "ipython",
    "version": 3
   },
   "file_extension": ".py",
   "mimetype": "text/x-python",
   "name": "python",
   "nbconvert_exporter": "python",
   "pygments_lexer": "ipython3",
   "version": "3.7.3"
  }
 },
 "nbformat": 4,
 "nbformat_minor": 4
}
